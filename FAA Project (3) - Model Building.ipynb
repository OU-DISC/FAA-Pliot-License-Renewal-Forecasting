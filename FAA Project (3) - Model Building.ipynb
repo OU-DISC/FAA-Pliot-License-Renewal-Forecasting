{
 "cells": [
  {
   "cell_type": "markdown",
   "id": "entitled-petite",
   "metadata": {},
   "source": [
    "# FAA Project - Part Three"
   ]
  },
  {
   "cell_type": "markdown",
   "id": "quiet-breath",
   "metadata": {},
   "source": [
    "## Load in packages"
   ]
  },
  {
   "cell_type": "code",
   "execution_count": 1,
   "id": "right-situation",
   "metadata": {},
   "outputs": [],
   "source": [
    "import pandas as pd\n",
    "import numpy as np\n",
    "import matplotlib.pyplot as plt\n",
    "import seaborn as sns\n",
    "\n",
    "pd.set_option('max_column', None)\n",
    "%matplotlib Inline"
   ]
  },
  {
   "cell_type": "markdown",
   "id": "weird-simon",
   "metadata": {},
   "source": [
    "## Load in Dataset"
   ]
  },
  {
   "cell_type": "code",
   "execution_count": 2,
   "id": "realistic-worse",
   "metadata": {},
   "outputs": [
    {
     "data": {
      "text/html": [
       "<div>\n",
       "<style scoped>\n",
       "    .dataframe tbody tr th:only-of-type {\n",
       "        vertical-align: middle;\n",
       "    }\n",
       "\n",
       "    .dataframe tbody tr th {\n",
       "        vertical-align: top;\n",
       "    }\n",
       "\n",
       "    .dataframe thead th {\n",
       "        text-align: right;\n",
       "    }\n",
       "</style>\n",
       "<table border=\"1\" class=\"dataframe\">\n",
       "  <thead>\n",
       "    <tr style=\"text-align: right;\">\n",
       "      <th></th>\n",
       "      <th>AGE_x</th>\n",
       "      <th>SEX</th>\n",
       "      <th>AGE_y</th>\n",
       "      <th>Infectious And Parastic Disease(A &amp; B)</th>\n",
       "      <th>Neoplasms(C)</th>\n",
       "      <th>Neoplasms Blood-forming Organs(D)</th>\n",
       "      <th>Endocrine Nutritional Metabolic(E)</th>\n",
       "      <th>Mental Behavioral Disorders(F)</th>\n",
       "      <th>Nervous System(G)</th>\n",
       "      <th>Eye Adnexa, Ear and Mastoid(H)</th>\n",
       "      <th>Circulatory System(I)</th>\n",
       "      <th>Respiratory System(J)</th>\n",
       "      <th>Digestive System(K)</th>\n",
       "      <th>Skin and Connective Tissue(L)</th>\n",
       "      <th>musculoskeletal and Connective Tissue(M)</th>\n",
       "      <th>Genitourinary System(N)</th>\n",
       "      <th>Pregancy, Childbirth(O)</th>\n",
       "      <th>Conditions Originating in the Perinatal Period(P)</th>\n",
       "      <th>Congenital Malformations, Deformations(Q)</th>\n",
       "      <th>Symptoms, Signs, Lab Findings(R)</th>\n",
       "      <th>Injury, Poisoning(S, T)</th>\n",
       "      <th>Emergency code additions(U)</th>\n",
       "      <th>External Causes of Morbidity(V, W, X, Y)</th>\n",
       "      <th>Factors Influencing Health Status (Z)</th>\n",
       "    </tr>\n",
       "  </thead>\n",
       "  <tbody>\n",
       "    <tr>\n",
       "      <th>0</th>\n",
       "      <td>54</td>\n",
       "      <td>2</td>\n",
       "      <td>55</td>\n",
       "      <td>0</td>\n",
       "      <td>0</td>\n",
       "      <td>0</td>\n",
       "      <td>3</td>\n",
       "      <td>1</td>\n",
       "      <td>2</td>\n",
       "      <td>0</td>\n",
       "      <td>0</td>\n",
       "      <td>0</td>\n",
       "      <td>5</td>\n",
       "      <td>0</td>\n",
       "      <td>3</td>\n",
       "      <td>0</td>\n",
       "      <td>0</td>\n",
       "      <td>0</td>\n",
       "      <td>0</td>\n",
       "      <td>4</td>\n",
       "      <td>0</td>\n",
       "      <td>0</td>\n",
       "      <td>0</td>\n",
       "      <td>2</td>\n",
       "    </tr>\n",
       "    <tr>\n",
       "      <th>111</th>\n",
       "      <td>50</td>\n",
       "      <td>1</td>\n",
       "      <td>51</td>\n",
       "      <td>6</td>\n",
       "      <td>0</td>\n",
       "      <td>3</td>\n",
       "      <td>5</td>\n",
       "      <td>1</td>\n",
       "      <td>0</td>\n",
       "      <td>0</td>\n",
       "      <td>1</td>\n",
       "      <td>1</td>\n",
       "      <td>6</td>\n",
       "      <td>0</td>\n",
       "      <td>0</td>\n",
       "      <td>0</td>\n",
       "      <td>0</td>\n",
       "      <td>0</td>\n",
       "      <td>0</td>\n",
       "      <td>5</td>\n",
       "      <td>0</td>\n",
       "      <td>0</td>\n",
       "      <td>0</td>\n",
       "      <td>1</td>\n",
       "    </tr>\n",
       "    <tr>\n",
       "      <th>145</th>\n",
       "      <td>54</td>\n",
       "      <td>2</td>\n",
       "      <td>55</td>\n",
       "      <td>0</td>\n",
       "      <td>0</td>\n",
       "      <td>0</td>\n",
       "      <td>2</td>\n",
       "      <td>0</td>\n",
       "      <td>5</td>\n",
       "      <td>0</td>\n",
       "      <td>1</td>\n",
       "      <td>1</td>\n",
       "      <td>0</td>\n",
       "      <td>0</td>\n",
       "      <td>0</td>\n",
       "      <td>0</td>\n",
       "      <td>0</td>\n",
       "      <td>0</td>\n",
       "      <td>0</td>\n",
       "      <td>12</td>\n",
       "      <td>1</td>\n",
       "      <td>0</td>\n",
       "      <td>0</td>\n",
       "      <td>2</td>\n",
       "    </tr>\n",
       "    <tr>\n",
       "      <th>239</th>\n",
       "      <td>62</td>\n",
       "      <td>1</td>\n",
       "      <td>63</td>\n",
       "      <td>2</td>\n",
       "      <td>0</td>\n",
       "      <td>1</td>\n",
       "      <td>5</td>\n",
       "      <td>0</td>\n",
       "      <td>0</td>\n",
       "      <td>0</td>\n",
       "      <td>1</td>\n",
       "      <td>3</td>\n",
       "      <td>0</td>\n",
       "      <td>0</td>\n",
       "      <td>0</td>\n",
       "      <td>5</td>\n",
       "      <td>0</td>\n",
       "      <td>0</td>\n",
       "      <td>0</td>\n",
       "      <td>5</td>\n",
       "      <td>0</td>\n",
       "      <td>1</td>\n",
       "      <td>0</td>\n",
       "      <td>0</td>\n",
       "    </tr>\n",
       "    <tr>\n",
       "      <th>262</th>\n",
       "      <td>13</td>\n",
       "      <td>2</td>\n",
       "      <td>14</td>\n",
       "      <td>0</td>\n",
       "      <td>0</td>\n",
       "      <td>0</td>\n",
       "      <td>7</td>\n",
       "      <td>0</td>\n",
       "      <td>0</td>\n",
       "      <td>0</td>\n",
       "      <td>0</td>\n",
       "      <td>1</td>\n",
       "      <td>1</td>\n",
       "      <td>0</td>\n",
       "      <td>0</td>\n",
       "      <td>0</td>\n",
       "      <td>0</td>\n",
       "      <td>0</td>\n",
       "      <td>0</td>\n",
       "      <td>6</td>\n",
       "      <td>0</td>\n",
       "      <td>0</td>\n",
       "      <td>0</td>\n",
       "      <td>2</td>\n",
       "    </tr>\n",
       "  </tbody>\n",
       "</table>\n",
       "</div>"
      ],
      "text/plain": [
       "     AGE_x  SEX  AGE_y  Infectious And Parastic Disease(A & B)  Neoplasms(C)  \\\n",
       "0       54    2     55                                       0             0   \n",
       "111     50    1     51                                       6             0   \n",
       "145     54    2     55                                       0             0   \n",
       "239     62    1     63                                       2             0   \n",
       "262     13    2     14                                       0             0   \n",
       "\n",
       "     Neoplasms Blood-forming Organs(D)  Endocrine Nutritional Metabolic(E)  \\\n",
       "0                                    0                                   3   \n",
       "111                                  3                                   5   \n",
       "145                                  0                                   2   \n",
       "239                                  1                                   5   \n",
       "262                                  0                                   7   \n",
       "\n",
       "     Mental Behavioral Disorders(F)  Nervous System(G)  \\\n",
       "0                                 1                  2   \n",
       "111                               1                  0   \n",
       "145                               0                  5   \n",
       "239                               0                  0   \n",
       "262                               0                  0   \n",
       "\n",
       "     Eye Adnexa, Ear and Mastoid(H)  Circulatory System(I)  \\\n",
       "0                                 0                      0   \n",
       "111                               0                      1   \n",
       "145                               0                      1   \n",
       "239                               0                      1   \n",
       "262                               0                      0   \n",
       "\n",
       "     Respiratory System(J)  Digestive System(K)  \\\n",
       "0                        0                    5   \n",
       "111                      1                    6   \n",
       "145                      1                    0   \n",
       "239                      3                    0   \n",
       "262                      1                    1   \n",
       "\n",
       "     Skin and Connective Tissue(L)  musculoskeletal and Connective Tissue(M)  \\\n",
       "0                                0                                         3   \n",
       "111                              0                                         0   \n",
       "145                              0                                         0   \n",
       "239                              0                                         0   \n",
       "262                              0                                         0   \n",
       "\n",
       "     Genitourinary System(N)  Pregancy, Childbirth(O)  \\\n",
       "0                          0                        0   \n",
       "111                        0                        0   \n",
       "145                        0                        0   \n",
       "239                        5                        0   \n",
       "262                        0                        0   \n",
       "\n",
       "     Conditions Originating in the Perinatal Period(P)  \\\n",
       "0                                                    0   \n",
       "111                                                  0   \n",
       "145                                                  0   \n",
       "239                                                  0   \n",
       "262                                                  0   \n",
       "\n",
       "     Congenital Malformations, Deformations(Q)  \\\n",
       "0                                            0   \n",
       "111                                          0   \n",
       "145                                          0   \n",
       "239                                          0   \n",
       "262                                          0   \n",
       "\n",
       "     Symptoms, Signs, Lab Findings(R)  Injury, Poisoning(S, T)  \\\n",
       "0                                   4                        0   \n",
       "111                                 5                        0   \n",
       "145                                12                        1   \n",
       "239                                 5                        0   \n",
       "262                                 6                        0   \n",
       "\n",
       "     Emergency code additions(U)  External Causes of Morbidity(V, W, X, Y)  \\\n",
       "0                              0                                         0   \n",
       "111                            0                                         0   \n",
       "145                            0                                         0   \n",
       "239                            1                                         0   \n",
       "262                            0                                         0   \n",
       "\n",
       "     Factors Influencing Health Status (Z)  \n",
       "0                                        2  \n",
       "111                                      1  \n",
       "145                                      2  \n",
       "239                                      0  \n",
       "262                                      2  "
      ]
     },
     "execution_count": 2,
     "metadata": {},
     "output_type": "execute_result"
    }
   ],
   "source": [
    "df = pd.read_csv('faa_cleaned_numerical_data.csv', index_col = 0)\n",
    "df = df.drop(columns = ['I', 'ENROLID', 'NDCNUM', 'YEAR_x', 'YEAR_y'])\n",
    "df.head()"
   ]
  },
  {
   "cell_type": "code",
   "execution_count": 3,
   "id": "ahead-tomato",
   "metadata": {},
   "outputs": [
    {
     "data": {
      "text/plain": [
       "(5016, 24)"
      ]
     },
     "execution_count": 3,
     "metadata": {},
     "output_type": "execute_result"
    }
   ],
   "source": [
    "df.shape"
   ]
  },
  {
   "cell_type": "markdown",
   "id": "agreed-murray",
   "metadata": {},
   "source": [
    "## Set Input Variables and Target Variable"
   ]
  },
  {
   "cell_type": "code",
   "execution_count": 4,
   "id": "pleased-clark",
   "metadata": {},
   "outputs": [],
   "source": [
    "X = df.drop(columns = ['Circulatory System(I)'], axis = 1).values\n",
    "y = df['Circulatory System(I)']"
   ]
  },
  {
   "cell_type": "markdown",
   "id": "expensive-world",
   "metadata": {},
   "source": [
    "## Import Sklearn Packages"
   ]
  },
  {
   "cell_type": "code",
   "execution_count": 5,
   "id": "tropical-explanation",
   "metadata": {},
   "outputs": [],
   "source": [
    "from sklearn.model_selection import train_test_split\n",
    "from sklearn.preprocessing import MinMaxScaler"
   ]
  },
  {
   "cell_type": "markdown",
   "id": "burning-miracle",
   "metadata": {},
   "source": [
    "## Split Training and Testing Data"
   ]
  },
  {
   "cell_type": "code",
   "execution_count": 51,
   "id": "exposed-renaissance",
   "metadata": {},
   "outputs": [],
   "source": [
    "X_train, X_test, y_train, y_test = train_test_split(X, y, test_size = 0.2, stratify = y)"
   ]
  },
  {
   "cell_type": "code",
   "execution_count": 52,
   "id": "macro-showcase",
   "metadata": {},
   "outputs": [
    {
     "data": {
      "text/plain": [
       "array([[53,  2, 54, ...,  0,  1,  0],\n",
       "       [24,  1, 25, ...,  0,  0,  2],\n",
       "       [17,  1, 18, ...,  0,  0,  2],\n",
       "       ...,\n",
       "       [21,  2, 22, ...,  0,  0,  1],\n",
       "       [61,  1, 62, ...,  0,  0,  1],\n",
       "       [57,  1, 58, ...,  1,  0,  0]])"
      ]
     },
     "execution_count": 52,
     "metadata": {},
     "output_type": "execute_result"
    }
   ],
   "source": [
    "X_train"
   ]
  },
  {
   "cell_type": "code",
   "execution_count": null,
   "id": "fabulous-russia",
   "metadata": {},
   "outputs": [],
   "source": []
  },
  {
   "cell_type": "markdown",
   "id": "waiting-sweet",
   "metadata": {},
   "source": [
    "## Preprocessing, Scaling the data to be normalized"
   ]
  },
  {
   "cell_type": "code",
   "execution_count": 53,
   "id": "failing-appearance",
   "metadata": {},
   "outputs": [],
   "source": [
    "scaler = MinMaxScaler()\n",
    "X_train = scaler.fit_transform(X_train)\n",
    "X_train = scaler.fit_transform(X_train)"
   ]
  },
  {
   "cell_type": "markdown",
   "id": "collective-whale",
   "metadata": {},
   "source": [
    "## Neural Network Model"
   ]
  },
  {
   "cell_type": "code",
   "execution_count": 54,
   "id": "stable-guinea",
   "metadata": {},
   "outputs": [],
   "source": [
    "from tensorflow.keras.models import Sequential\n",
    "from tensorflow.keras.layers import Dense, Dropout"
   ]
  },
  {
   "cell_type": "markdown",
   "id": "antique-position",
   "metadata": {},
   "source": [
    "### Basic Model with out early stop and dropout"
   ]
  },
  {
   "cell_type": "code",
   "execution_count": 55,
   "id": "coastal-christian",
   "metadata": {},
   "outputs": [],
   "source": [
    "model = Sequential()\n",
    "\n",
    "model.add(Dense(23, activation = 'relu'))\n",
    "model.add(Dense(15, activation = 'relu'))\n",
    "\n",
    "# binary classification\n",
    "model.add(Dense(1, activation = 'sigmoid'))\n",
    "\n",
    "model.compile(loss='binary_crossentropy', optimizer='adam')"
   ]
  },
  {
   "cell_type": "code",
   "execution_count": 56,
   "id": "charged-punch",
   "metadata": {},
   "outputs": [
    {
     "name": "stdout",
     "output_type": "stream",
     "text": [
      "Epoch 1/300\n",
      "126/126 [==============================] - 2s 2ms/step - loss: 0.6395 - val_loss: 13.3692\n",
      "Epoch 2/300\n",
      "126/126 [==============================] - 0s 800us/step - loss: 0.5807 - val_loss: 21.7847\n",
      "Epoch 3/300\n",
      "126/126 [==============================] - 0s 765us/step - loss: 0.5435 - val_loss: 28.0322\n",
      "Epoch 4/300\n",
      "126/126 [==============================] - 0s 767us/step - loss: 0.5321 - val_loss: 31.6117\n",
      "Epoch 5/300\n",
      "126/126 [==============================] - 0s 770us/step - loss: 0.5295 - val_loss: 30.6181\n",
      "Epoch 6/300\n",
      "126/126 [==============================] - 0s 766us/step - loss: 0.5270 - val_loss: 30.7397\n",
      "Epoch 7/300\n",
      "126/126 [==============================] - 0s 764us/step - loss: 0.5253 - val_loss: 31.9643\n",
      "Epoch 8/300\n",
      "126/126 [==============================] - 0s 767us/step - loss: 0.5233 - val_loss: 33.1900\n",
      "Epoch 9/300\n",
      "126/126 [==============================] - 0s 795us/step - loss: 0.5234 - val_loss: 33.2853\n",
      "Epoch 10/300\n",
      "126/126 [==============================] - 0s 778us/step - loss: 0.5210 - val_loss: 33.8741\n",
      "Epoch 11/300\n",
      "126/126 [==============================] - 0s 803us/step - loss: 0.5200 - val_loss: 31.9191\n",
      "Epoch 12/300\n",
      "126/126 [==============================] - 0s 771us/step - loss: 0.5197 - val_loss: 31.8077\n",
      "Epoch 13/300\n",
      "126/126 [==============================] - 0s 804us/step - loss: 0.5182 - val_loss: 33.0385\n",
      "Epoch 14/300\n",
      "126/126 [==============================] - 0s 773us/step - loss: 0.5163 - val_loss: 32.7308\n",
      "Epoch 15/300\n",
      "126/126 [==============================] - 0s 810us/step - loss: 0.5149 - val_loss: 32.4959\n",
      "Epoch 16/300\n",
      "126/126 [==============================] - 0s 777us/step - loss: 0.5132 - val_loss: 31.4069\n",
      "Epoch 17/300\n",
      "126/126 [==============================] - 0s 764us/step - loss: 0.5127 - val_loss: 33.2816\n",
      "Epoch 18/300\n",
      "126/126 [==============================] - 0s 765us/step - loss: 0.5101 - val_loss: 32.4266\n",
      "Epoch 19/300\n",
      "126/126 [==============================] - 0s 783us/step - loss: 0.5104 - val_loss: 33.7866\n",
      "Epoch 20/300\n",
      "126/126 [==============================] - 0s 764us/step - loss: 0.5090 - val_loss: 34.4560\n",
      "Epoch 21/300\n",
      "126/126 [==============================] - 0s 765us/step - loss: 0.5083 - val_loss: 35.5131\n",
      "Epoch 22/300\n",
      "126/126 [==============================] - 0s 768us/step - loss: 0.5075 - val_loss: 33.1876\n",
      "Epoch 23/300\n",
      "126/126 [==============================] - 0s 760us/step - loss: 0.5062 - val_loss: 33.4397\n",
      "Epoch 24/300\n",
      "126/126 [==============================] - 0s 762us/step - loss: 0.5043 - val_loss: 32.9740\n",
      "Epoch 25/300\n",
      "126/126 [==============================] - 0s 784us/step - loss: 0.5032 - val_loss: 33.4236\n",
      "Epoch 26/300\n",
      "126/126 [==============================] - 0s 770us/step - loss: 0.5024 - val_loss: 33.6859\n",
      "Epoch 27/300\n",
      "126/126 [==============================] - 0s 767us/step - loss: 0.5009 - val_loss: 34.8940\n",
      "Epoch 28/300\n",
      "126/126 [==============================] - 0s 798us/step - loss: 0.4992 - val_loss: 33.0191\n",
      "Epoch 29/300\n",
      "126/126 [==============================] - 0s 770us/step - loss: 0.4981 - val_loss: 33.4400\n",
      "Epoch 30/300\n",
      "126/126 [==============================] - 0s 789us/step - loss: 0.4985 - val_loss: 33.5834\n",
      "Epoch 31/300\n",
      "126/126 [==============================] - 0s 774us/step - loss: 0.4956 - val_loss: 32.5340\n",
      "Epoch 32/300\n",
      "126/126 [==============================] - 0s 764us/step - loss: 0.4954 - val_loss: 33.5639\n",
      "Epoch 33/300\n",
      "126/126 [==============================] - 0s 773us/step - loss: 0.4946 - val_loss: 34.2782\n",
      "Epoch 34/300\n",
      "126/126 [==============================] - 0s 833us/step - loss: 0.4935 - val_loss: 33.5486\n",
      "Epoch 35/300\n",
      "126/126 [==============================] - 0s 805us/step - loss: 0.4939 - val_loss: 33.1411\n",
      "Epoch 36/300\n",
      "126/126 [==============================] - 0s 822us/step - loss: 0.4921 - val_loss: 34.1700\n",
      "Epoch 37/300\n",
      "126/126 [==============================] - 0s 863us/step - loss: 0.4913 - val_loss: 33.7848\n",
      "Epoch 38/300\n",
      "126/126 [==============================] - 0s 769us/step - loss: 0.4901 - val_loss: 32.8616\n",
      "Epoch 39/300\n",
      "126/126 [==============================] - 0s 784us/step - loss: 0.4888 - val_loss: 31.5960\n",
      "Epoch 40/300\n",
      "126/126 [==============================] - 0s 777us/step - loss: 0.4883 - val_loss: 34.0521\n",
      "Epoch 41/300\n",
      "126/126 [==============================] - 0s 785us/step - loss: 0.4871 - val_loss: 32.3836\n",
      "Epoch 42/300\n",
      "126/126 [==============================] - 0s 775us/step - loss: 0.4872 - val_loss: 31.6223\n",
      "Epoch 43/300\n",
      "126/126 [==============================] - 0s 802us/step - loss: 0.4860 - val_loss: 33.4817\n",
      "Epoch 44/300\n",
      "126/126 [==============================] - 0s 792us/step - loss: 0.4851 - val_loss: 31.8506\n",
      "Epoch 45/300\n",
      "126/126 [==============================] - 0s 787us/step - loss: 0.4830 - val_loss: 30.1562\n",
      "Epoch 46/300\n",
      "126/126 [==============================] - 0s 790us/step - loss: 0.4834 - val_loss: 31.4884\n",
      "Epoch 47/300\n",
      "126/126 [==============================] - 0s 792us/step - loss: 0.4812 - val_loss: 31.1465\n",
      "Epoch 48/300\n",
      "126/126 [==============================] - 0s 783us/step - loss: 0.4803 - val_loss: 29.2366\n",
      "Epoch 49/300\n",
      "126/126 [==============================] - 0s 792us/step - loss: 0.4808 - val_loss: 30.2083\n",
      "Epoch 50/300\n",
      "126/126 [==============================] - 0s 795us/step - loss: 0.4805 - val_loss: 30.9499\n",
      "Epoch 51/300\n",
      "126/126 [==============================] - 0s 780us/step - loss: 0.4800 - val_loss: 29.9160\n",
      "Epoch 52/300\n",
      "126/126 [==============================] - 0s 1ms/step - loss: 0.4778 - val_loss: 28.2510\n",
      "Epoch 53/300\n",
      "126/126 [==============================] - 0s 1ms/step - loss: 0.4789 - val_loss: 29.4847\n",
      "Epoch 54/300\n",
      "126/126 [==============================] - 0s 848us/step - loss: 0.4776 - val_loss: 28.8691\n",
      "Epoch 55/300\n",
      "126/126 [==============================] - 0s 781us/step - loss: 0.4771 - val_loss: 27.4913\n",
      "Epoch 56/300\n",
      "126/126 [==============================] - 0s 765us/step - loss: 0.4760 - val_loss: 29.4064\n",
      "Epoch 57/300\n",
      "126/126 [==============================] - 0s 778us/step - loss: 0.4753 - val_loss: 29.4548\n",
      "Epoch 58/300\n",
      "126/126 [==============================] - 0s 794us/step - loss: 0.4751 - val_loss: 29.1746\n",
      "Epoch 59/300\n",
      "126/126 [==============================] - 0s 781us/step - loss: 0.4739 - val_loss: 28.2340\n",
      "Epoch 60/300\n",
      "126/126 [==============================] - 0s 779us/step - loss: 0.4735 - val_loss: 27.6795\n",
      "Epoch 61/300\n",
      "126/126 [==============================] - 0s 782us/step - loss: 0.4726 - val_loss: 27.9787\n",
      "Epoch 62/300\n",
      "126/126 [==============================] - 0s 782us/step - loss: 0.4716 - val_loss: 26.1062\n",
      "Epoch 63/300\n",
      "126/126 [==============================] - 0s 792us/step - loss: 0.4712 - val_loss: 26.1413\n",
      "Epoch 64/300\n",
      "126/126 [==============================] - 0s 781us/step - loss: 0.4713 - val_loss: 27.4560\n",
      "Epoch 65/300\n",
      "126/126 [==============================] - 0s 777us/step - loss: 0.4697 - val_loss: 26.0640\n",
      "Epoch 66/300\n",
      "126/126 [==============================] - 0s 764us/step - loss: 0.4688 - val_loss: 25.9142\n",
      "Epoch 67/300\n",
      "126/126 [==============================] - 0s 759us/step - loss: 0.4692 - val_loss: 26.7569\n",
      "Epoch 68/300\n",
      "126/126 [==============================] - 0s 765us/step - loss: 0.4696 - val_loss: 25.0419\n",
      "Epoch 69/300\n",
      "126/126 [==============================] - 0s 765us/step - loss: 0.4689 - val_loss: 25.1554\n",
      "Epoch 70/300\n",
      "126/126 [==============================] - 0s 760us/step - loss: 0.4676 - val_loss: 24.7595\n",
      "Epoch 71/300\n",
      "126/126 [==============================] - 0s 763us/step - loss: 0.4671 - val_loss: 25.0838\n",
      "Epoch 72/300\n",
      "126/126 [==============================] - 0s 775us/step - loss: 0.4659 - val_loss: 23.5028\n",
      "Epoch 73/300\n",
      "126/126 [==============================] - 0s 782us/step - loss: 0.4665 - val_loss: 22.6050\n",
      "Epoch 74/300\n",
      "126/126 [==============================] - 0s 784us/step - loss: 0.4645 - val_loss: 24.9331\n",
      "Epoch 75/300\n",
      "126/126 [==============================] - 0s 795us/step - loss: 0.4634 - val_loss: 23.7779\n",
      "Epoch 76/300\n",
      "126/126 [==============================] - 0s 798us/step - loss: 0.4655 - val_loss: 23.8657\n",
      "Epoch 77/300\n",
      "126/126 [==============================] - 0s 775us/step - loss: 0.4631 - val_loss: 22.5215\n",
      "Epoch 78/300\n",
      "126/126 [==============================] - 0s 769us/step - loss: 0.4618 - val_loss: 22.6945\n",
      "Epoch 79/300\n"
     ]
    },
    {
     "name": "stdout",
     "output_type": "stream",
     "text": [
      "126/126 [==============================] - 0s 770us/step - loss: 0.4623 - val_loss: 21.7520\n",
      "Epoch 80/300\n",
      "126/126 [==============================] - 0s 770us/step - loss: 0.4617 - val_loss: 22.3749\n",
      "Epoch 81/300\n",
      "126/126 [==============================] - 0s 786us/step - loss: 0.4612 - val_loss: 22.2196\n",
      "Epoch 82/300\n",
      "126/126 [==============================] - 0s 769us/step - loss: 0.4598 - val_loss: 21.0451\n",
      "Epoch 83/300\n",
      "126/126 [==============================] - 0s 770us/step - loss: 0.4600 - val_loss: 20.9148\n",
      "Epoch 84/300\n",
      "126/126 [==============================] - 0s 761us/step - loss: 0.4591 - val_loss: 21.7497\n",
      "Epoch 85/300\n",
      "126/126 [==============================] - 0s 779us/step - loss: 0.4581 - val_loss: 18.3332\n",
      "Epoch 86/300\n",
      "126/126 [==============================] - 0s 761us/step - loss: 0.4599 - val_loss: 20.7929\n",
      "Epoch 87/300\n",
      "126/126 [==============================] - 0s 752us/step - loss: 0.4572 - val_loss: 20.2131\n",
      "Epoch 88/300\n",
      "126/126 [==============================] - 0s 771us/step - loss: 0.4563 - val_loss: 19.7916\n",
      "Epoch 89/300\n",
      "126/126 [==============================] - 0s 761us/step - loss: 0.4576 - val_loss: 21.5183\n",
      "Epoch 90/300\n",
      "126/126 [==============================] - 0s 770us/step - loss: 0.4563 - val_loss: 21.0504\n",
      "Epoch 91/300\n",
      "126/126 [==============================] - 0s 757us/step - loss: 0.4556 - val_loss: 20.6922\n",
      "Epoch 92/300\n",
      "126/126 [==============================] - 0s 756us/step - loss: 0.4556 - val_loss: 21.2789\n",
      "Epoch 93/300\n",
      "126/126 [==============================] - 0s 765us/step - loss: 0.4544 - val_loss: 20.0162\n",
      "Epoch 94/300\n",
      "126/126 [==============================] - 0s 755us/step - loss: 0.4537 - val_loss: 18.8876\n",
      "Epoch 95/300\n",
      "126/126 [==============================] - 0s 741us/step - loss: 0.4535 - val_loss: 21.3720\n",
      "Epoch 96/300\n",
      "126/126 [==============================] - 0s 752us/step - loss: 0.4539 - val_loss: 20.9265\n",
      "Epoch 97/300\n",
      "126/126 [==============================] - 0s 769us/step - loss: 0.4532 - val_loss: 19.8353\n",
      "Epoch 98/300\n",
      "126/126 [==============================] - 0s 754us/step - loss: 0.4519 - val_loss: 19.0323\n",
      "Epoch 99/300\n",
      "126/126 [==============================] - 0s 760us/step - loss: 0.4522 - val_loss: 17.8753\n",
      "Epoch 100/300\n",
      "126/126 [==============================] - 0s 753us/step - loss: 0.4499 - val_loss: 19.6406\n",
      "Epoch 101/300\n",
      "126/126 [==============================] - 0s 757us/step - loss: 0.4509 - val_loss: 18.1984\n",
      "Epoch 102/300\n",
      "126/126 [==============================] - 0s 761us/step - loss: 0.4500 - val_loss: 19.3786\n",
      "Epoch 103/300\n",
      "126/126 [==============================] - 0s 753us/step - loss: 0.4494 - val_loss: 17.8202\n",
      "Epoch 104/300\n",
      "126/126 [==============================] - 0s 753us/step - loss: 0.4492 - val_loss: 20.3266\n",
      "Epoch 105/300\n",
      "126/126 [==============================] - 0s 746us/step - loss: 0.4476 - val_loss: 18.2517\n",
      "Epoch 106/300\n",
      "126/126 [==============================] - 0s 756us/step - loss: 0.4465 - val_loss: 18.4122\n",
      "Epoch 107/300\n",
      "126/126 [==============================] - 0s 754us/step - loss: 0.4482 - val_loss: 18.3508\n",
      "Epoch 108/300\n",
      "126/126 [==============================] - 0s 759us/step - loss: 0.4476 - val_loss: 19.0540\n",
      "Epoch 109/300\n",
      "126/126 [==============================] - 0s 767us/step - loss: 0.4453 - val_loss: 16.7747\n",
      "Epoch 110/300\n",
      "126/126 [==============================] - 0s 784us/step - loss: 0.4457 - val_loss: 19.1311\n",
      "Epoch 111/300\n",
      "126/126 [==============================] - 0s 775us/step - loss: 0.4447 - val_loss: 19.1544\n",
      "Epoch 112/300\n",
      "126/126 [==============================] - 0s 754us/step - loss: 0.4450 - val_loss: 18.9034\n",
      "Epoch 113/300\n",
      "126/126 [==============================] - 0s 750us/step - loss: 0.4435 - val_loss: 16.9962\n",
      "Epoch 114/300\n",
      "126/126 [==============================] - 0s 753us/step - loss: 0.4429 - val_loss: 19.5842\n",
      "Epoch 115/300\n",
      "126/126 [==============================] - 0s 751us/step - loss: 0.4435 - val_loss: 18.1486\n",
      "Epoch 116/300\n",
      "126/126 [==============================] - 0s 763us/step - loss: 0.4417 - val_loss: 17.8364\n",
      "Epoch 117/300\n",
      "126/126 [==============================] - 0s 763us/step - loss: 0.4415 - val_loss: 18.8827\n",
      "Epoch 118/300\n",
      "126/126 [==============================] - 0s 761us/step - loss: 0.4418 - val_loss: 18.7971\n",
      "Epoch 119/300\n",
      "126/126 [==============================] - 0s 752us/step - loss: 0.4408 - val_loss: 16.6271\n",
      "Epoch 120/300\n",
      "126/126 [==============================] - 0s 756us/step - loss: 0.4412 - val_loss: 20.2037\n",
      "Epoch 121/300\n",
      "126/126 [==============================] - 0s 766us/step - loss: 0.4392 - val_loss: 17.4462\n",
      "Epoch 122/300\n",
      "126/126 [==============================] - 0s 754us/step - loss: 0.4386 - val_loss: 19.6456\n",
      "Epoch 123/300\n",
      "126/126 [==============================] - 0s 756us/step - loss: 0.4410 - val_loss: 17.8060\n",
      "Epoch 124/300\n",
      "126/126 [==============================] - 0s 746us/step - loss: 0.4377 - val_loss: 16.5541\n",
      "Epoch 125/300\n",
      "126/126 [==============================] - 0s 762us/step - loss: 0.4371 - val_loss: 18.2791\n",
      "Epoch 126/300\n",
      "126/126 [==============================] - 0s 754us/step - loss: 0.4373 - val_loss: 15.5961\n",
      "Epoch 127/300\n",
      "126/126 [==============================] - 0s 750us/step - loss: 0.4381 - val_loss: 16.2896\n",
      "Epoch 128/300\n",
      "126/126 [==============================] - 0s 753us/step - loss: 0.4360 - val_loss: 15.8683\n",
      "Epoch 129/300\n",
      "126/126 [==============================] - 0s 764us/step - loss: 0.4354 - val_loss: 18.4817\n",
      "Epoch 130/300\n",
      "126/126 [==============================] - 0s 754us/step - loss: 0.4349 - val_loss: 15.8631\n",
      "Epoch 131/300\n",
      "126/126 [==============================] - 0s 758us/step - loss: 0.4344 - val_loss: 17.4905\n",
      "Epoch 132/300\n",
      "126/126 [==============================] - 0s 772us/step - loss: 0.4343 - val_loss: 14.7783\n",
      "Epoch 133/300\n",
      "126/126 [==============================] - 0s 758us/step - loss: 0.4363 - val_loss: 16.9449\n",
      "Epoch 134/300\n",
      "126/126 [==============================] - 0s 756us/step - loss: 0.4343 - val_loss: 17.4892\n",
      "Epoch 135/300\n",
      "126/126 [==============================] - 0s 763us/step - loss: 0.4328 - val_loss: 15.5263\n",
      "Epoch 136/300\n",
      "126/126 [==============================] - 0s 756us/step - loss: 0.4336 - val_loss: 14.2938\n",
      "Epoch 137/300\n",
      "126/126 [==============================] - 0s 756us/step - loss: 0.4337 - val_loss: 16.8789\n",
      "Epoch 138/300\n",
      "126/126 [==============================] - 0s 757us/step - loss: 0.4328 - val_loss: 15.9750\n",
      "Epoch 139/300\n",
      "126/126 [==============================] - 0s 754us/step - loss: 0.4330 - val_loss: 15.2421\n",
      "Epoch 140/300\n",
      "126/126 [==============================] - 0s 764us/step - loss: 0.4321 - val_loss: 15.6580\n",
      "Epoch 141/300\n",
      "126/126 [==============================] - 0s 755us/step - loss: 0.4317 - val_loss: 14.4785\n",
      "Epoch 142/300\n",
      "126/126 [==============================] - 0s 751us/step - loss: 0.4300 - val_loss: 15.7656\n",
      "Epoch 143/300\n",
      "126/126 [==============================] - 0s 759us/step - loss: 0.4304 - val_loss: 15.1208\n",
      "Epoch 144/300\n",
      "126/126 [==============================] - 0s 768us/step - loss: 0.4290 - val_loss: 14.8049\n",
      "Epoch 145/300\n",
      "126/126 [==============================] - 0s 771us/step - loss: 0.4305 - val_loss: 14.6698\n",
      "Epoch 146/300\n",
      "126/126 [==============================] - 0s 759us/step - loss: 0.4308 - val_loss: 15.0648\n",
      "Epoch 147/300\n",
      "126/126 [==============================] - 0s 765us/step - loss: 0.4281 - val_loss: 14.1500\n",
      "Epoch 148/300\n",
      "126/126 [==============================] - 0s 742us/step - loss: 0.4293 - val_loss: 15.4961\n",
      "Epoch 149/300\n",
      "126/126 [==============================] - 0s 756us/step - loss: 0.4286 - val_loss: 12.9911\n",
      "Epoch 150/300\n",
      "126/126 [==============================] - 0s 765us/step - loss: 0.4285 - val_loss: 14.8751\n",
      "Epoch 151/300\n",
      "126/126 [==============================] - 0s 759us/step - loss: 0.4272 - val_loss: 15.5432\n",
      "Epoch 152/300\n",
      "126/126 [==============================] - 0s 757us/step - loss: 0.4270 - val_loss: 16.5590\n",
      "Epoch 153/300\n",
      "126/126 [==============================] - 0s 767us/step - loss: 0.4297 - val_loss: 12.8304\n",
      "Epoch 154/300\n",
      "126/126 [==============================] - 0s 756us/step - loss: 0.4266 - val_loss: 12.6937\n",
      "Epoch 155/300\n",
      "126/126 [==============================] - 0s 759us/step - loss: 0.4283 - val_loss: 16.2907\n",
      "Epoch 156/300\n"
     ]
    },
    {
     "name": "stdout",
     "output_type": "stream",
     "text": [
      "126/126 [==============================] - 0s 752us/step - loss: 0.4275 - val_loss: 13.8950\n",
      "Epoch 157/300\n",
      "126/126 [==============================] - 0s 759us/step - loss: 0.4262 - val_loss: 13.8130\n",
      "Epoch 158/300\n",
      "126/126 [==============================] - 0s 752us/step - loss: 0.4259 - val_loss: 13.3133\n",
      "Epoch 159/300\n",
      "126/126 [==============================] - 0s 759us/step - loss: 0.4247 - val_loss: 15.2680\n",
      "Epoch 160/300\n",
      "126/126 [==============================] - 0s 754us/step - loss: 0.4256 - val_loss: 13.7886\n",
      "Epoch 161/300\n",
      "126/126 [==============================] - 0s 754us/step - loss: 0.4244 - val_loss: 14.5508\n",
      "Epoch 162/300\n",
      "126/126 [==============================] - 0s 743us/step - loss: 0.4253 - val_loss: 15.8361\n",
      "Epoch 163/300\n",
      "126/126 [==============================] - 0s 763us/step - loss: 0.4249 - val_loss: 15.2249\n",
      "Epoch 164/300\n",
      "126/126 [==============================] - 0s 754us/step - loss: 0.4234 - val_loss: 13.5040\n",
      "Epoch 165/300\n",
      "126/126 [==============================] - 0s 751us/step - loss: 0.4245 - val_loss: 15.3358\n",
      "Epoch 166/300\n",
      "126/126 [==============================] - 0s 749us/step - loss: 0.4231 - val_loss: 13.6286\n",
      "Epoch 167/300\n",
      "126/126 [==============================] - 0s 760us/step - loss: 0.4231 - val_loss: 15.6047\n",
      "Epoch 168/300\n",
      "126/126 [==============================] - 0s 779us/step - loss: 0.4237 - val_loss: 14.3891\n",
      "Epoch 169/300\n",
      "126/126 [==============================] - 0s 790us/step - loss: 0.4221 - val_loss: 15.0676\n",
      "Epoch 170/300\n",
      "126/126 [==============================] - 0s 784us/step - loss: 0.4227 - val_loss: 14.8062\n",
      "Epoch 171/300\n",
      "126/126 [==============================] - 0s 792us/step - loss: 0.4207 - val_loss: 14.2512\n",
      "Epoch 172/300\n",
      "126/126 [==============================] - 0s 759us/step - loss: 0.4205 - val_loss: 13.3580\n",
      "Epoch 173/300\n",
      "126/126 [==============================] - 0s 765us/step - loss: 0.4229 - val_loss: 15.3548\n",
      "Epoch 174/300\n",
      "126/126 [==============================] - 0s 770us/step - loss: 0.4208 - val_loss: 14.8639\n",
      "Epoch 175/300\n",
      "126/126 [==============================] - 0s 760us/step - loss: 0.4203 - val_loss: 13.3906\n",
      "Epoch 176/300\n",
      "126/126 [==============================] - 0s 769us/step - loss: 0.4194 - val_loss: 14.1472\n",
      "Epoch 177/300\n",
      "126/126 [==============================] - 0s 769us/step - loss: 0.4191 - val_loss: 15.8485\n",
      "Epoch 178/300\n",
      "126/126 [==============================] - 0s 756us/step - loss: 0.4210 - val_loss: 14.4193\n",
      "Epoch 179/300\n",
      "126/126 [==============================] - 0s 762us/step - loss: 0.4204 - val_loss: 14.8706\n",
      "Epoch 180/300\n",
      "126/126 [==============================] - 0s 756us/step - loss: 0.4184 - val_loss: 16.0870\n",
      "Epoch 181/300\n",
      "126/126 [==============================] - 0s 781us/step - loss: 0.4197 - val_loss: 14.0605\n",
      "Epoch 182/300\n",
      "126/126 [==============================] - 0s 840us/step - loss: 0.4180 - val_loss: 14.1331\n",
      "Epoch 183/300\n",
      "126/126 [==============================] - 0s 813us/step - loss: 0.4178 - val_loss: 14.4976\n",
      "Epoch 184/300\n",
      "126/126 [==============================] - 0s 776us/step - loss: 0.4183 - val_loss: 16.3237\n",
      "Epoch 185/300\n",
      "126/126 [==============================] - 0s 770us/step - loss: 0.4193 - val_loss: 14.7727\n",
      "Epoch 186/300\n",
      "126/126 [==============================] - 0s 766us/step - loss: 0.4183 - val_loss: 15.6031\n",
      "Epoch 187/300\n",
      "126/126 [==============================] - 0s 756us/step - loss: 0.4186 - val_loss: 14.9006\n",
      "Epoch 188/300\n",
      "126/126 [==============================] - 0s 762us/step - loss: 0.4171 - val_loss: 15.7305\n",
      "Epoch 189/300\n",
      "126/126 [==============================] - 0s 786us/step - loss: 0.4164 - val_loss: 15.8068\n",
      "Epoch 190/300\n",
      "126/126 [==============================] - 0s 844us/step - loss: 0.4158 - val_loss: 14.0196\n",
      "Epoch 191/300\n",
      "126/126 [==============================] - 0s 776us/step - loss: 0.4186 - val_loss: 15.2527\n",
      "Epoch 192/300\n",
      "126/126 [==============================] - 0s 760us/step - loss: 0.4171 - val_loss: 15.3431\n",
      "Epoch 193/300\n",
      "126/126 [==============================] - 0s 768us/step - loss: 0.4158 - val_loss: 14.6234\n",
      "Epoch 194/300\n",
      "126/126 [==============================] - 0s 764us/step - loss: 0.4165 - val_loss: 16.9974\n",
      "Epoch 195/300\n",
      "126/126 [==============================] - 0s 764us/step - loss: 0.4176 - val_loss: 14.2839\n",
      "Epoch 196/300\n",
      "126/126 [==============================] - 0s 763us/step - loss: 0.4158 - val_loss: 13.9295\n",
      "Epoch 197/300\n",
      "126/126 [==============================] - 0s 764us/step - loss: 0.4169 - val_loss: 14.1730\n",
      "Epoch 198/300\n",
      "126/126 [==============================] - 0s 766us/step - loss: 0.4155 - val_loss: 16.5911\n",
      "Epoch 199/300\n",
      "126/126 [==============================] - 0s 759us/step - loss: 0.4147 - val_loss: 14.4904\n",
      "Epoch 200/300\n",
      "126/126 [==============================] - 0s 760us/step - loss: 0.4147 - val_loss: 15.0397\n",
      "Epoch 201/300\n",
      "126/126 [==============================] - 0s 751us/step - loss: 0.4166 - val_loss: 15.8207\n",
      "Epoch 202/300\n",
      "126/126 [==============================] - 0s 752us/step - loss: 0.4174 - val_loss: 15.1802\n",
      "Epoch 203/300\n",
      "126/126 [==============================] - 0s 758us/step - loss: 0.4150 - val_loss: 14.8142\n",
      "Epoch 204/300\n",
      "126/126 [==============================] - 0s 779us/step - loss: 0.4147 - val_loss: 15.2993\n",
      "Epoch 205/300\n",
      "126/126 [==============================] - 0s 786us/step - loss: 0.4135 - val_loss: 15.3037\n",
      "Epoch 206/300\n",
      "126/126 [==============================] - 0s 801us/step - loss: 0.4142 - val_loss: 14.7763\n",
      "Epoch 207/300\n",
      "126/126 [==============================] - 0s 799us/step - loss: 0.4134 - val_loss: 15.2373\n",
      "Epoch 208/300\n",
      "126/126 [==============================] - 0s 775us/step - loss: 0.4132 - val_loss: 14.8114\n",
      "Epoch 209/300\n",
      "126/126 [==============================] - 0s 761us/step - loss: 0.4139 - val_loss: 15.4263\n",
      "Epoch 210/300\n",
      "126/126 [==============================] - 0s 762us/step - loss: 0.4126 - val_loss: 14.8171\n",
      "Epoch 211/300\n",
      "126/126 [==============================] - 0s 758us/step - loss: 0.4147 - val_loss: 15.0010\n",
      "Epoch 212/300\n",
      "126/126 [==============================] - 0s 755us/step - loss: 0.4128 - val_loss: 14.3880\n",
      "Epoch 213/300\n",
      "126/126 [==============================] - 0s 758us/step - loss: 0.4146 - val_loss: 15.0880\n",
      "Epoch 214/300\n",
      "126/126 [==============================] - 0s 765us/step - loss: 0.4129 - val_loss: 15.0688\n",
      "Epoch 215/300\n",
      "126/126 [==============================] - 0s 761us/step - loss: 0.4112 - val_loss: 16.0789\n",
      "Epoch 216/300\n",
      "126/126 [==============================] - 0s 765us/step - loss: 0.4133 - val_loss: 14.9465\n",
      "Epoch 217/300\n",
      "126/126 [==============================] - 0s 759us/step - loss: 0.4117 - val_loss: 14.9181\n",
      "Epoch 218/300\n",
      "126/126 [==============================] - 0s 762us/step - loss: 0.4112 - val_loss: 15.2351\n",
      "Epoch 219/300\n",
      "126/126 [==============================] - 0s 752us/step - loss: 0.4124 - val_loss: 15.1509\n",
      "Epoch 220/300\n",
      "126/126 [==============================] - 0s 979us/step - loss: 0.4117 - val_loss: 16.6114\n",
      "Epoch 221/300\n",
      "126/126 [==============================] - 0s 777us/step - loss: 0.4117 - val_loss: 15.0347\n",
      "Epoch 222/300\n",
      "126/126 [==============================] - 0s 827us/step - loss: 0.4121 - val_loss: 15.7259\n",
      "Epoch 223/300\n",
      "126/126 [==============================] - 0s 768us/step - loss: 0.4122 - val_loss: 15.1943\n",
      "Epoch 224/300\n",
      "126/126 [==============================] - 0s 760us/step - loss: 0.4107 - val_loss: 15.2227\n",
      "Epoch 225/300\n",
      "126/126 [==============================] - 0s 778us/step - loss: 0.4162 - val_loss: 14.9687\n",
      "Epoch 226/300\n",
      "126/126 [==============================] - 0s 770us/step - loss: 0.4080 - val_loss: 15.5239\n",
      "Epoch 227/300\n",
      "126/126 [==============================] - 0s 843us/step - loss: 0.4098 - val_loss: 15.7852\n",
      "Epoch 228/300\n",
      "126/126 [==============================] - 0s 901us/step - loss: 0.4093 - val_loss: 15.8762\n",
      "Epoch 229/300\n",
      "126/126 [==============================] - 0s 779us/step - loss: 0.4080 - val_loss: 15.4586\n",
      "Epoch 230/300\n",
      "126/126 [==============================] - 0s 765us/step - loss: 0.4104 - val_loss: 15.5802\n",
      "Epoch 231/300\n",
      "126/126 [==============================] - 0s 759us/step - loss: 0.4106 - val_loss: 15.2606\n",
      "Epoch 232/300\n",
      "126/126 [==============================] - 0s 748us/step - loss: 0.4103 - val_loss: 15.3957\n",
      "Epoch 233/300\n"
     ]
    },
    {
     "name": "stdout",
     "output_type": "stream",
     "text": [
      "126/126 [==============================] - 0s 765us/step - loss: 0.4088 - val_loss: 14.7050\n",
      "Epoch 234/300\n",
      "126/126 [==============================] - 0s 766us/step - loss: 0.4090 - val_loss: 15.2216\n",
      "Epoch 235/300\n",
      "126/126 [==============================] - 0s 762us/step - loss: 0.4085 - val_loss: 15.8637\n",
      "Epoch 236/300\n",
      "126/126 [==============================] - 0s 750us/step - loss: 0.4095 - val_loss: 15.6822\n",
      "Epoch 237/300\n",
      "126/126 [==============================] - 0s 760us/step - loss: 0.4089 - val_loss: 15.5504\n",
      "Epoch 238/300\n",
      "126/126 [==============================] - 0s 774us/step - loss: 0.4077 - val_loss: 16.2837\n",
      "Epoch 239/300\n",
      "126/126 [==============================] - 0s 780us/step - loss: 0.4083 - val_loss: 15.8670\n",
      "Epoch 240/300\n",
      "126/126 [==============================] - 0s 778us/step - loss: 0.4069 - val_loss: 15.9917\n",
      "Epoch 241/300\n",
      "126/126 [==============================] - 0s 770us/step - loss: 0.4075 - val_loss: 15.9251\n",
      "Epoch 242/300\n",
      "126/126 [==============================] - 0s 767us/step - loss: 0.4057 - val_loss: 16.4167\n",
      "Epoch 243/300\n",
      "126/126 [==============================] - 0s 765us/step - loss: 0.4070 - val_loss: 15.9971\n",
      "Epoch 244/300\n",
      "126/126 [==============================] - 0s 774us/step - loss: 0.4069 - val_loss: 16.0444\n",
      "Epoch 245/300\n",
      "126/126 [==============================] - 0s 761us/step - loss: 0.4057 - val_loss: 16.5578\n",
      "Epoch 246/300\n",
      "126/126 [==============================] - 0s 759us/step - loss: 0.4045 - val_loss: 15.6763\n",
      "Epoch 247/300\n",
      "126/126 [==============================] - 0s 773us/step - loss: 0.4051 - val_loss: 16.3117\n",
      "Epoch 248/300\n",
      "126/126 [==============================] - 0s 772us/step - loss: 0.4045 - val_loss: 17.0586\n",
      "Epoch 249/300\n",
      "126/126 [==============================] - 0s 756us/step - loss: 0.4088 - val_loss: 16.8641\n",
      "Epoch 250/300\n",
      "126/126 [==============================] - 0s 757us/step - loss: 0.4074 - val_loss: 16.6204\n",
      "Epoch 251/300\n",
      "126/126 [==============================] - 0s 756us/step - loss: 0.4057 - val_loss: 16.9758\n",
      "Epoch 252/300\n",
      "126/126 [==============================] - 0s 767us/step - loss: 0.4047 - val_loss: 16.5963\n",
      "Epoch 253/300\n",
      "126/126 [==============================] - 0s 761us/step - loss: 0.4034 - val_loss: 15.9368\n",
      "Epoch 254/300\n",
      "126/126 [==============================] - 0s 770us/step - loss: 0.4060 - val_loss: 16.5469\n",
      "Epoch 255/300\n",
      "126/126 [==============================] - 0s 760us/step - loss: 0.4049 - val_loss: 18.2328\n",
      "Epoch 256/300\n",
      "126/126 [==============================] - 0s 760us/step - loss: 0.4051 - val_loss: 17.1373\n",
      "Epoch 257/300\n",
      "126/126 [==============================] - 0s 764us/step - loss: 0.4048 - val_loss: 16.7787\n",
      "Epoch 258/300\n",
      "126/126 [==============================] - 0s 748us/step - loss: 0.4036 - val_loss: 16.5825\n",
      "Epoch 259/300\n",
      "126/126 [==============================] - 0s 766us/step - loss: 0.4024 - val_loss: 16.7777\n",
      "Epoch 260/300\n",
      "126/126 [==============================] - 0s 754us/step - loss: 0.4046 - val_loss: 17.7220\n",
      "Epoch 261/300\n",
      "126/126 [==============================] - 0s 770us/step - loss: 0.4046 - val_loss: 17.0624\n",
      "Epoch 262/300\n",
      "126/126 [==============================] - 0s 756us/step - loss: 0.4050 - val_loss: 17.7045\n",
      "Epoch 263/300\n",
      "126/126 [==============================] - 0s 748us/step - loss: 0.4036 - val_loss: 17.5898\n",
      "Epoch 264/300\n",
      "126/126 [==============================] - 0s 769us/step - loss: 0.4031 - val_loss: 16.8453\n",
      "Epoch 265/300\n",
      "126/126 [==============================] - 0s 757us/step - loss: 0.4045 - val_loss: 17.2623\n",
      "Epoch 266/300\n",
      "126/126 [==============================] - 0s 752us/step - loss: 0.4022 - val_loss: 17.2119\n",
      "Epoch 267/300\n",
      "126/126 [==============================] - 0s 746us/step - loss: 0.4007 - val_loss: 16.4255\n",
      "Epoch 268/300\n",
      "126/126 [==============================] - 0s 762us/step - loss: 0.4031 - val_loss: 17.6393\n",
      "Epoch 269/300\n",
      "126/126 [==============================] - 0s 759us/step - loss: 0.4011 - val_loss: 16.8214\n",
      "Epoch 270/300\n",
      "126/126 [==============================] - 0s 750us/step - loss: 0.4018 - val_loss: 17.0550\n",
      "Epoch 271/300\n",
      "126/126 [==============================] - 0s 754us/step - loss: 0.4007 - val_loss: 17.4184\n",
      "Epoch 272/300\n",
      "126/126 [==============================] - 0s 746us/step - loss: 0.4011 - val_loss: 18.1521\n",
      "Epoch 273/300\n",
      "126/126 [==============================] - 0s 761us/step - loss: 0.4016 - val_loss: 17.4681\n",
      "Epoch 274/300\n",
      "126/126 [==============================] - 0s 762us/step - loss: 0.4034 - val_loss: 17.5735\n",
      "Epoch 275/300\n",
      "126/126 [==============================] - 0s 754us/step - loss: 0.4014 - val_loss: 19.3763\n",
      "Epoch 276/300\n",
      "126/126 [==============================] - 0s 762us/step - loss: 0.3998 - val_loss: 17.6434\n",
      "Epoch 277/300\n",
      "126/126 [==============================] - 0s 764us/step - loss: 0.4012 - val_loss: 19.1885\n",
      "Epoch 278/300\n",
      "126/126 [==============================] - 0s 758us/step - loss: 0.3996 - val_loss: 17.5669\n",
      "Epoch 279/300\n",
      "126/126 [==============================] - 0s 753us/step - loss: 0.3999 - val_loss: 18.1001\n",
      "Epoch 280/300\n",
      "126/126 [==============================] - 0s 756us/step - loss: 0.3990 - val_loss: 18.2557\n",
      "Epoch 281/300\n",
      "126/126 [==============================] - 0s 769us/step - loss: 0.3993 - val_loss: 17.9779\n",
      "Epoch 282/300\n",
      "126/126 [==============================] - 0s 758us/step - loss: 0.3992 - val_loss: 19.0247\n",
      "Epoch 283/300\n",
      "126/126 [==============================] - 0s 771us/step - loss: 0.3995 - val_loss: 18.2760\n",
      "Epoch 284/300\n",
      "126/126 [==============================] - 0s 755us/step - loss: 0.3987 - val_loss: 19.4977\n",
      "Epoch 285/300\n",
      "126/126 [==============================] - 0s 748us/step - loss: 0.4007 - val_loss: 20.4059\n",
      "Epoch 286/300\n",
      "126/126 [==============================] - 0s 749us/step - loss: 0.4027 - val_loss: 17.7149\n",
      "Epoch 287/300\n",
      "126/126 [==============================] - 0s 761us/step - loss: 0.3988 - val_loss: 19.3435\n",
      "Epoch 288/300\n",
      "126/126 [==============================] - 0s 753us/step - loss: 0.3998 - val_loss: 19.2213\n",
      "Epoch 289/300\n",
      "126/126 [==============================] - 0s 750us/step - loss: 0.3988 - val_loss: 19.1903\n",
      "Epoch 290/300\n",
      "126/126 [==============================] - 0s 752us/step - loss: 0.3978 - val_loss: 18.4675\n",
      "Epoch 291/300\n",
      "126/126 [==============================] - 0s 758us/step - loss: 0.3989 - val_loss: 20.0428\n",
      "Epoch 292/300\n",
      "126/126 [==============================] - 0s 763us/step - loss: 0.3976 - val_loss: 18.9773\n",
      "Epoch 293/300\n",
      "126/126 [==============================] - 0s 763us/step - loss: 0.3982 - val_loss: 21.6558\n",
      "Epoch 294/300\n",
      "126/126 [==============================] - 0s 749us/step - loss: 0.3977 - val_loss: 20.5354\n",
      "Epoch 295/300\n",
      "126/126 [==============================] - 0s 753us/step - loss: 0.3998 - val_loss: 19.0449\n",
      "Epoch 296/300\n",
      "126/126 [==============================] - 0s 761us/step - loss: 0.3997 - val_loss: 19.6036\n",
      "Epoch 297/300\n",
      "126/126 [==============================] - 0s 755us/step - loss: 0.3981 - val_loss: 19.1028\n",
      "Epoch 298/300\n",
      "126/126 [==============================] - 0s 763us/step - loss: 0.3961 - val_loss: 20.6273\n",
      "Epoch 299/300\n",
      "126/126 [==============================] - 0s 752us/step - loss: 0.3964 - val_loss: 18.8435\n",
      "Epoch 300/300\n",
      "126/126 [==============================] - 0s 762us/step - loss: 0.3951 - val_loss: 19.3795\n"
     ]
    },
    {
     "data": {
      "text/plain": [
       "<keras.callbacks.History at 0x7f9558ccdac0>"
      ]
     },
     "execution_count": 56,
     "metadata": {},
     "output_type": "execute_result"
    }
   ],
   "source": [
    "model.fit(x=X_train, y=y_train, epochs = 300 , validation_data=(X_test, y_test))"
   ]
  },
  {
   "cell_type": "markdown",
   "id": "demographic-eclipse",
   "metadata": {},
   "source": [
    "### Visualize the Model Prediction"
   ]
  },
  {
   "cell_type": "code",
   "execution_count": 57,
   "id": "accompanied-future",
   "metadata": {},
   "outputs": [
    {
     "data": {
      "text/plain": [
       "<AxesSubplot:>"
      ]
     },
     "execution_count": 57,
     "metadata": {},
     "output_type": "execute_result"
    },
    {
     "data": {
      "image/png": "[encoded data removed]",
      "text/plain": [
       "<Figure size 432x288 with 1 Axes>"
      ]
     },
     "metadata": {
      "needs_background": "light"
     },
     "output_type": "display_data"
    }
   ],
   "source": [
    "losses = pd.DataFrame(model.history.history)\n",
    "losses.plot()"
   ]
  },
  {
   "cell_type": "markdown",
   "id": "foreign-egypt",
   "metadata": {},
   "source": [
    "### Evaluate the Model"
   ]
  },
  {
   "cell_type": "code",
   "execution_count": 105,
   "id": "residential-chain",
   "metadata": {},
   "outputs": [],
   "source": [
    "from sklearn.metrics import classification_report, confusion_matrix\n",
    "from sklearn.metrics import accuracy_score, plot_confusion_matrix, roc_curve, auc\n",
    "from sklearn.metrics import f1_score, precision_score \n",
    "from sklearn import metrics"
   ]
  },
  {
   "cell_type": "code",
   "execution_count": 59,
   "id": "focused-progressive",
   "metadata": {},
   "outputs": [],
   "source": [
    "predict_x=model.predict(X_test) \n",
    "classes_x=np.argmax(predict_x,axis=1)"
   ]
  },
  {
   "cell_type": "code",
   "execution_count": 62,
   "id": "removed-affect",
   "metadata": {},
   "outputs": [
    {
     "name": "stdout",
     "output_type": "stream",
     "text": [
      "              precision    recall  f1-score   support\n",
      "\n",
      "           0       0.40      1.00      0.57       405\n",
      "           1       0.00      0.00      0.00       599\n",
      "\n",
      "    accuracy                           0.40      1004\n",
      "   macro avg       0.20      0.50      0.29      1004\n",
      "weighted avg       0.16      0.40      0.23      1004\n",
      "\n"
     ]
    },
    {
     "name": "stderr",
     "output_type": "stream",
     "text": [
      "/Applications/anaconda3/lib/python3.8/site-packages/sklearn/metrics/_classification.py:1245: UndefinedMetricWarning: Precision and F-score are ill-defined and being set to 0.0 in labels with no predicted samples. Use `zero_division` parameter to control this behavior.\n",
      "  _warn_prf(average, modifier, msg_start, len(result))\n",
      "/Applications/anaconda3/lib/python3.8/site-packages/sklearn/metrics/_classification.py:1245: UndefinedMetricWarning: Precision and F-score are ill-defined and being set to 0.0 in labels with no predicted samples. Use `zero_division` parameter to control this behavior.\n",
      "  _warn_prf(average, modifier, msg_start, len(result))\n",
      "/Applications/anaconda3/lib/python3.8/site-packages/sklearn/metrics/_classification.py:1245: UndefinedMetricWarning: Precision and F-score are ill-defined and being set to 0.0 in labels with no predicted samples. Use `zero_division` parameter to control this behavior.\n",
      "  _warn_prf(average, modifier, msg_start, len(result))\n"
     ]
    }
   ],
   "source": [
    "print(classification_report(y_test, classes_x))"
   ]
  },
  {
   "cell_type": "code",
   "execution_count": 63,
   "id": "corrected-boulder",
   "metadata": {},
   "outputs": [
    {
     "name": "stdout",
     "output_type": "stream",
     "text": [
      "[[405   0]\n",
      " [599   0]]\n"
     ]
    }
   ],
   "source": [
    "print(confusion_matrix(y_test, classes_x))"
   ]
  },
  {
   "cell_type": "markdown",
   "id": "finished-barrel",
   "metadata": {},
   "source": [
    "### Model with early stop and drop out"
   ]
  },
  {
   "cell_type": "code",
   "execution_count": 64,
   "id": "amended-monitor",
   "metadata": {},
   "outputs": [],
   "source": [
    "from tensorflow.keras.layers import Dropout\n",
    "from tensorflow.keras.callbacks import EarlyStopping"
   ]
  },
  {
   "cell_type": "code",
   "execution_count": 293,
   "id": "broad-campaign",
   "metadata": {},
   "outputs": [],
   "source": [
    "early_stop = EarlyStopping(monitor = 'val_loss', mode='min', verbose = 1, patience=25)"
   ]
  },
  {
   "cell_type": "code",
   "execution_count": 294,
   "id": "victorian-secret",
   "metadata": {},
   "outputs": [],
   "source": [
    "model = Sequential()\n",
    "\n",
    "model.add(Dense(23, activation = 'relu'))\n",
    "model.add(Dropout(0.2)) # 50% of neruals randomly turn off\n",
    "\n",
    "model.add(Dense(15, activation = 'relu'))\n",
    "model.add(Dropout(0.2))\n",
    "\n",
    "# binary classification\n",
    "model.add(Dense(1, activation = 'sigmoid'))\n",
    "\n",
    "model.compile(loss='binary_crossentropy', optimizer='adam')"
   ]
  },
  {
   "cell_type": "markdown",
   "id": "lined-scheduling",
   "metadata": {},
   "source": [
    "### Fit the model"
   ]
  },
  {
   "cell_type": "code",
   "execution_count": 295,
   "id": "starting-arkansas",
   "metadata": {},
   "outputs": [
    {
     "name": "stdout",
     "output_type": "stream",
     "text": [
      "Epoch 1/500\n",
      "126/126 [==============================] - 1s 1ms/step - loss: 0.6264 - val_loss: 12.5528\n",
      "Epoch 2/500\n",
      "126/126 [==============================] - 0s 850us/step - loss: 0.5923 - val_loss: 16.9546\n",
      "Epoch 3/500\n",
      "126/126 [==============================] - 0s 851us/step - loss: 0.5708 - val_loss: 18.4175\n",
      "Epoch 4/500\n",
      "126/126 [==============================] - 0s 842us/step - loss: 0.5595 - val_loss: 18.5603\n",
      "Epoch 5/500\n",
      "126/126 [==============================] - 0s 849us/step - loss: 0.5456 - val_loss: 18.9962\n",
      "Epoch 6/500\n",
      "126/126 [==============================] - 0s 815us/step - loss: 0.5434 - val_loss: 19.9870\n",
      "Epoch 7/500\n",
      "126/126 [==============================] - 0s 808us/step - loss: 0.5387 - val_loss: 20.5500\n",
      "Epoch 8/500\n",
      "126/126 [==============================] - 0s 811us/step - loss: 0.5384 - val_loss: 21.6585\n",
      "Epoch 9/500\n",
      "126/126 [==============================] - 0s 794us/step - loss: 0.5335 - val_loss: 21.5085\n",
      "Epoch 10/500\n",
      "126/126 [==============================] - 0s 802us/step - loss: 0.5265 - val_loss: 21.8885\n",
      "Epoch 11/500\n",
      "126/126 [==============================] - 0s 802us/step - loss: 0.5290 - val_loss: 22.8493\n",
      "Epoch 12/500\n",
      "126/126 [==============================] - 0s 804us/step - loss: 0.5329 - val_loss: 21.3096\n",
      "Epoch 13/500\n",
      "126/126 [==============================] - 0s 801us/step - loss: 0.5263 - val_loss: 22.7302\n",
      "Epoch 14/500\n",
      "126/126 [==============================] - 0s 804us/step - loss: 0.5236 - val_loss: 22.7194\n",
      "Epoch 15/500\n",
      "126/126 [==============================] - 0s 790us/step - loss: 0.5237 - val_loss: 23.2303\n",
      "Epoch 16/500\n",
      "126/126 [==============================] - 0s 815us/step - loss: 0.5180 - val_loss: 23.0751\n",
      "Epoch 17/500\n",
      "126/126 [==============================] - 0s 796us/step - loss: 0.5214 - val_loss: 22.0990\n",
      "Epoch 18/500\n",
      "126/126 [==============================] - 0s 795us/step - loss: 0.5169 - val_loss: 22.8131\n",
      "Epoch 19/500\n",
      "126/126 [==============================] - 0s 793us/step - loss: 0.5178 - val_loss: 23.0114\n",
      "Epoch 20/500\n",
      "126/126 [==============================] - 0s 799us/step - loss: 0.5182 - val_loss: 22.6038\n",
      "Epoch 21/500\n",
      "126/126 [==============================] - 0s 812us/step - loss: 0.5105 - val_loss: 22.2975\n",
      "Epoch 22/500\n",
      "126/126 [==============================] - 0s 806us/step - loss: 0.5073 - val_loss: 22.3906\n",
      "Epoch 23/500\n",
      "126/126 [==============================] - 0s 795us/step - loss: 0.5087 - val_loss: 23.9589\n",
      "Epoch 24/500\n",
      "126/126 [==============================] - 0s 847us/step - loss: 0.5113 - val_loss: 22.8189\n",
      "Epoch 25/500\n",
      "126/126 [==============================] - 0s 865us/step - loss: 0.5037 - val_loss: 23.7057\n",
      "Epoch 26/500\n",
      "126/126 [==============================] - 0s 892us/step - loss: 0.5149 - val_loss: 22.7402\n",
      "Epoch 00026: early stopping\n"
     ]
    },
    {
     "data": {
      "text/plain": [
       "<keras.callbacks.History at 0x7f9537fc2130>"
      ]
     },
     "execution_count": 295,
     "metadata": {},
     "output_type": "execute_result"
    }
   ],
   "source": [
    "model.fit(x=X_train, y=y_train, epochs = 500 , validation_data=(X_test, y_test),\n",
    "         callbacks = [early_stop])"
   ]
  },
  {
   "cell_type": "code",
   "execution_count": 296,
   "id": "undefined-driving",
   "metadata": {},
   "outputs": [
    {
     "data": {
      "text/plain": [
       "<AxesSubplot:>"
      ]
     },
     "execution_count": 296,
     "metadata": {},
     "output_type": "execute_result"
    },
    {
     "data": {
      "image/png": "[encoded data removed]",
      "text/plain": [
       "<Figure size 432x288 with 1 Axes>"
      ]
     },
     "metadata": {
      "needs_background": "light"
     },
     "output_type": "display_data"
    }
   ],
   "source": [
    "model_loss = pd.DataFrame(model.history.history)\n",
    "model_loss.plot()"
   ]
  },
  {
   "cell_type": "markdown",
   "id": "deadly-mother",
   "metadata": {},
   "source": [
    "### Evaluate the model"
   ]
  },
  {
   "cell_type": "code",
   "execution_count": 297,
   "id": "continent-transportation",
   "metadata": {},
   "outputs": [],
   "source": [
    "predict_x=model.predict(X_test) \n",
    "classes=np.argmax(predict_x,axis=1)"
   ]
  },
  {
   "cell_type": "code",
   "execution_count": 298,
   "id": "controversial-cheese",
   "metadata": {},
   "outputs": [
    {
     "name": "stdout",
     "output_type": "stream",
     "text": [
      "              precision    recall  f1-score   support\n",
      "\n",
      "           0       0.40      1.00      0.57       405\n",
      "           1       0.00      0.00      0.00       599\n",
      "\n",
      "    accuracy                           0.40      1004\n",
      "   macro avg       0.20      0.50      0.29      1004\n",
      "weighted avg       0.16      0.40      0.23      1004\n",
      "\n"
     ]
    },
    {
     "name": "stderr",
     "output_type": "stream",
     "text": [
      "/Applications/anaconda3/lib/python3.8/site-packages/sklearn/metrics/_classification.py:1245: UndefinedMetricWarning: Precision and F-score are ill-defined and being set to 0.0 in labels with no predicted samples. Use `zero_division` parameter to control this behavior.\n",
      "  _warn_prf(average, modifier, msg_start, len(result))\n",
      "/Applications/anaconda3/lib/python3.8/site-packages/sklearn/metrics/_classification.py:1245: UndefinedMetricWarning: Precision and F-score are ill-defined and being set to 0.0 in labels with no predicted samples. Use `zero_division` parameter to control this behavior.\n",
      "  _warn_prf(average, modifier, msg_start, len(result))\n",
      "/Applications/anaconda3/lib/python3.8/site-packages/sklearn/metrics/_classification.py:1245: UndefinedMetricWarning: Precision and F-score are ill-defined and being set to 0.0 in labels with no predicted samples. Use `zero_division` parameter to control this behavior.\n",
      "  _warn_prf(average, modifier, msg_start, len(result))\n"
     ]
    }
   ],
   "source": [
    "print(classification_report(y_test, classes))"
   ]
  },
  {
   "cell_type": "markdown",
   "id": "departmental-orbit",
   "metadata": {},
   "source": [
    "#### Confusion matrix"
   ]
  },
  {
   "cell_type": "code",
   "execution_count": 299,
   "id": "ordered-insertion",
   "metadata": {},
   "outputs": [
    {
     "name": "stdout",
     "output_type": "stream",
     "text": [
      "[[405   0]\n",
      " [599   0]]\n"
     ]
    }
   ],
   "source": [
    "print(confusion_matrix(y_test, classes))"
   ]
  },
  {
   "cell_type": "markdown",
   "id": "thick-affair",
   "metadata": {},
   "source": [
    "#### Roc_auc Score"
   ]
  },
  {
   "cell_type": "code",
   "execution_count": 290,
   "id": "invalid-turkey",
   "metadata": {},
   "outputs": [
    {
     "data": {
      "image/png": "[encoded data removed]",
      "text/plain": [
       "<Figure size 432x288 with 1 Axes>"
      ]
     },
     "metadata": {
      "needs_background": "light"
     },
     "output_type": "display_data"
    }
   ],
   "source": [
    "fpr, tpr, _ = metrics.roc_curve(y_test,  classes)\n",
    "auc = metrics.roc_auc_score(y_test, classes)\n",
    "plt.plot(fpr,tpr,label=\"data 1, auc=\"+str(auc))\n",
    "plt.legend(loc=4)\n",
    "plt.show()"
   ]
  },
  {
   "cell_type": "markdown",
   "id": "collaborative-entrance",
   "metadata": {},
   "source": []
  },
  {
   "cell_type": "markdown",
   "id": "athletic-document",
   "metadata": {},
   "source": [
    "#### F1 & Precision Score"
   ]
  },
  {
   "cell_type": "code",
   "execution_count": 291,
   "id": "contrary-definition",
   "metadata": {},
   "outputs": [
    {
     "data": {
      "text/plain": [
       "0.0"
      ]
     },
     "execution_count": 291,
     "metadata": {},
     "output_type": "execute_result"
    }
   ],
   "source": [
    "metrics.f1_score(y_test, classes, labels=np.unique(classes))"
   ]
  },
  {
   "cell_type": "code",
   "execution_count": 292,
   "id": "complimentary-irish",
   "metadata": {},
   "outputs": [
    {
     "name": "stderr",
     "output_type": "stream",
     "text": [
      "/Applications/anaconda3/lib/python3.8/site-packages/sklearn/metrics/_classification.py:1245: UndefinedMetricWarning: Precision is ill-defined and being set to 0.0 due to no predicted samples. Use `zero_division` parameter to control this behavior.\n",
      "  _warn_prf(average, modifier, msg_start, len(result))\n"
     ]
    },
    {
     "data": {
      "text/plain": [
       "0.0"
      ]
     },
     "execution_count": 292,
     "metadata": {},
     "output_type": "execute_result"
    }
   ],
   "source": [
    "metrics.precision_score(y_test, classes, labels = np.unique(classes))"
   ]
  },
  {
   "cell_type": "markdown",
   "id": "stretch-shoot",
   "metadata": {},
   "source": [
    "### Decision Tree"
   ]
  },
  {
   "cell_type": "code",
   "execution_count": 72,
   "id": "protecting-tuition",
   "metadata": {},
   "outputs": [],
   "source": [
    "from sklearn.tree import DecisionTreeClassifier"
   ]
  },
  {
   "cell_type": "code",
   "execution_count": 123,
   "id": "laughing-telling",
   "metadata": {},
   "outputs": [],
   "source": [
    "dtree = DecisionTreeClassifier()\n",
    "dtree.fit(X_train, y_train)\n",
    "dtree_pred = dtree.predict(X_test)"
   ]
  },
  {
   "cell_type": "code",
   "execution_count": 124,
   "id": "departmental-logic",
   "metadata": {},
   "outputs": [
    {
     "name": "stdout",
     "output_type": "stream",
     "text": [
      "[[ 50 355]\n",
      " [ 12 587]]\n",
      "\n",
      "\n",
      "Classification Summary--->\n",
      "              precision    recall  f1-score   support\n",
      "\n",
      "           0       0.81      0.12      0.21       405\n",
      "           1       0.62      0.98      0.76       599\n",
      "\n",
      "    accuracy                           0.63      1004\n",
      "   macro avg       0.71      0.55      0.49      1004\n",
      "weighted avg       0.70      0.63      0.54      1004\n",
      "\n"
     ]
    }
   ],
   "source": [
    "print(confusion_matrix(y_test, prediction))\n",
    "print('\\n')\n",
    "print('Classification Summary--->')\n",
    "print(classification_report(y_test, prediction))"
   ]
  },
  {
   "cell_type": "markdown",
   "id": "three-opportunity",
   "metadata": {},
   "source": [
    "#### ROC_AUC"
   ]
  },
  {
   "cell_type": "code",
   "execution_count": 248,
   "id": "voluntary-hormone",
   "metadata": {},
   "outputs": [
    {
     "data": {
      "image/png": "[encoded data removed]",
      "text/plain": [
       "<Figure size 432x288 with 1 Axes>"
      ]
     },
     "metadata": {
      "needs_background": "light"
     },
     "output_type": "display_data"
    }
   ],
   "source": [
    "fpr, tpr, _ = metrics.roc_curve(y_test,  dtree_pred)\n",
    "auc = metrics.roc_auc_score(y_test, dtree_pred)\n",
    "plt.plot(fpr,tpr,label=\"data 1, auc=\"+str(auc))\n",
    "plt.legend(loc=4)\n",
    "plt.show()"
   ]
  },
  {
   "cell_type": "code",
   "execution_count": null,
   "id": "considered-interference",
   "metadata": {},
   "outputs": [],
   "source": []
  },
  {
   "cell_type": "markdown",
   "id": "wooden-wound",
   "metadata": {},
   "source": [
    "#### F1 & Precision Score"
   ]
  },
  {
   "cell_type": "code",
   "execution_count": null,
   "id": "wireless-boost",
   "metadata": {},
   "outputs": [],
   "source": [
    "metrics.f1_score(y_test, dtree_pred, labels=np.unique(dtree_pred))\n",
    "\n",
    "metrics.precision_score(y_test, prediction, labels=np.unique(dtree_pred))\n",
    "\n"
   ]
  },
  {
   "cell_type": "markdown",
   "id": "massive-albert",
   "metadata": {},
   "source": [
    "## Random Forest"
   ]
  },
  {
   "cell_type": "code",
   "execution_count": 206,
   "id": "detected-massage",
   "metadata": {},
   "outputs": [],
   "source": [
    "from sklearn.ensemble import RandomForestClassifier"
   ]
  },
  {
   "cell_type": "code",
   "execution_count": 207,
   "id": "spiritual-turtle",
   "metadata": {},
   "outputs": [
    {
     "data": {
      "text/plain": [
       "RandomForestClassifier(n_estimators=600)"
      ]
     },
     "execution_count": 207,
     "metadata": {},
     "output_type": "execute_result"
    }
   ],
   "source": [
    "rfc = RandomForestClassifier(n_estimators=600)\n",
    "rfc.fit(X_train, y_train)"
   ]
  },
  {
   "cell_type": "code",
   "execution_count": 208,
   "id": "traditional-hearts",
   "metadata": {},
   "outputs": [],
   "source": [
    "rfc_pred = rfc.predict(X_test)"
   ]
  },
  {
   "cell_type": "code",
   "execution_count": 209,
   "id": "aware-usage",
   "metadata": {},
   "outputs": [
    {
     "name": "stdout",
     "output_type": "stream",
     "text": [
      "Confusion Matrix--->\n",
      "[[361  44]\n",
      " [514  85]]\n",
      "\n",
      "\n",
      "Classification Summary--->\n",
      "              precision    recall  f1-score   support\n",
      "\n",
      "           0       0.41      0.89      0.56       405\n",
      "           1       0.66      0.14      0.23       599\n",
      "\n",
      "    accuracy                           0.44      1004\n",
      "   macro avg       0.54      0.52      0.40      1004\n",
      "weighted avg       0.56      0.44      0.37      1004\n",
      "\n"
     ]
    }
   ],
   "source": [
    "print('Confusion Matrix--->')\n",
    "print(confusion_matrix(y_test, rfc_pred))\n",
    "print('\\n')\n",
    "print('Classification Summary--->')\n",
    "print(classification_report(y_test, rfc_pred))"
   ]
  },
  {
   "cell_type": "code",
   "execution_count": 353,
   "id": "arabic-uruguay",
   "metadata": {},
   "outputs": [
    {
     "data": {
      "text/plain": [
       "<sklearn.metrics._plot.confusion_matrix.ConfusionMatrixDisplay at 0x7f95570655b0>"
      ]
     },
     "execution_count": 353,
     "metadata": {},
     "output_type": "execute_result"
    },
    {
     "data": {
      "image/png": "[encoded data removed]",
      "text/plain": [
       "<Figure size 432x288 with 2 Axes>"
      ]
     },
     "metadata": {
      "needs_background": "light"
     },
     "output_type": "display_data"
    }
   ],
   "source": [
    "\n",
    "plot_confusion_matrix(rfc, X_test, y_test)"
   ]
  },
  {
   "cell_type": "markdown",
   "id": "intense-seller",
   "metadata": {},
   "source": [
    "#### ROC_AUC"
   ]
  },
  {
   "cell_type": "code",
   "execution_count": 226,
   "id": "prescribed-conservation",
   "metadata": {},
   "outputs": [
    {
     "data": {
      "image/png": "[encoded data removed]",
      "text/plain": [
       "<Figure size 432x288 with 1 Axes>"
      ]
     },
     "metadata": {
      "needs_background": "light"
     },
     "output_type": "display_data"
    }
   ],
   "source": [
    "\n",
    "fpr, tpr, _ = metrics.roc_curve(y_test,  rfc_pred)\n",
    "auc = metrics.roc_auc_score(y_test, rfc_pred)\n",
    "plt.plot(fpr,tpr,label=\"data 1, auc=\"+str(auc))\n",
    "plt.legend(loc=4)\n",
    "plt.show()"
   ]
  },
  {
   "cell_type": "markdown",
   "id": "upset-plastic",
   "metadata": {},
   "source": [
    "#### F1 & Precision Score"
   ]
  },
  {
   "cell_type": "code",
   "execution_count": 250,
   "id": "dressed-thomas",
   "metadata": {},
   "outputs": [
    {
     "name": "stdout",
     "output_type": "stream",
     "text": [
      "F1: 0.5500467726847521\n",
      "Precision: 0.625531914893617\n"
     ]
    }
   ],
   "source": [
    "print(\"F1:\", metrics.f1_score(y_test,dtree_pred, labels=np.unique(dtree_pred)))\n",
    "\n",
    "print(\"Precision:\", metrics.precision_score(y_test, dtree_pred, labels=np.unique(dtree_pred)))"
   ]
  },
  {
   "cell_type": "markdown",
   "id": "regular-compact",
   "metadata": {},
   "source": [
    "### Random Forest with Cross_validation"
   ]
  },
  {
   "cell_type": "code",
   "execution_count": 79,
   "id": "color-plate",
   "metadata": {},
   "outputs": [
    {
     "data": {
      "text/plain": [
       "GridSearchCV(cv=5, estimator=RandomForestClassifier(n_estimators=600),\n",
       "             param_grid={'max_depth': [2, 4, 8, 16, 32, None],\n",
       "                         'n_estimators': [5, 10, 50, 100, 250]})"
      ]
     },
     "execution_count": 79,
     "metadata": {},
     "output_type": "execute_result"
    }
   ],
   "source": [
    "from sklearn.model_selection import GridSearchCV\n",
    "\n",
    "parameters = {\n",
    "    \"n_estimators\":[5,10,50,100,250],\n",
    "    \"max_depth\":[2,4,8,16,32,None]\n",
    "}\n",
    "    \n",
    "\n",
    "cv = GridSearchCV(rfc, parameters, cv = 5)\n",
    "\n",
    "cv.fit(X_train, y_train)"
   ]
  },
  {
   "cell_type": "code",
   "execution_count": 80,
   "id": "opposite-planning",
   "metadata": {},
   "outputs": [],
   "source": [
    "def display(results):\n",
    "    print(f'Best parameters are: {results.best_params_}')\n",
    "    print(\"\\n\")\n",
    "    mean_score = results.cv_results_['mean_test_score']\n",
    "    std_score = results.cv_results_['std_test_score']\n",
    "    params = results.cv_results_['params']\n",
    "    for mean,std,params in zip(mean_score,std_score,params):\n",
    "        print(f'{round(mean,3)} + or -{round(std,3)} for the {params}')"
   ]
  },
  {
   "cell_type": "code",
   "execution_count": 81,
   "id": "serious-exposure",
   "metadata": {},
   "outputs": [
    {
     "name": "stdout",
     "output_type": "stream",
     "text": [
      "Best parameters are: {'max_depth': 32, 'n_estimators': 100}\n",
      "\n",
      "\n",
      "0.725 + or -0.012 for the {'max_depth': 2, 'n_estimators': 5}\n",
      "0.737 + or -0.009 for the {'max_depth': 2, 'n_estimators': 10}\n",
      "0.737 + or -0.007 for the {'max_depth': 2, 'n_estimators': 50}\n",
      "0.738 + or -0.007 for the {'max_depth': 2, 'n_estimators': 100}\n",
      "0.736 + or -0.005 for the {'max_depth': 2, 'n_estimators': 250}\n",
      "0.738 + or -0.005 for the {'max_depth': 4, 'n_estimators': 5}\n",
      "0.742 + or -0.009 for the {'max_depth': 4, 'n_estimators': 10}\n",
      "0.742 + or -0.007 for the {'max_depth': 4, 'n_estimators': 50}\n",
      "0.741 + or -0.006 for the {'max_depth': 4, 'n_estimators': 100}\n",
      "0.742 + or -0.006 for the {'max_depth': 4, 'n_estimators': 250}\n",
      "0.739 + or -0.007 for the {'max_depth': 8, 'n_estimators': 5}\n",
      "0.75 + or -0.005 for the {'max_depth': 8, 'n_estimators': 10}\n",
      "0.749 + or -0.005 for the {'max_depth': 8, 'n_estimators': 50}\n",
      "0.749 + or -0.006 for the {'max_depth': 8, 'n_estimators': 100}\n",
      "0.75 + or -0.005 for the {'max_depth': 8, 'n_estimators': 250}\n",
      "0.716 + or -0.006 for the {'max_depth': 16, 'n_estimators': 5}\n",
      "0.739 + or -0.008 for the {'max_depth': 16, 'n_estimators': 10}\n",
      "0.75 + or -0.007 for the {'max_depth': 16, 'n_estimators': 50}\n",
      "0.748 + or -0.005 for the {'max_depth': 16, 'n_estimators': 100}\n",
      "0.752 + or -0.005 for the {'max_depth': 16, 'n_estimators': 250}\n",
      "0.708 + or -0.01 for the {'max_depth': 32, 'n_estimators': 5}\n",
      "0.722 + or -0.005 for the {'max_depth': 32, 'n_estimators': 10}\n",
      "0.751 + or -0.008 for the {'max_depth': 32, 'n_estimators': 50}\n",
      "0.755 + or -0.011 for the {'max_depth': 32, 'n_estimators': 100}\n",
      "0.751 + or -0.007 for the {'max_depth': 32, 'n_estimators': 250}\n",
      "0.721 + or -0.016 for the {'max_depth': None, 'n_estimators': 5}\n",
      "0.719 + or -0.009 for the {'max_depth': None, 'n_estimators': 10}\n",
      "0.747 + or -0.007 for the {'max_depth': None, 'n_estimators': 50}\n",
      "0.75 + or -0.003 for the {'max_depth': None, 'n_estimators': 100}\n",
      "0.752 + or -0.007 for the {'max_depth': None, 'n_estimators': 250}\n"
     ]
    }
   ],
   "source": [
    "display(cv)"
   ]
  },
  {
   "cell_type": "code",
   "execution_count": 227,
   "id": "cooperative-headquarters",
   "metadata": {},
   "outputs": [
    {
     "name": "stdout",
     "output_type": "stream",
     "text": [
      "[[346  59]\n",
      " [498 101]]\n",
      "              precision    recall  f1-score   support\n",
      "\n",
      "           0       0.41      0.85      0.55       405\n",
      "           1       0.63      0.17      0.27       599\n",
      "\n",
      "    accuracy                           0.45      1004\n",
      "   macro avg       0.52      0.51      0.41      1004\n",
      "weighted avg       0.54      0.45      0.38      1004\n",
      "\n"
     ]
    }
   ],
   "source": [
    "rf = RandomForestClassifier(n_estimators = 100, max_depth = 32) # n_estimators = 5\n",
    "rf.fit(X_train, y_train)\n",
    "rf_pred = rf.predict(X_test)\n",
    "print(confusion_matrix(y_test, rf_pred))\n",
    "print(classification_report(y_test, rf_pred))"
   ]
  },
  {
   "cell_type": "code",
   "execution_count": 228,
   "id": "double-madagascar",
   "metadata": {},
   "outputs": [
    {
     "data": {
      "image/png": "[encoded data removed]",
      "text/plain": [
       "<Figure size 432x288 with 1 Axes>"
      ]
     },
     "metadata": {
      "needs_background": "light"
     },
     "output_type": "display_data"
    }
   ],
   "source": [
    "fpr, tpr, _ = metrics.roc_curve(y_test,  rf_pred)\n",
    "auc = metrics.roc_auc_score(y_test, rf_pred)\n",
    "plt.plot(fpr,tpr,label=\"data 1, auc=\"+str(auc))\n",
    "plt.legend(loc=4)\n",
    "plt.show()"
   ]
  },
  {
   "cell_type": "markdown",
   "id": "unlike-papua",
   "metadata": {},
   "source": [
    "#### F1 & Precision Score"
   ]
  },
  {
   "cell_type": "code",
   "execution_count": 251,
   "id": "silver-copper",
   "metadata": {},
   "outputs": [
    {
     "name": "stdout",
     "output_type": "stream",
     "text": [
      "F1: 0.26613965744400525\n",
      "Precision: 0.63125\n"
     ]
    }
   ],
   "source": [
    "print(\"F1:\", metrics.f1_score(y_test,rf_pred, labels=np.unique(rf_pred)))\n",
    "\n",
    "print(\"Precision:\", metrics.precision_score(y_test, rf_pred, labels=np.unique(rf_pred)))"
   ]
  },
  {
   "cell_type": "markdown",
   "id": "sharing-diameter",
   "metadata": {},
   "source": [
    "### Random Forest with Bagging Classifier"
   ]
  },
  {
   "cell_type": "code",
   "execution_count": 87,
   "id": "chronic-prize",
   "metadata": {},
   "outputs": [],
   "source": [
    "from sklearn.ensemble import BaggingClassifier\n",
    "from sklearn.pipeline import make_pipeline\n",
    "from sklearn.preprocessing import StandardScaler"
   ]
  },
  {
   "cell_type": "code",
   "execution_count": 230,
   "id": "devoted-edinburgh",
   "metadata": {},
   "outputs": [
    {
     "data": {
      "text/plain": [
       "BaggingClassifier(base_estimator=Pipeline(steps=[('standardscaler',\n",
       "                                                  StandardScaler()),\n",
       "                                                 ('randomforestclassifier',\n",
       "                                                  RandomForestClassifier())]),\n",
       "                  max_features=20, max_samples=100, n_estimators=100, n_jobs=5,\n",
       "                  random_state=1)"
      ]
     },
     "execution_count": 230,
     "metadata": {},
     "output_type": "execute_result"
    }
   ],
   "source": [
    "# Pipeline Estimator\n",
    "pipeline = make_pipeline(StandardScaler(),\n",
    "                        RandomForestClassifier())\n",
    "\n",
    "# Instantiate the bagging classifier\n",
    "#\n",
    "bgclassifier = BaggingClassifier(base_estimator=pipeline, n_estimators=100,\n",
    "                                 max_features=10,\n",
    "                                 max_samples=100,\n",
    "                                 random_state=1, n_jobs=5)\n",
    "#\n",
    "# fit the model \n",
    "bgclassifier.fit(X_train, y_train)"
   ]
  },
  {
   "cell_type": "code",
   "execution_count": 231,
   "id": "insured-entrance",
   "metadata": {},
   "outputs": [],
   "source": [
    "rf_bg_pred = bgclassifier.predict(X_test)"
   ]
  },
  {
   "cell_type": "code",
   "execution_count": 232,
   "id": "ranking-slide",
   "metadata": {},
   "outputs": [
    {
     "name": "stdout",
     "output_type": "stream",
     "text": [
      "Model test Score: 0.630,  Model training Score: 0.753\n"
     ]
    }
   ],
   "source": [
    "# Model scores on test and training data\n",
    "#\n",
    "print('Model test Score: %.3f, ' %bgclassifier.score(X_test, y_test),\n",
    "      'Model training Score: %.3f' %bgclassifier.score(X_train, y_train))"
   ]
  },
  {
   "cell_type": "code",
   "execution_count": 233,
   "id": "antique-courage",
   "metadata": {},
   "outputs": [
    {
     "data": {
      "text/plain": [
       "array([[ 65, 340],\n",
       "       [ 31, 568]])"
      ]
     },
     "execution_count": 233,
     "metadata": {},
     "output_type": "execute_result"
    }
   ],
   "source": [
    "confusion_matrix(y_test, rf_bg_pred )"
   ]
  },
  {
   "cell_type": "code",
   "execution_count": 234,
   "id": "understanding-copyright",
   "metadata": {},
   "outputs": [
    {
     "name": "stdout",
     "output_type": "stream",
     "text": [
      "              precision    recall  f1-score   support\n",
      "\n",
      "           0       0.68      0.16      0.26       405\n",
      "           1       0.63      0.95      0.75       599\n",
      "\n",
      "    accuracy                           0.63      1004\n",
      "   macro avg       0.65      0.55      0.51      1004\n",
      "weighted avg       0.65      0.63      0.55      1004\n",
      "\n"
     ]
    }
   ],
   "source": [
    "print(classification_report(y_test, rf_bg_pred))"
   ]
  },
  {
   "cell_type": "markdown",
   "id": "technological-dakota",
   "metadata": {},
   "source": [
    "#### Roc_Auc"
   ]
  },
  {
   "cell_type": "code",
   "execution_count": 235,
   "id": "homeless-french",
   "metadata": {},
   "outputs": [
    {
     "data": {
      "image/png": "[encoded data removed]",
      "text/plain": [
       "<Figure size 432x288 with 1 Axes>"
      ]
     },
     "metadata": {
      "needs_background": "light"
     },
     "output_type": "display_data"
    }
   ],
   "source": [
    "fpr, tpr, _ = metrics.roc_curve(y_test, rf_bg_pred)\n",
    "auc = metrics.roc_auc_score(y_test, rf_bg_pred)\n",
    "plt.plot(fpr,tpr,label=\"data 1, auc=\"+str(auc))\n",
    "plt.legend(loc=4)\n",
    "plt.show()"
   ]
  },
  {
   "cell_type": "markdown",
   "id": "iraqi-grill",
   "metadata": {},
   "source": [
    "#### F1 & Precision Score"
   ]
  },
  {
   "cell_type": "code",
   "execution_count": 139,
   "id": "compressed-finder",
   "metadata": {},
   "outputs": [
    {
     "data": {
      "text/plain": [
       "0.7618429591174561"
      ]
     },
     "execution_count": 139,
     "metadata": {},
     "output_type": "execute_result"
    }
   ],
   "source": [
    "metrics.f1_score(y_test,rf_bg_pred, labels=np.unique(rf_bg_pred))"
   ]
  },
  {
   "cell_type": "code",
   "execution_count": 140,
   "id": "coated-landscape",
   "metadata": {},
   "outputs": [
    {
     "data": {
      "text/plain": [
       "0.6231422505307855"
      ]
     },
     "execution_count": 140,
     "metadata": {},
     "output_type": "execute_result"
    }
   ],
   "source": [
    "metrics.precision_score(y_test,rf_bg_pred, labels=np.unique(rf_bg_pred))"
   ]
  },
  {
   "cell_type": "markdown",
   "id": "abroad-centre",
   "metadata": {},
   "source": [
    "### Building Models with SMOTE Sampling"
   ]
  },
  {
   "cell_type": "code",
   "execution_count": 37,
   "id": "increased-charge",
   "metadata": {},
   "outputs": [],
   "source": [
    "from imblearn.over_sampling import SMOTE\n",
    "sm = SMOTE(random_state = 33)"
   ]
  },
  {
   "cell_type": "code",
   "execution_count": 38,
   "id": "growing-antenna",
   "metadata": {},
   "outputs": [],
   "source": [
    "X_train_new, y_train_new = sm.fit_resample(X_train, y_train.ravel())"
   ]
  },
  {
   "cell_type": "code",
   "execution_count": 39,
   "id": "furnished-induction",
   "metadata": {},
   "outputs": [
    {
     "data": {
      "text/plain": [
       "<AxesSubplot:>"
      ]
     },
     "execution_count": 39,
     "metadata": {},
     "output_type": "execute_result"
    },
    {
     "data": {
      "image/png": "[encoded data removed]",
      "text/plain": [
       "<Figure size 432x288 with 1 Axes>"
      ]
     },
     "metadata": {
      "needs_background": "light"
     },
     "output_type": "display_data"
    }
   ],
   "source": [
    "# observe that data has been balanced\n",
    "pd.Series(y_train_new).value_counts().plot.bar()"
   ]
  },
  {
   "cell_type": "markdown",
   "id": "major-survival",
   "metadata": {},
   "source": [
    "### Decision Tree"
   ]
  },
  {
   "cell_type": "code",
   "execution_count": 261,
   "id": "efficient-image",
   "metadata": {},
   "outputs": [],
   "source": [
    "dtree1 = DecisionTreeClassifier()\n",
    "dtree1.fit(X_train_new, y_train_new)\n",
    "predtion = dtree1.predict(X_test)"
   ]
  },
  {
   "cell_type": "code",
   "execution_count": 262,
   "id": "endless-breathing",
   "metadata": {},
   "outputs": [
    {
     "name": "stdout",
     "output_type": "stream",
     "text": [
      "              precision    recall  f1-score   support\n",
      "\n",
      "           0       0.44      0.60      0.51       405\n",
      "           1       0.64      0.49      0.56       599\n",
      "\n",
      "    accuracy                           0.53      1004\n",
      "   macro avg       0.54      0.55      0.53      1004\n",
      "weighted avg       0.56      0.53      0.54      1004\n",
      "\n"
     ]
    }
   ],
   "source": [
    "confusion_matrix(y_test, predtion)\n",
    "print(classification_report(y_test, predtion))"
   ]
  },
  {
   "cell_type": "code",
   "execution_count": 263,
   "id": "complete-looking",
   "metadata": {},
   "outputs": [
    {
     "data": {
      "text/plain": [
       "array([[243, 162],\n",
       "       [305, 294]])"
      ]
     },
     "execution_count": 263,
     "metadata": {},
     "output_type": "execute_result"
    }
   ],
   "source": [
    "confusion_matrix(y_test, predtion)"
   ]
  },
  {
   "cell_type": "code",
   "execution_count": 264,
   "id": "legal-specific",
   "metadata": {},
   "outputs": [
    {
     "name": "stdout",
     "output_type": "stream",
     "text": [
      "F1: 0.7478152309612983\n",
      "Precision: 0.5972083748753739\n"
     ]
    }
   ],
   "source": [
    "print(\"F1:\", metrics.f1_score(y_test,pred, labels=np.unique(predtion)))\n",
    "\n",
    "print(\"Precision:\", metrics.precision_score(y_test,pred, labels=np.unique(predtion)))"
   ]
  },
  {
   "cell_type": "markdown",
   "id": "disabled-front",
   "metadata": {},
   "source": [
    "### Logistic Regression"
   ]
  },
  {
   "cell_type": "code",
   "execution_count": 253,
   "id": "returning-links",
   "metadata": {},
   "outputs": [],
   "source": [
    "from sklearn.linear_model import LogisticRegression"
   ]
  },
  {
   "cell_type": "code",
   "execution_count": 254,
   "id": "unlike-couple",
   "metadata": {},
   "outputs": [
    {
     "data": {
      "text/plain": [
       "LogisticRegression()"
      ]
     },
     "execution_count": 254,
     "metadata": {},
     "output_type": "execute_result"
    }
   ],
   "source": [
    "logmodel = LogisticRegression()\n",
    "logmodel.fit(X_train, y_train)"
   ]
  },
  {
   "cell_type": "code",
   "execution_count": 255,
   "id": "mechanical-recognition",
   "metadata": {},
   "outputs": [],
   "source": [
    "predictions = logmodel.predict(X_test)"
   ]
  },
  {
   "cell_type": "code",
   "execution_count": 256,
   "id": "stunning-laundry",
   "metadata": {},
   "outputs": [
    {
     "name": "stdout",
     "output_type": "stream",
     "text": [
      "              precision    recall  f1-score   support\n",
      "\n",
      "           0       1.00      0.00      0.00       405\n",
      "           1       0.60      1.00      0.75       599\n",
      "\n",
      "    accuracy                           0.60      1004\n",
      "   macro avg       0.80      0.50      0.38      1004\n",
      "weighted avg       0.76      0.60      0.45      1004\n",
      "\n"
     ]
    }
   ],
   "source": [
    "print(classification_report(y_test, predictions))"
   ]
  },
  {
   "cell_type": "code",
   "execution_count": 257,
   "id": "thousand-fashion",
   "metadata": {},
   "outputs": [
    {
     "data": {
      "text/plain": [
       "array([[  1, 404],\n",
       "       [  0, 599]])"
      ]
     },
     "execution_count": 257,
     "metadata": {},
     "output_type": "execute_result"
    }
   ],
   "source": [
    "confusion_matrix(y_test, predictions)"
   ]
  },
  {
   "cell_type": "code",
   "execution_count": 258,
   "id": "compressed-contributor",
   "metadata": {},
   "outputs": [
    {
     "data": {
      "image/png": "[encoded data removed]",
      "text/plain": [
       "<Figure size 432x288 with 1 Axes>"
      ]
     },
     "metadata": {
      "needs_background": "light"
     },
     "output_type": "display_data"
    }
   ],
   "source": [
    "\n",
    "fpr, tpr, _ = metrics.roc_curve(y_test,  predictions)\n",
    "auc = metrics.roc_auc_score(y_test, predictions)\n",
    "plt.plot(fpr,tpr,label=\"data 1, auc=\"+str(auc))\n",
    "plt.legend(loc=4)\n",
    "plt.show()"
   ]
  },
  {
   "cell_type": "markdown",
   "id": "suspended-chair",
   "metadata": {},
   "source": [
    "# PCA"
   ]
  },
  {
   "cell_type": "code",
   "execution_count": 403,
   "id": "annual-handle",
   "metadata": {},
   "outputs": [],
   "source": [
    "from sklearn.preprocessing import StandardScaler"
   ]
  },
  {
   "cell_type": "code",
   "execution_count": 404,
   "id": "double-cradle",
   "metadata": {},
   "outputs": [],
   "source": [
    "scaler = StandardScaler()"
   ]
  },
  {
   "cell_type": "code",
   "execution_count": 405,
   "id": "immune-virus",
   "metadata": {},
   "outputs": [
    {
     "data": {
      "text/plain": [
       "StandardScaler()"
      ]
     },
     "execution_count": 405,
     "metadata": {},
     "output_type": "execute_result"
    }
   ],
   "source": [
    "scaler.fit(df)"
   ]
  },
  {
   "cell_type": "code",
   "execution_count": 406,
   "id": "postal-closing",
   "metadata": {},
   "outputs": [],
   "source": [
    "scaled_data = scaler.transform(df)"
   ]
  },
  {
   "cell_type": "code",
   "execution_count": 407,
   "id": "unknown-belize",
   "metadata": {},
   "outputs": [],
   "source": [
    "# PCA\n",
    "from sklearn.decomposition import PCA"
   ]
  },
  {
   "cell_type": "code",
   "execution_count": 408,
   "id": "colored-crack",
   "metadata": {},
   "outputs": [],
   "source": [
    "pca = PCA(n_components=2)"
   ]
  },
  {
   "cell_type": "code",
   "execution_count": 409,
   "id": "based-synthesis",
   "metadata": {},
   "outputs": [
    {
     "data": {
      "text/plain": [
       "PCA(n_components=2)"
      ]
     },
     "execution_count": 409,
     "metadata": {},
     "output_type": "execute_result"
    }
   ],
   "source": [
    "pca.fit(scaled_data)"
   ]
  },
  {
   "cell_type": "code",
   "execution_count": 410,
   "id": "wooden-cable",
   "metadata": {},
   "outputs": [],
   "source": [
    "x_pca = pca.transform(scaled_data)"
   ]
  },
  {
   "cell_type": "code",
   "execution_count": 411,
   "id": "promotional-signal",
   "metadata": {},
   "outputs": [
    {
     "data": {
      "text/plain": [
       "(5016, 24)"
      ]
     },
     "execution_count": 411,
     "metadata": {},
     "output_type": "execute_result"
    }
   ],
   "source": [
    "scaled_data.shape"
   ]
  },
  {
   "cell_type": "code",
   "execution_count": 412,
   "id": "informed-dover",
   "metadata": {},
   "outputs": [
    {
     "data": {
      "text/plain": [
       "(5016, 2)"
      ]
     },
     "execution_count": 412,
     "metadata": {},
     "output_type": "execute_result"
    }
   ],
   "source": [
    "x_pca.shape"
   ]
  },
  {
   "cell_type": "code",
   "execution_count": 413,
   "id": "experienced-oregon",
   "metadata": {},
   "outputs": [
    {
     "data": {
      "text/plain": [
       "Text(0, 0.5, 'Second Principle Component')"
      ]
     },
     "execution_count": 413,
     "metadata": {},
     "output_type": "execute_result"
    },
    {
     "data": {
      "image/png": "[encoded data removed]",
      "text/plain": [
       "<Figure size 576x432 with 1 Axes>"
      ]
     },
     "metadata": {
      "needs_background": "light"
     },
     "output_type": "display_data"
    }
   ],
   "source": [
    "plt.figure(figsize=(8, 6))\n",
    "plt.scatter(x_pca[:, 0], x_pca[:, 1], c=df['Circulatory System(I)'], cmap='plasma')\n",
    "plt.xlabel('First Principle Component')\n",
    "plt.ylabel('Second Principle Component')"
   ]
  },
  {
   "cell_type": "code",
   "execution_count": 414,
   "id": "digital-brain",
   "metadata": {},
   "outputs": [
    {
     "data": {
      "text/plain": [
       "array([[-0.50145307,  0.06803034, -0.50150076, -0.14423189, -0.0728999 ,\n",
       "        -0.1370717 , -0.26592126,  0.29098992, -0.02266174,  0.01629588,\n",
       "        -0.35276492, -0.10751361, -0.10161765, -0.0905095 , -0.09280985,\n",
       "        -0.16500818,  0.18328411,  0.12349726,  0.14310967, -0.11717119,\n",
       "         0.02107762, -0.08847872,  0.02929406,  0.09376936],\n",
       "       [-0.18821231,  0.03384422, -0.18864693,  0.33328098,  0.09569884,\n",
       "         0.17536374,  0.04398333, -0.1074456 , -0.08837645,  0.06556059,\n",
       "        -0.03336689,  0.30494795,  0.15277886, -0.06550691, -0.414086  ,\n",
       "         0.18127481, -0.05543657,  0.1820243 ,  0.21123505,  0.40192299,\n",
       "        -0.27240509,  0.17381148, -0.19501708, -0.20096392]])"
      ]
     },
     "execution_count": 414,
     "metadata": {},
     "output_type": "execute_result"
    }
   ],
   "source": [
    "pca.components_"
   ]
  },
  {
   "cell_type": "code",
   "execution_count": 415,
   "id": "powerful-wisconsin",
   "metadata": {},
   "outputs": [],
   "source": [
    "df_comp = pd.DataFrame(pca.components_, columns = df.columns)"
   ]
  },
  {
   "cell_type": "code",
   "execution_count": 416,
   "id": "prompt-subdivision",
   "metadata": {},
   "outputs": [
    {
     "data": {
      "text/plain": [
       "<AxesSubplot:>"
      ]
     },
     "execution_count": 416,
     "metadata": {},
     "output_type": "execute_result"
    },
    {
     "data": {
      "image/png": "[encoded data removed]",
      "text/plain": [
       "<Figure size 864x432 with 2 Axes>"
      ]
     },
     "metadata": {
      "needs_background": "light"
     },
     "output_type": "display_data"
    }
   ],
   "source": [
    "plt.figure(figsize=(12, 6))\n",
    "sns.heatmap(df_comp, cmap = 'plasma')"
   ]
  },
  {
   "cell_type": "code",
   "execution_count": 390,
   "id": "tamil-lending",
   "metadata": {},
   "outputs": [],
   "source": [
    "scaler = StandardScaler()"
   ]
  },
  {
   "cell_type": "code",
   "execution_count": 391,
   "id": "responsible-repeat",
   "metadata": {},
   "outputs": [
    {
     "data": {
      "text/plain": [
       "StandardScaler()"
      ]
     },
     "execution_count": 391,
     "metadata": {},
     "output_type": "execute_result"
    }
   ],
   "source": [
    "scaler.fit(X_train)"
   ]
  },
  {
   "cell_type": "code",
   "execution_count": 392,
   "id": "equal-subscriber",
   "metadata": {},
   "outputs": [],
   "source": [
    "X_train = scaler.transform(X_train)\n",
    "X_test = scaler.transform(X_test)"
   ]
  },
  {
   "cell_type": "code",
   "execution_count": 394,
   "id": "annual-photography",
   "metadata": {},
   "outputs": [],
   "source": [
    "pca = PCA(n_components=4)"
   ]
  },
  {
   "cell_type": "code",
   "execution_count": 395,
   "id": "sapphire-prague",
   "metadata": {},
   "outputs": [
    {
     "data": {
      "text/plain": [
       "PCA(n_components=4)"
      ]
     },
     "execution_count": 395,
     "metadata": {},
     "output_type": "execute_result"
    }
   ],
   "source": [
    "pca.fit(X_train)"
   ]
  },
  {
   "cell_type": "code",
   "execution_count": 396,
   "id": "bulgarian-serum",
   "metadata": {},
   "outputs": [],
   "source": [
    "X_train = pca.transform(X_train)\n",
    "X_test = pca.transform(X_test)"
   ]
  },
  {
   "cell_type": "markdown",
   "id": "contrary-supplement",
   "metadata": {},
   "source": [
    "### Logistic Regression with PCA"
   ]
  },
  {
   "cell_type": "code",
   "execution_count": 397,
   "id": "compact-rendering",
   "metadata": {},
   "outputs": [],
   "source": [
    "\n",
    "log = LogisticRegression()"
   ]
  },
  {
   "cell_type": "code",
   "execution_count": 398,
   "id": "congressional-oregon",
   "metadata": {},
   "outputs": [
    {
     "data": {
      "text/plain": [
       "LogisticRegression()"
      ]
     },
     "execution_count": 398,
     "metadata": {},
     "output_type": "execute_result"
    }
   ],
   "source": [
    "log.fit(X_train, y_train)"
   ]
  },
  {
   "cell_type": "code",
   "execution_count": 399,
   "id": "western-mustang",
   "metadata": {},
   "outputs": [],
   "source": [
    "pred = log.predict(X_test)"
   ]
  },
  {
   "cell_type": "code",
   "execution_count": 400,
   "id": "expressed-title",
   "metadata": {},
   "outputs": [
    {
     "data": {
      "text/plain": [
       "array([[  7, 398],\n",
       "       [  1, 598]])"
      ]
     },
     "execution_count": 400,
     "metadata": {},
     "output_type": "execute_result"
    }
   ],
   "source": [
    "confusion_matrix(y_test, pred)"
   ]
  },
  {
   "cell_type": "code",
   "execution_count": 401,
   "id": "pediatric-procurement",
   "metadata": {},
   "outputs": [
    {
     "name": "stdout",
     "output_type": "stream",
     "text": [
      "              precision    recall  f1-score   support\n",
      "\n",
      "           0       0.88      0.02      0.03       405\n",
      "           1       0.60      1.00      0.75       599\n",
      "\n",
      "    accuracy                           0.60      1004\n",
      "   macro avg       0.74      0.51      0.39      1004\n",
      "weighted avg       0.71      0.60      0.46      1004\n",
      "\n"
     ]
    }
   ],
   "source": [
    "print(classification_report(y_test, pred))"
   ]
  },
  {
   "cell_type": "markdown",
   "id": "induced-talent",
   "metadata": {},
   "source": [
    "#### F1 & Precision Score"
   ]
  },
  {
   "cell_type": "code",
   "execution_count": 288,
   "id": "cognitive-plaza",
   "metadata": {},
   "outputs": [
    {
     "name": "stdout",
     "output_type": "stream",
     "text": [
      "F1: 0.7478152309612983\n",
      "Precision: 0.5972083748753739\n"
     ]
    }
   ],
   "source": [
    "print(\"F1:\", metrics.f1_score(y_test,pred, labels=np.unique(pred)))\n",
    "\n",
    "print(\"Precision:\", metrics.precision_score(y_test,pred, labels=np.unique(pred)))"
   ]
  },
  {
   "cell_type": "markdown",
   "id": "polished-hierarchy",
   "metadata": {},
   "source": [
    "#### ROC_AUC Score"
   ]
  },
  {
   "cell_type": "code",
   "execution_count": 289,
   "id": "composite-ratio",
   "metadata": {},
   "outputs": [
    {
     "data": {
      "image/png": "[encoded data removed]",
      "text/plain": [
       "<Figure size 432x288 with 1 Axes>"
      ]
     },
     "metadata": {
      "needs_background": "light"
     },
     "output_type": "display_data"
    }
   ],
   "source": [
    "\n",
    "fpr, tpr, _ = metrics.roc_curve(y_test,  pred)\n",
    "auc = metrics.roc_auc_score(y_test, pred)\n",
    "plt.plot(fpr,tpr,label=\"data 1, auc=\"+str(auc))\n",
    "plt.legend(loc=4)\n",
    "plt.show()"
   ]
  },
  {
   "cell_type": "markdown",
   "id": "african-authority",
   "metadata": {},
   "source": [
    "### Random forest with PCA"
   ]
  },
  {
   "cell_type": "code",
   "execution_count": 354,
   "id": "important-journey",
   "metadata": {},
   "outputs": [],
   "source": [
    "rf_pca = RandomForestClassifier()\n",
    "rf_pca.fit(X_train, y_train)\n",
    "rf_pca_pred  = rf_pca.predict(X_test)\n"
   ]
  },
  {
   "cell_type": "code",
   "execution_count": 356,
   "id": "adult-aluminum",
   "metadata": {},
   "outputs": [
    {
     "name": "stdout",
     "output_type": "stream",
     "text": [
      "[[359  46]\n",
      " [508  91]]\n",
      "              precision    recall  f1-score   support\n",
      "\n",
      "           0       0.41      0.89      0.56       405\n",
      "           1       0.66      0.15      0.25       599\n",
      "\n",
      "    accuracy                           0.45      1004\n",
      "   macro avg       0.54      0.52      0.41      1004\n",
      "weighted avg       0.56      0.45      0.38      1004\n",
      "\n"
     ]
    }
   ],
   "source": [
    "print(confusion_matrix(y_test, rf_pca_pred))\n",
    "print(classification_report(y_test, rf_pca_pred))"
   ]
  },
  {
   "cell_type": "markdown",
   "id": "blank-disposal",
   "metadata": {},
   "source": [
    "### Decision Tree"
   ]
  },
  {
   "cell_type": "code",
   "execution_count": 363,
   "id": "designing-startup",
   "metadata": {},
   "outputs": [],
   "source": [
    "tree_pca = DecisionTreeClassifier()\n",
    "tree_pca.fit(X_train, y_train)\n",
    "tree_pca_pred = tree_pca.predict(X_test)"
   ]
  },
  {
   "cell_type": "code",
   "execution_count": 364,
   "id": "middle-award",
   "metadata": {},
   "outputs": [
    {
     "name": "stdout",
     "output_type": "stream",
     "text": [
      "[[188 217]\n",
      " [195 404]]\n",
      "              precision    recall  f1-score   support\n",
      "\n",
      "           0       0.49      0.46      0.48       405\n",
      "           1       0.65      0.67      0.66       599\n",
      "\n",
      "    accuracy                           0.59      1004\n",
      "   macro avg       0.57      0.57      0.57      1004\n",
      "weighted avg       0.59      0.59      0.59      1004\n",
      "\n"
     ]
    }
   ],
   "source": [
    "print(confusion_matrix(y_test, tree_pca_pred))\n",
    "print(classification_report(y_test, tree_pca_pred))"
   ]
  },
  {
   "cell_type": "markdown",
   "id": "extensive-marsh",
   "metadata": {},
   "source": [
    "## Plots all the confusion matrix"
   ]
  },
  {
   "cell_type": "markdown",
   "id": "narrative-portsmouth",
   "metadata": {},
   "source": [
    "#### Random Forest"
   ]
  },
  {
   "cell_type": "code",
   "execution_count": 361,
   "id": "satisfactory-diploma",
   "metadata": {},
   "outputs": [
    {
     "data": {
      "text/plain": [
       "Text(0.5, 1.0, 'PCA')"
      ]
     },
     "execution_count": 361,
     "metadata": {},
     "output_type": "execute_result"
    },
    {
     "data": {
      "image/png": "[encoded data removed]",
      "text/plain": [
       "<Figure size 432x288 with 2 Axes>"
      ]
     },
     "metadata": {
      "needs_background": "light"
     },
     "output_type": "display_data"
    },
    {
     "data": {
      "image/png": "[encoded data removed]",
      "text/plain": [
       "<Figure size 432x288 with 2 Axes>"
      ]
     },
     "metadata": {
      "needs_background": "light"
     },
     "output_type": "display_data"
    },
    {
     "data": {
      "image/png": "[encoded data removed]",
      "text/plain": [
       "<Figure size 432x288 with 2 Axes>"
      ]
     },
     "metadata": {
      "needs_background": "light"
     },
     "output_type": "display_data"
    },
    {
     "data": {
      "image/png": "[encoded data removed]",
      "text/plain": [
       "<Figure size 432x288 with 2 Axes>"
      ]
     },
     "metadata": {
      "needs_background": "light"
     },
     "output_type": "display_data"
    }
   ],
   "source": [
    "plt.figsize = (10, 7)\n",
    "plot_confusion_matrix(rfc, X_test, y_test,cmap='binary')\n",
    "plt.title('Default')\n",
    "plot_confusion_matrix(rf, X_test, y_test,cmap='bone_r')\n",
    "plt.title('Bagging')\n",
    "plot_confusion_matrix(cv, X_test, y_test,cmap='gist_stern')\n",
    "plt.title('CV')\n",
    "plot_confusion_matrix(rf_pca, X_test, y_test,cmap='viridis_r')\n",
    "plt.title('PCA')"
   ]
  },
  {
   "cell_type": "markdown",
   "id": "affected-investment",
   "metadata": {},
   "source": [
    "#### Decision Tree"
   ]
  },
  {
   "cell_type": "code",
   "execution_count": 366,
   "id": "selected-belarus",
   "metadata": {},
   "outputs": [
    {
     "data": {
      "text/plain": [
       "Text(0.5, 1.0, 'PCA')"
      ]
     },
     "execution_count": 366,
     "metadata": {},
     "output_type": "execute_result"
    },
    {
     "data": {
      "image/png": "[encoded data removed]",
      "text/plain": [
       "<Figure size 432x288 with 2 Axes>"
      ]
     },
     "metadata": {
      "needs_background": "light"
     },
     "output_type": "display_data"
    },
    {
     "data": {
      "image/png": "[encoded data removed]",
      "text/plain": [
       "<Figure size 432x288 with 2 Axes>"
      ]
     },
     "metadata": {
      "needs_background": "light"
     },
     "output_type": "display_data"
    },
    {
     "data": {
      "image/png": "[encoded data removed]",
      "text/plain": [
       "<Figure size 432x288 with 2 Axes>"
      ]
     },
     "metadata": {
      "needs_background": "light"
     },
     "output_type": "display_data"
    }
   ],
   "source": [
    "plt.figsize = (10, 7)\n",
    "plot_confusion_matrix(dtree, X_test, y_test,cmap='binary')\n",
    "plt.title('Default')\n",
    "plot_confusion_matrix(dtree1, X_test, y_test,cmap='viridis_r')\n",
    "plt.title('SMOTE')\n",
    "plot_confusion_matrix(tree_pca, X_test, y_test,cmap='gist_stern')\n",
    "plt.title('PCA')"
   ]
  },
  {
   "cell_type": "markdown",
   "id": "prerequisite-spread",
   "metadata": {},
   "source": [
    "### Logistic Regression"
   ]
  },
  {
   "cell_type": "code",
   "execution_count": 370,
   "id": "clinical-background",
   "metadata": {},
   "outputs": [
    {
     "data": {
      "text/plain": [
       "<sklearn.metrics._plot.confusion_matrix.ConfusionMatrixDisplay at 0x7f9556935e80>"
      ]
     },
     "execution_count": 370,
     "metadata": {},
     "output_type": "execute_result"
    },
    {
     "data": {
      "image/png": "[encoded data removed]",
      "text/plain": [
       "<Figure size 432x288 with 2 Axes>"
      ]
     },
     "metadata": {
      "needs_background": "light"
     },
     "output_type": "display_data"
    }
   ],
   "source": [
    "plt.figsize = (10, 7)\n",
    "plot_confusion_matrix(log, X_test, y_test,cmap='viridis_r')"
   ]
  },
  {
   "cell_type": "code",
   "execution_count": null,
   "id": "guilty-victory",
   "metadata": {},
   "outputs": [],
   "source": []
  },
  {
   "cell_type": "code",
   "execution_count": null,
   "id": "selective-dependence",
   "metadata": {},
   "outputs": [],
   "source": []
  }
 ],
 "metadata": {
  "kernelspec": {
   "display_name": "Python 3",
   "language": "python",
   "name": "python3"
  },
  "language_info": {
   "codemirror_mode": {
    "name": "ipython",
    "version": 3
   },
   "file_extension": ".py",
   "mimetype": "text/x-python",
   "name": "python",
   "nbconvert_exporter": "python",
   "pygments_lexer": "ipython3",
   "version": "3.8.5"
  }
 },
 "nbformat": 4,
 "nbformat_minor": 5
}
