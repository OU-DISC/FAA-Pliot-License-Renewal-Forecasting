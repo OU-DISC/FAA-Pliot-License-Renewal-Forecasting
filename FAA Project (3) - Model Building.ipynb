{
 "cells": [
  {
   "cell_type": "markdown",
   "id": "portuguese-absence",
   "metadata": {},
   "source": [
    "# FAA Project - Part Three"
   ]
  },
  {
   "cell_type": "markdown",
   "id": "empirical-kruger",
   "metadata": {},
   "source": [
    "## Load in packages"
   ]
  },
  {
   "cell_type": "code",
   "execution_count": 1,
   "id": "straight-ceiling",
   "metadata": {},
   "outputs": [],
   "source": [
    "import pandas as pd\n",
    "import numpy as np\n",
    "import matplotlib.pyplot as plt\n",
    "import seaborn as sns\n",
    "\n",
    "pd.set_option('max_column', None)\n",
    "%matplotlib Inline"
   ]
  },
  {
   "cell_type": "markdown",
   "id": "viral-poetry",
   "metadata": {},
   "source": [
    "## Load in Dataset"
   ]
  },
  {
   "cell_type": "code",
   "execution_count": 2,
   "id": "sound-citation",
   "metadata": {},
   "outputs": [
    {
     "data": {
      "text/html": [
       "<div>\n",
       "<style scoped>\n",
       "    .dataframe tbody tr th:only-of-type {\n",
       "        vertical-align: middle;\n",
       "    }\n",
       "\n",
       "    .dataframe tbody tr th {\n",
       "        vertical-align: top;\n",
       "    }\n",
       "\n",
       "    .dataframe thead th {\n",
       "        text-align: right;\n",
       "    }\n",
       "</style>\n",
       "<table border=\"1\" class=\"dataframe\">\n",
       "  <thead>\n",
       "    <tr style=\"text-align: right;\">\n",
       "      <th></th>\n",
       "      <th>AGE_x</th>\n",
       "      <th>SEX</th>\n",
       "      <th>AGE_y</th>\n",
       "      <th>Infectious And Parastic Disease(A &amp; B)</th>\n",
       "      <th>Neoplasms(C)</th>\n",
       "      <th>Neoplasms Blood-forming Organs(D)</th>\n",
       "      <th>Endocrine Nutritional Metabolic(E)</th>\n",
       "      <th>Mental Behavioral Disorders(F)</th>\n",
       "      <th>Nervous System(G)</th>\n",
       "      <th>Eye Adnexa, Ear and Mastoid(H)</th>\n",
       "      <th>Circulatory System(I)</th>\n",
       "      <th>Respiratory System(J)</th>\n",
       "      <th>Digestive System(K)</th>\n",
       "      <th>Skin and Connective Tissue(L)</th>\n",
       "      <th>musculoskeletal and Connective Tissue(M)</th>\n",
       "      <th>Genitourinary System(N)</th>\n",
       "      <th>Pregancy, Childbirth(O)</th>\n",
       "      <th>Conditions Originating in the Perinatal Period(P)</th>\n",
       "      <th>Congenital Malformations, Deformations(Q)</th>\n",
       "      <th>Symptoms, Signs, Lab Findings(R)</th>\n",
       "      <th>Injury, Poisoning(S, T)</th>\n",
       "      <th>Emergency code additions(U)</th>\n",
       "      <th>External Causes of Morbidity(V, W, X, Y)</th>\n",
       "      <th>Factors Influencing Health Status (Z)</th>\n",
       "    </tr>\n",
       "  </thead>\n",
       "  <tbody>\n",
       "    <tr>\n",
       "      <th>0</th>\n",
       "      <td>54</td>\n",
       "      <td>2</td>\n",
       "      <td>55</td>\n",
       "      <td>0</td>\n",
       "      <td>0</td>\n",
       "      <td>0</td>\n",
       "      <td>3</td>\n",
       "      <td>1</td>\n",
       "      <td>2</td>\n",
       "      <td>0</td>\n",
       "      <td>0</td>\n",
       "      <td>0</td>\n",
       "      <td>5</td>\n",
       "      <td>0</td>\n",
       "      <td>3</td>\n",
       "      <td>0</td>\n",
       "      <td>0</td>\n",
       "      <td>0</td>\n",
       "      <td>0</td>\n",
       "      <td>4</td>\n",
       "      <td>0</td>\n",
       "      <td>0</td>\n",
       "      <td>0</td>\n",
       "      <td>2</td>\n",
       "    </tr>\n",
       "    <tr>\n",
       "      <th>111</th>\n",
       "      <td>50</td>\n",
       "      <td>1</td>\n",
       "      <td>51</td>\n",
       "      <td>6</td>\n",
       "      <td>0</td>\n",
       "      <td>3</td>\n",
       "      <td>5</td>\n",
       "      <td>1</td>\n",
       "      <td>0</td>\n",
       "      <td>0</td>\n",
       "      <td>1</td>\n",
       "      <td>1</td>\n",
       "      <td>6</td>\n",
       "      <td>0</td>\n",
       "      <td>0</td>\n",
       "      <td>0</td>\n",
       "      <td>0</td>\n",
       "      <td>0</td>\n",
       "      <td>0</td>\n",
       "      <td>5</td>\n",
       "      <td>0</td>\n",
       "      <td>0</td>\n",
       "      <td>0</td>\n",
       "      <td>1</td>\n",
       "    </tr>\n",
       "    <tr>\n",
       "      <th>145</th>\n",
       "      <td>54</td>\n",
       "      <td>2</td>\n",
       "      <td>55</td>\n",
       "      <td>0</td>\n",
       "      <td>0</td>\n",
       "      <td>0</td>\n",
       "      <td>2</td>\n",
       "      <td>0</td>\n",
       "      <td>5</td>\n",
       "      <td>0</td>\n",
       "      <td>1</td>\n",
       "      <td>1</td>\n",
       "      <td>0</td>\n",
       "      <td>0</td>\n",
       "      <td>0</td>\n",
       "      <td>0</td>\n",
       "      <td>0</td>\n",
       "      <td>0</td>\n",
       "      <td>0</td>\n",
       "      <td>12</td>\n",
       "      <td>1</td>\n",
       "      <td>0</td>\n",
       "      <td>0</td>\n",
       "      <td>2</td>\n",
       "    </tr>\n",
       "    <tr>\n",
       "      <th>239</th>\n",
       "      <td>62</td>\n",
       "      <td>1</td>\n",
       "      <td>63</td>\n",
       "      <td>2</td>\n",
       "      <td>0</td>\n",
       "      <td>1</td>\n",
       "      <td>5</td>\n",
       "      <td>0</td>\n",
       "      <td>0</td>\n",
       "      <td>0</td>\n",
       "      <td>1</td>\n",
       "      <td>3</td>\n",
       "      <td>0</td>\n",
       "      <td>0</td>\n",
       "      <td>0</td>\n",
       "      <td>5</td>\n",
       "      <td>0</td>\n",
       "      <td>0</td>\n",
       "      <td>0</td>\n",
       "      <td>5</td>\n",
       "      <td>0</td>\n",
       "      <td>1</td>\n",
       "      <td>0</td>\n",
       "      <td>0</td>\n",
       "    </tr>\n",
       "    <tr>\n",
       "      <th>262</th>\n",
       "      <td>13</td>\n",
       "      <td>2</td>\n",
       "      <td>14</td>\n",
       "      <td>0</td>\n",
       "      <td>0</td>\n",
       "      <td>0</td>\n",
       "      <td>7</td>\n",
       "      <td>0</td>\n",
       "      <td>0</td>\n",
       "      <td>0</td>\n",
       "      <td>0</td>\n",
       "      <td>1</td>\n",
       "      <td>1</td>\n",
       "      <td>0</td>\n",
       "      <td>0</td>\n",
       "      <td>0</td>\n",
       "      <td>0</td>\n",
       "      <td>0</td>\n",
       "      <td>0</td>\n",
       "      <td>6</td>\n",
       "      <td>0</td>\n",
       "      <td>0</td>\n",
       "      <td>0</td>\n",
       "      <td>2</td>\n",
       "    </tr>\n",
       "  </tbody>\n",
       "</table>\n",
       "</div>"
      ],
      "text/plain": [
       "     AGE_x  SEX  AGE_y  Infectious And Parastic Disease(A & B)  Neoplasms(C)  \\\n",
       "0       54    2     55                                       0             0   \n",
       "111     50    1     51                                       6             0   \n",
       "145     54    2     55                                       0             0   \n",
       "239     62    1     63                                       2             0   \n",
       "262     13    2     14                                       0             0   \n",
       "\n",
       "     Neoplasms Blood-forming Organs(D)  Endocrine Nutritional Metabolic(E)  \\\n",
       "0                                    0                                   3   \n",
       "111                                  3                                   5   \n",
       "145                                  0                                   2   \n",
       "239                                  1                                   5   \n",
       "262                                  0                                   7   \n",
       "\n",
       "     Mental Behavioral Disorders(F)  Nervous System(G)  \\\n",
       "0                                 1                  2   \n",
       "111                               1                  0   \n",
       "145                               0                  5   \n",
       "239                               0                  0   \n",
       "262                               0                  0   \n",
       "\n",
       "     Eye Adnexa, Ear and Mastoid(H)  Circulatory System(I)  \\\n",
       "0                                 0                      0   \n",
       "111                               0                      1   \n",
       "145                               0                      1   \n",
       "239                               0                      1   \n",
       "262                               0                      0   \n",
       "\n",
       "     Respiratory System(J)  Digestive System(K)  \\\n",
       "0                        0                    5   \n",
       "111                      1                    6   \n",
       "145                      1                    0   \n",
       "239                      3                    0   \n",
       "262                      1                    1   \n",
       "\n",
       "     Skin and Connective Tissue(L)  musculoskeletal and Connective Tissue(M)  \\\n",
       "0                                0                                         3   \n",
       "111                              0                                         0   \n",
       "145                              0                                         0   \n",
       "239                              0                                         0   \n",
       "262                              0                                         0   \n",
       "\n",
       "     Genitourinary System(N)  Pregancy, Childbirth(O)  \\\n",
       "0                          0                        0   \n",
       "111                        0                        0   \n",
       "145                        0                        0   \n",
       "239                        5                        0   \n",
       "262                        0                        0   \n",
       "\n",
       "     Conditions Originating in the Perinatal Period(P)  \\\n",
       "0                                                    0   \n",
       "111                                                  0   \n",
       "145                                                  0   \n",
       "239                                                  0   \n",
       "262                                                  0   \n",
       "\n",
       "     Congenital Malformations, Deformations(Q)  \\\n",
       "0                                            0   \n",
       "111                                          0   \n",
       "145                                          0   \n",
       "239                                          0   \n",
       "262                                          0   \n",
       "\n",
       "     Symptoms, Signs, Lab Findings(R)  Injury, Poisoning(S, T)  \\\n",
       "0                                   4                        0   \n",
       "111                                 5                        0   \n",
       "145                                12                        1   \n",
       "239                                 5                        0   \n",
       "262                                 6                        0   \n",
       "\n",
       "     Emergency code additions(U)  External Causes of Morbidity(V, W, X, Y)  \\\n",
       "0                              0                                         0   \n",
       "111                            0                                         0   \n",
       "145                            0                                         0   \n",
       "239                            1                                         0   \n",
       "262                            0                                         0   \n",
       "\n",
       "     Factors Influencing Health Status (Z)  \n",
       "0                                        2  \n",
       "111                                      1  \n",
       "145                                      2  \n",
       "239                                      0  \n",
       "262                                      2  "
      ]
     },
     "execution_count": 2,
     "metadata": {},
     "output_type": "execute_result"
    }
   ],
   "source": [
    "df = pd.read_csv('faa_cleaned_numerical_data.csv', index_col = 0)\n",
    "df = df.drop(columns = ['I', 'ENROLID', 'NDCNUM', 'YEAR_x', 'YEAR_y'])\n",
    "df.head()"
   ]
  },
  {
   "cell_type": "code",
   "execution_count": 3,
   "id": "third-characteristic",
   "metadata": {},
   "outputs": [
    {
     "data": {
      "text/plain": [
       "(5016, 24)"
      ]
     },
     "execution_count": 3,
     "metadata": {},
     "output_type": "execute_result"
    }
   ],
   "source": [
    "df.shape"
   ]
  },
  {
   "cell_type": "markdown",
   "id": "modified-grocery",
   "metadata": {},
   "source": [
    "## Set Input Variables and Target Variable"
   ]
  },
  {
   "cell_type": "code",
   "execution_count": 73,
   "id": "infrared-marble",
   "metadata": {},
   "outputs": [],
   "source": [
    "X = df.drop(columns = ['Circulatory System(I)'], axis = 1).values\n",
    "y = df['Circulatory System(I)']"
   ]
  },
  {
   "cell_type": "markdown",
   "id": "figured-fighter",
   "metadata": {},
   "source": [
    "## Import Sklearn Packages"
   ]
  },
  {
   "cell_type": "code",
   "execution_count": 74,
   "id": "under-president",
   "metadata": {},
   "outputs": [],
   "source": [
    "from sklearn.model_selection import train_test_split\n",
    "from sklearn.preprocessing import MinMaxScaler"
   ]
  },
  {
   "cell_type": "markdown",
   "id": "honey-overview",
   "metadata": {},
   "source": [
    "## Split Training and Testing Data"
   ]
  },
  {
   "cell_type": "code",
   "execution_count": 75,
   "id": "tropical-haven",
   "metadata": {},
   "outputs": [],
   "source": [
    "X_train, X_test, y_train, y_test = train_test_split(X, y, test_size = 0.2)"
   ]
  },
  {
   "cell_type": "code",
   "execution_count": 76,
   "id": "recreational-parent",
   "metadata": {},
   "outputs": [
    {
     "data": {
      "text/plain": [
       "array([[46,  1, 47, ...,  0,  0,  1],\n",
       "       [61,  1, 62, ...,  0,  0,  1],\n",
       "       [51,  2, 52, ...,  0,  0,  5],\n",
       "       ...,\n",
       "       [19,  1, 20, ...,  0,  0,  6],\n",
       "       [23,  1, 24, ...,  0,  0,  5],\n",
       "       [49,  1, 50, ...,  0,  0,  4]])"
      ]
     },
     "execution_count": 76,
     "metadata": {},
     "output_type": "execute_result"
    }
   ],
   "source": [
    "X_train"
   ]
  },
  {
   "cell_type": "code",
   "execution_count": null,
   "id": "contemporary-channel",
   "metadata": {},
   "outputs": [],
   "source": []
  },
  {
   "cell_type": "markdown",
   "id": "comfortable-aerospace",
   "metadata": {},
   "source": [
    "## Preprocessing, Scaling the data to be normalized"
   ]
  },
  {
   "cell_type": "code",
   "execution_count": 77,
   "id": "brutal-consolidation",
   "metadata": {},
   "outputs": [],
   "source": [
    "scaler = MinMaxScaler()\n",
    "X_train = scaler.fit_transform(X_train)\n",
    "X_train = scaler.fit_transform(X_train)"
   ]
  },
  {
   "cell_type": "markdown",
   "id": "surgical-nurse",
   "metadata": {},
   "source": [
    "## Neural Network Model"
   ]
  },
  {
   "cell_type": "code",
   "execution_count": 78,
   "id": "ambient-saudi",
   "metadata": {},
   "outputs": [],
   "source": [
    "from tensorflow.keras.models import Sequential\n",
    "from tensorflow.keras.layers import Dense, Dropout"
   ]
  },
  {
   "cell_type": "markdown",
   "id": "flexible-concrete",
   "metadata": {},
   "source": [
    "### Basic Model with out early stop and dropout"
   ]
  },
  {
   "cell_type": "code",
   "execution_count": 10,
   "id": "expressed-powder",
   "metadata": {},
   "outputs": [],
   "source": [
    "model = Sequential()\n",
    "\n",
    "model.add(Dense(23, activation = 'relu'))\n",
    "model.add(Dense(15, activation = 'relu'))\n",
    "\n",
    "# binary classification\n",
    "model.add(Dense(1, activation = 'sigmoid'))\n",
    "\n",
    "model.compile(loss='binary_crossentropy', optimizer='adam')"
   ]
  },
  {
   "cell_type": "code",
   "execution_count": 11,
   "id": "alleged-parent",
   "metadata": {},
   "outputs": [
    {
     "name": "stdout",
     "output_type": "stream",
     "text": [
      "Epoch 1/300\n",
      "126/126 [==============================] - 2s 3ms/step - loss: 0.6359 - val_loss: 18.1190\n",
      "Epoch 2/300\n",
      "126/126 [==============================] - 0s 814us/step - loss: 0.5805 - val_loss: 25.2980\n",
      "Epoch 3/300\n",
      "126/126 [==============================] - 0s 793us/step - loss: 0.5471 - val_loss: 30.7255\n",
      "Epoch 4/300\n",
      "126/126 [==============================] - 0s 795us/step - loss: 0.5324 - val_loss: 32.2479\n",
      "Epoch 5/300\n",
      "126/126 [==============================] - 0s 789us/step - loss: 0.5271 - val_loss: 34.2869\n",
      "Epoch 6/300\n",
      "126/126 [==============================] - 0s 782us/step - loss: 0.5247 - val_loss: 34.6966\n",
      "Epoch 7/300\n",
      "126/126 [==============================] - 0s 787us/step - loss: 0.5214 - val_loss: 34.4971\n",
      "Epoch 8/300\n",
      "126/126 [==============================] - 0s 786us/step - loss: 0.5201 - val_loss: 34.0839\n",
      "Epoch 9/300\n",
      "126/126 [==============================] - 0s 788us/step - loss: 0.5188 - val_loss: 34.5764\n",
      "Epoch 10/300\n",
      "126/126 [==============================] - 0s 792us/step - loss: 0.5172 - val_loss: 33.6189\n",
      "Epoch 11/300\n",
      "126/126 [==============================] - 0s 794us/step - loss: 0.5149 - val_loss: 32.6299\n",
      "Epoch 12/300\n",
      "126/126 [==============================] - 0s 763us/step - loss: 0.5123 - val_loss: 32.6993\n",
      "Epoch 13/300\n",
      "126/126 [==============================] - 0s 778us/step - loss: 0.5110 - val_loss: 33.4991\n",
      "Epoch 14/300\n",
      "126/126 [==============================] - 0s 769us/step - loss: 0.5108 - val_loss: 31.4559\n",
      "Epoch 15/300\n",
      "126/126 [==============================] - 0s 771us/step - loss: 0.5082 - val_loss: 34.5056\n",
      "Epoch 16/300\n",
      "126/126 [==============================] - 0s 779us/step - loss: 0.5063 - val_loss: 32.0417\n",
      "Epoch 17/300\n",
      "126/126 [==============================] - 0s 785us/step - loss: 0.5071 - val_loss: 34.1983\n",
      "Epoch 18/300\n",
      "126/126 [==============================] - 0s 787us/step - loss: 0.5038 - val_loss: 28.5253\n",
      "Epoch 19/300\n",
      "126/126 [==============================] - 0s 775us/step - loss: 0.5045 - val_loss: 31.1860\n",
      "Epoch 20/300\n",
      "126/126 [==============================] - 0s 781us/step - loss: 0.5003 - val_loss: 31.4603\n",
      "Epoch 21/300\n",
      "126/126 [==============================] - 0s 788us/step - loss: 0.4985 - val_loss: 33.0383\n",
      "Epoch 22/300\n",
      "126/126 [==============================] - 0s 781us/step - loss: 0.4972 - val_loss: 31.2454\n",
      "Epoch 23/300\n",
      "126/126 [==============================] - 0s 798us/step - loss: 0.4956 - val_loss: 31.6608\n",
      "Epoch 24/300\n",
      "126/126 [==============================] - 0s 779us/step - loss: 0.4939 - val_loss: 32.9951\n",
      "Epoch 25/300\n",
      "126/126 [==============================] - 0s 773us/step - loss: 0.4942 - val_loss: 33.0562\n",
      "Epoch 26/300\n",
      "126/126 [==============================] - 0s 795us/step - loss: 0.4924 - val_loss: 30.2477\n",
      "Epoch 27/300\n",
      "126/126 [==============================] - 0s 778us/step - loss: 0.4906 - val_loss: 30.9128\n",
      "Epoch 28/300\n",
      "126/126 [==============================] - 0s 770us/step - loss: 0.4910 - val_loss: 33.0954\n",
      "Epoch 29/300\n",
      "126/126 [==============================] - 0s 782us/step - loss: 0.4901 - val_loss: 29.5455\n",
      "Epoch 30/300\n",
      "126/126 [==============================] - 0s 781us/step - loss: 0.4870 - val_loss: 30.6706\n",
      "Epoch 31/300\n",
      "126/126 [==============================] - 0s 814us/step - loss: 0.4864 - val_loss: 33.2939\n",
      "Epoch 32/300\n",
      "126/126 [==============================] - 0s 783us/step - loss: 0.4857 - val_loss: 31.6490\n",
      "Epoch 33/300\n",
      "126/126 [==============================] - 0s 771us/step - loss: 0.4845 - val_loss: 32.7044\n",
      "Epoch 34/300\n",
      "126/126 [==============================] - 0s 779us/step - loss: 0.4842 - val_loss: 31.7269\n",
      "Epoch 35/300\n",
      "126/126 [==============================] - 0s 778us/step - loss: 0.4858 - val_loss: 31.6272\n",
      "Epoch 36/300\n",
      "126/126 [==============================] - 0s 788us/step - loss: 0.4812 - val_loss: 32.2518\n",
      "Epoch 37/300\n",
      "126/126 [==============================] - 0s 798us/step - loss: 0.4810 - val_loss: 31.0425\n",
      "Epoch 38/300\n",
      "126/126 [==============================] - 0s 775us/step - loss: 0.4789 - val_loss: 31.3648\n",
      "Epoch 39/300\n",
      "126/126 [==============================] - 0s 779us/step - loss: 0.4791 - val_loss: 34.2511\n",
      "Epoch 40/300\n",
      "126/126 [==============================] - 0s 796us/step - loss: 0.4778 - val_loss: 30.9558\n",
      "Epoch 41/300\n",
      "126/126 [==============================] - 0s 795us/step - loss: 0.4780 - val_loss: 31.1469\n",
      "Epoch 42/300\n",
      "126/126 [==============================] - 0s 778us/step - loss: 0.4771 - val_loss: 32.9829\n",
      "Epoch 43/300\n",
      "126/126 [==============================] - 0s 786us/step - loss: 0.4755 - val_loss: 30.8916\n",
      "Epoch 44/300\n",
      "126/126 [==============================] - 0s 797us/step - loss: 0.4754 - val_loss: 32.0986\n",
      "Epoch 45/300\n",
      "126/126 [==============================] - 0s 776us/step - loss: 0.4743 - val_loss: 32.8950\n",
      "Epoch 46/300\n",
      "126/126 [==============================] - 0s 778us/step - loss: 0.4738 - val_loss: 30.8928\n",
      "Epoch 47/300\n",
      "126/126 [==============================] - 0s 764us/step - loss: 0.4722 - val_loss: 32.3004\n",
      "Epoch 48/300\n",
      "126/126 [==============================] - 0s 784us/step - loss: 0.4718 - val_loss: 31.6028\n",
      "Epoch 49/300\n",
      "126/126 [==============================] - 0s 774us/step - loss: 0.4707 - val_loss: 32.7937\n",
      "Epoch 50/300\n",
      "126/126 [==============================] - 0s 783us/step - loss: 0.4722 - val_loss: 30.6312\n",
      "Epoch 51/300\n",
      "126/126 [==============================] - 0s 824us/step - loss: 0.4707 - val_loss: 34.0380\n",
      "Epoch 52/300\n",
      "126/126 [==============================] - 0s 764us/step - loss: 0.4703 - val_loss: 33.4737\n",
      "Epoch 53/300\n",
      "126/126 [==============================] - 0s 793us/step - loss: 0.4706 - val_loss: 33.4297\n",
      "Epoch 54/300\n",
      "126/126 [==============================] - 0s 756us/step - loss: 0.4682 - val_loss: 30.9804\n",
      "Epoch 55/300\n",
      "126/126 [==============================] - 0s 760us/step - loss: 0.4676 - val_loss: 30.3222\n",
      "Epoch 56/300\n",
      "126/126 [==============================] - 0s 779us/step - loss: 0.4681 - val_loss: 32.0586\n",
      "Epoch 57/300\n",
      "126/126 [==============================] - 0s 758us/step - loss: 0.4675 - val_loss: 30.6291\n",
      "Epoch 58/300\n",
      "126/126 [==============================] - 0s 773us/step - loss: 0.4672 - val_loss: 32.5986\n",
      "Epoch 59/300\n",
      "126/126 [==============================] - 0s 759us/step - loss: 0.4663 - val_loss: 34.0012\n",
      "Epoch 60/300\n",
      "126/126 [==============================] - 0s 762us/step - loss: 0.4658 - val_loss: 32.4785\n",
      "Epoch 61/300\n",
      "126/126 [==============================] - 0s 763us/step - loss: 0.4639 - val_loss: 31.6730\n",
      "Epoch 62/300\n",
      "126/126 [==============================] - 0s 775us/step - loss: 0.4645 - val_loss: 30.6525\n",
      "Epoch 63/300\n",
      "126/126 [==============================] - 0s 784us/step - loss: 0.4634 - val_loss: 32.5524\n",
      "Epoch 64/300\n",
      "126/126 [==============================] - 0s 794us/step - loss: 0.4650 - val_loss: 31.5483\n",
      "Epoch 65/300\n",
      "126/126 [==============================] - 0s 788us/step - loss: 0.4648 - val_loss: 31.8444\n",
      "Epoch 66/300\n",
      "126/126 [==============================] - 0s 779us/step - loss: 0.4621 - val_loss: 31.7921\n",
      "Epoch 67/300\n",
      "126/126 [==============================] - 0s 783us/step - loss: 0.4623 - val_loss: 32.4626\n",
      "Epoch 68/300\n",
      "126/126 [==============================] - 0s 770us/step - loss: 0.4630 - val_loss: 34.9934\n",
      "Epoch 69/300\n",
      "126/126 [==============================] - 0s 769us/step - loss: 0.4619 - val_loss: 32.1874\n",
      "Epoch 70/300\n",
      "126/126 [==============================] - 0s 770us/step - loss: 0.4603 - val_loss: 34.0457\n",
      "Epoch 71/300\n",
      "126/126 [==============================] - 0s 773us/step - loss: 0.4611 - val_loss: 33.0903\n",
      "Epoch 72/300\n",
      "126/126 [==============================] - 0s 764us/step - loss: 0.4590 - val_loss: 31.7603\n",
      "Epoch 73/300\n",
      "126/126 [==============================] - 0s 764us/step - loss: 0.4593 - val_loss: 31.1883\n",
      "Epoch 74/300\n",
      "126/126 [==============================] - 0s 763us/step - loss: 0.4589 - val_loss: 30.9126\n",
      "Epoch 75/300\n",
      "126/126 [==============================] - 0s 766us/step - loss: 0.4581 - val_loss: 29.1960\n",
      "Epoch 76/300\n",
      "126/126 [==============================] - 0s 763us/step - loss: 0.4614 - val_loss: 29.3519\n",
      "Epoch 77/300\n",
      "126/126 [==============================] - 0s 757us/step - loss: 0.4553 - val_loss: 27.8090\n",
      "Epoch 78/300\n",
      "126/126 [==============================] - 0s 780us/step - loss: 0.4572 - val_loss: 27.9146\n",
      "Epoch 79/300\n",
      "126/126 [==============================] - 0s 759us/step - loss: 0.4570 - val_loss: 32.8397\n",
      "Epoch 80/300\n",
      "126/126 [==============================] - 0s 759us/step - loss: 0.4567 - val_loss: 28.4340\n",
      "Epoch 81/300\n",
      "126/126 [==============================] - 0s 768us/step - loss: 0.4566 - val_loss: 28.6213\n",
      "Epoch 82/300\n",
      "126/126 [==============================] - 0s 758us/step - loss: 0.4588 - val_loss: 30.1931\n",
      "Epoch 83/300\n",
      "126/126 [==============================] - 0s 766us/step - loss: 0.4553 - val_loss: 28.1185\n",
      "Epoch 84/300\n",
      "126/126 [==============================] - 0s 756us/step - loss: 0.4560 - val_loss: 29.6221\n",
      "Epoch 85/300\n",
      "126/126 [==============================] - 0s 773us/step - loss: 0.4557 - val_loss: 30.0863\n",
      "Epoch 86/300\n",
      "126/126 [==============================] - 0s 763us/step - loss: 0.4546 - val_loss: 28.5249\n",
      "Epoch 87/300\n",
      "126/126 [==============================] - 0s 768us/step - loss: 0.4542 - val_loss: 32.2378\n",
      "Epoch 88/300\n",
      "126/126 [==============================] - 0s 772us/step - loss: 0.4539 - val_loss: 29.4851\n",
      "Epoch 89/300\n",
      "126/126 [==============================] - 0s 782us/step - loss: 0.4556 - val_loss: 27.1567\n",
      "Epoch 90/300\n",
      "126/126 [==============================] - 0s 786us/step - loss: 0.4531 - val_loss: 30.1984\n",
      "Epoch 91/300\n",
      "126/126 [==============================] - 0s 794us/step - loss: 0.4535 - val_loss: 27.2441\n",
      "Epoch 92/300\n",
      "126/126 [==============================] - 0s 814us/step - loss: 0.4516 - val_loss: 29.3772\n",
      "Epoch 93/300\n",
      "126/126 [==============================] - 0s 781us/step - loss: 0.4533 - val_loss: 25.6727\n",
      "Epoch 94/300\n",
      "126/126 [==============================] - 0s 768us/step - loss: 0.4514 - val_loss: 30.1331\n",
      "Epoch 95/300\n",
      "126/126 [==============================] - 0s 753us/step - loss: 0.4511 - val_loss: 29.7557\n",
      "Epoch 96/300\n",
      "126/126 [==============================] - 0s 760us/step - loss: 0.4520 - val_loss: 27.0802\n",
      "Epoch 97/300\n",
      "126/126 [==============================] - 0s 767us/step - loss: 0.4512 - val_loss: 24.8195\n",
      "Epoch 98/300\n",
      "126/126 [==============================] - 0s 773us/step - loss: 0.4520 - val_loss: 25.6069\n",
      "Epoch 99/300\n",
      "126/126 [==============================] - 0s 775us/step - loss: 0.4507 - val_loss: 27.3322\n",
      "Epoch 100/300\n",
      "126/126 [==============================] - 0s 769us/step - loss: 0.4518 - val_loss: 26.2318\n",
      "Epoch 101/300\n",
      "126/126 [==============================] - 0s 770us/step - loss: 0.4489 - val_loss: 25.4639\n",
      "Epoch 102/300\n",
      "126/126 [==============================] - 0s 770us/step - loss: 0.4511 - val_loss: 27.9122\n",
      "Epoch 103/300\n",
      "126/126 [==============================] - 0s 767us/step - loss: 0.4490 - val_loss: 24.4560\n",
      "Epoch 104/300\n",
      "126/126 [==============================] - 0s 777us/step - loss: 0.4499 - val_loss: 28.3326\n",
      "Epoch 105/300\n",
      "126/126 [==============================] - 0s 771us/step - loss: 0.4484 - val_loss: 26.7124\n",
      "Epoch 106/300\n",
      "126/126 [==============================] - 0s 762us/step - loss: 0.4504 - val_loss: 25.0687\n",
      "Epoch 107/300\n",
      "126/126 [==============================] - 0s 766us/step - loss: 0.4486 - val_loss: 25.4680\n",
      "Epoch 108/300\n",
      "126/126 [==============================] - 0s 760us/step - loss: 0.4480 - val_loss: 27.0742\n",
      "Epoch 109/300\n",
      "126/126 [==============================] - 0s 777us/step - loss: 0.4480 - val_loss: 24.2910\n",
      "Epoch 110/300\n",
      "126/126 [==============================] - 0s 771us/step - loss: 0.4478 - val_loss: 24.9360\n",
      "Epoch 111/300\n",
      "126/126 [==============================] - 0s 756us/step - loss: 0.4477 - val_loss: 25.1004\n",
      "Epoch 112/300\n",
      "126/126 [==============================] - 0s 760us/step - loss: 0.4467 - val_loss: 24.9744\n",
      "Epoch 113/300\n",
      "126/126 [==============================] - 0s 776us/step - loss: 0.4471 - val_loss: 25.1278\n",
      "Epoch 114/300\n",
      "126/126 [==============================] - 0s 757us/step - loss: 0.4479 - val_loss: 26.1623\n",
      "Epoch 115/300\n",
      "126/126 [==============================] - 0s 779us/step - loss: 0.4462 - val_loss: 25.2955\n",
      "Epoch 116/300\n",
      "126/126 [==============================] - 0s 760us/step - loss: 0.4460 - val_loss: 25.5673\n",
      "Epoch 117/300\n",
      "126/126 [==============================] - 0s 758us/step - loss: 0.4454 - val_loss: 27.0098\n",
      "Epoch 118/300\n",
      "126/126 [==============================] - 0s 764us/step - loss: 0.4449 - val_loss: 24.9426\n",
      "Epoch 119/300\n",
      "126/126 [==============================] - 0s 758us/step - loss: 0.4453 - val_loss: 27.2221\n",
      "Epoch 120/300\n",
      "126/126 [==============================] - 0s 766us/step - loss: 0.4451 - val_loss: 24.6808\n",
      "Epoch 121/300\n",
      "126/126 [==============================] - 0s 758us/step - loss: 0.4442 - val_loss: 26.2936\n",
      "Epoch 122/300\n",
      "126/126 [==============================] - 0s 765us/step - loss: 0.4447 - val_loss: 24.2786\n",
      "Epoch 123/300\n",
      "126/126 [==============================] - 0s 753us/step - loss: 0.4425 - val_loss: 25.9781\n",
      "Epoch 124/300\n",
      "126/126 [==============================] - 0s 756us/step - loss: 0.4427 - val_loss: 24.8403\n",
      "Epoch 125/300\n",
      "126/126 [==============================] - 0s 752us/step - loss: 0.4430 - val_loss: 23.2942\n",
      "Epoch 126/300\n",
      "126/126 [==============================] - 0s 755us/step - loss: 0.4422 - val_loss: 25.3492\n",
      "Epoch 127/300\n",
      "126/126 [==============================] - 0s 761us/step - loss: 0.4426 - val_loss: 21.8102\n",
      "Epoch 128/300\n",
      "126/126 [==============================] - 0s 761us/step - loss: 0.4426 - val_loss: 23.2602\n",
      "Epoch 129/300\n",
      "126/126 [==============================] - 0s 749us/step - loss: 0.4421 - val_loss: 25.9776\n",
      "Epoch 130/300\n",
      "126/126 [==============================] - 0s 766us/step - loss: 0.4417 - val_loss: 23.5833\n",
      "Epoch 131/300\n",
      "126/126 [==============================] - 0s 777us/step - loss: 0.4412 - val_loss: 22.1267\n",
      "Epoch 132/300\n",
      "126/126 [==============================] - 0s 764us/step - loss: 0.4422 - val_loss: 22.6062\n",
      "Epoch 133/300\n",
      "126/126 [==============================] - 0s 764us/step - loss: 0.4411 - val_loss: 20.7653\n",
      "Epoch 134/300\n",
      "126/126 [==============================] - 0s 771us/step - loss: 0.4433 - val_loss: 23.2965\n",
      "Epoch 135/300\n",
      "126/126 [==============================] - 0s 765us/step - loss: 0.4415 - val_loss: 25.1567\n",
      "Epoch 136/300\n",
      "126/126 [==============================] - 0s 774us/step - loss: 0.4405 - val_loss: 24.6452\n",
      "Epoch 137/300\n",
      "126/126 [==============================] - 0s 761us/step - loss: 0.4409 - val_loss: 20.6731\n",
      "Epoch 138/300\n",
      "126/126 [==============================] - 0s 772us/step - loss: 0.4411 - val_loss: 22.3754\n",
      "Epoch 139/300\n",
      "126/126 [==============================] - 0s 771us/step - loss: 0.4395 - val_loss: 23.8949\n",
      "Epoch 140/300\n",
      "126/126 [==============================] - 0s 764us/step - loss: 0.4413 - val_loss: 25.1052\n",
      "Epoch 141/300\n",
      "126/126 [==============================] - 0s 762us/step - loss: 0.4402 - val_loss: 20.0797\n",
      "Epoch 142/300\n",
      "126/126 [==============================] - 0s 770us/step - loss: 0.4390 - val_loss: 21.7815\n",
      "Epoch 143/300\n",
      "126/126 [==============================] - 0s 773us/step - loss: 0.4388 - val_loss: 25.9910\n",
      "Epoch 144/300\n",
      "126/126 [==============================] - 0s 758us/step - loss: 0.4398 - val_loss: 21.4963\n",
      "Epoch 145/300\n",
      "126/126 [==============================] - 0s 777us/step - loss: 0.4384 - val_loss: 22.3456\n",
      "Epoch 146/300\n",
      "126/126 [==============================] - 0s 761us/step - loss: 0.4386 - val_loss: 21.9508\n",
      "Epoch 147/300\n",
      "126/126 [==============================] - 0s 754us/step - loss: 0.4398 - val_loss: 21.7764\n",
      "Epoch 148/300\n",
      "126/126 [==============================] - 0s 771us/step - loss: 0.4383 - val_loss: 20.4951\n",
      "Epoch 149/300\n",
      "126/126 [==============================] - 0s 754us/step - loss: 0.4394 - val_loss: 21.0917\n",
      "Epoch 150/300\n",
      "126/126 [==============================] - 0s 760us/step - loss: 0.4379 - val_loss: 20.0649\n",
      "Epoch 151/300\n",
      "126/126 [==============================] - 0s 900us/step - loss: 0.4392 - val_loss: 19.5436\n",
      "Epoch 152/300\n",
      "126/126 [==============================] - 0s 770us/step - loss: 0.4386 - val_loss: 19.3549\n",
      "Epoch 153/300\n",
      "126/126 [==============================] - 0s 764us/step - loss: 0.4365 - val_loss: 19.7861\n",
      "Epoch 154/300\n",
      "126/126 [==============================] - 0s 754us/step - loss: 0.4380 - val_loss: 20.7890\n",
      "Epoch 155/300\n",
      "126/126 [==============================] - 0s 751us/step - loss: 0.4365 - val_loss: 18.3438\n",
      "Epoch 156/300\n"
     ]
    },
    {
     "name": "stdout",
     "output_type": "stream",
     "text": [
      "126/126 [==============================] - 0s 770us/step - loss: 0.4370 - val_loss: 21.1240\n",
      "Epoch 157/300\n",
      "126/126 [==============================] - 0s 756us/step - loss: 0.4372 - val_loss: 20.4439\n",
      "Epoch 158/300\n",
      "126/126 [==============================] - 0s 765us/step - loss: 0.4359 - val_loss: 18.1786\n",
      "Epoch 159/300\n",
      "126/126 [==============================] - 0s 759us/step - loss: 0.4365 - val_loss: 20.1835\n",
      "Epoch 160/300\n",
      "126/126 [==============================] - 0s 767us/step - loss: 0.4379 - val_loss: 23.0787\n",
      "Epoch 161/300\n",
      "126/126 [==============================] - 0s 756us/step - loss: 0.4349 - val_loss: 19.4355\n",
      "Epoch 162/300\n",
      "126/126 [==============================] - 0s 761us/step - loss: 0.4359 - val_loss: 19.0124\n",
      "Epoch 163/300\n",
      "126/126 [==============================] - 0s 749us/step - loss: 0.4353 - val_loss: 17.7254\n",
      "Epoch 164/300\n",
      "126/126 [==============================] - 0s 751us/step - loss: 0.4356 - val_loss: 19.4030\n",
      "Epoch 165/300\n",
      "126/126 [==============================] - 0s 762us/step - loss: 0.4341 - val_loss: 18.3001\n",
      "Epoch 166/300\n",
      "126/126 [==============================] - 0s 763us/step - loss: 0.4326 - val_loss: 17.2080\n",
      "Epoch 167/300\n",
      "126/126 [==============================] - 0s 757us/step - loss: 0.4336 - val_loss: 20.0339\n",
      "Epoch 168/300\n",
      "126/126 [==============================] - 0s 759us/step - loss: 0.4329 - val_loss: 20.9918\n",
      "Epoch 169/300\n",
      "126/126 [==============================] - 0s 765us/step - loss: 0.4342 - val_loss: 20.5659\n",
      "Epoch 170/300\n",
      "126/126 [==============================] - 0s 751us/step - loss: 0.4336 - val_loss: 17.3520\n",
      "Epoch 171/300\n",
      "126/126 [==============================] - 0s 764us/step - loss: 0.4323 - val_loss: 18.6176\n",
      "Epoch 172/300\n",
      "126/126 [==============================] - 0s 763us/step - loss: 0.4325 - val_loss: 19.2361\n",
      "Epoch 173/300\n",
      "126/126 [==============================] - 0s 759us/step - loss: 0.4313 - val_loss: 18.8962\n",
      "Epoch 174/300\n",
      "126/126 [==============================] - 0s 764us/step - loss: 0.4328 - val_loss: 18.0435\n",
      "Epoch 175/300\n",
      "126/126 [==============================] - 0s 761us/step - loss: 0.4331 - val_loss: 20.3891\n",
      "Epoch 176/300\n",
      "126/126 [==============================] - 0s 772us/step - loss: 0.4326 - val_loss: 19.2373\n",
      "Epoch 177/300\n",
      "126/126 [==============================] - 0s 1ms/step - loss: 0.4312 - val_loss: 20.1533\n",
      "Epoch 178/300\n",
      "126/126 [==============================] - 0s 796us/step - loss: 0.4323 - val_loss: 17.9542\n",
      "Epoch 179/300\n",
      "126/126 [==============================] - 0s 751us/step - loss: 0.4317 - val_loss: 18.6887\n",
      "Epoch 180/300\n",
      "126/126 [==============================] - 0s 754us/step - loss: 0.4328 - val_loss: 18.4504\n",
      "Epoch 181/300\n",
      "126/126 [==============================] - 0s 764us/step - loss: 0.4302 - val_loss: 17.3157\n",
      "Epoch 182/300\n",
      "126/126 [==============================] - 0s 774us/step - loss: 0.4301 - val_loss: 16.1016\n",
      "Epoch 183/300\n",
      "126/126 [==============================] - 0s 760us/step - loss: 0.4317 - val_loss: 15.6050\n",
      "Epoch 184/300\n",
      "126/126 [==============================] - 0s 756us/step - loss: 0.4313 - val_loss: 13.4689\n",
      "Epoch 185/300\n",
      "126/126 [==============================] - 0s 768us/step - loss: 0.4297 - val_loss: 16.0228\n",
      "Epoch 186/300\n",
      "126/126 [==============================] - 0s 757us/step - loss: 0.4304 - val_loss: 15.9527\n",
      "Epoch 187/300\n",
      "126/126 [==============================] - 0s 760us/step - loss: 0.4313 - val_loss: 13.9029\n",
      "Epoch 188/300\n",
      "126/126 [==============================] - 0s 759us/step - loss: 0.4297 - val_loss: 16.2808\n",
      "Epoch 189/300\n",
      "126/126 [==============================] - 0s 763us/step - loss: 0.4281 - val_loss: 16.5234\n",
      "Epoch 190/300\n",
      "126/126 [==============================] - 0s 753us/step - loss: 0.4298 - val_loss: 14.4446\n",
      "Epoch 191/300\n",
      "126/126 [==============================] - 0s 761us/step - loss: 0.4296 - val_loss: 16.9734\n",
      "Epoch 192/300\n",
      "126/126 [==============================] - 0s 759us/step - loss: 0.4282 - val_loss: 14.8914\n",
      "Epoch 193/300\n",
      "126/126 [==============================] - 0s 757us/step - loss: 0.4275 - val_loss: 16.3225\n",
      "Epoch 194/300\n",
      "126/126 [==============================] - 0s 761us/step - loss: 0.4264 - val_loss: 16.4192\n",
      "Epoch 195/300\n",
      "126/126 [==============================] - 0s 749us/step - loss: 0.4294 - val_loss: 19.9470\n",
      "Epoch 196/300\n",
      "126/126 [==============================] - 0s 770us/step - loss: 0.4293 - val_loss: 16.5404\n",
      "Epoch 197/300\n",
      "126/126 [==============================] - 0s 756us/step - loss: 0.4297 - val_loss: 13.5419\n",
      "Epoch 198/300\n",
      "126/126 [==============================] - 0s 753us/step - loss: 0.4272 - val_loss: 14.3492\n",
      "Epoch 199/300\n",
      "126/126 [==============================] - 0s 763us/step - loss: 0.4283 - val_loss: 13.9462\n",
      "Epoch 200/300\n",
      "126/126 [==============================] - 0s 761us/step - loss: 0.4267 - val_loss: 13.2320\n",
      "Epoch 201/300\n",
      "126/126 [==============================] - 0s 762us/step - loss: 0.4270 - val_loss: 12.6993\n",
      "Epoch 202/300\n",
      "126/126 [==============================] - 0s 766us/step - loss: 0.4268 - val_loss: 11.1895\n",
      "Epoch 203/300\n",
      "126/126 [==============================] - 0s 751us/step - loss: 0.4271 - val_loss: 13.9513\n",
      "Epoch 204/300\n",
      "126/126 [==============================] - 0s 763us/step - loss: 0.4271 - val_loss: 12.9958\n",
      "Epoch 205/300\n",
      "126/126 [==============================] - 0s 762us/step - loss: 0.4277 - val_loss: 11.6753\n",
      "Epoch 206/300\n",
      "126/126 [==============================] - 0s 754us/step - loss: 0.4259 - val_loss: 10.8874\n",
      "Epoch 207/300\n",
      "126/126 [==============================] - 0s 773us/step - loss: 0.4250 - val_loss: 12.2677\n",
      "Epoch 208/300\n",
      "126/126 [==============================] - 0s 771us/step - loss: 0.4249 - val_loss: 14.6479\n",
      "Epoch 209/300\n",
      "126/126 [==============================] - 0s 747us/step - loss: 0.4247 - val_loss: 12.0877\n",
      "Epoch 210/300\n",
      "126/126 [==============================] - 0s 764us/step - loss: 0.4244 - val_loss: 13.9034\n",
      "Epoch 211/300\n",
      "126/126 [==============================] - 0s 763us/step - loss: 0.4253 - val_loss: 12.1445\n",
      "Epoch 212/300\n",
      "126/126 [==============================] - 0s 758us/step - loss: 0.4249 - val_loss: 11.4173\n",
      "Epoch 213/300\n",
      "126/126 [==============================] - 0s 760us/step - loss: 0.4240 - val_loss: 12.0411\n",
      "Epoch 214/300\n",
      "126/126 [==============================] - 0s 755us/step - loss: 0.4240 - val_loss: 11.6584\n",
      "Epoch 215/300\n",
      "126/126 [==============================] - 0s 764us/step - loss: 0.4259 - val_loss: 11.9260\n",
      "Epoch 216/300\n",
      "126/126 [==============================] - 0s 767us/step - loss: 0.4240 - val_loss: 12.5725\n",
      "Epoch 217/300\n",
      "126/126 [==============================] - 0s 761us/step - loss: 0.4256 - val_loss: 11.0092\n",
      "Epoch 218/300\n",
      "126/126 [==============================] - 0s 765us/step - loss: 0.4228 - val_loss: 10.8222\n",
      "Epoch 219/300\n",
      "126/126 [==============================] - 0s 764us/step - loss: 0.4233 - val_loss: 11.7545\n",
      "Epoch 220/300\n",
      "126/126 [==============================] - 0s 758us/step - loss: 0.4244 - val_loss: 11.1718\n",
      "Epoch 221/300\n",
      "126/126 [==============================] - 0s 763us/step - loss: 0.4235 - val_loss: 10.9684\n",
      "Epoch 222/300\n",
      "126/126 [==============================] - 0s 759us/step - loss: 0.4226 - val_loss: 12.4178\n",
      "Epoch 223/300\n",
      "126/126 [==============================] - 0s 761us/step - loss: 0.4239 - val_loss: 12.1772\n",
      "Epoch 224/300\n",
      "126/126 [==============================] - 0s 762us/step - loss: 0.4225 - val_loss: 9.3974\n",
      "Epoch 225/300\n",
      "126/126 [==============================] - 0s 755us/step - loss: 0.4216 - val_loss: 12.1549\n",
      "Epoch 226/300\n",
      "126/126 [==============================] - 0s 746us/step - loss: 0.4219 - val_loss: 11.8083\n",
      "Epoch 227/300\n",
      "126/126 [==============================] - 0s 757us/step - loss: 0.4219 - val_loss: 11.1684\n",
      "Epoch 228/300\n",
      "126/126 [==============================] - 0s 765us/step - loss: 0.4204 - val_loss: 9.1827\n",
      "Epoch 229/300\n",
      "126/126 [==============================] - 0s 764us/step - loss: 0.4217 - val_loss: 9.8890\n",
      "Epoch 230/300\n",
      "126/126 [==============================] - 0s 765us/step - loss: 0.4237 - val_loss: 8.5008\n",
      "Epoch 231/300\n",
      "126/126 [==============================] - 0s 763us/step - loss: 0.4228 - val_loss: 9.5275\n",
      "Epoch 232/300\n",
      "126/126 [==============================] - 0s 761us/step - loss: 0.4216 - val_loss: 9.9122\n",
      "Epoch 233/300\n",
      "126/126 [==============================] - 0s 769us/step - loss: 0.4197 - val_loss: 8.5990\n",
      "Epoch 234/300\n",
      "126/126 [==============================] - 0s 751us/step - loss: 0.4208 - val_loss: 10.8952\n",
      "Epoch 235/300\n",
      "126/126 [==============================] - 0s 766us/step - loss: 0.4198 - val_loss: 9.3760\n",
      "Epoch 236/300\n",
      "126/126 [==============================] - 0s 767us/step - loss: 0.4208 - val_loss: 8.8837\n",
      "Epoch 237/300\n",
      "126/126 [==============================] - 0s 761us/step - loss: 0.4222 - val_loss: 8.9245\n",
      "Epoch 238/300\n",
      "126/126 [==============================] - 0s 751us/step - loss: 0.4199 - val_loss: 8.7412\n",
      "Epoch 239/300\n",
      "126/126 [==============================] - 0s 766us/step - loss: 0.4193 - val_loss: 10.2158\n",
      "Epoch 240/300\n",
      "126/126 [==============================] - 0s 771us/step - loss: 0.4202 - val_loss: 8.2458\n",
      "Epoch 241/300\n",
      "126/126 [==============================] - 0s 774us/step - loss: 0.4195 - val_loss: 9.1211\n",
      "Epoch 242/300\n",
      "126/126 [==============================] - 0s 752us/step - loss: 0.4175 - val_loss: 8.9247\n",
      "Epoch 243/300\n",
      "126/126 [==============================] - 0s 757us/step - loss: 0.4185 - val_loss: 8.9283\n",
      "Epoch 244/300\n",
      "126/126 [==============================] - 0s 758us/step - loss: 0.4168 - val_loss: 7.9379\n",
      "Epoch 245/300\n",
      "126/126 [==============================] - 0s 766us/step - loss: 0.4180 - val_loss: 7.9606\n",
      "Epoch 246/300\n",
      "126/126 [==============================] - 0s 763us/step - loss: 0.4192 - val_loss: 8.1693\n",
      "Epoch 247/300\n",
      "126/126 [==============================] - 0s 767us/step - loss: 0.4171 - val_loss: 8.3911\n",
      "Epoch 248/300\n",
      "126/126 [==============================] - 0s 771us/step - loss: 0.4183 - val_loss: 8.4351\n",
      "Epoch 249/300\n",
      "126/126 [==============================] - 0s 761us/step - loss: 0.4160 - val_loss: 8.7619\n",
      "Epoch 250/300\n",
      "126/126 [==============================] - 0s 761us/step - loss: 0.4185 - val_loss: 8.5389\n",
      "Epoch 251/300\n",
      "126/126 [==============================] - 0s 757us/step - loss: 0.4168 - val_loss: 8.2312\n",
      "Epoch 252/300\n",
      "126/126 [==============================] - 0s 752us/step - loss: 0.4160 - val_loss: 8.1264\n",
      "Epoch 253/300\n",
      "126/126 [==============================] - 0s 770us/step - loss: 0.4180 - val_loss: 8.3489\n",
      "Epoch 254/300\n",
      "126/126 [==============================] - 0s 758us/step - loss: 0.4173 - val_loss: 8.2995\n",
      "Epoch 255/300\n",
      "126/126 [==============================] - 0s 769us/step - loss: 0.4147 - val_loss: 8.9281\n",
      "Epoch 256/300\n",
      "126/126 [==============================] - 0s 765us/step - loss: 0.4147 - val_loss: 8.3824\n",
      "Epoch 257/300\n",
      "126/126 [==============================] - 0s 763us/step - loss: 0.4169 - val_loss: 8.5226\n",
      "Epoch 258/300\n",
      "126/126 [==============================] - 0s 763us/step - loss: 0.4154 - val_loss: 8.1980\n",
      "Epoch 259/300\n",
      "126/126 [==============================] - 0s 768us/step - loss: 0.4181 - val_loss: 8.5531\n",
      "Epoch 260/300\n",
      "126/126 [==============================] - 0s 760us/step - loss: 0.4165 - val_loss: 8.2161\n",
      "Epoch 261/300\n",
      "126/126 [==============================] - 0s 759us/step - loss: 0.4214 - val_loss: 8.1969\n",
      "Epoch 262/300\n",
      "126/126 [==============================] - 0s 745us/step - loss: 0.4156 - val_loss: 8.3377\n",
      "Epoch 263/300\n",
      "126/126 [==============================] - 0s 761us/step - loss: 0.4136 - val_loss: 8.8023\n",
      "Epoch 264/300\n",
      "126/126 [==============================] - 0s 764us/step - loss: 0.4144 - val_loss: 8.7404\n",
      "Epoch 265/300\n",
      "126/126 [==============================] - 0s 763us/step - loss: 0.4130 - val_loss: 8.5029\n",
      "Epoch 266/300\n",
      "126/126 [==============================] - 0s 756us/step - loss: 0.4152 - val_loss: 8.7615\n",
      "Epoch 267/300\n",
      "126/126 [==============================] - 0s 746us/step - loss: 0.4131 - val_loss: 9.2030\n",
      "Epoch 268/300\n",
      "126/126 [==============================] - 0s 763us/step - loss: 0.4165 - val_loss: 8.3633\n",
      "Epoch 269/300\n",
      "126/126 [==============================] - 0s 751us/step - loss: 0.4138 - val_loss: 8.3854\n",
      "Epoch 270/300\n",
      "126/126 [==============================] - 0s 764us/step - loss: 0.4157 - val_loss: 9.2024\n",
      "Epoch 271/300\n",
      "126/126 [==============================] - 0s 755us/step - loss: 0.4127 - val_loss: 8.8972\n",
      "Epoch 272/300\n",
      "126/126 [==============================] - 0s 746us/step - loss: 0.4114 - val_loss: 8.4518\n",
      "Epoch 273/300\n",
      "126/126 [==============================] - 0s 749us/step - loss: 0.4126 - val_loss: 8.6326\n",
      "Epoch 274/300\n",
      "126/126 [==============================] - 0s 753us/step - loss: 0.4133 - val_loss: 8.7000\n",
      "Epoch 275/300\n",
      "126/126 [==============================] - 0s 753us/step - loss: 0.4101 - val_loss: 11.5146\n",
      "Epoch 276/300\n",
      "126/126 [==============================] - 0s 761us/step - loss: 0.4133 - val_loss: 9.5736\n",
      "Epoch 277/300\n",
      "126/126 [==============================] - 0s 768us/step - loss: 0.4100 - val_loss: 9.3676\n",
      "Epoch 278/300\n",
      "126/126 [==============================] - 0s 762us/step - loss: 0.4127 - val_loss: 9.3249\n",
      "Epoch 279/300\n",
      "126/126 [==============================] - 0s 755us/step - loss: 0.4121 - val_loss: 9.8100\n",
      "Epoch 280/300\n",
      "126/126 [==============================] - 0s 749us/step - loss: 0.4123 - val_loss: 10.6169\n",
      "Epoch 281/300\n",
      "126/126 [==============================] - 0s 758us/step - loss: 0.4112 - val_loss: 10.0497\n",
      "Epoch 282/300\n",
      "126/126 [==============================] - 0s 760us/step - loss: 0.4135 - val_loss: 9.1011\n",
      "Epoch 283/300\n",
      "126/126 [==============================] - 0s 766us/step - loss: 0.4109 - val_loss: 12.3761\n",
      "Epoch 284/300\n",
      "126/126 [==============================] - 0s 778us/step - loss: 0.4120 - val_loss: 9.8025\n",
      "Epoch 285/300\n",
      "126/126 [==============================] - 0s 765us/step - loss: 0.4103 - val_loss: 12.3037\n",
      "Epoch 286/300\n",
      "126/126 [==============================] - 0s 766us/step - loss: 0.4115 - val_loss: 12.0767\n",
      "Epoch 287/300\n",
      "126/126 [==============================] - 0s 754us/step - loss: 0.4093 - val_loss: 13.5862\n",
      "Epoch 288/300\n",
      "126/126 [==============================] - 0s 758us/step - loss: 0.4102 - val_loss: 10.4978\n",
      "Epoch 289/300\n",
      "126/126 [==============================] - 0s 759us/step - loss: 0.4100 - val_loss: 9.9838\n",
      "Epoch 290/300\n",
      "126/126 [==============================] - 0s 769us/step - loss: 0.4110 - val_loss: 12.2667\n",
      "Epoch 291/300\n",
      "126/126 [==============================] - 0s 755us/step - loss: 0.4083 - val_loss: 11.2697\n",
      "Epoch 292/300\n",
      "126/126 [==============================] - 0s 769us/step - loss: 0.4112 - val_loss: 9.4994\n",
      "Epoch 293/300\n",
      "126/126 [==============================] - 0s 905us/step - loss: 0.4077 - val_loss: 9.8327\n",
      "Epoch 294/300\n",
      "126/126 [==============================] - 0s 782us/step - loss: 0.4091 - val_loss: 12.1555\n",
      "Epoch 295/300\n",
      "126/126 [==============================] - 0s 774us/step - loss: 0.4078 - val_loss: 10.9041\n",
      "Epoch 296/300\n",
      "126/126 [==============================] - 0s 757us/step - loss: 0.4076 - val_loss: 13.3293\n",
      "Epoch 297/300\n",
      "126/126 [==============================] - 0s 767us/step - loss: 0.4108 - val_loss: 10.4602\n",
      "Epoch 298/300\n",
      "126/126 [==============================] - 0s 765us/step - loss: 0.4082 - val_loss: 11.6439\n",
      "Epoch 299/300\n",
      "126/126 [==============================] - 0s 766us/step - loss: 0.4085 - val_loss: 9.8042\n",
      "Epoch 300/300\n",
      "126/126 [==============================] - 0s 765us/step - loss: 0.4073 - val_loss: 11.6542\n"
     ]
    },
    {
     "data": {
      "text/plain": [
       "<keras.callbacks.History at 0x7fc7e2bc5850>"
      ]
     },
     "execution_count": 11,
     "metadata": {},
     "output_type": "execute_result"
    }
   ],
   "source": [
    "model.fit(x=X_train, y=y_train, epochs = 300 , validation_data=(X_test, y_test))"
   ]
  },
  {
   "cell_type": "markdown",
   "id": "reflected-accommodation",
   "metadata": {},
   "source": [
    "### Visualize the Model Prediction"
   ]
  },
  {
   "cell_type": "code",
   "execution_count": 12,
   "id": "third-strain",
   "metadata": {},
   "outputs": [
    {
     "data": {
      "text/plain": [
       "<AxesSubplot:>"
      ]
     },
     "execution_count": 12,
     "metadata": {},
     "output_type": "execute_result"
    },
    {
     "data": {
      "image/png": "[encoded data removed]",
      "text/plain": [
       "<Figure size 432x288 with 1 Axes>"
      ]
     },
     "metadata": {
      "needs_background": "light"
     },
     "output_type": "display_data"
    }
   ],
   "source": [
    "losses = pd.DataFrame(model.history.history)\n",
    "losses.plot()"
   ]
  },
  {
   "cell_type": "markdown",
   "id": "rapid-citizenship",
   "metadata": {},
   "source": [
    "### Evaluate the Model"
   ]
  },
  {
   "cell_type": "code",
   "execution_count": 68,
   "id": "weighted-leisure",
   "metadata": {},
   "outputs": [],
   "source": [
    "from sklearn.metrics import classification_report, confusion_matrix\n",
    "from sklearn.metrics import accuracy_score, plot_confusion_matrix"
   ]
  },
  {
   "cell_type": "code",
   "execution_count": 14,
   "id": "daily-bundle",
   "metadata": {},
   "outputs": [],
   "source": [
    "predict_x=model.predict(X_test) \n",
    "classes_x=np.argmax(predict_x,axis=1)"
   ]
  },
  {
   "cell_type": "code",
   "execution_count": 15,
   "id": "contrary-corpus",
   "metadata": {},
   "outputs": [
    {
     "name": "stdout",
     "output_type": "stream",
     "text": [
      "              precision    recall  f1-score   support\n",
      "\n",
      "           0       0.40      1.00      0.57       400\n",
      "           1       0.00      0.00      0.00       604\n",
      "\n",
      "    accuracy                           0.40      1004\n",
      "   macro avg       0.20      0.50      0.28      1004\n",
      "weighted avg       0.16      0.40      0.23      1004\n",
      "\n"
     ]
    },
    {
     "name": "stderr",
     "output_type": "stream",
     "text": [
      "/Applications/anaconda3/lib/python3.8/site-packages/sklearn/metrics/_classification.py:1245: UndefinedMetricWarning: Precision and F-score are ill-defined and being set to 0.0 in labels with no predicted samples. Use `zero_division` parameter to control this behavior.\n",
      "  _warn_prf(average, modifier, msg_start, len(result))\n",
      "/Applications/anaconda3/lib/python3.8/site-packages/sklearn/metrics/_classification.py:1245: UndefinedMetricWarning: Precision and F-score are ill-defined and being set to 0.0 in labels with no predicted samples. Use `zero_division` parameter to control this behavior.\n",
      "  _warn_prf(average, modifier, msg_start, len(result))\n",
      "/Applications/anaconda3/lib/python3.8/site-packages/sklearn/metrics/_classification.py:1245: UndefinedMetricWarning: Precision and F-score are ill-defined and being set to 0.0 in labels with no predicted samples. Use `zero_division` parameter to control this behavior.\n",
      "  _warn_prf(average, modifier, msg_start, len(result))\n"
     ]
    }
   ],
   "source": [
    "print(classification_report(y_test, classes_x))"
   ]
  },
  {
   "cell_type": "code",
   "execution_count": 16,
   "id": "interracial-trash",
   "metadata": {},
   "outputs": [
    {
     "name": "stdout",
     "output_type": "stream",
     "text": [
      "[[400   0]\n",
      " [604   0]]\n"
     ]
    }
   ],
   "source": [
    "print(confusion_matrix(y_test, classes_x))"
   ]
  },
  {
   "cell_type": "markdown",
   "id": "joint-porcelain",
   "metadata": {},
   "source": [
    "### Model with early stop and drop out"
   ]
  },
  {
   "cell_type": "code",
   "execution_count": 17,
   "id": "governmental-husband",
   "metadata": {},
   "outputs": [],
   "source": [
    "from tensorflow.keras.layers import Dropout\n",
    "from tensorflow.keras.callbacks import EarlyStopping"
   ]
  },
  {
   "cell_type": "code",
   "execution_count": 18,
   "id": "sublime-pavilion",
   "metadata": {},
   "outputs": [],
   "source": [
    "early_stop = EarlyStopping(monitor = 'val_loss', mode='min', verbose = 1, patience=25)"
   ]
  },
  {
   "cell_type": "code",
   "execution_count": 19,
   "id": "pregnant-chase",
   "metadata": {},
   "outputs": [],
   "source": [
    "model = Sequential()\n",
    "\n",
    "model.add(Dense(23, activation = 'relu'))\n",
    "model.add(Dropout(0.5)) # 50% of neruals randomly turn off\n",
    "\n",
    "model.add(Dense(15, activation = 'relu'))\n",
    "model.add(Dropout(0.5))\n",
    "\n",
    "# binary classification\n",
    "model.add(Dense(1, activation = 'sigmoid'))\n",
    "\n",
    "model.compile(loss='binary_crossentropy', optimizer='adam')"
   ]
  },
  {
   "cell_type": "markdown",
   "id": "searching-particular",
   "metadata": {},
   "source": [
    "### Fit the model"
   ]
  },
  {
   "cell_type": "code",
   "execution_count": 20,
   "id": "ready-meditation",
   "metadata": {},
   "outputs": [
    {
     "name": "stdout",
     "output_type": "stream",
     "text": [
      "Epoch 1/500\n",
      "126/126 [==============================] - 1s 1ms/step - loss: 0.6677 - val_loss: 9.9330\n",
      "Epoch 2/500\n",
      "126/126 [==============================] - 0s 808us/step - loss: 0.6395 - val_loss: 14.0305\n",
      "Epoch 3/500\n",
      "126/126 [==============================] - 0s 811us/step - loss: 0.6156 - val_loss: 19.1380\n",
      "Epoch 4/500\n",
      "126/126 [==============================] - 0s 807us/step - loss: 0.6023 - val_loss: 21.4198\n",
      "Epoch 5/500\n",
      "126/126 [==============================] - 0s 804us/step - loss: 0.5875 - val_loss: 23.2462\n",
      "Epoch 6/500\n",
      "126/126 [==============================] - 0s 828us/step - loss: 0.5815 - val_loss: 24.9534\n",
      "Epoch 7/500\n",
      "126/126 [==============================] - 0s 798us/step - loss: 0.5791 - val_loss: 24.6267\n",
      "Epoch 8/500\n",
      "126/126 [==============================] - 0s 816us/step - loss: 0.5687 - val_loss: 25.8281\n",
      "Epoch 9/500\n",
      "126/126 [==============================] - 0s 809us/step - loss: 0.5743 - val_loss: 26.9267\n",
      "Epoch 10/500\n",
      "126/126 [==============================] - 0s 795us/step - loss: 0.5761 - val_loss: 25.6586\n",
      "Epoch 11/500\n",
      "126/126 [==============================] - 0s 806us/step - loss: 0.5660 - val_loss: 27.1538\n",
      "Epoch 12/500\n",
      "126/126 [==============================] - 0s 790us/step - loss: 0.5613 - val_loss: 27.3026\n",
      "Epoch 13/500\n",
      "126/126 [==============================] - 0s 805us/step - loss: 0.5594 - val_loss: 27.8340\n",
      "Epoch 14/500\n",
      "126/126 [==============================] - 0s 807us/step - loss: 0.5557 - val_loss: 28.3197\n",
      "Epoch 15/500\n",
      "126/126 [==============================] - 0s 799us/step - loss: 0.5544 - val_loss: 31.3324\n",
      "Epoch 16/500\n",
      "126/126 [==============================] - 0s 800us/step - loss: 0.5631 - val_loss: 31.4475\n",
      "Epoch 17/500\n",
      "126/126 [==============================] - 0s 799us/step - loss: 0.5531 - val_loss: 31.1665\n",
      "Epoch 18/500\n",
      "126/126 [==============================] - 0s 804us/step - loss: 0.5490 - val_loss: 29.3408\n",
      "Epoch 19/500\n",
      "126/126 [==============================] - 0s 804us/step - loss: 0.5514 - val_loss: 32.8745\n",
      "Epoch 20/500\n",
      "126/126 [==============================] - 0s 799us/step - loss: 0.5450 - val_loss: 32.4190\n",
      "Epoch 21/500\n",
      "126/126 [==============================] - 0s 794us/step - loss: 0.5494 - val_loss: 31.4965\n",
      "Epoch 22/500\n",
      "126/126 [==============================] - 0s 799us/step - loss: 0.5464 - val_loss: 32.5378\n",
      "Epoch 23/500\n",
      "126/126 [==============================] - 0s 811us/step - loss: 0.5493 - val_loss: 30.3917\n",
      "Epoch 24/500\n",
      "126/126 [==============================] - 0s 811us/step - loss: 0.5417 - val_loss: 32.5410\n",
      "Epoch 25/500\n",
      "126/126 [==============================] - 0s 852us/step - loss: 0.5367 - val_loss: 33.5380\n",
      "Epoch 26/500\n",
      "126/126 [==============================] - 0s 825us/step - loss: 0.5430 - val_loss: 33.5363\n",
      "Epoch 00026: early stopping\n"
     ]
    },
    {
     "data": {
      "text/plain": [
       "<keras.callbacks.History at 0x7fc7c446a940>"
      ]
     },
     "execution_count": 20,
     "metadata": {},
     "output_type": "execute_result"
    }
   ],
   "source": [
    "model.fit(x=X_train, y=y_train, epochs = 500 , validation_data=(X_test, y_test),\n",
    "         callbacks = [early_stop])"
   ]
  },
  {
   "cell_type": "code",
   "execution_count": 21,
   "id": "brave-collection",
   "metadata": {},
   "outputs": [
    {
     "data": {
      "text/plain": [
       "<AxesSubplot:>"
      ]
     },
     "execution_count": 21,
     "metadata": {},
     "output_type": "execute_result"
    },
    {
     "data": {
      "image/png": "[encoded data removed]",
      "text/plain": [
       "<Figure size 432x288 with 1 Axes>"
      ]
     },
     "metadata": {
      "needs_background": "light"
     },
     "output_type": "display_data"
    }
   ],
   "source": [
    "model_loss = pd.DataFrame(model.history.history)\n",
    "model_loss.plot()"
   ]
  },
  {
   "cell_type": "markdown",
   "id": "color-robertson",
   "metadata": {},
   "source": [
    "### Evaluate the model"
   ]
  },
  {
   "cell_type": "code",
   "execution_count": 22,
   "id": "naked-architect",
   "metadata": {},
   "outputs": [],
   "source": [
    "predict_x=model.predict(X_test) \n",
    "classes=np.argmax(predict_x,axis=1)"
   ]
  },
  {
   "cell_type": "code",
   "execution_count": 23,
   "id": "silent-report",
   "metadata": {},
   "outputs": [
    {
     "name": "stdout",
     "output_type": "stream",
     "text": [
      "              precision    recall  f1-score   support\n",
      "\n",
      "           0       0.40      1.00      0.57       400\n",
      "           1       0.00      0.00      0.00       604\n",
      "\n",
      "    accuracy                           0.40      1004\n",
      "   macro avg       0.20      0.50      0.28      1004\n",
      "weighted avg       0.16      0.40      0.23      1004\n",
      "\n"
     ]
    },
    {
     "name": "stderr",
     "output_type": "stream",
     "text": [
      "/Applications/anaconda3/lib/python3.8/site-packages/sklearn/metrics/_classification.py:1245: UndefinedMetricWarning: Precision and F-score are ill-defined and being set to 0.0 in labels with no predicted samples. Use `zero_division` parameter to control this behavior.\n",
      "  _warn_prf(average, modifier, msg_start, len(result))\n",
      "/Applications/anaconda3/lib/python3.8/site-packages/sklearn/metrics/_classification.py:1245: UndefinedMetricWarning: Precision and F-score are ill-defined and being set to 0.0 in labels with no predicted samples. Use `zero_division` parameter to control this behavior.\n",
      "  _warn_prf(average, modifier, msg_start, len(result))\n",
      "/Applications/anaconda3/lib/python3.8/site-packages/sklearn/metrics/_classification.py:1245: UndefinedMetricWarning: Precision and F-score are ill-defined and being set to 0.0 in labels with no predicted samples. Use `zero_division` parameter to control this behavior.\n",
      "  _warn_prf(average, modifier, msg_start, len(result))\n"
     ]
    }
   ],
   "source": [
    "print(classification_report(y_test, classes))"
   ]
  },
  {
   "cell_type": "code",
   "execution_count": 24,
   "id": "operating-medicine",
   "metadata": {},
   "outputs": [
    {
     "name": "stdout",
     "output_type": "stream",
     "text": [
      "[[400   0]\n",
      " [604   0]]\n"
     ]
    }
   ],
   "source": [
    "print(confusion_matrix(y_test, classes))"
   ]
  },
  {
   "cell_type": "markdown",
   "id": "enclosed-philip",
   "metadata": {},
   "source": [
    "### Decision Tree"
   ]
  },
  {
   "cell_type": "code",
   "execution_count": 25,
   "id": "underlying-swimming",
   "metadata": {},
   "outputs": [],
   "source": [
    "from sklearn.tree import DecisionTreeClassifier"
   ]
  },
  {
   "cell_type": "code",
   "execution_count": 26,
   "id": "premier-worker",
   "metadata": {},
   "outputs": [],
   "source": [
    "dtree = DecisionTreeClassifier()\n",
    "dtree.fit(X_train, y_train)\n",
    "prediction = dtree.predict(X_test)"
   ]
  },
  {
   "cell_type": "code",
   "execution_count": 27,
   "id": "fatal-three",
   "metadata": {},
   "outputs": [
    {
     "name": "stdout",
     "output_type": "stream",
     "text": [
      "[[333  67]\n",
      " [530  74]]\n",
      "\n",
      "\n",
      "Classification Summary--->\n",
      "              precision    recall  f1-score   support\n",
      "\n",
      "           0       0.39      0.83      0.53       400\n",
      "           1       0.52      0.12      0.20       604\n",
      "\n",
      "    accuracy                           0.41      1004\n",
      "   macro avg       0.46      0.48      0.36      1004\n",
      "weighted avg       0.47      0.41      0.33      1004\n",
      "\n"
     ]
    }
   ],
   "source": [
    "print(confusion_matrix(y_test, prediction))\n",
    "print('\\n')\n",
    "print('Classification Summary--->')\n",
    "print(classification_report(y_test, prediction))"
   ]
  },
  {
   "cell_type": "code",
   "execution_count": null,
   "id": "divine-norman",
   "metadata": {},
   "outputs": [],
   "source": []
  },
  {
   "cell_type": "markdown",
   "id": "seasonal-compatibility",
   "metadata": {},
   "source": [
    "## Random Forest"
   ]
  },
  {
   "cell_type": "code",
   "execution_count": 79,
   "id": "bacterial-vocabulary",
   "metadata": {},
   "outputs": [],
   "source": [
    "from sklearn.ensemble import RandomForestClassifier"
   ]
  },
  {
   "cell_type": "code",
   "execution_count": 80,
   "id": "former-allergy",
   "metadata": {},
   "outputs": [
    {
     "data": {
      "text/plain": [
       "RandomForestClassifier(n_estimators=600)"
      ]
     },
     "execution_count": 80,
     "metadata": {},
     "output_type": "execute_result"
    }
   ],
   "source": [
    "rfc = RandomForestClassifier(n_estimators=600)\n",
    "rfc.fit(X_train, y_train)"
   ]
  },
  {
   "cell_type": "code",
   "execution_count": 81,
   "id": "large-feedback",
   "metadata": {},
   "outputs": [],
   "source": [
    "rfc_pred = rfc.predict(X_test)"
   ]
  },
  {
   "cell_type": "code",
   "execution_count": 82,
   "id": "deadly-fireplace",
   "metadata": {},
   "outputs": [
    {
     "name": "stdout",
     "output_type": "stream",
     "text": [
      "Confusion Matrix--->\n",
      "[[352  28]\n",
      " [598  26]]\n",
      "\n",
      "\n",
      "Classification Summary--->\n",
      "              precision    recall  f1-score   support\n",
      "\n",
      "           0       0.37      0.93      0.53       380\n",
      "           1       0.48      0.04      0.08       624\n",
      "\n",
      "    accuracy                           0.38      1004\n",
      "   macro avg       0.43      0.48      0.30      1004\n",
      "weighted avg       0.44      0.38      0.25      1004\n",
      "\n"
     ]
    }
   ],
   "source": [
    "print('Confusion Matrix--->')\n",
    "print(confusion_matrix(y_test, rfc_pred))\n",
    "print('\\n')\n",
    "print('Classification Summary--->')\n",
    "print(classification_report(y_test, rfc_pred))"
   ]
  },
  {
   "cell_type": "code",
   "execution_count": 84,
   "id": "competent-theta",
   "metadata": {},
   "outputs": [
    {
     "data": {
      "text/plain": [
       "<sklearn.metrics._plot.confusion_matrix.ConfusionMatrixDisplay at 0x7fc7cfc596a0>"
      ]
     },
     "execution_count": 84,
     "metadata": {},
     "output_type": "execute_result"
    },
    {
     "data": {
      "image/png": "[encoded data removed]",
      "text/plain": [
       "<Figure size 432x288 with 2 Axes>"
      ]
     },
     "metadata": {
      "needs_background": "light"
     },
     "output_type": "display_data"
    }
   ],
   "source": [
    "plot_confusion_matrix(rfc, X_test, y_test)"
   ]
  },
  {
   "cell_type": "markdown",
   "id": "rural-outline",
   "metadata": {},
   "source": [
    "### Random Forest with Cross_validation"
   ]
  },
  {
   "cell_type": "code",
   "execution_count": 32,
   "id": "under-windsor",
   "metadata": {},
   "outputs": [
    {
     "data": {
      "text/plain": [
       "GridSearchCV(cv=5, estimator=RandomForestClassifier(n_estimators=600),\n",
       "             param_grid={'max_depth': [2, 4, 8, 16, 32, None],\n",
       "                         'n_estimators': [5, 10, 50, 100, 250]})"
      ]
     },
     "execution_count": 32,
     "metadata": {},
     "output_type": "execute_result"
    }
   ],
   "source": [
    "from sklearn.model_selection import GridSearchCV\n",
    "\n",
    "parameters = {\n",
    "    \"n_estimators\":[5,10,50,100,250],\n",
    "    \"max_depth\":[2,4,8,16,32,None]\n",
    "}\n",
    "    \n",
    "\n",
    "cv = GridSearchCV(rfc, parameters, cv = 5)\n",
    "\n",
    "cv.fit(X_train, y_train)"
   ]
  },
  {
   "cell_type": "code",
   "execution_count": 33,
   "id": "right-token",
   "metadata": {},
   "outputs": [],
   "source": [
    "def display(results):\n",
    "    print(f'Best parameters are: {results.best_params_}')\n",
    "    print(\"\\n\")\n",
    "    mean_score = results.cv_results_['mean_test_score']\n",
    "    std_score = results.cv_results_['std_test_score']\n",
    "    params = results.cv_results_['params']\n",
    "    for mean,std,params in zip(mean_score,std_score,params):\n",
    "        print(f'{round(mean,3)} + or -{round(std,3)} for the {params}')"
   ]
  },
  {
   "cell_type": "code",
   "execution_count": 34,
   "id": "internal-investing",
   "metadata": {},
   "outputs": [
    {
     "name": "stdout",
     "output_type": "stream",
     "text": [
      "Best parameters are: {'max_depth': 32, 'n_estimators': 250}\n",
      "\n",
      "\n",
      "0.737 + or -0.012 for the {'max_depth': 2, 'n_estimators': 5}\n",
      "0.736 + or -0.016 for the {'max_depth': 2, 'n_estimators': 10}\n",
      "0.741 + or -0.017 for the {'max_depth': 2, 'n_estimators': 50}\n",
      "0.74 + or -0.015 for the {'max_depth': 2, 'n_estimators': 100}\n",
      "0.741 + or -0.016 for the {'max_depth': 2, 'n_estimators': 250}\n",
      "0.747 + or -0.016 for the {'max_depth': 4, 'n_estimators': 5}\n",
      "0.743 + or -0.02 for the {'max_depth': 4, 'n_estimators': 10}\n",
      "0.746 + or -0.014 for the {'max_depth': 4, 'n_estimators': 50}\n",
      "0.747 + or -0.015 for the {'max_depth': 4, 'n_estimators': 100}\n",
      "0.745 + or -0.015 for the {'max_depth': 4, 'n_estimators': 250}\n",
      "0.746 + or -0.017 for the {'max_depth': 8, 'n_estimators': 5}\n",
      "0.751 + or -0.017 for the {'max_depth': 8, 'n_estimators': 10}\n",
      "0.757 + or -0.018 for the {'max_depth': 8, 'n_estimators': 50}\n",
      "0.756 + or -0.019 for the {'max_depth': 8, 'n_estimators': 100}\n",
      "0.756 + or -0.018 for the {'max_depth': 8, 'n_estimators': 250}\n",
      "0.716 + or -0.01 for the {'max_depth': 16, 'n_estimators': 5}\n",
      "0.74 + or -0.014 for the {'max_depth': 16, 'n_estimators': 10}\n",
      "0.761 + or -0.017 for the {'max_depth': 16, 'n_estimators': 50}\n",
      "0.754 + or -0.012 for the {'max_depth': 16, 'n_estimators': 100}\n",
      "0.761 + or -0.015 for the {'max_depth': 16, 'n_estimators': 250}\n",
      "0.718 + or -0.016 for the {'max_depth': 32, 'n_estimators': 5}\n",
      "0.722 + or -0.015 for the {'max_depth': 32, 'n_estimators': 10}\n",
      "0.75 + or -0.016 for the {'max_depth': 32, 'n_estimators': 50}\n",
      "0.756 + or -0.013 for the {'max_depth': 32, 'n_estimators': 100}\n",
      "0.763 + or -0.016 for the {'max_depth': 32, 'n_estimators': 250}\n",
      "0.709 + or -0.012 for the {'max_depth': None, 'n_estimators': 5}\n",
      "0.727 + or -0.014 for the {'max_depth': None, 'n_estimators': 10}\n",
      "0.754 + or -0.017 for the {'max_depth': None, 'n_estimators': 50}\n",
      "0.757 + or -0.015 for the {'max_depth': None, 'n_estimators': 100}\n",
      "0.755 + or -0.012 for the {'max_depth': None, 'n_estimators': 250}\n"
     ]
    }
   ],
   "source": [
    "display(cv)"
   ]
  },
  {
   "cell_type": "code",
   "execution_count": 35,
   "id": "oriental-accuracy",
   "metadata": {},
   "outputs": [
    {
     "name": "stdout",
     "output_type": "stream",
     "text": [
      "[[347  53]\n",
      " [508  96]]\n",
      "              precision    recall  f1-score   support\n",
      "\n",
      "           0       0.41      0.87      0.55       400\n",
      "           1       0.64      0.16      0.25       604\n",
      "\n",
      "    accuracy                           0.44      1004\n",
      "   macro avg       0.53      0.51      0.40      1004\n",
      "weighted avg       0.55      0.44      0.37      1004\n",
      "\n"
     ]
    }
   ],
   "source": [
    "rf = RandomForestClassifier(n_estimators = 250, max_depth = 16) # n_estimators = 5\n",
    "rf.fit(X_train, y_train)\n",
    "rf_pred = rf.predict(X_test)\n",
    "print(confusion_matrix(y_test, rf_pred))\n",
    "print(classification_report(y_test, rf_pred))"
   ]
  },
  {
   "cell_type": "markdown",
   "id": "interstate-rover",
   "metadata": {},
   "source": [
    "### Building Models with SMOTE Sampling"
   ]
  },
  {
   "cell_type": "code",
   "execution_count": 36,
   "id": "electric-productivity",
   "metadata": {},
   "outputs": [],
   "source": [
    "from imblearn.over_sampling import SMOTE\n",
    "sm = SMOTE(random_state = 33)"
   ]
  },
  {
   "cell_type": "code",
   "execution_count": 37,
   "id": "posted-hampton",
   "metadata": {},
   "outputs": [],
   "source": [
    "X_train_new, y_train_new = sm.fit_resample(X_train, y_train.ravel())"
   ]
  },
  {
   "cell_type": "code",
   "execution_count": 38,
   "id": "statutory-newton",
   "metadata": {},
   "outputs": [
    {
     "data": {
      "text/plain": [
       "<AxesSubplot:>"
      ]
     },
     "execution_count": 38,
     "metadata": {},
     "output_type": "execute_result"
    },
    {
     "data": {
      "image/png": "[encoded data removed]",
      "text/plain": [
       "<Figure size 432x288 with 1 Axes>"
      ]
     },
     "metadata": {
      "needs_background": "light"
     },
     "output_type": "display_data"
    }
   ],
   "source": [
    "# observe that data has been balanced\n",
    "pd.Series(y_train_new).value_counts().plot.bar()"
   ]
  },
  {
   "cell_type": "markdown",
   "id": "contained-virus",
   "metadata": {},
   "source": [
    "### Decision Tree"
   ]
  },
  {
   "cell_type": "code",
   "execution_count": 39,
   "id": "chief-consequence",
   "metadata": {},
   "outputs": [],
   "source": [
    "dtree1 = DecisionTreeClassifier()\n",
    "dtree1.fit(X_train_new, y_train_new)\n",
    "predtion = dtree1.predict(X_test)"
   ]
  },
  {
   "cell_type": "code",
   "execution_count": 40,
   "id": "increased-privacy",
   "metadata": {},
   "outputs": [
    {
     "name": "stdout",
     "output_type": "stream",
     "text": [
      "              precision    recall  f1-score   support\n",
      "\n",
      "           0       0.35      0.65      0.46       400\n",
      "           1       0.48      0.22      0.30       604\n",
      "\n",
      "    accuracy                           0.39      1004\n",
      "   macro avg       0.42      0.43      0.38      1004\n",
      "weighted avg       0.43      0.39      0.36      1004\n",
      "\n"
     ]
    }
   ],
   "source": [
    "confusion_matrix(y_test, predtion)\n",
    "print(classification_report(y_test, predtion))"
   ]
  },
  {
   "cell_type": "code",
   "execution_count": 41,
   "id": "english-concentrate",
   "metadata": {},
   "outputs": [
    {
     "data": {
      "text/plain": [
       "array([[260, 140],\n",
       "       [473, 131]])"
      ]
     },
     "execution_count": 41,
     "metadata": {},
     "output_type": "execute_result"
    }
   ],
   "source": [
    "confusion_matrix(y_test, predtion)"
   ]
  },
  {
   "cell_type": "code",
   "execution_count": 42,
   "id": "centered-attention",
   "metadata": {},
   "outputs": [],
   "source": [
    "train_pred_sm = dtree1.predict(X_train_new)\n",
    "test_pred_sm = dtree1.predict(X_test)"
   ]
  },
  {
   "cell_type": "code",
   "execution_count": 43,
   "id": "classified-beaver",
   "metadata": {},
   "outputs": [
    {
     "name": "stdout",
     "output_type": "stream",
     "text": [
      "0.3894422310756972\n"
     ]
    },
    {
     "data": {
      "text/plain": [
       "array([[260, 140],\n",
       "       [473, 131]])"
      ]
     },
     "execution_count": 43,
     "metadata": {},
     "output_type": "execute_result"
    }
   ],
   "source": [
    "print(accuracy_score(test_pred_sm, y_test))\n",
    "confusion_matrix(y_test, test_pred_sm)"
   ]
  },
  {
   "cell_type": "code",
   "execution_count": 44,
   "id": "viral-dependence",
   "metadata": {},
   "outputs": [
    {
     "name": "stdout",
     "output_type": "stream",
     "text": [
      "Predicted    0    1   All\n",
      "True                     \n",
      "0          260  140   400\n",
      "1          473  131   604\n",
      "All        733  271  1004\n"
     ]
    }
   ],
   "source": [
    "print(pd.crosstab(y_test.ravel(), test_pred_sm.ravel(), rownames = ['True'], colnames = ['Predicted'], margins = True))\n"
   ]
  },
  {
   "cell_type": "code",
   "execution_count": 46,
   "id": "practical-danish",
   "metadata": {},
   "outputs": [],
   "source": [
    "from sklearn.linear_model import LogisticRegression"
   ]
  },
  {
   "cell_type": "code",
   "execution_count": 47,
   "id": "oriental-asset",
   "metadata": {},
   "outputs": [
    {
     "data": {
      "text/plain": [
       "LogisticRegression()"
      ]
     },
     "execution_count": 47,
     "metadata": {},
     "output_type": "execute_result"
    }
   ],
   "source": [
    "logmodel = LogisticRegression()\n",
    "logmodel.fit(X_train, y_train)"
   ]
  },
  {
   "cell_type": "code",
   "execution_count": 48,
   "id": "residential-gothic",
   "metadata": {},
   "outputs": [],
   "source": [
    "predictions = logmodel.predict(X_test)"
   ]
  },
  {
   "cell_type": "code",
   "execution_count": 50,
   "id": "professional-surname",
   "metadata": {},
   "outputs": [
    {
     "name": "stdout",
     "output_type": "stream",
     "text": [
      "              precision    recall  f1-score   support\n",
      "\n",
      "           0       1.00      0.00      0.00       400\n",
      "           1       0.60      1.00      0.75       604\n",
      "\n",
      "    accuracy                           0.60      1004\n",
      "   macro avg       0.80      0.50      0.38      1004\n",
      "weighted avg       0.76      0.60      0.45      1004\n",
      "\n"
     ]
    }
   ],
   "source": [
    "print(classification_report(y_test, predictions))"
   ]
  },
  {
   "cell_type": "code",
   "execution_count": 51,
   "id": "spiritual-number",
   "metadata": {},
   "outputs": [
    {
     "data": {
      "text/plain": [
       "array([[  1, 399],\n",
       "       [  0, 604]])"
      ]
     },
     "execution_count": 51,
     "metadata": {},
     "output_type": "execute_result"
    }
   ],
   "source": [
    "confusion_matrix(y_test, predictions)"
   ]
  },
  {
   "cell_type": "code",
   "execution_count": 57,
   "id": "functional-contract",
   "metadata": {},
   "outputs": [],
   "source": [
    "logmodel1 = LogisticRegression()\n"
   ]
  },
  {
   "cell_type": "code",
   "execution_count": 60,
   "id": "pleased-yahoo",
   "metadata": {},
   "outputs": [
    {
     "data": {
      "text/plain": [
       "LogisticRegression()"
      ]
     },
     "execution_count": 60,
     "metadata": {},
     "output_type": "execute_result"
    }
   ],
   "source": [
    "logmodel1.fit(X_train_new, y_train_new)"
   ]
  },
  {
   "cell_type": "code",
   "execution_count": 61,
   "id": "another-hierarchy",
   "metadata": {},
   "outputs": [],
   "source": [
    "prediction = logmodel1.predict(X_test)"
   ]
  },
  {
   "cell_type": "code",
   "execution_count": 63,
   "id": "received-producer",
   "metadata": {},
   "outputs": [
    {
     "name": "stdout",
     "output_type": "stream",
     "text": [
      "              precision    recall  f1-score   support\n",
      "\n",
      "           0       0.00      0.00      0.00       400\n",
      "           1       0.60      1.00      0.75       604\n",
      "\n",
      "    accuracy                           0.60      1004\n",
      "   macro avg       0.30      0.50      0.38      1004\n",
      "weighted avg       0.36      0.60      0.45      1004\n",
      "\n"
     ]
    },
    {
     "name": "stderr",
     "output_type": "stream",
     "text": [
      "/Applications/anaconda3/lib/python3.8/site-packages/sklearn/metrics/_classification.py:1245: UndefinedMetricWarning: Precision and F-score are ill-defined and being set to 0.0 in labels with no predicted samples. Use `zero_division` parameter to control this behavior.\n",
      "  _warn_prf(average, modifier, msg_start, len(result))\n",
      "/Applications/anaconda3/lib/python3.8/site-packages/sklearn/metrics/_classification.py:1245: UndefinedMetricWarning: Precision and F-score are ill-defined and being set to 0.0 in labels with no predicted samples. Use `zero_division` parameter to control this behavior.\n",
      "  _warn_prf(average, modifier, msg_start, len(result))\n",
      "/Applications/anaconda3/lib/python3.8/site-packages/sklearn/metrics/_classification.py:1245: UndefinedMetricWarning: Precision and F-score are ill-defined and being set to 0.0 in labels with no predicted samples. Use `zero_division` parameter to control this behavior.\n",
      "  _warn_prf(average, modifier, msg_start, len(result))\n"
     ]
    }
   ],
   "source": [
    "print(classification_report(y_test, prediction))"
   ]
  },
  {
   "cell_type": "code",
   "execution_count": 64,
   "id": "indonesian-system",
   "metadata": {},
   "outputs": [
    {
     "data": {
      "text/plain": [
       "array([[  0, 400],\n",
       "       [  0, 604]])"
      ]
     },
     "execution_count": 64,
     "metadata": {},
     "output_type": "execute_result"
    }
   ],
   "source": [
    "confusion_matrix(y_test, prediction)"
   ]
  },
  {
   "cell_type": "code",
   "execution_count": 65,
   "id": "laden-explorer",
   "metadata": {},
   "outputs": [
    {
     "name": "stdout",
     "output_type": "stream",
     "text": [
      "0.601593625498008\n"
     ]
    }
   ],
   "source": [
    "print(accuracy_score(prediction, y_test))"
   ]
  },
  {
   "cell_type": "code",
   "execution_count": null,
   "id": "pressing-shareware",
   "metadata": {},
   "outputs": [],
   "source": []
  },
  {
   "cell_type": "code",
   "execution_count": null,
   "id": "otherwise-cooper",
   "metadata": {},
   "outputs": [],
   "source": []
  },
  {
   "cell_type": "code",
   "execution_count": 85,
   "id": "polish-killing",
   "metadata": {},
   "outputs": [],
   "source": [
    "from sklearn.ensemble import AdaBoostClassifier\n",
    "from sklearn.neighbors import KNeighborsClassifier\n",
    "from sklearn.pipeline import make_pipeline\n",
    "from sklearn.preprocessing import RobustScaler\n",
    "from sklearn.naive_bayes import GaussianNB\n",
    "from sklearn.svm import SVC"
   ]
  },
  {
   "cell_type": "code",
   "execution_count": 86,
   "id": "blond-strip",
   "metadata": {},
   "outputs": [],
   "source": [
    "pipeline = make_pipeline(RobustScaler()) # creating pipeline for model building\n",
    "\n",
    "LR = make_pipeline(pipeline, LogisticRegression(random_state=0)) # LogisticRegression pipeline\n",
    "DT = make_pipeline(pipeline, DecisionTreeClassifier(random_state=0)) # DecisionTree Classifier pipeline\n",
    "RF = make_pipeline(pipeline, RandomForestClassifier(random_state=0)) # RandomForest Classifier pipeline\n",
    "AC = make_pipeline(pipeline, AdaBoostClassifier(random_state=0)) # Adaboost Classifier pipeline\n",
    "NB = make_pipeline(pipeline, GaussianNB()) # Naive bayes pipeline\n",
    "KN = make_pipeline(pipeline, KNeighborsClassifier()) # KNeighbor pipeline\n",
    "SV = make_pipeline(pipeline, SVC(random_state=0)) # Support vector pipeline"
   ]
  },
  {
   "cell_type": "code",
   "execution_count": 87,
   "id": "driven-department",
   "metadata": {},
   "outputs": [],
   "source": [
    "# creating model_dict\n",
    "model_dictionary = {\n",
    "    'Logistic_Regression':LR,\n",
    "    'DecisionTree_Classifier':DT,\n",
    "    'RandomForest_classifier':RF,\n",
    "    'Adaboost_Classifier':AC,\n",
    "    'Naivebayes_Classifier':NB,\n",
    "    'KNeighbors_classifier':KN,\n",
    "    'Support_Vector':SV\n",
    "}"
   ]
  },
  {
   "cell_type": "code",
   "execution_count": 88,
   "id": "driven-glucose",
   "metadata": {},
   "outputs": [],
   "source": [
    "# define a function to fit the model and return it's accuracy, classification report and confusion matrix\n",
    "def model_fitting(model):\n",
    "    model.fit(X_train, y_train)\n",
    "    y_pred = model.predict(X_test)\n",
    "    print('The accuracy score of the model is: {}%'.format(accuracy_score(y_test, y_pred)* 100))\n",
    "    print('-----'*20)\n",
    "    print(confusion_matrix(y_test, y_pred))\n",
    "    print(classification_report(y_test, y_pred))"
   ]
  },
  {
   "cell_type": "code",
   "execution_count": 89,
   "id": "bacterial-quarterly",
   "metadata": {},
   "outputs": [
    {
     "name": "stdout",
     "output_type": "stream",
     "text": [
      "------------------------------\n",
      "Logistic_Regression\n",
      "The accuracy score of the model is: 62.15139442231076%\n",
      "----------------------------------------------------------------------------------------------------\n",
      "[[  0 380]\n",
      " [  0 624]]\n",
      "              precision    recall  f1-score   support\n",
      "\n",
      "           0       0.00      0.00      0.00       380\n",
      "           1       0.62      1.00      0.77       624\n",
      "\n",
      "    accuracy                           0.62      1004\n",
      "   macro avg       0.31      0.50      0.38      1004\n",
      "weighted avg       0.39      0.62      0.48      1004\n",
      "\n",
      "------------------------------\n",
      "DecisionTree_Classifier\n",
      "The accuracy score of the model is: 52.589641434262944%\n",
      "----------------------------------------------------------------------------------------------------\n",
      "[[240 140]\n",
      " [336 288]]\n",
      "              precision    recall  f1-score   support\n",
      "\n",
      "           0       0.42      0.63      0.50       380\n",
      "           1       0.67      0.46      0.55       624\n",
      "\n",
      "    accuracy                           0.53      1004\n",
      "   macro avg       0.54      0.55      0.52      1004\n",
      "weighted avg       0.58      0.53      0.53      1004\n",
      "\n",
      "------------------------------\n",
      "RandomForest_classifier\n"
     ]
    },
    {
     "name": "stderr",
     "output_type": "stream",
     "text": [
      "/Applications/anaconda3/lib/python3.8/site-packages/sklearn/linear_model/_logistic.py:763: ConvergenceWarning: lbfgs failed to converge (status=1):\n",
      "STOP: TOTAL NO. of ITERATIONS REACHED LIMIT.\n",
      "\n",
      "Increase the number of iterations (max_iter) or scale the data as shown in:\n",
      "    https://scikit-learn.org/stable/modules/preprocessing.html\n",
      "Please also refer to the documentation for alternative solver options:\n",
      "    https://scikit-learn.org/stable/modules/linear_model.html#logistic-regression\n",
      "  n_iter_i = _check_optimize_result(\n",
      "/Applications/anaconda3/lib/python3.8/site-packages/sklearn/metrics/_classification.py:1245: UndefinedMetricWarning: Precision and F-score are ill-defined and being set to 0.0 in labels with no predicted samples. Use `zero_division` parameter to control this behavior.\n",
      "  _warn_prf(average, modifier, msg_start, len(result))\n",
      "/Applications/anaconda3/lib/python3.8/site-packages/sklearn/metrics/_classification.py:1245: UndefinedMetricWarning: Precision and F-score are ill-defined and being set to 0.0 in labels with no predicted samples. Use `zero_division` parameter to control this behavior.\n",
      "  _warn_prf(average, modifier, msg_start, len(result))\n",
      "/Applications/anaconda3/lib/python3.8/site-packages/sklearn/metrics/_classification.py:1245: UndefinedMetricWarning: Precision and F-score are ill-defined and being set to 0.0 in labels with no predicted samples. Use `zero_division` parameter to control this behavior.\n",
      "  _warn_prf(average, modifier, msg_start, len(result))\n"
     ]
    },
    {
     "name": "stdout",
     "output_type": "stream",
     "text": [
      "The accuracy score of the model is: 37.45019920318725%\n",
      "----------------------------------------------------------------------------------------------------\n",
      "[[318  62]\n",
      " [566  58]]\n",
      "              precision    recall  f1-score   support\n",
      "\n",
      "           0       0.36      0.84      0.50       380\n",
      "           1       0.48      0.09      0.16       624\n",
      "\n",
      "    accuracy                           0.37      1004\n",
      "   macro avg       0.42      0.46      0.33      1004\n",
      "weighted avg       0.44      0.37      0.29      1004\n",
      "\n",
      "------------------------------\n",
      "Adaboost_Classifier\n",
      "The accuracy score of the model is: 45.41832669322709%\n",
      "----------------------------------------------------------------------------------------------------\n",
      "[[245 135]\n",
      " [413 211]]\n",
      "              precision    recall  f1-score   support\n",
      "\n",
      "           0       0.37      0.64      0.47       380\n",
      "           1       0.61      0.34      0.44       624\n",
      "\n",
      "    accuracy                           0.45      1004\n",
      "   macro avg       0.49      0.49      0.45      1004\n",
      "weighted avg       0.52      0.45      0.45      1004\n",
      "\n",
      "------------------------------\n",
      "Naivebayes_Classifier\n",
      "The accuracy score of the model is: 37.74900398406375%\n",
      "----------------------------------------------------------------------------------------------------\n",
      "[[379   1]\n",
      " [624   0]]\n",
      "              precision    recall  f1-score   support\n",
      "\n",
      "           0       0.38      1.00      0.55       380\n",
      "           1       0.00      0.00      0.00       624\n",
      "\n",
      "    accuracy                           0.38      1004\n",
      "   macro avg       0.19      0.50      0.27      1004\n",
      "weighted avg       0.14      0.38      0.21      1004\n",
      "\n",
      "------------------------------\n",
      "KNeighbors_classifier\n",
      "The accuracy score of the model is: 55.87649402390438%\n",
      "----------------------------------------------------------------------------------------------------\n",
      "[[138 242]\n",
      " [201 423]]\n",
      "              precision    recall  f1-score   support\n",
      "\n",
      "           0       0.41      0.36      0.38       380\n",
      "           1       0.64      0.68      0.66       624\n",
      "\n",
      "    accuracy                           0.56      1004\n",
      "   macro avg       0.52      0.52      0.52      1004\n",
      "weighted avg       0.55      0.56      0.55      1004\n",
      "\n",
      "------------------------------\n",
      "Support_Vector\n",
      "The accuracy score of the model is: 37.84860557768924%\n",
      "----------------------------------------------------------------------------------------------------\n",
      "[[380   0]\n",
      " [624   0]]\n",
      "              precision    recall  f1-score   support\n",
      "\n",
      "           0       0.38      1.00      0.55       380\n",
      "           1       0.00      0.00      0.00       624\n",
      "\n",
      "    accuracy                           0.38      1004\n",
      "   macro avg       0.19      0.50      0.27      1004\n",
      "weighted avg       0.14      0.38      0.21      1004\n",
      "\n"
     ]
    },
    {
     "name": "stderr",
     "output_type": "stream",
     "text": [
      "/Applications/anaconda3/lib/python3.8/site-packages/sklearn/metrics/_classification.py:1245: UndefinedMetricWarning: Precision and F-score are ill-defined and being set to 0.0 in labels with no predicted samples. Use `zero_division` parameter to control this behavior.\n",
      "  _warn_prf(average, modifier, msg_start, len(result))\n",
      "/Applications/anaconda3/lib/python3.8/site-packages/sklearn/metrics/_classification.py:1245: UndefinedMetricWarning: Precision and F-score are ill-defined and being set to 0.0 in labels with no predicted samples. Use `zero_division` parameter to control this behavior.\n",
      "  _warn_prf(average, modifier, msg_start, len(result))\n",
      "/Applications/anaconda3/lib/python3.8/site-packages/sklearn/metrics/_classification.py:1245: UndefinedMetricWarning: Precision and F-score are ill-defined and being set to 0.0 in labels with no predicted samples. Use `zero_division` parameter to control this behavior.\n",
      "  _warn_prf(average, modifier, msg_start, len(result))\n"
     ]
    }
   ],
   "source": [
    "for name, model in model_dictionary.items():\n",
    "    print('---'*10)\n",
    "    print(name)\n",
    "    model_fitting(model)"
   ]
  },
  {
   "cell_type": "code",
   "execution_count": 93,
   "id": "breeding-grant",
   "metadata": {},
   "outputs": [],
   "source": [
    "from sklearn.metrics import f1_score, precision_score\n",
    "from sklearn import metrics"
   ]
  },
  {
   "cell_type": "code",
   "execution_count": 95,
   "id": "electronic-scheme",
   "metadata": {},
   "outputs": [
    {
     "data": {
      "text/plain": [
       "0.7665847665847666"
      ]
     },
     "execution_count": 95,
     "metadata": {},
     "output_type": "execute_result"
    }
   ],
   "source": [
    "metrics.f1_score(y_test, prediction, labels=np.unique(prediction))"
   ]
  },
  {
   "cell_type": "code",
   "execution_count": 96,
   "id": "sunset-south",
   "metadata": {},
   "outputs": [
    {
     "data": {
      "text/plain": [
       "0.6215139442231076"
      ]
     },
     "execution_count": 96,
     "metadata": {},
     "output_type": "execute_result"
    }
   ],
   "source": [
    "metrics.precision_score(y_test, prediction, labels=np.unique(prediction))"
   ]
  },
  {
   "cell_type": "code",
   "execution_count": 97,
   "id": "brutal-sector",
   "metadata": {},
   "outputs": [
    {
     "data": {
      "text/plain": [
       "Counter({1: 624, 0: 380})"
      ]
     },
     "execution_count": 97,
     "metadata": {},
     "output_type": "execute_result"
    }
   ],
   "source": [
    "from collections import Counter\n",
    "Counter(y_train)\n",
    "Counter(y_test)\n"
   ]
  },
  {
   "cell_type": "markdown",
   "id": "respected-expense",
   "metadata": {},
   "source": [
    "# Testing"
   ]
  },
  {
   "cell_type": "code",
   "execution_count": 136,
   "id": "finished-palestinian",
   "metadata": {},
   "outputs": [],
   "source": [
    "from sklearn.preprocessing import StandardScaler"
   ]
  },
  {
   "cell_type": "code",
   "execution_count": 137,
   "id": "aging-algorithm",
   "metadata": {},
   "outputs": [],
   "source": [
    "scaler = StandardScaler()"
   ]
  },
  {
   "cell_type": "code",
   "execution_count": 138,
   "id": "headed-timber",
   "metadata": {},
   "outputs": [
    {
     "data": {
      "text/plain": [
       "StandardScaler()"
      ]
     },
     "execution_count": 138,
     "metadata": {},
     "output_type": "execute_result"
    }
   ],
   "source": [
    "scaler.fit(df)"
   ]
  },
  {
   "cell_type": "code",
   "execution_count": 139,
   "id": "lesser-speech",
   "metadata": {},
   "outputs": [],
   "source": [
    "scaled_data = scaler.transform(df)"
   ]
  },
  {
   "cell_type": "code",
   "execution_count": 140,
   "id": "aging-lexington",
   "metadata": {},
   "outputs": [],
   "source": [
    "# PCA\n",
    "from sklearn.decomposition import PCA"
   ]
  },
  {
   "cell_type": "code",
   "execution_count": 141,
   "id": "revised-layout",
   "metadata": {},
   "outputs": [],
   "source": [
    "pca = PCA(n_components=2)"
   ]
  },
  {
   "cell_type": "code",
   "execution_count": 142,
   "id": "nasty-south",
   "metadata": {},
   "outputs": [
    {
     "data": {
      "text/plain": [
       "PCA(n_components=2)"
      ]
     },
     "execution_count": 142,
     "metadata": {},
     "output_type": "execute_result"
    }
   ],
   "source": [
    "pca.fit(scaled_data)"
   ]
  },
  {
   "cell_type": "code",
   "execution_count": 143,
   "id": "fresh-african",
   "metadata": {},
   "outputs": [],
   "source": [
    "x_pca = pca.transform(scaled_data)"
   ]
  },
  {
   "cell_type": "code",
   "execution_count": 144,
   "id": "thick-gallery",
   "metadata": {},
   "outputs": [
    {
     "data": {
      "text/plain": [
       "(5016, 24)"
      ]
     },
     "execution_count": 144,
     "metadata": {},
     "output_type": "execute_result"
    }
   ],
   "source": [
    "scaled_data.shape"
   ]
  },
  {
   "cell_type": "code",
   "execution_count": 145,
   "id": "senior-skiing",
   "metadata": {},
   "outputs": [
    {
     "data": {
      "text/plain": [
       "(5016, 2)"
      ]
     },
     "execution_count": 145,
     "metadata": {},
     "output_type": "execute_result"
    }
   ],
   "source": [
    "x_pca.shape"
   ]
  },
  {
   "cell_type": "code",
   "execution_count": 149,
   "id": "elegant-championship",
   "metadata": {},
   "outputs": [
    {
     "data": {
      "text/plain": [
       "Text(0, 0.5, 'Second Principle Component')"
      ]
     },
     "execution_count": 149,
     "metadata": {},
     "output_type": "execute_result"
    },
    {
     "data": {
      "image/png": "[encoded data removed]",
      "text/plain": [
       "<Figure size 576x432 with 1 Axes>"
      ]
     },
     "metadata": {
      "needs_background": "light"
     },
     "output_type": "display_data"
    }
   ],
   "source": [
    "plt.figure(figsize=(8, 6))\n",
    "plt.scatter(x_pca[:, 0], x_pca[:, 1], c=df['Circulatory System(I)'], cmap='plasma')\n",
    "plt.xlabel('First Principle Component')\n",
    "plt.ylabel('Second Principle Component')"
   ]
  },
  {
   "cell_type": "code",
   "execution_count": 150,
   "id": "electronic-composite",
   "metadata": {},
   "outputs": [
    {
     "data": {
      "text/plain": [
       "array([[-0.50145362,  0.06802024, -0.50150125, -0.14422589, -0.07289539,\n",
       "        -0.13709092, -0.26592162,  0.29098559, -0.02265612,  0.01626984,\n",
       "        -0.35276984, -0.10750128, -0.10162102, -0.09051642, -0.09281997,\n",
       "        -0.16498653,  0.18327943,  0.12347517,  0.14312459, -0.11717493,\n",
       "         0.02108244, -0.08849576,  0.02928542,  0.09378372],\n",
       "       [-0.18817556,  0.03411134, -0.18861847,  0.33300114,  0.0995184 ,\n",
       "         0.17714273,  0.04561747, -0.10735533, -0.09062995,  0.06860929,\n",
       "        -0.03414505,  0.30471307,  0.15305117, -0.06238763, -0.41426266,\n",
       "         0.17659003, -0.05542944,  0.1843683 ,  0.21012174,  0.40057329,\n",
       "        -0.2726773 ,  0.1757791 , -0.19235419, -0.20271444]])"
      ]
     },
     "execution_count": 150,
     "metadata": {},
     "output_type": "execute_result"
    }
   ],
   "source": [
    "pca.components_"
   ]
  },
  {
   "cell_type": "code",
   "execution_count": 151,
   "id": "baking-chemistry",
   "metadata": {},
   "outputs": [],
   "source": [
    "df_comp = pd.DataFrame(pca.components_, columns = df.columns)"
   ]
  },
  {
   "cell_type": "code",
   "execution_count": 154,
   "id": "celtic-brass",
   "metadata": {},
   "outputs": [
    {
     "data": {
      "text/plain": [
       "<AxesSubplot:>"
      ]
     },
     "execution_count": 154,
     "metadata": {},
     "output_type": "execute_result"
    },
    {
     "data": {
      "image/png": "[encoded data removed]",
      "text/plain": [
       "<Figure size 864x432 with 2 Axes>"
      ]
     },
     "metadata": {
      "needs_background": "light"
     },
     "output_type": "display_data"
    }
   ],
   "source": [
    "plt.figure(figsize=(12, 6))\n",
    "sns.heatmap(df_comp, cmap = 'plasma')"
   ]
  },
  {
   "cell_type": "code",
   "execution_count": 159,
   "id": "together-amazon",
   "metadata": {},
   "outputs": [],
   "source": [
    "scaler = StandardScaler()"
   ]
  },
  {
   "cell_type": "code",
   "execution_count": 162,
   "id": "immune-reconstruction",
   "metadata": {},
   "outputs": [
    {
     "data": {
      "text/plain": [
       "StandardScaler()"
      ]
     },
     "execution_count": 162,
     "metadata": {},
     "output_type": "execute_result"
    }
   ],
   "source": [
    "scaler.fit(X_train)"
   ]
  },
  {
   "cell_type": "code",
   "execution_count": 163,
   "id": "related-steel",
   "metadata": {},
   "outputs": [],
   "source": [
    "X_train = scaler.transform(X_train)\n",
    "X_test = scaler.transform(X_test)"
   ]
  },
  {
   "cell_type": "code",
   "execution_count": 186,
   "id": "ceramic-cycling",
   "metadata": {},
   "outputs": [],
   "source": [
    "pca = PCA(n_components=2)"
   ]
  },
  {
   "cell_type": "code",
   "execution_count": 187,
   "id": "tutorial-dietary",
   "metadata": {},
   "outputs": [
    {
     "data": {
      "text/plain": [
       "PCA(n_components=2)"
      ]
     },
     "execution_count": 187,
     "metadata": {},
     "output_type": "execute_result"
    }
   ],
   "source": [
    "pca.fit(X_train)"
   ]
  },
  {
   "cell_type": "code",
   "execution_count": 188,
   "id": "cultural-courage",
   "metadata": {},
   "outputs": [],
   "source": [
    "X_train = pca.transform(X_train)\n",
    "X_test = pca.transform(X_test)"
   ]
  },
  {
   "cell_type": "code",
   "execution_count": 199,
   "id": "framed-correlation",
   "metadata": {},
   "outputs": [],
   "source": [
    "log = SVC()"
   ]
  },
  {
   "cell_type": "code",
   "execution_count": 200,
   "id": "outer-riding",
   "metadata": {},
   "outputs": [
    {
     "data": {
      "text/plain": [
       "SVC()"
      ]
     },
     "execution_count": 200,
     "metadata": {},
     "output_type": "execute_result"
    }
   ],
   "source": [
    "log.fit(X_train, y_train)"
   ]
  },
  {
   "cell_type": "code",
   "execution_count": 201,
   "id": "orange-burns",
   "metadata": {},
   "outputs": [],
   "source": [
    "pred = log.predict(X_test)"
   ]
  },
  {
   "cell_type": "code",
   "execution_count": 202,
   "id": "remarkable-reynolds",
   "metadata": {},
   "outputs": [
    {
     "data": {
      "text/plain": [
       "array([[529,   0],\n",
       "       [475,   0]])"
      ]
     },
     "execution_count": 202,
     "metadata": {},
     "output_type": "execute_result"
    }
   ],
   "source": [
    "confusion_matrix(y_test, pred)"
   ]
  },
  {
   "cell_type": "code",
   "execution_count": 203,
   "id": "lined-assumption",
   "metadata": {},
   "outputs": [
    {
     "name": "stdout",
     "output_type": "stream",
     "text": [
      "              precision    recall  f1-score   support\n",
      "\n",
      "           0       0.53      1.00      0.69       529\n",
      "           1       0.00      0.00      0.00       475\n",
      "\n",
      "    accuracy                           0.53      1004\n",
      "   macro avg       0.26      0.50      0.35      1004\n",
      "weighted avg       0.28      0.53      0.36      1004\n",
      "\n"
     ]
    },
    {
     "name": "stderr",
     "output_type": "stream",
     "text": [
      "/Applications/anaconda3/lib/python3.8/site-packages/sklearn/metrics/_classification.py:1245: UndefinedMetricWarning: Precision and F-score are ill-defined and being set to 0.0 in labels with no predicted samples. Use `zero_division` parameter to control this behavior.\n",
      "  _warn_prf(average, modifier, msg_start, len(result))\n",
      "/Applications/anaconda3/lib/python3.8/site-packages/sklearn/metrics/_classification.py:1245: UndefinedMetricWarning: Precision and F-score are ill-defined and being set to 0.0 in labels with no predicted samples. Use `zero_division` parameter to control this behavior.\n",
      "  _warn_prf(average, modifier, msg_start, len(result))\n",
      "/Applications/anaconda3/lib/python3.8/site-packages/sklearn/metrics/_classification.py:1245: UndefinedMetricWarning: Precision and F-score are ill-defined and being set to 0.0 in labels with no predicted samples. Use `zero_division` parameter to control this behavior.\n",
      "  _warn_prf(average, modifier, msg_start, len(result))\n"
     ]
    }
   ],
   "source": [
    "print(classification_report(y_test, pred))"
   ]
  },
  {
   "cell_type": "code",
   "execution_count": null,
   "id": "affiliated-delight",
   "metadata": {},
   "outputs": [],
   "source": []
  },
  {
   "cell_type": "code",
   "execution_count": null,
   "id": "framed-disabled",
   "metadata": {},
   "outputs": [],
   "source": []
  }
 ],
 "metadata": {
  "kernelspec": {
   "display_name": "Python 3",
   "language": "python",
   "name": "python3"
  },
  "language_info": {
   "codemirror_mode": {
    "name": "ipython",
    "version": 3
   },
   "file_extension": ".py",
   "mimetype": "text/x-python",
   "name": "python",
   "nbconvert_exporter": "python",
   "pygments_lexer": "ipython3",
   "version": "3.8.5"
  }
 },
 "nbformat": 4,
 "nbformat_minor": 5
}
