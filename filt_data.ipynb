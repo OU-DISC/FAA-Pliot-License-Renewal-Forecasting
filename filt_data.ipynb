{
 "cells": [
  {
   "cell_type": "markdown",
   "id": "invalid-steel",
   "metadata": {},
   "source": [
    "# Load in packages"
   ]
  },
  {
   "cell_type": "code",
   "execution_count": 1,
   "id": "communist-circus",
   "metadata": {},
   "outputs": [],
   "source": [
    "import pandas as pd\n",
    "import numpy as np\n",
    "import matplotlib.pyplot as plt\n",
    "import seaborn as sns\n",
    "\n",
    "pd.set_option('max_column', None)\n",
    "%matplotlib inline \n",
    "\n",
    "\n",
    "import warnings\n",
    "warnings.filterwarnings('ignore')"
   ]
  },
  {
   "cell_type": "markdown",
   "id": "affecting-catholic",
   "metadata": {},
   "source": [
    "# Load in dataset"
   ]
  },
  {
   "cell_type": "code",
   "execution_count": 2,
   "id": "grand-literature",
   "metadata": {},
   "outputs": [
    {
     "ename": "FileNotFoundError",
     "evalue": "[Errno 2] No such file or directory: 'filter_data'",
     "output_type": "error",
     "traceback": [
      "\u001b[1;31m---------------------------------------------------------------------------\u001b[0m",
      "\u001b[1;31mFileNotFoundError\u001b[0m                         Traceback (most recent call last)",
      "\u001b[1;32m<ipython-input-2-4eea004a25e6>\u001b[0m in \u001b[0;36m<module>\u001b[1;34m\u001b[0m\n\u001b[1;32m----> 1\u001b[1;33m \u001b[0mdf\u001b[0m \u001b[1;33m=\u001b[0m \u001b[0mpd\u001b[0m\u001b[1;33m.\u001b[0m\u001b[0mread_csv\u001b[0m\u001b[1;33m(\u001b[0m\u001b[1;34m'filter_data'\u001b[0m\u001b[1;33m)\u001b[0m\u001b[1;33m\u001b[0m\u001b[1;33m\u001b[0m\u001b[0m\n\u001b[0m",
      "\u001b[1;32m~\\Anaconda3\\lib\\site-packages\\pandas\\io\\parsers.py\u001b[0m in \u001b[0;36mread_csv\u001b[1;34m(filepath_or_buffer, sep, delimiter, header, names, index_col, usecols, squeeze, prefix, mangle_dupe_cols, dtype, engine, converters, true_values, false_values, skipinitialspace, skiprows, skipfooter, nrows, na_values, keep_default_na, na_filter, verbose, skip_blank_lines, parse_dates, infer_datetime_format, keep_date_col, date_parser, dayfirst, cache_dates, iterator, chunksize, compression, thousands, decimal, lineterminator, quotechar, quoting, doublequote, escapechar, comment, encoding, dialect, error_bad_lines, warn_bad_lines, delim_whitespace, low_memory, memory_map, float_precision, storage_options)\u001b[0m\n\u001b[0;32m    608\u001b[0m     \u001b[0mkwds\u001b[0m\u001b[1;33m.\u001b[0m\u001b[0mupdate\u001b[0m\u001b[1;33m(\u001b[0m\u001b[0mkwds_defaults\u001b[0m\u001b[1;33m)\u001b[0m\u001b[1;33m\u001b[0m\u001b[1;33m\u001b[0m\u001b[0m\n\u001b[0;32m    609\u001b[0m \u001b[1;33m\u001b[0m\u001b[0m\n\u001b[1;32m--> 610\u001b[1;33m     \u001b[1;32mreturn\u001b[0m \u001b[0m_read\u001b[0m\u001b[1;33m(\u001b[0m\u001b[0mfilepath_or_buffer\u001b[0m\u001b[1;33m,\u001b[0m \u001b[0mkwds\u001b[0m\u001b[1;33m)\u001b[0m\u001b[1;33m\u001b[0m\u001b[1;33m\u001b[0m\u001b[0m\n\u001b[0m\u001b[0;32m    611\u001b[0m \u001b[1;33m\u001b[0m\u001b[0m\n\u001b[0;32m    612\u001b[0m \u001b[1;33m\u001b[0m\u001b[0m\n",
      "\u001b[1;32m~\\Anaconda3\\lib\\site-packages\\pandas\\io\\parsers.py\u001b[0m in \u001b[0;36m_read\u001b[1;34m(filepath_or_buffer, kwds)\u001b[0m\n\u001b[0;32m    460\u001b[0m \u001b[1;33m\u001b[0m\u001b[0m\n\u001b[0;32m    461\u001b[0m     \u001b[1;31m# Create the parser.\u001b[0m\u001b[1;33m\u001b[0m\u001b[1;33m\u001b[0m\u001b[1;33m\u001b[0m\u001b[0m\n\u001b[1;32m--> 462\u001b[1;33m     \u001b[0mparser\u001b[0m \u001b[1;33m=\u001b[0m \u001b[0mTextFileReader\u001b[0m\u001b[1;33m(\u001b[0m\u001b[0mfilepath_or_buffer\u001b[0m\u001b[1;33m,\u001b[0m \u001b[1;33m**\u001b[0m\u001b[0mkwds\u001b[0m\u001b[1;33m)\u001b[0m\u001b[1;33m\u001b[0m\u001b[1;33m\u001b[0m\u001b[0m\n\u001b[0m\u001b[0;32m    463\u001b[0m \u001b[1;33m\u001b[0m\u001b[0m\n\u001b[0;32m    464\u001b[0m     \u001b[1;32mif\u001b[0m \u001b[0mchunksize\u001b[0m \u001b[1;32mor\u001b[0m \u001b[0miterator\u001b[0m\u001b[1;33m:\u001b[0m\u001b[1;33m\u001b[0m\u001b[1;33m\u001b[0m\u001b[0m\n",
      "\u001b[1;32m~\\Anaconda3\\lib\\site-packages\\pandas\\io\\parsers.py\u001b[0m in \u001b[0;36m__init__\u001b[1;34m(self, f, engine, **kwds)\u001b[0m\n\u001b[0;32m    817\u001b[0m             \u001b[0mself\u001b[0m\u001b[1;33m.\u001b[0m\u001b[0moptions\u001b[0m\u001b[1;33m[\u001b[0m\u001b[1;34m\"has_index_names\"\u001b[0m\u001b[1;33m]\u001b[0m \u001b[1;33m=\u001b[0m \u001b[0mkwds\u001b[0m\u001b[1;33m[\u001b[0m\u001b[1;34m\"has_index_names\"\u001b[0m\u001b[1;33m]\u001b[0m\u001b[1;33m\u001b[0m\u001b[1;33m\u001b[0m\u001b[0m\n\u001b[0;32m    818\u001b[0m \u001b[1;33m\u001b[0m\u001b[0m\n\u001b[1;32m--> 819\u001b[1;33m         \u001b[0mself\u001b[0m\u001b[1;33m.\u001b[0m\u001b[0m_engine\u001b[0m \u001b[1;33m=\u001b[0m \u001b[0mself\u001b[0m\u001b[1;33m.\u001b[0m\u001b[0m_make_engine\u001b[0m\u001b[1;33m(\u001b[0m\u001b[0mself\u001b[0m\u001b[1;33m.\u001b[0m\u001b[0mengine\u001b[0m\u001b[1;33m)\u001b[0m\u001b[1;33m\u001b[0m\u001b[1;33m\u001b[0m\u001b[0m\n\u001b[0m\u001b[0;32m    820\u001b[0m \u001b[1;33m\u001b[0m\u001b[0m\n\u001b[0;32m    821\u001b[0m     \u001b[1;32mdef\u001b[0m \u001b[0mclose\u001b[0m\u001b[1;33m(\u001b[0m\u001b[0mself\u001b[0m\u001b[1;33m)\u001b[0m\u001b[1;33m:\u001b[0m\u001b[1;33m\u001b[0m\u001b[1;33m\u001b[0m\u001b[0m\n",
      "\u001b[1;32m~\\Anaconda3\\lib\\site-packages\\pandas\\io\\parsers.py\u001b[0m in \u001b[0;36m_make_engine\u001b[1;34m(self, engine)\u001b[0m\n\u001b[0;32m   1048\u001b[0m             )\n\u001b[0;32m   1049\u001b[0m         \u001b[1;31m# error: Too many arguments for \"ParserBase\"\u001b[0m\u001b[1;33m\u001b[0m\u001b[1;33m\u001b[0m\u001b[1;33m\u001b[0m\u001b[0m\n\u001b[1;32m-> 1050\u001b[1;33m         \u001b[1;32mreturn\u001b[0m \u001b[0mmapping\u001b[0m\u001b[1;33m[\u001b[0m\u001b[0mengine\u001b[0m\u001b[1;33m]\u001b[0m\u001b[1;33m(\u001b[0m\u001b[0mself\u001b[0m\u001b[1;33m.\u001b[0m\u001b[0mf\u001b[0m\u001b[1;33m,\u001b[0m \u001b[1;33m**\u001b[0m\u001b[0mself\u001b[0m\u001b[1;33m.\u001b[0m\u001b[0moptions\u001b[0m\u001b[1;33m)\u001b[0m  \u001b[1;31m# type: ignore[call-arg]\u001b[0m\u001b[1;33m\u001b[0m\u001b[1;33m\u001b[0m\u001b[0m\n\u001b[0m\u001b[0;32m   1051\u001b[0m \u001b[1;33m\u001b[0m\u001b[0m\n\u001b[0;32m   1052\u001b[0m     \u001b[1;32mdef\u001b[0m \u001b[0m_failover_to_python\u001b[0m\u001b[1;33m(\u001b[0m\u001b[0mself\u001b[0m\u001b[1;33m)\u001b[0m\u001b[1;33m:\u001b[0m\u001b[1;33m\u001b[0m\u001b[1;33m\u001b[0m\u001b[0m\n",
      "\u001b[1;32m~\\Anaconda3\\lib\\site-packages\\pandas\\io\\parsers.py\u001b[0m in \u001b[0;36m__init__\u001b[1;34m(self, src, **kwds)\u001b[0m\n\u001b[0;32m   1865\u001b[0m \u001b[1;33m\u001b[0m\u001b[0m\n\u001b[0;32m   1866\u001b[0m         \u001b[1;31m# open handles\u001b[0m\u001b[1;33m\u001b[0m\u001b[1;33m\u001b[0m\u001b[1;33m\u001b[0m\u001b[0m\n\u001b[1;32m-> 1867\u001b[1;33m         \u001b[0mself\u001b[0m\u001b[1;33m.\u001b[0m\u001b[0m_open_handles\u001b[0m\u001b[1;33m(\u001b[0m\u001b[0msrc\u001b[0m\u001b[1;33m,\u001b[0m \u001b[0mkwds\u001b[0m\u001b[1;33m)\u001b[0m\u001b[1;33m\u001b[0m\u001b[1;33m\u001b[0m\u001b[0m\n\u001b[0m\u001b[0;32m   1868\u001b[0m         \u001b[1;32massert\u001b[0m \u001b[0mself\u001b[0m\u001b[1;33m.\u001b[0m\u001b[0mhandles\u001b[0m \u001b[1;32mis\u001b[0m \u001b[1;32mnot\u001b[0m \u001b[1;32mNone\u001b[0m\u001b[1;33m\u001b[0m\u001b[1;33m\u001b[0m\u001b[0m\n\u001b[0;32m   1869\u001b[0m         \u001b[1;32mfor\u001b[0m \u001b[0mkey\u001b[0m \u001b[1;32min\u001b[0m \u001b[1;33m(\u001b[0m\u001b[1;34m\"storage_options\"\u001b[0m\u001b[1;33m,\u001b[0m \u001b[1;34m\"encoding\"\u001b[0m\u001b[1;33m,\u001b[0m \u001b[1;34m\"memory_map\"\u001b[0m\u001b[1;33m,\u001b[0m \u001b[1;34m\"compression\"\u001b[0m\u001b[1;33m)\u001b[0m\u001b[1;33m:\u001b[0m\u001b[1;33m\u001b[0m\u001b[1;33m\u001b[0m\u001b[0m\n",
      "\u001b[1;32m~\\Anaconda3\\lib\\site-packages\\pandas\\io\\parsers.py\u001b[0m in \u001b[0;36m_open_handles\u001b[1;34m(self, src, kwds)\u001b[0m\n\u001b[0;32m   1360\u001b[0m         \u001b[0mLet\u001b[0m \u001b[0mthe\u001b[0m \u001b[0mreaders\u001b[0m \u001b[0mopen\u001b[0m \u001b[0mIOHanldes\u001b[0m \u001b[0mafter\u001b[0m \u001b[0mthey\u001b[0m \u001b[0mare\u001b[0m \u001b[0mdone\u001b[0m \u001b[1;32mwith\u001b[0m \u001b[0mtheir\u001b[0m \u001b[0mpotential\u001b[0m \u001b[0mraises\u001b[0m\u001b[1;33m.\u001b[0m\u001b[1;33m\u001b[0m\u001b[1;33m\u001b[0m\u001b[0m\n\u001b[0;32m   1361\u001b[0m         \"\"\"\n\u001b[1;32m-> 1362\u001b[1;33m         self.handles = get_handle(\n\u001b[0m\u001b[0;32m   1363\u001b[0m             \u001b[0msrc\u001b[0m\u001b[1;33m,\u001b[0m\u001b[1;33m\u001b[0m\u001b[1;33m\u001b[0m\u001b[0m\n\u001b[0;32m   1364\u001b[0m             \u001b[1;34m\"r\"\u001b[0m\u001b[1;33m,\u001b[0m\u001b[1;33m\u001b[0m\u001b[1;33m\u001b[0m\u001b[0m\n",
      "\u001b[1;32m~\\Anaconda3\\lib\\site-packages\\pandas\\io\\common.py\u001b[0m in \u001b[0;36mget_handle\u001b[1;34m(path_or_buf, mode, encoding, compression, memory_map, is_text, errors, storage_options)\u001b[0m\n\u001b[0;32m    640\u001b[0m                 \u001b[0merrors\u001b[0m \u001b[1;33m=\u001b[0m \u001b[1;34m\"replace\"\u001b[0m\u001b[1;33m\u001b[0m\u001b[1;33m\u001b[0m\u001b[0m\n\u001b[0;32m    641\u001b[0m             \u001b[1;31m# Encoding\u001b[0m\u001b[1;33m\u001b[0m\u001b[1;33m\u001b[0m\u001b[1;33m\u001b[0m\u001b[0m\n\u001b[1;32m--> 642\u001b[1;33m             handle = open(\n\u001b[0m\u001b[0;32m    643\u001b[0m                 \u001b[0mhandle\u001b[0m\u001b[1;33m,\u001b[0m\u001b[1;33m\u001b[0m\u001b[1;33m\u001b[0m\u001b[0m\n\u001b[0;32m    644\u001b[0m                 \u001b[0mioargs\u001b[0m\u001b[1;33m.\u001b[0m\u001b[0mmode\u001b[0m\u001b[1;33m,\u001b[0m\u001b[1;33m\u001b[0m\u001b[1;33m\u001b[0m\u001b[0m\n",
      "\u001b[1;31mFileNotFoundError\u001b[0m: [Errno 2] No such file or directory: 'filter_data'"
     ]
    }
   ],
   "source": [
    "df = pd.read_csv('filter_data')"
   ]
  },
  {
   "cell_type": "code",
   "execution_count": null,
   "id": "monthly-strap",
   "metadata": {},
   "outputs": [],
   "source": [
    "df.head()"
   ]
  },
  {
   "cell_type": "markdown",
   "id": "spare-coverage",
   "metadata": {},
   "source": [
    "**The reason why there are so many duplicates for ENROLID, I am assuming each enrollee visited hospital multiple times**"
   ]
  },
  {
   "cell_type": "code",
   "execution_count": null,
   "id": "warming-uncertainty",
   "metadata": {
    "tags": []
   },
   "outputs": [],
   "source": [
    "df.shape"
   ]
  },
  {
   "cell_type": "code",
   "execution_count": null,
   "id": "listed-maria",
   "metadata": {},
   "outputs": [],
   "source": [
    "df.tail()"
   ]
  },
  {
   "cell_type": "code",
   "execution_count": null,
   "id": "graduate-dealer",
   "metadata": {},
   "outputs": [],
   "source": [
    "df.nunique()"
   ]
  },
  {
   "cell_type": "code",
   "execution_count": null,
   "id": "descending-synthesis",
   "metadata": {},
   "outputs": [],
   "source": [
    "df.info()"
   ]
  },
  {
   "cell_type": "markdown",
   "id": "naval-runner",
   "metadata": {},
   "source": [
    "## How many time a patient has visited hospital in all three years"
   ]
  },
  {
   "cell_type": "code",
   "execution_count": null,
   "id": "unnecessary-kingston",
   "metadata": {
    "scrolled": true
   },
   "outputs": [],
   "source": [
    "df['ENROLID'].value_counts().head()"
   ]
  },
  {
   "cell_type": "markdown",
   "id": "sudden-printer",
   "metadata": {},
   "source": [
    "# Filtering Dataset"
   ]
  },
  {
   "cell_type": "markdown",
   "id": "younger-qualification",
   "metadata": {},
   "source": [
    "## Filter diagnosis codes\n",
    "\n",
    "filtering diagnosis codes relate to heart disease at least 1 in each row"
   ]
  },
  {
   "cell_type": "code",
   "execution_count": null,
   "id": "pleased-vegetation",
   "metadata": {},
   "outputs": [],
   "source": [
    "newdf = df.stack().str.contains(\"I50\").any(level=0) # This takes a while to run"
   ]
  },
  {
   "cell_type": "code",
   "execution_count": null,
   "id": "junior-relation",
   "metadata": {},
   "outputs": [],
   "source": [
    "data = df[newdf]"
   ]
  },
  {
   "cell_type": "code",
   "execution_count": 3,
   "id": "passing-section",
   "metadata": {},
   "outputs": [
    {
     "ename": "NameError",
     "evalue": "name 'data' is not defined",
     "output_type": "error",
     "traceback": [
      "\u001b[1;31m---------------------------------------------------------------------------\u001b[0m",
      "\u001b[1;31mNameError\u001b[0m                                 Traceback (most recent call last)",
      "\u001b[1;32m<ipython-input-3-047ed65ff157>\u001b[0m in \u001b[0;36m<module>\u001b[1;34m\u001b[0m\n\u001b[1;32m----> 1\u001b[1;33m \u001b[0mdata\u001b[0m\u001b[1;33m.\u001b[0m\u001b[0mshape\u001b[0m\u001b[1;33m\u001b[0m\u001b[1;33m\u001b[0m\u001b[0m\n\u001b[0m",
      "\u001b[1;31mNameError\u001b[0m: name 'data' is not defined"
     ]
    }
   ],
   "source": [
    "data.shape"
   ]
  },
  {
   "cell_type": "markdown",
   "id": "worse-category",
   "metadata": {},
   "source": [
    "###  Group same YEAR"
   ]
  },
  {
   "cell_type": "code",
   "execution_count": 4,
   "id": "authentic-riding",
   "metadata": {},
   "outputs": [
    {
     "ename": "NameError",
     "evalue": "name 'data' is not defined",
     "output_type": "error",
     "traceback": [
      "\u001b[1;31m---------------------------------------------------------------------------\u001b[0m",
      "\u001b[1;31mNameError\u001b[0m                                 Traceback (most recent call last)",
      "\u001b[1;32m<ipython-input-4-0ea27a766be1>\u001b[0m in \u001b[0;36m<module>\u001b[1;34m\u001b[0m\n\u001b[1;32m----> 1\u001b[1;33m \u001b[0mgrouped_year\u001b[0m \u001b[1;33m=\u001b[0m \u001b[0mdata\u001b[0m\u001b[1;33m.\u001b[0m\u001b[0mgroupby\u001b[0m\u001b[1;33m(\u001b[0m\u001b[1;34m'YEAR'\u001b[0m\u001b[1;33m)\u001b[0m\u001b[1;33m\u001b[0m\u001b[1;33m\u001b[0m\u001b[0m\n\u001b[0m",
      "\u001b[1;31mNameError\u001b[0m: name 'data' is not defined"
     ]
    }
   ],
   "source": [
    "grouped_year = data.groupby('YEAR')"
   ]
  },
  {
   "cell_type": "code",
   "execution_count": 5,
   "id": "celtic-astronomy",
   "metadata": {},
   "outputs": [
    {
     "ename": "NameError",
     "evalue": "name 'grouped_year' is not defined",
     "output_type": "error",
     "traceback": [
      "\u001b[1;31m---------------------------------------------------------------------------\u001b[0m",
      "\u001b[1;31mNameError\u001b[0m                                 Traceback (most recent call last)",
      "\u001b[1;32m<ipython-input-5-a5754b352211>\u001b[0m in \u001b[0;36m<module>\u001b[1;34m\u001b[0m\n\u001b[0;32m      1\u001b[0m \u001b[1;31m# each enrollid group size\u001b[0m\u001b[1;33m\u001b[0m\u001b[1;33m\u001b[0m\u001b[1;33m\u001b[0m\u001b[0m\n\u001b[1;32m----> 2\u001b[1;33m \u001b[0mgrouped_year\u001b[0m\u001b[1;33m.\u001b[0m\u001b[0msize\u001b[0m\u001b[1;33m(\u001b[0m\u001b[1;33m)\u001b[0m\u001b[1;33m\u001b[0m\u001b[1;33m\u001b[0m\u001b[0m\n\u001b[0m",
      "\u001b[1;31mNameError\u001b[0m: name 'grouped_year' is not defined"
     ]
    }
   ],
   "source": [
    "# each enrollid group size\n",
    "grouped_year.size()"
   ]
  },
  {
   "cell_type": "code",
   "execution_count": 6,
   "id": "received-peter",
   "metadata": {},
   "outputs": [
    {
     "ename": "NameError",
     "evalue": "name 'grouped_year' is not defined",
     "output_type": "error",
     "traceback": [
      "\u001b[1;31m---------------------------------------------------------------------------\u001b[0m",
      "\u001b[1;31mNameError\u001b[0m                                 Traceback (most recent call last)",
      "\u001b[1;32m<ipython-input-6-9e6d347b4585>\u001b[0m in \u001b[0;36m<module>\u001b[1;34m\u001b[0m\n\u001b[0;32m      1\u001b[0m \u001b[1;31m# check the first entry of the grouped enrolid\u001b[0m\u001b[1;33m\u001b[0m\u001b[1;33m\u001b[0m\u001b[1;33m\u001b[0m\u001b[0m\n\u001b[1;32m----> 2\u001b[1;33m \u001b[0mgrouped_year\u001b[0m\u001b[1;33m.\u001b[0m\u001b[0mfirst\u001b[0m\u001b[1;33m(\u001b[0m\u001b[1;33m)\u001b[0m\u001b[1;33m\u001b[0m\u001b[1;33m\u001b[0m\u001b[0m\n\u001b[0m",
      "\u001b[1;31mNameError\u001b[0m: name 'grouped_year' is not defined"
     ]
    }
   ],
   "source": [
    "# check the first entry of the grouped enrolid\n",
    "grouped_year.first()"
   ]
  },
  {
   "cell_type": "code",
   "execution_count": 7,
   "id": "specialized-knowing",
   "metadata": {},
   "outputs": [
    {
     "ename": "NameError",
     "evalue": "name 'grouped_year' is not defined",
     "output_type": "error",
     "traceback": [
      "\u001b[1;31m---------------------------------------------------------------------------\u001b[0m",
      "\u001b[1;31mNameError\u001b[0m                                 Traceback (most recent call last)",
      "\u001b[1;32m<ipython-input-7-bf5aa99efcce>\u001b[0m in \u001b[0;36m<module>\u001b[1;34m\u001b[0m\n\u001b[0;32m      1\u001b[0m \u001b[1;31m# check the last entry of grouped enrolid\u001b[0m\u001b[1;33m\u001b[0m\u001b[1;33m\u001b[0m\u001b[1;33m\u001b[0m\u001b[0m\n\u001b[1;32m----> 2\u001b[1;33m \u001b[0mgrouped_year\u001b[0m\u001b[1;33m.\u001b[0m\u001b[0mlast\u001b[0m\u001b[1;33m(\u001b[0m\u001b[1;33m)\u001b[0m\u001b[1;33m\u001b[0m\u001b[1;33m\u001b[0m\u001b[0m\n\u001b[0m",
      "\u001b[1;31mNameError\u001b[0m: name 'grouped_year' is not defined"
     ]
    }
   ],
   "source": [
    "# check the last entry of grouped enrolid\n",
    "grouped_year.last()"
   ]
  },
  {
   "cell_type": "code",
   "execution_count": 17,
   "id": "instrumental-execution",
   "metadata": {},
   "outputs": [],
   "source": [
    "# extract Year of 2018 data\n",
    "df_18 = grouped_year.get_group(2018)"
   ]
  },
  {
   "cell_type": "code",
   "execution_count": 18,
   "id": "liable-ultimate",
   "metadata": {},
   "outputs": [
    {
     "data": {
      "text/html": [
       "<div>\n",
       "<style scoped>\n",
       "    .dataframe tbody tr th:only-of-type {\n",
       "        vertical-align: middle;\n",
       "    }\n",
       "\n",
       "    .dataframe tbody tr th {\n",
       "        vertical-align: top;\n",
       "    }\n",
       "\n",
       "    .dataframe thead th {\n",
       "        text-align: right;\n",
       "    }\n",
       "</style>\n",
       "<table border=\"1\" class=\"dataframe\">\n",
       "  <thead>\n",
       "    <tr style=\"text-align: right;\">\n",
       "      <th></th>\n",
       "      <th>ENROLID</th>\n",
       "      <th>DOBYR</th>\n",
       "      <th>YEAR</th>\n",
       "      <th>AGE</th>\n",
       "      <th>PDX</th>\n",
       "      <th>DX1</th>\n",
       "      <th>DX2</th>\n",
       "      <th>DX3</th>\n",
       "      <th>DX4</th>\n",
       "      <th>DX5</th>\n",
       "      <th>DX6</th>\n",
       "      <th>DX7</th>\n",
       "      <th>DX8</th>\n",
       "      <th>DX9</th>\n",
       "      <th>DX10</th>\n",
       "      <th>DX11</th>\n",
       "      <th>DX12</th>\n",
       "      <th>DX13</th>\n",
       "      <th>DX14</th>\n",
       "      <th>DX15</th>\n",
       "      <th>SEX</th>\n",
       "      <th>NDCNUM</th>\n",
       "      <th>PRODNME</th>\n",
       "    </tr>\n",
       "  </thead>\n",
       "  <tbody>\n",
       "    <tr>\n",
       "      <th>6</th>\n",
       "      <td>130191202.0</td>\n",
       "      <td>1957.0</td>\n",
       "      <td>2018.0</td>\n",
       "      <td>61.0</td>\n",
       "      <td>T85694A</td>\n",
       "      <td>T85694A</td>\n",
       "      <td>E1110</td>\n",
       "      <td>I130</td>\n",
       "      <td>I5030</td>\n",
       "      <td>N179</td>\n",
       "      <td>E1310</td>\n",
       "      <td>R0600</td>\n",
       "      <td>R7989</td>\n",
       "      <td>E1165</td>\n",
       "      <td>J209</td>\n",
       "      <td>N189</td>\n",
       "      <td>Z794</td>\n",
       "      <td>NaN</td>\n",
       "      <td>NaN</td>\n",
       "      <td>NaN</td>\n",
       "      <td>1.0</td>\n",
       "      <td>169750111.0</td>\n",
       "      <td>NOVOLOG</td>\n",
       "    </tr>\n",
       "    <tr>\n",
       "      <th>23</th>\n",
       "      <td>132687801.0</td>\n",
       "      <td>1958.0</td>\n",
       "      <td>2018.0</td>\n",
       "      <td>60.0</td>\n",
       "      <td>I130</td>\n",
       "      <td>I130</td>\n",
       "      <td>E1122</td>\n",
       "      <td>E1142</td>\n",
       "      <td>I5023</td>\n",
       "      <td>N179</td>\n",
       "      <td>I5033</td>\n",
       "      <td>R079</td>\n",
       "      <td>E8342</td>\n",
       "      <td>E119</td>\n",
       "      <td>E872</td>\n",
       "      <td>I10</td>\n",
       "      <td>N183</td>\n",
       "      <td>NaN</td>\n",
       "      <td>NaN</td>\n",
       "      <td>NaN</td>\n",
       "      <td>1.0</td>\n",
       "      <td>169750111.0</td>\n",
       "      <td>NOVOLOG</td>\n",
       "    </tr>\n",
       "    <tr>\n",
       "      <th>28</th>\n",
       "      <td>133276802.0</td>\n",
       "      <td>1959.0</td>\n",
       "      <td>2018.0</td>\n",
       "      <td>58.0</td>\n",
       "      <td>I25110</td>\n",
       "      <td>I25110</td>\n",
       "      <td>E1149</td>\n",
       "      <td>E11622</td>\n",
       "      <td>I5022</td>\n",
       "      <td>L97919</td>\n",
       "      <td>NaN</td>\n",
       "      <td>NaN</td>\n",
       "      <td>NaN</td>\n",
       "      <td>NaN</td>\n",
       "      <td>NaN</td>\n",
       "      <td>NaN</td>\n",
       "      <td>NaN</td>\n",
       "      <td>NaN</td>\n",
       "      <td>NaN</td>\n",
       "      <td>NaN</td>\n",
       "      <td>1.0</td>\n",
       "      <td>169750111.0</td>\n",
       "      <td>NOVOLOG</td>\n",
       "    </tr>\n",
       "    <tr>\n",
       "      <th>29</th>\n",
       "      <td>133276802.0</td>\n",
       "      <td>1959.0</td>\n",
       "      <td>2018.0</td>\n",
       "      <td>58.0</td>\n",
       "      <td>I214</td>\n",
       "      <td>I214</td>\n",
       "      <td>E1149</td>\n",
       "      <td>E1165</td>\n",
       "      <td>I25799</td>\n",
       "      <td>I5023</td>\n",
       "      <td>NaN</td>\n",
       "      <td>NaN</td>\n",
       "      <td>NaN</td>\n",
       "      <td>NaN</td>\n",
       "      <td>NaN</td>\n",
       "      <td>NaN</td>\n",
       "      <td>NaN</td>\n",
       "      <td>NaN</td>\n",
       "      <td>NaN</td>\n",
       "      <td>NaN</td>\n",
       "      <td>1.0</td>\n",
       "      <td>169750111.0</td>\n",
       "      <td>NOVOLOG</td>\n",
       "    </tr>\n",
       "    <tr>\n",
       "      <th>30</th>\n",
       "      <td>133276802.0</td>\n",
       "      <td>1959.0</td>\n",
       "      <td>2018.0</td>\n",
       "      <td>58.0</td>\n",
       "      <td>I951</td>\n",
       "      <td>I951</td>\n",
       "      <td>E1140</td>\n",
       "      <td>I110</td>\n",
       "      <td>I2510</td>\n",
       "      <td>I5022</td>\n",
       "      <td>NaN</td>\n",
       "      <td>NaN</td>\n",
       "      <td>NaN</td>\n",
       "      <td>NaN</td>\n",
       "      <td>NaN</td>\n",
       "      <td>NaN</td>\n",
       "      <td>NaN</td>\n",
       "      <td>NaN</td>\n",
       "      <td>NaN</td>\n",
       "      <td>NaN</td>\n",
       "      <td>1.0</td>\n",
       "      <td>169750111.0</td>\n",
       "      <td>NOVOLOG</td>\n",
       "    </tr>\n",
       "  </tbody>\n",
       "</table>\n",
       "</div>"
      ],
      "text/plain": [
       "        ENROLID   DOBYR    YEAR   AGE      PDX      DX1    DX2     DX3  \\\n",
       "6   130191202.0  1957.0  2018.0  61.0  T85694A  T85694A  E1110    I130   \n",
       "23  132687801.0  1958.0  2018.0  60.0     I130     I130  E1122   E1142   \n",
       "28  133276802.0  1959.0  2018.0  58.0   I25110   I25110  E1149  E11622   \n",
       "29  133276802.0  1959.0  2018.0  58.0     I214     I214  E1149   E1165   \n",
       "30  133276802.0  1959.0  2018.0  58.0     I951     I951  E1140    I110   \n",
       "\n",
       "       DX4     DX5    DX6    DX7    DX8    DX9  DX10  DX11  DX12 DX13 DX14  \\\n",
       "6    I5030    N179  E1310  R0600  R7989  E1165  J209  N189  Z794  NaN  NaN   \n",
       "23   I5023    N179  I5033   R079  E8342   E119  E872   I10  N183  NaN  NaN   \n",
       "28   I5022  L97919    NaN    NaN    NaN    NaN   NaN   NaN   NaN  NaN  NaN   \n",
       "29  I25799   I5023    NaN    NaN    NaN    NaN   NaN   NaN   NaN  NaN  NaN   \n",
       "30   I2510   I5022    NaN    NaN    NaN    NaN   NaN   NaN   NaN  NaN  NaN   \n",
       "\n",
       "   DX15  SEX       NDCNUM  PRODNME  \n",
       "6   NaN  1.0  169750111.0  NOVOLOG  \n",
       "23  NaN  1.0  169750111.0  NOVOLOG  \n",
       "28  NaN  1.0  169750111.0  NOVOLOG  \n",
       "29  NaN  1.0  169750111.0  NOVOLOG  \n",
       "30  NaN  1.0  169750111.0  NOVOLOG  "
      ]
     },
     "execution_count": 18,
     "metadata": {},
     "output_type": "execute_result"
    }
   ],
   "source": [
    "df_18.head()"
   ]
  },
  {
   "cell_type": "markdown",
   "id": "consecutive-isolation",
   "metadata": {},
   "source": [
    "#### Save filtered data to sepreate CSV files\n"
   ]
  },
  {
   "cell_type": "code",
   "execution_count": 19,
   "id": "swiss-policy",
   "metadata": {},
   "outputs": [],
   "source": [
    "# save 2018 data to a data set\n",
    "df_18.to_csv('2018_data.csv')"
   ]
  },
  {
   "cell_type": "code",
   "execution_count": 20,
   "id": "recent-butter",
   "metadata": {},
   "outputs": [],
   "source": [
    "# 2019 data\n",
    "df_19 = grouped_year.get_group(2019)"
   ]
  },
  {
   "cell_type": "code",
   "execution_count": 21,
   "id": "directed-reach",
   "metadata": {},
   "outputs": [
    {
     "data": {
      "text/html": [
       "<div>\n",
       "<style scoped>\n",
       "    .dataframe tbody tr th:only-of-type {\n",
       "        vertical-align: middle;\n",
       "    }\n",
       "\n",
       "    .dataframe tbody tr th {\n",
       "        vertical-align: top;\n",
       "    }\n",
       "\n",
       "    .dataframe thead th {\n",
       "        text-align: right;\n",
       "    }\n",
       "</style>\n",
       "<table border=\"1\" class=\"dataframe\">\n",
       "  <thead>\n",
       "    <tr style=\"text-align: right;\">\n",
       "      <th></th>\n",
       "      <th>ENROLID</th>\n",
       "      <th>DOBYR</th>\n",
       "      <th>YEAR</th>\n",
       "      <th>AGE</th>\n",
       "      <th>PDX</th>\n",
       "      <th>DX1</th>\n",
       "      <th>DX2</th>\n",
       "      <th>DX3</th>\n",
       "      <th>DX4</th>\n",
       "      <th>DX5</th>\n",
       "      <th>DX6</th>\n",
       "      <th>DX7</th>\n",
       "      <th>DX8</th>\n",
       "      <th>DX9</th>\n",
       "      <th>DX10</th>\n",
       "      <th>DX11</th>\n",
       "      <th>DX12</th>\n",
       "      <th>DX13</th>\n",
       "      <th>DX14</th>\n",
       "      <th>DX15</th>\n",
       "      <th>SEX</th>\n",
       "      <th>NDCNUM</th>\n",
       "      <th>PRODNME</th>\n",
       "    </tr>\n",
       "  </thead>\n",
       "  <tbody>\n",
       "    <tr>\n",
       "      <th>1604</th>\n",
       "      <td>132687801.0</td>\n",
       "      <td>1958.0</td>\n",
       "      <td>2019.0</td>\n",
       "      <td>61.0</td>\n",
       "      <td>I132</td>\n",
       "      <td>I132</td>\n",
       "      <td>I214</td>\n",
       "      <td>I5033</td>\n",
       "      <td>J9601</td>\n",
       "      <td>Z6841</td>\n",
       "      <td>N185</td>\n",
       "      <td>L97421</td>\n",
       "      <td>L97529</td>\n",
       "      <td>J810</td>\n",
       "      <td>I5023</td>\n",
       "      <td>E1122</td>\n",
       "      <td>I5021</td>\n",
       "      <td>E11621</td>\n",
       "      <td>I2510</td>\n",
       "      <td>E872</td>\n",
       "      <td>1.0</td>\n",
       "      <td>169750111.0</td>\n",
       "      <td>NOVOLOG</td>\n",
       "    </tr>\n",
       "    <tr>\n",
       "      <th>1605</th>\n",
       "      <td>132687801.0</td>\n",
       "      <td>1958.0</td>\n",
       "      <td>2019.0</td>\n",
       "      <td>61.0</td>\n",
       "      <td>I130</td>\n",
       "      <td>I130</td>\n",
       "      <td>E872</td>\n",
       "      <td>I160</td>\n",
       "      <td>I5033</td>\n",
       "      <td>N184</td>\n",
       "      <td>I161</td>\n",
       "      <td>I5023</td>\n",
       "      <td>E1165</td>\n",
       "      <td>D631</td>\n",
       "      <td>E1122</td>\n",
       "      <td>N185</td>\n",
       "      <td>I10</td>\n",
       "      <td>NaN</td>\n",
       "      <td>NaN</td>\n",
       "      <td>NaN</td>\n",
       "      <td>1.0</td>\n",
       "      <td>169750111.0</td>\n",
       "      <td>NOVOLOG</td>\n",
       "    </tr>\n",
       "    <tr>\n",
       "      <th>1607</th>\n",
       "      <td>133117002.0</td>\n",
       "      <td>1963.0</td>\n",
       "      <td>2019.0</td>\n",
       "      <td>56.0</td>\n",
       "      <td>J9601</td>\n",
       "      <td>J9601</td>\n",
       "      <td>E875</td>\n",
       "      <td>I132</td>\n",
       "      <td>I5032</td>\n",
       "      <td>N186</td>\n",
       "      <td>I444</td>\n",
       "      <td>R079</td>\n",
       "      <td>R918</td>\n",
       "      <td>E1122</td>\n",
       "      <td>R739</td>\n",
       "      <td>E1165</td>\n",
       "      <td>D631</td>\n",
       "      <td>E876</td>\n",
       "      <td>E8339</td>\n",
       "      <td>E8779</td>\n",
       "      <td>2.0</td>\n",
       "      <td>169750111.0</td>\n",
       "      <td>NOVOLOG</td>\n",
       "    </tr>\n",
       "    <tr>\n",
       "      <th>1608</th>\n",
       "      <td>133117002.0</td>\n",
       "      <td>1963.0</td>\n",
       "      <td>2019.0</td>\n",
       "      <td>56.0</td>\n",
       "      <td>A419</td>\n",
       "      <td>A419</td>\n",
       "      <td>A0472</td>\n",
       "      <td>I132</td>\n",
       "      <td>I21A1</td>\n",
       "      <td>N186</td>\n",
       "      <td>I240</td>\n",
       "      <td>R079</td>\n",
       "      <td>R1084</td>\n",
       "      <td>R109</td>\n",
       "      <td>R112</td>\n",
       "      <td>I5032</td>\n",
       "      <td>R1011</td>\n",
       "      <td>Z136</td>\n",
       "      <td>E0842</td>\n",
       "      <td>E782</td>\n",
       "      <td>2.0</td>\n",
       "      <td>169750111.0</td>\n",
       "      <td>NOVOLOG</td>\n",
       "    </tr>\n",
       "    <tr>\n",
       "      <th>1609</th>\n",
       "      <td>133276802.0</td>\n",
       "      <td>1959.0</td>\n",
       "      <td>2019.0</td>\n",
       "      <td>59.0</td>\n",
       "      <td>K5732</td>\n",
       "      <td>K5732</td>\n",
       "      <td>I255</td>\n",
       "      <td>I5022</td>\n",
       "      <td>I69354</td>\n",
       "      <td>J449</td>\n",
       "      <td>NaN</td>\n",
       "      <td>NaN</td>\n",
       "      <td>NaN</td>\n",
       "      <td>NaN</td>\n",
       "      <td>NaN</td>\n",
       "      <td>NaN</td>\n",
       "      <td>NaN</td>\n",
       "      <td>NaN</td>\n",
       "      <td>NaN</td>\n",
       "      <td>NaN</td>\n",
       "      <td>1.0</td>\n",
       "      <td>169750111.0</td>\n",
       "      <td>NOVOLOG</td>\n",
       "    </tr>\n",
       "  </tbody>\n",
       "</table>\n",
       "</div>"
      ],
      "text/plain": [
       "          ENROLID   DOBYR    YEAR   AGE    PDX    DX1    DX2    DX3     DX4  \\\n",
       "1604  132687801.0  1958.0  2019.0  61.0   I132   I132   I214  I5033   J9601   \n",
       "1605  132687801.0  1958.0  2019.0  61.0   I130   I130   E872   I160   I5033   \n",
       "1607  133117002.0  1963.0  2019.0  56.0  J9601  J9601   E875   I132   I5032   \n",
       "1608  133117002.0  1963.0  2019.0  56.0   A419   A419  A0472   I132   I21A1   \n",
       "1609  133276802.0  1959.0  2019.0  59.0  K5732  K5732   I255  I5022  I69354   \n",
       "\n",
       "        DX5   DX6     DX7     DX8    DX9   DX10   DX11   DX12    DX13   DX14  \\\n",
       "1604  Z6841  N185  L97421  L97529   J810  I5023  E1122  I5021  E11621  I2510   \n",
       "1605   N184  I161   I5023   E1165   D631  E1122   N185    I10     NaN    NaN   \n",
       "1607   N186  I444    R079    R918  E1122   R739  E1165   D631    E876  E8339   \n",
       "1608   N186  I240    R079   R1084   R109   R112  I5032  R1011    Z136  E0842   \n",
       "1609   J449   NaN     NaN     NaN    NaN    NaN    NaN    NaN     NaN    NaN   \n",
       "\n",
       "       DX15  SEX       NDCNUM  PRODNME  \n",
       "1604   E872  1.0  169750111.0  NOVOLOG  \n",
       "1605    NaN  1.0  169750111.0  NOVOLOG  \n",
       "1607  E8779  2.0  169750111.0  NOVOLOG  \n",
       "1608   E782  2.0  169750111.0  NOVOLOG  \n",
       "1609    NaN  1.0  169750111.0  NOVOLOG  "
      ]
     },
     "execution_count": 21,
     "metadata": {},
     "output_type": "execute_result"
    }
   ],
   "source": [
    "df_19.head()"
   ]
  },
  {
   "cell_type": "code",
   "execution_count": 22,
   "id": "exposed-nudist",
   "metadata": {},
   "outputs": [],
   "source": [
    "# save 2019 data to a csv file\n",
    "df_19.to_csv('2019_data.csv')"
   ]
  },
  {
   "cell_type": "code",
   "execution_count": 23,
   "id": "dependent-story",
   "metadata": {},
   "outputs": [],
   "source": [
    "# 2020 data\n",
    "df_20 = grouped_year.get_group(2020)"
   ]
  },
  {
   "cell_type": "code",
   "execution_count": 24,
   "id": "danish-tiffany",
   "metadata": {
    "scrolled": true,
    "tags": []
   },
   "outputs": [
    {
     "data": {
      "text/html": [
       "<div>\n",
       "<style scoped>\n",
       "    .dataframe tbody tr th:only-of-type {\n",
       "        vertical-align: middle;\n",
       "    }\n",
       "\n",
       "    .dataframe tbody tr th {\n",
       "        vertical-align: top;\n",
       "    }\n",
       "\n",
       "    .dataframe thead th {\n",
       "        text-align: right;\n",
       "    }\n",
       "</style>\n",
       "<table border=\"1\" class=\"dataframe\">\n",
       "  <thead>\n",
       "    <tr style=\"text-align: right;\">\n",
       "      <th></th>\n",
       "      <th>ENROLID</th>\n",
       "      <th>DOBYR</th>\n",
       "      <th>YEAR</th>\n",
       "      <th>AGE</th>\n",
       "      <th>PDX</th>\n",
       "      <th>DX1</th>\n",
       "      <th>DX2</th>\n",
       "      <th>DX3</th>\n",
       "      <th>DX4</th>\n",
       "      <th>DX5</th>\n",
       "      <th>DX6</th>\n",
       "      <th>DX7</th>\n",
       "      <th>DX8</th>\n",
       "      <th>DX9</th>\n",
       "      <th>DX10</th>\n",
       "      <th>DX11</th>\n",
       "      <th>DX12</th>\n",
       "      <th>DX13</th>\n",
       "      <th>DX14</th>\n",
       "      <th>DX15</th>\n",
       "      <th>SEX</th>\n",
       "      <th>NDCNUM</th>\n",
       "      <th>PRODNME</th>\n",
       "    </tr>\n",
       "  </thead>\n",
       "  <tbody>\n",
       "    <tr>\n",
       "      <th>2503</th>\n",
       "      <td>133117002.0</td>\n",
       "      <td>1963.0</td>\n",
       "      <td>2020.0</td>\n",
       "      <td>57.0</td>\n",
       "      <td>E1143</td>\n",
       "      <td>E1143</td>\n",
       "      <td>E1122</td>\n",
       "      <td>I132</td>\n",
       "      <td>I5032</td>\n",
       "      <td>N186</td>\n",
       "      <td>R109</td>\n",
       "      <td>R112</td>\n",
       "      <td>Z136</td>\n",
       "      <td>I120</td>\n",
       "      <td>R110</td>\n",
       "      <td>K3184</td>\n",
       "      <td>NaN</td>\n",
       "      <td>NaN</td>\n",
       "      <td>NaN</td>\n",
       "      <td>NaN</td>\n",
       "      <td>2.0</td>\n",
       "      <td>169750111.0</td>\n",
       "      <td>NOVOLOG</td>\n",
       "    </tr>\n",
       "    <tr>\n",
       "      <th>2504</th>\n",
       "      <td>133117002.0</td>\n",
       "      <td>1963.0</td>\n",
       "      <td>2020.0</td>\n",
       "      <td>57.0</td>\n",
       "      <td>E1310</td>\n",
       "      <td>E1310</td>\n",
       "      <td>E1110</td>\n",
       "      <td>I132</td>\n",
       "      <td>I5032</td>\n",
       "      <td>N186</td>\n",
       "      <td>R188</td>\n",
       "      <td>R198</td>\n",
       "      <td>R531</td>\n",
       "      <td>S3992XA</td>\n",
       "      <td>I120</td>\n",
       "      <td>R109</td>\n",
       "      <td>R1011</td>\n",
       "      <td>E1010</td>\n",
       "      <td>D649</td>\n",
       "      <td>R1110</td>\n",
       "      <td>2.0</td>\n",
       "      <td>169750111.0</td>\n",
       "      <td>NOVOLOG</td>\n",
       "    </tr>\n",
       "    <tr>\n",
       "      <th>2505</th>\n",
       "      <td>133117002.0</td>\n",
       "      <td>1963.0</td>\n",
       "      <td>2020.0</td>\n",
       "      <td>57.0</td>\n",
       "      <td>E1010</td>\n",
       "      <td>E1010</td>\n",
       "      <td>I132</td>\n",
       "      <td>I5032</td>\n",
       "      <td>N186</td>\n",
       "      <td>N3000</td>\n",
       "      <td>E1110</td>\n",
       "      <td>E875</td>\n",
       "      <td>E1343</td>\n",
       "      <td>I120</td>\n",
       "      <td>E785</td>\n",
       "      <td>K3184</td>\n",
       "      <td>NaN</td>\n",
       "      <td>NaN</td>\n",
       "      <td>NaN</td>\n",
       "      <td>NaN</td>\n",
       "      <td>2.0</td>\n",
       "      <td>169750111.0</td>\n",
       "      <td>NOVOLOG</td>\n",
       "    </tr>\n",
       "    <tr>\n",
       "      <th>2506</th>\n",
       "      <td>133117002.0</td>\n",
       "      <td>1963.0</td>\n",
       "      <td>2020.0</td>\n",
       "      <td>57.0</td>\n",
       "      <td>E1143</td>\n",
       "      <td>E1143</td>\n",
       "      <td>I132</td>\n",
       "      <td>I5032</td>\n",
       "      <td>K3184</td>\n",
       "      <td>N186</td>\n",
       "      <td>R1110</td>\n",
       "      <td>R1115</td>\n",
       "      <td>R918</td>\n",
       "      <td>E875</td>\n",
       "      <td>E1165</td>\n",
       "      <td>R112</td>\n",
       "      <td>N189</td>\n",
       "      <td>R188</td>\n",
       "      <td>N2581</td>\n",
       "      <td>R197</td>\n",
       "      <td>2.0</td>\n",
       "      <td>169750111.0</td>\n",
       "      <td>NOVOLOG</td>\n",
       "    </tr>\n",
       "    <tr>\n",
       "      <th>2507</th>\n",
       "      <td>133117002.0</td>\n",
       "      <td>1963.0</td>\n",
       "      <td>2020.0</td>\n",
       "      <td>57.0</td>\n",
       "      <td>E1310</td>\n",
       "      <td>E1310</td>\n",
       "      <td>E1110</td>\n",
       "      <td>G9341</td>\n",
       "      <td>I132</td>\n",
       "      <td>I5032</td>\n",
       "      <td>N186</td>\n",
       "      <td>E1010</td>\n",
       "      <td>E871</td>\n",
       "      <td>E872</td>\n",
       "      <td>E875</td>\n",
       "      <td>E876</td>\n",
       "      <td>Z992</td>\n",
       "      <td>NaN</td>\n",
       "      <td>NaN</td>\n",
       "      <td>NaN</td>\n",
       "      <td>2.0</td>\n",
       "      <td>169750111.0</td>\n",
       "      <td>NOVOLOG</td>\n",
       "    </tr>\n",
       "  </tbody>\n",
       "</table>\n",
       "</div>"
      ],
      "text/plain": [
       "          ENROLID   DOBYR    YEAR   AGE    PDX    DX1    DX2    DX3    DX4  \\\n",
       "2503  133117002.0  1963.0  2020.0  57.0  E1143  E1143  E1122   I132  I5032   \n",
       "2504  133117002.0  1963.0  2020.0  57.0  E1310  E1310  E1110   I132  I5032   \n",
       "2505  133117002.0  1963.0  2020.0  57.0  E1010  E1010   I132  I5032   N186   \n",
       "2506  133117002.0  1963.0  2020.0  57.0  E1143  E1143   I132  I5032  K3184   \n",
       "2507  133117002.0  1963.0  2020.0  57.0  E1310  E1310  E1110  G9341   I132   \n",
       "\n",
       "        DX5    DX6    DX7    DX8      DX9   DX10   DX11   DX12   DX13   DX14  \\\n",
       "2503   N186   R109   R112   Z136     I120   R110  K3184    NaN    NaN    NaN   \n",
       "2504   N186   R188   R198   R531  S3992XA   I120   R109  R1011  E1010   D649   \n",
       "2505  N3000  E1110   E875  E1343     I120   E785  K3184    NaN    NaN    NaN   \n",
       "2506   N186  R1110  R1115   R918     E875  E1165   R112   N189   R188  N2581   \n",
       "2507  I5032   N186  E1010   E871     E872   E875   E876   Z992    NaN    NaN   \n",
       "\n",
       "       DX15  SEX       NDCNUM  PRODNME  \n",
       "2503    NaN  2.0  169750111.0  NOVOLOG  \n",
       "2504  R1110  2.0  169750111.0  NOVOLOG  \n",
       "2505    NaN  2.0  169750111.0  NOVOLOG  \n",
       "2506   R197  2.0  169750111.0  NOVOLOG  \n",
       "2507    NaN  2.0  169750111.0  NOVOLOG  "
      ]
     },
     "execution_count": 24,
     "metadata": {},
     "output_type": "execute_result"
    }
   ],
   "source": [
    "df_20.head()"
   ]
  },
  {
   "cell_type": "code",
   "execution_count": 25,
   "id": "rural-starter",
   "metadata": {
    "scrolled": true
   },
   "outputs": [],
   "source": [
    "# save to a csv file\n",
    "df_20.to_csv('2020_data.csv')"
   ]
  },
  {
   "cell_type": "markdown",
   "id": "acting-baltimore",
   "metadata": {},
   "source": [
    "## Explore 2018 data"
   ]
  },
  {
   "cell_type": "code",
   "execution_count": 26,
   "id": "organizational-assembly",
   "metadata": {},
   "outputs": [
    {
     "data": {
      "text/html": [
       "<div>\n",
       "<style scoped>\n",
       "    .dataframe tbody tr th:only-of-type {\n",
       "        vertical-align: middle;\n",
       "    }\n",
       "\n",
       "    .dataframe tbody tr th {\n",
       "        vertical-align: top;\n",
       "    }\n",
       "\n",
       "    .dataframe thead th {\n",
       "        text-align: right;\n",
       "    }\n",
       "</style>\n",
       "<table border=\"1\" class=\"dataframe\">\n",
       "  <thead>\n",
       "    <tr style=\"text-align: right;\">\n",
       "      <th></th>\n",
       "      <th>ENROLID</th>\n",
       "      <th>DOBYR</th>\n",
       "      <th>YEAR</th>\n",
       "      <th>AGE</th>\n",
       "      <th>PDX</th>\n",
       "      <th>DX1</th>\n",
       "      <th>DX2</th>\n",
       "      <th>DX3</th>\n",
       "      <th>DX4</th>\n",
       "      <th>DX5</th>\n",
       "      <th>DX6</th>\n",
       "      <th>DX7</th>\n",
       "      <th>DX8</th>\n",
       "      <th>DX9</th>\n",
       "      <th>DX10</th>\n",
       "      <th>DX11</th>\n",
       "      <th>DX12</th>\n",
       "      <th>DX13</th>\n",
       "      <th>DX14</th>\n",
       "      <th>DX15</th>\n",
       "      <th>SEX</th>\n",
       "      <th>NDCNUM</th>\n",
       "      <th>PRODNME</th>\n",
       "    </tr>\n",
       "  </thead>\n",
       "  <tbody>\n",
       "    <tr>\n",
       "      <th>6</th>\n",
       "      <td>130191202.0</td>\n",
       "      <td>1957.0</td>\n",
       "      <td>2018.0</td>\n",
       "      <td>61.0</td>\n",
       "      <td>T85694A</td>\n",
       "      <td>T85694A</td>\n",
       "      <td>E1110</td>\n",
       "      <td>I130</td>\n",
       "      <td>I5030</td>\n",
       "      <td>N179</td>\n",
       "      <td>E1310</td>\n",
       "      <td>R0600</td>\n",
       "      <td>R7989</td>\n",
       "      <td>E1165</td>\n",
       "      <td>J209</td>\n",
       "      <td>N189</td>\n",
       "      <td>Z794</td>\n",
       "      <td>NaN</td>\n",
       "      <td>NaN</td>\n",
       "      <td>NaN</td>\n",
       "      <td>1.0</td>\n",
       "      <td>169750111.0</td>\n",
       "      <td>NOVOLOG</td>\n",
       "    </tr>\n",
       "    <tr>\n",
       "      <th>23</th>\n",
       "      <td>132687801.0</td>\n",
       "      <td>1958.0</td>\n",
       "      <td>2018.0</td>\n",
       "      <td>60.0</td>\n",
       "      <td>I130</td>\n",
       "      <td>I130</td>\n",
       "      <td>E1122</td>\n",
       "      <td>E1142</td>\n",
       "      <td>I5023</td>\n",
       "      <td>N179</td>\n",
       "      <td>I5033</td>\n",
       "      <td>R079</td>\n",
       "      <td>E8342</td>\n",
       "      <td>E119</td>\n",
       "      <td>E872</td>\n",
       "      <td>I10</td>\n",
       "      <td>N183</td>\n",
       "      <td>NaN</td>\n",
       "      <td>NaN</td>\n",
       "      <td>NaN</td>\n",
       "      <td>1.0</td>\n",
       "      <td>169750111.0</td>\n",
       "      <td>NOVOLOG</td>\n",
       "    </tr>\n",
       "    <tr>\n",
       "      <th>28</th>\n",
       "      <td>133276802.0</td>\n",
       "      <td>1959.0</td>\n",
       "      <td>2018.0</td>\n",
       "      <td>58.0</td>\n",
       "      <td>I25110</td>\n",
       "      <td>I25110</td>\n",
       "      <td>E1149</td>\n",
       "      <td>E11622</td>\n",
       "      <td>I5022</td>\n",
       "      <td>L97919</td>\n",
       "      <td>NaN</td>\n",
       "      <td>NaN</td>\n",
       "      <td>NaN</td>\n",
       "      <td>NaN</td>\n",
       "      <td>NaN</td>\n",
       "      <td>NaN</td>\n",
       "      <td>NaN</td>\n",
       "      <td>NaN</td>\n",
       "      <td>NaN</td>\n",
       "      <td>NaN</td>\n",
       "      <td>1.0</td>\n",
       "      <td>169750111.0</td>\n",
       "      <td>NOVOLOG</td>\n",
       "    </tr>\n",
       "    <tr>\n",
       "      <th>29</th>\n",
       "      <td>133276802.0</td>\n",
       "      <td>1959.0</td>\n",
       "      <td>2018.0</td>\n",
       "      <td>58.0</td>\n",
       "      <td>I214</td>\n",
       "      <td>I214</td>\n",
       "      <td>E1149</td>\n",
       "      <td>E1165</td>\n",
       "      <td>I25799</td>\n",
       "      <td>I5023</td>\n",
       "      <td>NaN</td>\n",
       "      <td>NaN</td>\n",
       "      <td>NaN</td>\n",
       "      <td>NaN</td>\n",
       "      <td>NaN</td>\n",
       "      <td>NaN</td>\n",
       "      <td>NaN</td>\n",
       "      <td>NaN</td>\n",
       "      <td>NaN</td>\n",
       "      <td>NaN</td>\n",
       "      <td>1.0</td>\n",
       "      <td>169750111.0</td>\n",
       "      <td>NOVOLOG</td>\n",
       "    </tr>\n",
       "    <tr>\n",
       "      <th>30</th>\n",
       "      <td>133276802.0</td>\n",
       "      <td>1959.0</td>\n",
       "      <td>2018.0</td>\n",
       "      <td>58.0</td>\n",
       "      <td>I951</td>\n",
       "      <td>I951</td>\n",
       "      <td>E1140</td>\n",
       "      <td>I110</td>\n",
       "      <td>I2510</td>\n",
       "      <td>I5022</td>\n",
       "      <td>NaN</td>\n",
       "      <td>NaN</td>\n",
       "      <td>NaN</td>\n",
       "      <td>NaN</td>\n",
       "      <td>NaN</td>\n",
       "      <td>NaN</td>\n",
       "      <td>NaN</td>\n",
       "      <td>NaN</td>\n",
       "      <td>NaN</td>\n",
       "      <td>NaN</td>\n",
       "      <td>1.0</td>\n",
       "      <td>169750111.0</td>\n",
       "      <td>NOVOLOG</td>\n",
       "    </tr>\n",
       "  </tbody>\n",
       "</table>\n",
       "</div>"
      ],
      "text/plain": [
       "        ENROLID   DOBYR    YEAR   AGE      PDX      DX1    DX2     DX3  \\\n",
       "6   130191202.0  1957.0  2018.0  61.0  T85694A  T85694A  E1110    I130   \n",
       "23  132687801.0  1958.0  2018.0  60.0     I130     I130  E1122   E1142   \n",
       "28  133276802.0  1959.0  2018.0  58.0   I25110   I25110  E1149  E11622   \n",
       "29  133276802.0  1959.0  2018.0  58.0     I214     I214  E1149   E1165   \n",
       "30  133276802.0  1959.0  2018.0  58.0     I951     I951  E1140    I110   \n",
       "\n",
       "       DX4     DX5    DX6    DX7    DX8    DX9  DX10  DX11  DX12 DX13 DX14  \\\n",
       "6    I5030    N179  E1310  R0600  R7989  E1165  J209  N189  Z794  NaN  NaN   \n",
       "23   I5023    N179  I5033   R079  E8342   E119  E872   I10  N183  NaN  NaN   \n",
       "28   I5022  L97919    NaN    NaN    NaN    NaN   NaN   NaN   NaN  NaN  NaN   \n",
       "29  I25799   I5023    NaN    NaN    NaN    NaN   NaN   NaN   NaN  NaN  NaN   \n",
       "30   I2510   I5022    NaN    NaN    NaN    NaN   NaN   NaN   NaN  NaN  NaN   \n",
       "\n",
       "   DX15  SEX       NDCNUM  PRODNME  \n",
       "6   NaN  1.0  169750111.0  NOVOLOG  \n",
       "23  NaN  1.0  169750111.0  NOVOLOG  \n",
       "28  NaN  1.0  169750111.0  NOVOLOG  \n",
       "29  NaN  1.0  169750111.0  NOVOLOG  \n",
       "30  NaN  1.0  169750111.0  NOVOLOG  "
      ]
     },
     "execution_count": 26,
     "metadata": {},
     "output_type": "execute_result"
    }
   ],
   "source": [
    "df_18 = pd.read_csv('2018_data.csv', index_col = 0)\n",
    "df_18.head()"
   ]
  },
  {
   "cell_type": "code",
   "execution_count": 27,
   "id": "comfortable-shipping",
   "metadata": {},
   "outputs": [
    {
     "data": {
      "text/plain": [
       "(196584, 23)"
      ]
     },
     "execution_count": 27,
     "metadata": {},
     "output_type": "execute_result"
    }
   ],
   "source": [
    "df_18.shape"
   ]
  },
  {
   "cell_type": "code",
   "execution_count": 28,
   "id": "complimentary-financing",
   "metadata": {},
   "outputs": [
    {
     "data": {
      "text/plain": [
       "ENROLID     6162\n",
       "DOBYR         66\n",
       "YEAR           1\n",
       "AGE           63\n",
       "PDX         1229\n",
       "DX1         1229\n",
       "DX2          828\n",
       "DX3          883\n",
       "DX4         1020\n",
       "DX5         1118\n",
       "DX6         1204\n",
       "DX7         1277\n",
       "DX8         1353\n",
       "DX9         1412\n",
       "DX10        1345\n",
       "DX11        1305\n",
       "DX12        1270\n",
       "DX13        1284\n",
       "DX14        1267\n",
       "DX15        1189\n",
       "SEX            2\n",
       "NDCNUM     10299\n",
       "PRODNME     1724\n",
       "dtype: int64"
      ]
     },
     "execution_count": 28,
     "metadata": {},
     "output_type": "execute_result"
    }
   ],
   "source": [
    "# unique values of the 2018 data\n",
    "df_18.nunique()"
   ]
  },
  {
   "cell_type": "markdown",
   "id": "official-gravity",
   "metadata": {},
   "source": [
    "### Number of different diagnosis a patient had in 2018"
   ]
  },
  {
   "cell_type": "code",
   "execution_count": 29,
   "id": "mathematical-leave",
   "metadata": {},
   "outputs": [
    {
     "data": {
      "text/plain": [
       "1.069960e+09    568\n",
       "1.201632e+09    545\n",
       "1.470341e+09    490\n",
       "1.588898e+08    400\n",
       "8.341834e+08    378\n",
       "Name: ENROLID, dtype: int64"
      ]
     },
     "execution_count": 29,
     "metadata": {},
     "output_type": "execute_result"
    }
   ],
   "source": [
    "df_18['ENROLID'].value_counts().head()"
   ]
  },
  {
   "cell_type": "markdown",
   "id": "listed-yield",
   "metadata": {},
   "source": [
    "#### Top 10 patient who had most diagnosis in 2018"
   ]
  },
  {
   "cell_type": "code",
   "execution_count": 30,
   "id": "close-cricket",
   "metadata": {},
   "outputs": [
    {
     "data": {
      "text/html": [
       "<div>\n",
       "<style scoped>\n",
       "    .dataframe tbody tr th:only-of-type {\n",
       "        vertical-align: middle;\n",
       "    }\n",
       "\n",
       "    .dataframe tbody tr th {\n",
       "        vertical-align: top;\n",
       "    }\n",
       "\n",
       "    .dataframe thead th {\n",
       "        text-align: right;\n",
       "    }\n",
       "</style>\n",
       "<table border=\"1\" class=\"dataframe\">\n",
       "  <thead>\n",
       "    <tr style=\"text-align: right;\">\n",
       "      <th></th>\n",
       "      <th>ENROLID</th>\n",
       "    </tr>\n",
       "  </thead>\n",
       "  <tbody>\n",
       "    <tr>\n",
       "      <th>1.069960e+09</th>\n",
       "      <td>568</td>\n",
       "    </tr>\n",
       "    <tr>\n",
       "      <th>1.201632e+09</th>\n",
       "      <td>545</td>\n",
       "    </tr>\n",
       "    <tr>\n",
       "      <th>1.470341e+09</th>\n",
       "      <td>490</td>\n",
       "    </tr>\n",
       "    <tr>\n",
       "      <th>1.588898e+08</th>\n",
       "      <td>400</td>\n",
       "    </tr>\n",
       "    <tr>\n",
       "      <th>8.341834e+08</th>\n",
       "      <td>378</td>\n",
       "    </tr>\n",
       "    <tr>\n",
       "      <th>5.950878e+08</th>\n",
       "      <td>376</td>\n",
       "    </tr>\n",
       "    <tr>\n",
       "      <th>1.362103e+09</th>\n",
       "      <td>372</td>\n",
       "    </tr>\n",
       "    <tr>\n",
       "      <th>1.060436e+09</th>\n",
       "      <td>348</td>\n",
       "    </tr>\n",
       "    <tr>\n",
       "      <th>1.752041e+08</th>\n",
       "      <td>344</td>\n",
       "    </tr>\n",
       "    <tr>\n",
       "      <th>1.494740e+09</th>\n",
       "      <td>333</td>\n",
       "    </tr>\n",
       "  </tbody>\n",
       "</table>\n",
       "</div>"
      ],
      "text/plain": [
       "              ENROLID\n",
       "1.069960e+09      568\n",
       "1.201632e+09      545\n",
       "1.470341e+09      490\n",
       "1.588898e+08      400\n",
       "8.341834e+08      378\n",
       "5.950878e+08      376\n",
       "1.362103e+09      372\n",
       "1.060436e+09      348\n",
       "1.752041e+08      344\n",
       "1.494740e+09      333"
      ]
     },
     "execution_count": 30,
     "metadata": {},
     "output_type": "execute_result"
    }
   ],
   "source": [
    "df_18['ENROLID'].value_counts().to_frame().head(10)"
   ]
  },
  {
   "cell_type": "markdown",
   "id": "behavioral-sucking",
   "metadata": {},
   "source": [
    "#### Medcine each patient took in 2018"
   ]
  },
  {
   "cell_type": "code",
   "execution_count": 31,
   "id": "dated-crossing",
   "metadata": {},
   "outputs": [
    {
     "data": {
      "text/plain": [
       "ENROLID      PRODNME                                          \n",
       "130089701.0  BUMETANIDE                                           8\n",
       "             CARVEDILOL                                           8\n",
       "             FOLIC ACID                                           8\n",
       "             LOSARTAN POTASSIUM                                   8\n",
       "             NITROGLYCERIN                                        8\n",
       "             ACETAZOLAMIDE                                        4\n",
       "             ASPIRIN                                              4\n",
       "             ATORVASTATIN CALCIUM                                 4\n",
       "             BD ULTRA-FINE PEN                                    4\n",
       "             BD ULTRA-FINE SHORT                                  4\n",
       "             CIPROFLOXACIN                                        4\n",
       "             GABAPENTIN                                           4\n",
       "             LEVEMIR FLEXTOUCH                                    4\n",
       "             NOVOLOG FLEXPEN                                      4\n",
       "             NYSTOP                                               4\n",
       "             ONE TOUCH ULTRA 2 BLOOD GLUCOSE MONITORING SYSTEM    4\n",
       "             ONE TOUCH ULTRA TEST STRIPS                          4\n",
       "             OXYCODONE HCL-ACETAMINOPHEN                          4\n",
       "             TRAMADOL HCL                                         4\n",
       "130106401.0  ATORVASTATIN CALCIUM                                 2\n",
       "Name: PRODNME, dtype: int64"
      ]
     },
     "execution_count": 31,
     "metadata": {},
     "output_type": "execute_result"
    }
   ],
   "source": [
    "df_18.groupby('ENROLID')['PRODNME'].value_counts().head(20)"
   ]
  },
  {
   "cell_type": "markdown",
   "id": "duplicate-collaboration",
   "metadata": {},
   "source": [
    "#### Top 10 most used drugs in 2018"
   ]
  },
  {
   "cell_type": "code",
   "execution_count": 32,
   "id": "binding-comparison",
   "metadata": {},
   "outputs": [
    {
     "data": {
      "text/html": [
       "<div>\n",
       "<style scoped>\n",
       "    .dataframe tbody tr th:only-of-type {\n",
       "        vertical-align: middle;\n",
       "    }\n",
       "\n",
       "    .dataframe tbody tr th {\n",
       "        vertical-align: top;\n",
       "    }\n",
       "\n",
       "    .dataframe thead th {\n",
       "        text-align: right;\n",
       "    }\n",
       "</style>\n",
       "<table border=\"1\" class=\"dataframe\">\n",
       "  <thead>\n",
       "    <tr style=\"text-align: right;\">\n",
       "      <th></th>\n",
       "      <th>PRODNME</th>\n",
       "    </tr>\n",
       "  </thead>\n",
       "  <tbody>\n",
       "    <tr>\n",
       "      <th>ATORVASTATIN CALCIUM</th>\n",
       "      <td>6419</td>\n",
       "    </tr>\n",
       "    <tr>\n",
       "      <th>FUROSEMIDE</th>\n",
       "      <td>6263</td>\n",
       "    </tr>\n",
       "    <tr>\n",
       "      <th>CARVEDILOL</th>\n",
       "      <td>6252</td>\n",
       "    </tr>\n",
       "    <tr>\n",
       "      <th>LISINOPRIL</th>\n",
       "      <td>4714</td>\n",
       "    </tr>\n",
       "    <tr>\n",
       "      <th>SPIRONOLACTONE</th>\n",
       "      <td>4180</td>\n",
       "    </tr>\n",
       "    <tr>\n",
       "      <th>HYDROCODONE BITARTRATE-ACETAMINOPHEN</th>\n",
       "      <td>3893</td>\n",
       "    </tr>\n",
       "    <tr>\n",
       "      <th>METOPROLOL SUCCINATE</th>\n",
       "      <td>3528</td>\n",
       "    </tr>\n",
       "    <tr>\n",
       "      <th>POTASSIUM CHLORIDE</th>\n",
       "      <td>3512</td>\n",
       "    </tr>\n",
       "    <tr>\n",
       "      <th>AMLODIPINE BESYLATE</th>\n",
       "      <td>3490</td>\n",
       "    </tr>\n",
       "    <tr>\n",
       "      <th>GABAPENTIN</th>\n",
       "      <td>3352</td>\n",
       "    </tr>\n",
       "  </tbody>\n",
       "</table>\n",
       "</div>"
      ],
      "text/plain": [
       "                                      PRODNME\n",
       "ATORVASTATIN CALCIUM                     6419\n",
       "FUROSEMIDE                               6263\n",
       "CARVEDILOL                               6252\n",
       "LISINOPRIL                               4714\n",
       "SPIRONOLACTONE                           4180\n",
       "HYDROCODONE BITARTRATE-ACETAMINOPHEN     3893\n",
       "METOPROLOL SUCCINATE                     3528\n",
       "POTASSIUM CHLORIDE                       3512\n",
       "AMLODIPINE BESYLATE                      3490\n",
       "GABAPENTIN                               3352"
      ]
     },
     "execution_count": 32,
     "metadata": {},
     "output_type": "execute_result"
    }
   ],
   "source": [
    "df_18['PRODNME'].value_counts().to_frame().head(10)"
   ]
  },
  {
   "cell_type": "markdown",
   "id": "wrapped-lightweight",
   "metadata": {},
   "source": [
    "## Most used heart disease Diagnosis Codes "
   ]
  },
  {
   "cell_type": "code",
   "execution_count": 33,
   "id": "responsible-measurement",
   "metadata": {},
   "outputs": [
    {
     "data": {
      "text/plain": [
       "Index(['I5020', 'I5021', 'I5022', 'I5023', 'I5030', 'I5031', 'I5032', 'I5033',\n",
       "       'I5040', 'I5041', 'I5043', 'I509', 'I513', 'I514', 'I5181'],\n",
       "      dtype='object', name='DX1')"
      ]
     },
     "execution_count": 33,
     "metadata": {},
     "output_type": "execute_result"
    }
   ],
   "source": [
    "# group all the diagnosis code together\n",
    "keys = [x for x in df_18.columns if x.startswith('DX')]\n",
    "grouped_dx = df_18.groupby(keys).size().reset_index().groupby('DX1')[[0]].max()\n",
    "\n",
    "# check which range relates to heart disease\n",
    "grouped_dx[0].index[348:363]"
   ]
  },
  {
   "cell_type": "code",
   "execution_count": 34,
   "id": "elect-thing",
   "metadata": {},
   "outputs": [],
   "source": [
    "# sort the code value in descending order\n",
    "heart_dxcode = grouped_dx[0][348:363].sort_values(ascending=False)"
   ]
  },
  {
   "cell_type": "code",
   "execution_count": 35,
   "id": "monthly-politics",
   "metadata": {},
   "outputs": [
    {
     "data": {
      "text/plain": [
       "DX1\n",
       "I509     109\n",
       "I5023     61\n",
       "I5033     61\n",
       "I513      47\n",
       "I5021     46\n",
       "I5043     43\n",
       "I5022     38\n",
       "I514      30\n",
       "I5181     28\n",
       "I5041     25\n",
       "I5030     24\n",
       "I5031     24\n",
       "I5040     23\n",
       "I5032     20\n",
       "I5020      7\n",
       "Name: 0, dtype: int64"
      ]
     },
     "execution_count": 35,
     "metadata": {},
     "output_type": "execute_result"
    }
   ],
   "source": [
    "heart_dxcode"
   ]
  },
  {
   "cell_type": "markdown",
   "id": "painted-knight",
   "metadata": {},
   "source": [
    "#### Check null values"
   ]
  },
  {
   "cell_type": "code",
   "execution_count": 36,
   "id": "separated-healing",
   "metadata": {},
   "outputs": [
    {
     "data": {
      "text/plain": [
       "ENROLID        0\n",
       "DOBYR          0\n",
       "YEAR           0\n",
       "AGE            0\n",
       "PDX            0\n",
       "DX1            0\n",
       "DX2            3\n",
       "DX3           48\n",
       "DX4          115\n",
       "DX5          335\n",
       "DX6         1514\n",
       "DX7         3364\n",
       "DX8         5659\n",
       "DX9         8631\n",
       "DX10       13272\n",
       "DX11       19268\n",
       "DX12       27232\n",
       "DX13       36636\n",
       "DX14       47085\n",
       "DX15       58683\n",
       "SEX            0\n",
       "NDCNUM         0\n",
       "PRODNME        0\n",
       "dtype: int64"
      ]
     },
     "execution_count": 36,
     "metadata": {},
     "output_type": "execute_result"
    }
   ],
   "source": [
    "df_18.isnull().sum()"
   ]
  },
  {
   "cell_type": "markdown",
   "id": "south-family",
   "metadata": {},
   "source": [
    "### Missing Values"
   ]
  },
  {
   "cell_type": "code",
   "execution_count": 37,
   "id": "liked-doctor",
   "metadata": {},
   "outputs": [
    {
     "data": {
      "text/plain": [
       "<AxesSubplot:>"
      ]
     },
     "execution_count": 37,
     "metadata": {},
     "output_type": "execute_result"
    },
    {
     "data": {
      "image/png": "[encoded data removed]",
      "text/plain": [
       "<Figure size 720x504 with 1 Axes>"
      ]
     },
     "metadata": {
      "needs_background": "light"
     },
     "output_type": "display_data"
    }
   ],
   "source": [
    "# visualize the null value\n",
    "\n",
    "plt.figure(figsize = (10, 7))\n",
    "sns.heatmap(df_18.isnull(), yticklabels=False, cbar = False, cmap='viridis')"
   ]
  },
  {
   "cell_type": "code",
   "execution_count": 38,
   "id": "coordinated-significance",
   "metadata": {},
   "outputs": [],
   "source": [
    "## drop all rows if these columns are all have missing values\n",
    "\n",
    "cols = ['DX2', 'DX3', 'DX4','DX5', 'DX6', 'DX7', 'DX9', 'DX10', 'DX11', 'DX12', 'DX13', 'DX14', 'DX15']\n",
    "df_18 = df_18.dropna(subset=cols)"
   ]
  },
  {
   "cell_type": "code",
   "execution_count": 39,
   "id": "essential-cement",
   "metadata": {},
   "outputs": [
    {
     "data": {
      "text/plain": [
       "(137901, 23)"
      ]
     },
     "execution_count": 39,
     "metadata": {},
     "output_type": "execute_result"
    }
   ],
   "source": [
    "df_18.shape"
   ]
  },
  {
   "cell_type": "code",
   "execution_count": 40,
   "id": "suspended-yellow",
   "metadata": {},
   "outputs": [
    {
     "data": {
      "text/plain": [
       "ENROLID    0\n",
       "DOBYR      0\n",
       "YEAR       0\n",
       "AGE        0\n",
       "PDX        0\n",
       "DX1        0\n",
       "DX2        0\n",
       "DX3        0\n",
       "DX4        0\n",
       "DX5        0\n",
       "DX6        0\n",
       "DX7        0\n",
       "DX8        0\n",
       "DX9        0\n",
       "DX10       0\n",
       "DX11       0\n",
       "DX12       0\n",
       "DX13       0\n",
       "DX14       0\n",
       "DX15       0\n",
       "SEX        0\n",
       "NDCNUM     0\n",
       "PRODNME    0\n",
       "dtype: int64"
      ]
     },
     "execution_count": 40,
     "metadata": {},
     "output_type": "execute_result"
    }
   ],
   "source": [
    "df_18.isnull().sum()"
   ]
  },
  {
   "cell_type": "code",
   "execution_count": 41,
   "id": "fluid-production",
   "metadata": {},
   "outputs": [
    {
     "data": {
      "text/plain": [
       "<AxesSubplot:>"
      ]
     },
     "execution_count": 41,
     "metadata": {},
     "output_type": "execute_result"
    },
    {
     "data": {
      "image/png": "[encoded data removed]",
      "text/plain": [
       "<Figure size 720x504 with 1 Axes>"
      ]
     },
     "metadata": {
      "needs_background": "light"
     },
     "output_type": "display_data"
    }
   ],
   "source": [
    "# visualize the null value\n",
    "\n",
    "plt.figure(figsize = (10, 7))\n",
    "sns.heatmap(df_18.isnull(), yticklabels=False, cbar = False, cmap='viridis')"
   ]
  },
  {
   "cell_type": "code",
   "execution_count": 42,
   "id": "southeast-campus",
   "metadata": {},
   "outputs": [
    {
     "data": {
      "text/html": [
       "<div>\n",
       "<style scoped>\n",
       "    .dataframe tbody tr th:only-of-type {\n",
       "        vertical-align: middle;\n",
       "    }\n",
       "\n",
       "    .dataframe tbody tr th {\n",
       "        vertical-align: top;\n",
       "    }\n",
       "\n",
       "    .dataframe thead th {\n",
       "        text-align: right;\n",
       "    }\n",
       "</style>\n",
       "<table border=\"1\" class=\"dataframe\">\n",
       "  <thead>\n",
       "    <tr style=\"text-align: right;\">\n",
       "      <th></th>\n",
       "      <th>ENROLID</th>\n",
       "      <th>DOBYR</th>\n",
       "      <th>YEAR</th>\n",
       "      <th>AGE</th>\n",
       "      <th>PDX</th>\n",
       "      <th>DX1</th>\n",
       "      <th>DX2</th>\n",
       "      <th>DX3</th>\n",
       "      <th>DX4</th>\n",
       "      <th>DX5</th>\n",
       "      <th>DX6</th>\n",
       "      <th>DX7</th>\n",
       "      <th>DX8</th>\n",
       "      <th>DX9</th>\n",
       "      <th>DX10</th>\n",
       "      <th>DX11</th>\n",
       "      <th>DX12</th>\n",
       "      <th>DX13</th>\n",
       "      <th>DX14</th>\n",
       "      <th>DX15</th>\n",
       "      <th>SEX</th>\n",
       "      <th>NDCNUM</th>\n",
       "      <th>PRODNME</th>\n",
       "    </tr>\n",
       "  </thead>\n",
       "  <tbody>\n",
       "    <tr>\n",
       "      <th>36</th>\n",
       "      <td>134592102.0</td>\n",
       "      <td>1968.0</td>\n",
       "      <td>2018.0</td>\n",
       "      <td>50.0</td>\n",
       "      <td>I639</td>\n",
       "      <td>I639</td>\n",
       "      <td>E1022</td>\n",
       "      <td>I130</td>\n",
       "      <td>I509</td>\n",
       "      <td>I69351</td>\n",
       "      <td>E109</td>\n",
       "      <td>I638</td>\n",
       "      <td>R29810</td>\n",
       "      <td>I517</td>\n",
       "      <td>R0602</td>\n",
       "      <td>G8191</td>\n",
       "      <td>I10</td>\n",
       "      <td>R531</td>\n",
       "      <td>E1021</td>\n",
       "      <td>I361</td>\n",
       "      <td>1.0</td>\n",
       "      <td>169750111.0</td>\n",
       "      <td>NOVOLOG</td>\n",
       "    </tr>\n",
       "    <tr>\n",
       "      <th>39</th>\n",
       "      <td>134592102.0</td>\n",
       "      <td>1968.0</td>\n",
       "      <td>2018.0</td>\n",
       "      <td>50.0</td>\n",
       "      <td>I639</td>\n",
       "      <td>I639</td>\n",
       "      <td>G8191</td>\n",
       "      <td>G9341</td>\n",
       "      <td>I130</td>\n",
       "      <td>N179</td>\n",
       "      <td>I6782</td>\n",
       "      <td>R4781</td>\n",
       "      <td>R531</td>\n",
       "      <td>I63532</td>\n",
       "      <td>I638</td>\n",
       "      <td>E1169</td>\n",
       "      <td>I672</td>\n",
       "      <td>R001</td>\n",
       "      <td>I10</td>\n",
       "      <td>I509</td>\n",
       "      <td>1.0</td>\n",
       "      <td>169750111.0</td>\n",
       "      <td>NOVOLOG</td>\n",
       "    </tr>\n",
       "    <tr>\n",
       "      <th>64</th>\n",
       "      <td>138200502.0</td>\n",
       "      <td>1969.0</td>\n",
       "      <td>2018.0</td>\n",
       "      <td>48.0</td>\n",
       "      <td>E232</td>\n",
       "      <td>E232</td>\n",
       "      <td>E1165</td>\n",
       "      <td>E2740</td>\n",
       "      <td>E785</td>\n",
       "      <td>I10</td>\n",
       "      <td>E870</td>\n",
       "      <td>G9389</td>\n",
       "      <td>I499</td>\n",
       "      <td>I509</td>\n",
       "      <td>R4182</td>\n",
       "      <td>D444</td>\n",
       "      <td>E876</td>\n",
       "      <td>E871</td>\n",
       "      <td>D181</td>\n",
       "      <td>E039</td>\n",
       "      <td>1.0</td>\n",
       "      <td>169750111.0</td>\n",
       "      <td>NOVOLOG</td>\n",
       "    </tr>\n",
       "    <tr>\n",
       "      <th>65</th>\n",
       "      <td>138200502.0</td>\n",
       "      <td>1969.0</td>\n",
       "      <td>2018.0</td>\n",
       "      <td>48.0</td>\n",
       "      <td>J9601</td>\n",
       "      <td>J9601</td>\n",
       "      <td>B004</td>\n",
       "      <td>G9340</td>\n",
       "      <td>J690</td>\n",
       "      <td>K254</td>\n",
       "      <td>G9341</td>\n",
       "      <td>M79662</td>\n",
       "      <td>R531</td>\n",
       "      <td>R569</td>\n",
       "      <td>I499</td>\n",
       "      <td>I501</td>\n",
       "      <td>R0603</td>\n",
       "      <td>R4020</td>\n",
       "      <td>R4182</td>\n",
       "      <td>Z452</td>\n",
       "      <td>1.0</td>\n",
       "      <td>169750111.0</td>\n",
       "      <td>NOVOLOG</td>\n",
       "    </tr>\n",
       "    <tr>\n",
       "      <th>70</th>\n",
       "      <td>139528701.0</td>\n",
       "      <td>1954.0</td>\n",
       "      <td>2018.0</td>\n",
       "      <td>63.0</td>\n",
       "      <td>I160</td>\n",
       "      <td>I160</td>\n",
       "      <td>E1122</td>\n",
       "      <td>E6601</td>\n",
       "      <td>I2722</td>\n",
       "      <td>N179</td>\n",
       "      <td>Z01818</td>\n",
       "      <td>I5023</td>\n",
       "      <td>N185</td>\n",
       "      <td>E119</td>\n",
       "      <td>D631</td>\n",
       "      <td>I10</td>\n",
       "      <td>E1121</td>\n",
       "      <td>I270</td>\n",
       "      <td>R748</td>\n",
       "      <td>E8770</td>\n",
       "      <td>2.0</td>\n",
       "      <td>169750111.0</td>\n",
       "      <td>NOVOLOG</td>\n",
       "    </tr>\n",
       "  </tbody>\n",
       "</table>\n",
       "</div>"
      ],
      "text/plain": [
       "        ENROLID   DOBYR    YEAR   AGE    PDX    DX1    DX2    DX3    DX4  \\\n",
       "36  134592102.0  1968.0  2018.0  50.0   I639   I639  E1022   I130   I509   \n",
       "39  134592102.0  1968.0  2018.0  50.0   I639   I639  G8191  G9341   I130   \n",
       "64  138200502.0  1969.0  2018.0  48.0   E232   E232  E1165  E2740   E785   \n",
       "65  138200502.0  1969.0  2018.0  48.0  J9601  J9601   B004  G9340   J690   \n",
       "70  139528701.0  1954.0  2018.0  63.0   I160   I160  E1122  E6601  I2722   \n",
       "\n",
       "       DX5     DX6     DX7     DX8     DX9   DX10   DX11   DX12   DX13   DX14  \\\n",
       "36  I69351    E109    I638  R29810    I517  R0602  G8191    I10   R531  E1021   \n",
       "39    N179   I6782   R4781    R531  I63532   I638  E1169   I672   R001    I10   \n",
       "64     I10    E870   G9389    I499    I509  R4182   D444   E876   E871   D181   \n",
       "65    K254   G9341  M79662    R531    R569   I499   I501  R0603  R4020  R4182   \n",
       "70    N179  Z01818   I5023    N185    E119   D631    I10  E1121   I270   R748   \n",
       "\n",
       "     DX15  SEX       NDCNUM  PRODNME  \n",
       "36   I361  1.0  169750111.0  NOVOLOG  \n",
       "39   I509  1.0  169750111.0  NOVOLOG  \n",
       "64   E039  1.0  169750111.0  NOVOLOG  \n",
       "65   Z452  1.0  169750111.0  NOVOLOG  \n",
       "70  E8770  2.0  169750111.0  NOVOLOG  "
      ]
     },
     "execution_count": 42,
     "metadata": {},
     "output_type": "execute_result"
    }
   ],
   "source": [
    "df_18.head()"
   ]
  },
  {
   "cell_type": "markdown",
   "id": "nominated-reform",
   "metadata": {},
   "source": [
    "# Exploratory Data Analysis"
   ]
  },
  {
   "cell_type": "markdown",
   "id": "ethical-garage",
   "metadata": {},
   "source": [
    "## Countplot for heart disease related diagnosis code in DX1 "
   ]
  },
  {
   "cell_type": "code",
   "execution_count": 43,
   "id": "emerging-latvia",
   "metadata": {},
   "outputs": [],
   "source": [
    "dx1_heart_dis = df_18.loc[df_18['DX1'].str.contains('I50', case=False)]"
   ]
  },
  {
   "cell_type": "code",
   "execution_count": 44,
   "id": "alternate-hands",
   "metadata": {},
   "outputs": [
    {
     "data": {
      "text/plain": [
       "I5023    1678\n",
       "I5033     928\n",
       "I509      582\n",
       "I5043     529\n",
       "I5021     500\n",
       "I5031     110\n",
       "I5041      48\n",
       "I5022      38\n",
       "I5030      24\n",
       "I5040      23\n",
       "I5032      20\n",
       "I5020       7\n",
       "Name: DX1, dtype: int64"
      ]
     },
     "execution_count": 44,
     "metadata": {},
     "output_type": "execute_result"
    }
   ],
   "source": [
    "dx1_heart_dis['DX1'].value_counts()"
   ]
  },
  {
   "cell_type": "code",
   "execution_count": 148,
   "id": "pregnant-organizer",
   "metadata": {},
   "outputs": [
    {
     "data": {
      "text/plain": [
       "<matplotlib.legend.Legend at 0x7fa6e175b130>"
      ]
     },
     "execution_count": 148,
     "metadata": {},
     "output_type": "execute_result"
    },
    {
     "data": {
      "image/png": "[encoded data removed]",
      "text/plain": [
       "<Figure size 720x504 with 1 Axes>"
      ]
     },
     "metadata": {
      "needs_background": "light"
     },
     "output_type": "display_data"
    }
   ],
   "source": [
    "# DX1 \n",
    "plt.figure(figsize=(10, 7))\n",
    "sns.countplot(x=dx1_heart_dis['DX1'], hue='SEX', edgecolor=\".7\", palette='RdBu_r', data=df_18)\n",
    "plt.legend(loc='upper right', title='SEX')"
   ]
  },
  {
   "cell_type": "markdown",
   "id": "revised-native",
   "metadata": {},
   "source": [
    "## Relate Heart Disease code in DX2"
   ]
  },
  {
   "cell_type": "code",
   "execution_count": 46,
   "id": "subject-aberdeen",
   "metadata": {},
   "outputs": [
    {
     "data": {
      "text/plain": [
       "I5033     2108\n",
       "I5023     1474\n",
       "I5043      946\n",
       "I5021      724\n",
       "I5032      461\n",
       "I5031      431\n",
       "I5022      430\n",
       "I5041      212\n",
       "I509       185\n",
       "I5030      130\n",
       "I5042      111\n",
       "I50810      94\n",
       "I5082       54\n",
       "I50813      49\n",
       "I5084       26\n",
       "I5040       24\n",
       "I501        15\n",
       "I50811      14\n",
       "I5020        8\n",
       "Name: DX2, dtype: int64"
      ]
     },
     "execution_count": 46,
     "metadata": {},
     "output_type": "execute_result"
    }
   ],
   "source": [
    "dx2_heart_dis = df_18.loc[df_18['DX2'].str.contains('I50', case=False)]\n",
    "dx2_heart_dis['DX2'].value_counts()\n"
   ]
  },
  {
   "cell_type": "code",
   "execution_count": 47,
   "id": "careful-easter",
   "metadata": {},
   "outputs": [
    {
     "data": {
      "text/plain": [
       "<matplotlib.legend.Legend at 0x7fa69f9994c0>"
      ]
     },
     "execution_count": 47,
     "metadata": {},
     "output_type": "execute_result"
    },
    {
     "data": {
      "image/png": "[encoded data removed]",
      "text/plain": [
       "<Figure size 864x504 with 1 Axes>"
      ]
     },
     "metadata": {
      "needs_background": "light"
     },
     "output_type": "display_data"
    }
   ],
   "source": [
    "# DX2\n",
    "plt.figure(figsize=(12, 7))\n",
    "sns.countplot(x=dx2_heart_dis['DX2'], hue='SEX',edgecolor=\".5\", palette='coolwarm', data=df_18)\n",
    "plt.legend(loc='upper right', title = 'SEX')"
   ]
  },
  {
   "cell_type": "markdown",
   "id": "naval-narrative",
   "metadata": {},
   "source": [
    "## Heart Disease code in DX3"
   ]
  },
  {
   "cell_type": "code",
   "execution_count": 48,
   "id": "greatest-cardiff",
   "metadata": {},
   "outputs": [
    {
     "data": {
      "text/plain": [
       "I5033     2745\n",
       "I5023     2234\n",
       "I5043     1658\n",
       "I5032     1578\n",
       "I5022     1276\n",
       "I5021     1040\n",
       "I509       660\n",
       "I5031      612\n",
       "I5030      401\n",
       "I5042      344\n",
       "I5041      217\n",
       "I5020      212\n",
       "I501        69\n",
       "I5040       38\n",
       "I5082       33\n",
       "I50810      33\n",
       "Name: DX3, dtype: int64"
      ]
     },
     "execution_count": 48,
     "metadata": {},
     "output_type": "execute_result"
    }
   ],
   "source": [
    "# DX3\n",
    "dx3_heart_dis = df_18.loc[df_18['DX3'].str.contains('I50', case=False)]\n",
    "dx3_heart_dis['DX3'].value_counts()"
   ]
  },
  {
   "cell_type": "code",
   "execution_count": 49,
   "id": "attempted-intranet",
   "metadata": {},
   "outputs": [
    {
     "data": {
      "text/plain": [
       "<matplotlib.legend.Legend at 0x7fa6a0b84340>"
      ]
     },
     "execution_count": 49,
     "metadata": {},
     "output_type": "execute_result"
    },
    {
     "data": {
      "image/png": "[encoded data removed]",
      "text/plain": [
       "<Figure size 720x504 with 1 Axes>"
      ]
     },
     "metadata": {
      "needs_background": "light"
     },
     "output_type": "display_data"
    }
   ],
   "source": [
    "plt.figure(figsize=(10, 7))\n",
    "sns.countplot(x=dx3_heart_dis['DX3'],hue='SEX',edgecolor=\".3\", palette='vlag', data=df_18)\n",
    "plt.legend(loc='upper right', title='Sex')"
   ]
  },
  {
   "cell_type": "markdown",
   "id": "valued-drain",
   "metadata": {},
   "source": [
    "## Heart disease code in DX4"
   ]
  },
  {
   "cell_type": "code",
   "execution_count": 50,
   "id": "driven-velvet",
   "metadata": {},
   "outputs": [
    {
     "data": {
      "text/plain": [
       "I5032     2816\n",
       "I5033     2295\n",
       "I5023     1983\n",
       "I5022     1685\n",
       "I5043     1527\n",
       "I509      1192\n",
       "I5021      911\n",
       "I5042      735\n",
       "I5031      595\n",
       "I5030      442\n",
       "I5020      407\n",
       "I5041      405\n",
       "I5084       60\n",
       "I50812      47\n",
       "I501        43\n",
       "I50         30\n",
       "I50810      23\n",
       "I5083        8\n",
       "Name: DX4, dtype: int64"
      ]
     },
     "execution_count": 50,
     "metadata": {},
     "output_type": "execute_result"
    }
   ],
   "source": [
    "# DX4\n",
    "dx4_heart_dis = df_18.loc[df_18['DX4'].str.contains('I50', case=False)]\n",
    "dx4_heart_dis['DX4'].value_counts()"
   ]
  },
  {
   "cell_type": "code",
   "execution_count": 51,
   "id": "universal-clothing",
   "metadata": {},
   "outputs": [
    {
     "data": {
      "text/plain": [
       "<matplotlib.legend.Legend at 0x7fa6a0b72820>"
      ]
     },
     "execution_count": 51,
     "metadata": {},
     "output_type": "execute_result"
    },
    {
     "data": {
      "image/png": "[encoded data removed]",
      "text/plain": [
       "<Figure size 864x504 with 1 Axes>"
      ]
     },
     "metadata": {
      "needs_background": "light"
     },
     "output_type": "display_data"
    }
   ],
   "source": [
    "# DX4\n",
    "plt.figure(figsize=(12, 7))\n",
    "sns.countplot(x=dx4_heart_dis['DX4'],hue='SEX', edgecolor=\".5\",palette='RdBu_r', data=df_18)\n",
    "plt.legend(loc='upper right', title='SEX')"
   ]
  },
  {
   "cell_type": "markdown",
   "id": "grave-dividend",
   "metadata": {},
   "source": [
    "## Heart Disease in DX5"
   ]
  },
  {
   "cell_type": "code",
   "execution_count": 52,
   "id": "appointed-payment",
   "metadata": {},
   "outputs": [
    {
     "data": {
      "text/plain": [
       "I5032     2618\n",
       "I509      2376\n",
       "I5033     2371\n",
       "I5022     2127\n",
       "I5023     2017\n",
       "I5043     1195\n",
       "I5021     1162\n",
       "I5042      970\n",
       "I5031      875\n",
       "I5030      574\n",
       "I5041      293\n",
       "I5020      270\n",
       "I501       144\n",
       "I50812      91\n",
       "I50810      51\n",
       "I50813      40\n",
       "I5089       32\n",
       "I50811      12\n",
       "Name: DX5, dtype: int64"
      ]
     },
     "execution_count": 52,
     "metadata": {},
     "output_type": "execute_result"
    }
   ],
   "source": [
    "dx5_heart_dis = df_18.loc[df_18['DX5'].str.contains('I50', case=False)]\n",
    "dx5_heart_dis['DX5'].value_counts()"
   ]
  },
  {
   "cell_type": "code",
   "execution_count": 53,
   "id": "detected-nation",
   "metadata": {},
   "outputs": [
    {
     "data": {
      "text/plain": [
       "<matplotlib.legend.Legend at 0x7fa6b04e4b20>"
      ]
     },
     "execution_count": 53,
     "metadata": {},
     "output_type": "execute_result"
    },
    {
     "data": {
      "image/png": "[encoded data removed]",
      "text/plain": [
       "<Figure size 864x504 with 1 Axes>"
      ]
     },
     "metadata": {
      "needs_background": "light"
     },
     "output_type": "display_data"
    }
   ],
   "source": [
    "# DX5\n",
    "plt.figure(figsize=(12, 7))\n",
    "sns.countplot(x=dx5_heart_dis['DX5'],hue='SEX', edgecolor=\".5\",palette='coolwarm', data=df_18)\n",
    "plt.legend(loc='upper right', title='SEX')"
   ]
  },
  {
   "cell_type": "markdown",
   "id": "periodic-efficiency",
   "metadata": {},
   "source": [
    "## Heart Disease in DX6"
   ]
  },
  {
   "cell_type": "code",
   "execution_count": 54,
   "id": "ordered-sally",
   "metadata": {},
   "outputs": [
    {
     "data": {
      "text/plain": [
       "I509      6372\n",
       "I5032     3827\n",
       "I5033     2468\n",
       "I5023     2199\n",
       "I5022     1956\n",
       "I5021     1595\n",
       "I5043     1426\n",
       "I5031     1131\n",
       "I5042      783\n",
       "I5030      470\n",
       "I5041      380\n",
       "I5020      377\n",
       "I501       214\n",
       "I50810     205\n",
       "I5040      104\n",
       "I5089       77\n",
       "I5084       27\n",
       "I5082       23\n",
       "I50812      19\n",
       "I5083       11\n",
       "Name: DX6, dtype: int64"
      ]
     },
     "execution_count": 54,
     "metadata": {},
     "output_type": "execute_result"
    }
   ],
   "source": [
    "dx6_heart_dis = df_18.loc[df_18['DX6'].str.contains('I50', case=False)]\n",
    "dx6_heart_dis['DX6'].value_counts()"
   ]
  },
  {
   "cell_type": "code",
   "execution_count": 55,
   "id": "printable-pilot",
   "metadata": {},
   "outputs": [
    {
     "data": {
      "text/plain": [
       "<matplotlib.legend.Legend at 0x7fa6b06a9ac0>"
      ]
     },
     "execution_count": 55,
     "metadata": {},
     "output_type": "execute_result"
    },
    {
     "data": {
      "image/png": "[encoded data removed]",
      "text/plain": [
       "<Figure size 864x504 with 1 Axes>"
      ]
     },
     "metadata": {
      "needs_background": "light"
     },
     "output_type": "display_data"
    }
   ],
   "source": [
    "# DX6\n",
    "plt.figure(figsize=(12, 7))\n",
    "sns.countplot(x=dx6_heart_dis['DX6'], hue='SEX', edgecolor=\".7\", palette='RdBu_r', data=df_18)\n",
    "plt.legend(loc='upper right', title='SEX')"
   ]
  },
  {
   "cell_type": "markdown",
   "id": "billion-ecology",
   "metadata": {},
   "source": [
    "## Heart Disease code in DX7"
   ]
  },
  {
   "cell_type": "code",
   "execution_count": 56,
   "id": "lined-breast",
   "metadata": {},
   "outputs": [
    {
     "data": {
      "text/plain": [
       "I509      4722\n",
       "I5032     3783\n",
       "I5033     2723\n",
       "I5023     2357\n",
       "I5022     2146\n",
       "I5043     1316\n",
       "I5021     1217\n",
       "I5042      864\n",
       "I5031      689\n",
       "I5030      652\n",
       "I5020      537\n",
       "I5041      289\n",
       "I5084      143\n",
       "I50810     128\n",
       "I5040       92\n",
       "I5082       87\n",
       "I50812      83\n",
       "I50813      56\n",
       "I50811      50\n",
       "I5089       46\n",
       "I5083       36\n",
       "I50814      15\n",
       "I501         3\n",
       "Name: DX7, dtype: int64"
      ]
     },
     "execution_count": 56,
     "metadata": {},
     "output_type": "execute_result"
    }
   ],
   "source": [
    "dx7_heart_dis = df_18.loc[df_18['DX7'].str.contains('I50', case=False)]\n",
    "dx7_heart_dis['DX7'].value_counts()"
   ]
  },
  {
   "cell_type": "code",
   "execution_count": 57,
   "id": "worth-bottom",
   "metadata": {},
   "outputs": [
    {
     "data": {
      "text/plain": [
       "<matplotlib.legend.Legend at 0x7fa6b1cf7d30>"
      ]
     },
     "execution_count": 57,
     "metadata": {},
     "output_type": "execute_result"
    },
    {
     "data": {
      "image/png": "[encoded data removed]",
      "text/plain": [
       "<Figure size 1008x504 with 1 Axes>"
      ]
     },
     "metadata": {
      "needs_background": "light"
     },
     "output_type": "display_data"
    }
   ],
   "source": [
    "# DX7\n",
    "plt.figure(figsize=(14, 7))\n",
    "sns.countplot(x=dx7_heart_dis['DX7'],hue = 'SEX', edgecolor=\".7\",palette=\"coolwarm\",  data=df_18)\n",
    "plt.legend(loc='upper right', title='SEX')"
   ]
  },
  {
   "cell_type": "markdown",
   "id": "racial-entrepreneur",
   "metadata": {},
   "source": [
    "## Heart Disease code in DX8"
   ]
  },
  {
   "cell_type": "code",
   "execution_count": 58,
   "id": "empty-convention",
   "metadata": {},
   "outputs": [
    {
     "data": {
      "text/plain": [
       "I509      4424\n",
       "I5033     2077\n",
       "I5032     2069\n",
       "I5023     1866\n",
       "I5022     1864\n",
       "I5030     1016\n",
       "I5021      974\n",
       "I5043      852\n",
       "I5031      607\n",
       "I5042      519\n",
       "I5020      514\n",
       "I501       138\n",
       "I5041      126\n",
       "I5089      106\n",
       "I5082       68\n",
       "I5040       30\n",
       "I50812      25\n",
       "I50813      25\n",
       "I5084       22\n",
       "I50810      21\n",
       "I50811      13\n",
       "I5083        7\n",
       "Name: DX8, dtype: int64"
      ]
     },
     "execution_count": 58,
     "metadata": {},
     "output_type": "execute_result"
    }
   ],
   "source": [
    "dx8_heart_dis = df_18.loc[df_18['DX8'].str.contains('I50', case=False)]\n",
    "dx8_heart_dis['DX8'].value_counts()"
   ]
  },
  {
   "cell_type": "code",
   "execution_count": 59,
   "id": "gentle-beads",
   "metadata": {},
   "outputs": [
    {
     "data": {
      "text/plain": [
       "<matplotlib.legend.Legend at 0x7fa6b2c08730>"
      ]
     },
     "execution_count": 59,
     "metadata": {},
     "output_type": "execute_result"
    },
    {
     "data": {
      "image/png": "[encoded data removed]",
      "text/plain": [
       "<Figure size 1008x504 with 1 Axes>"
      ]
     },
     "metadata": {
      "needs_background": "light"
     },
     "output_type": "display_data"
    }
   ],
   "source": [
    "# DX8\n",
    "plt.figure(figsize=(14, 7))\n",
    "sns.countplot(x=dx8_heart_dis['DX8'], hue='SEX',edgecolor=\".7\", palette='RdBu_r', data=df_18)\n",
    "plt.legend(loc='upper right', title='SEX')"
   ]
  },
  {
   "cell_type": "markdown",
   "id": "delayed-shift",
   "metadata": {},
   "source": [
    "## Heart Disease in DX9"
   ]
  },
  {
   "cell_type": "code",
   "execution_count": 60,
   "id": "unavailable-shell",
   "metadata": {},
   "outputs": [
    {
     "data": {
      "text/plain": [
       "I509      3082\n",
       "I5032     1511\n",
       "I5022     1218\n",
       "I5023     1174\n",
       "I5033     1062\n",
       "I5021      774\n",
       "I5043      665\n",
       "I5042      632\n",
       "I5020      530\n",
       "I5031      499\n",
       "I5030      207\n",
       "I5041      204\n",
       "I501       136\n",
       "I5089      119\n",
       "I5084       96\n",
       "I5082       85\n",
       "I50813      69\n",
       "I5040       50\n",
       "I5083       14\n",
       "I50810      11\n",
       "Name: DX9, dtype: int64"
      ]
     },
     "execution_count": 60,
     "metadata": {},
     "output_type": "execute_result"
    }
   ],
   "source": [
    "dx9_heart_dis = df_18.loc[df_18['DX9'].str.contains('I50', case=False)]\n",
    "dx9_heart_dis['DX9'].value_counts()"
   ]
  },
  {
   "cell_type": "code",
   "execution_count": 61,
   "id": "sexual-costs",
   "metadata": {},
   "outputs": [
    {
     "data": {
      "text/plain": [
       "<AxesSubplot:xlabel='DX9', ylabel='count'>"
      ]
     },
     "execution_count": 61,
     "metadata": {},
     "output_type": "execute_result"
    },
    {
     "data": {
      "image/png": "[encoded data removed]",
      "text/plain": [
       "<Figure size 1008x504 with 1 Axes>"
      ]
     },
     "metadata": {
      "needs_background": "light"
     },
     "output_type": "display_data"
    }
   ],
   "source": [
    "# DX9\n",
    "plt.figure(figsize=(14, 7))\n",
    "sns.countplot(x=dx9_heart_dis['DX9'], edgecolor=\".6\", palette='rocket', data=df_18)"
   ]
  },
  {
   "cell_type": "markdown",
   "id": "gross-trace",
   "metadata": {},
   "source": [
    "## Heart Disease code in DX10"
   ]
  },
  {
   "cell_type": "code",
   "execution_count": 62,
   "id": "international-implement",
   "metadata": {},
   "outputs": [
    {
     "data": {
      "text/plain": [
       "I509      9183\n",
       "I5021     1385\n",
       "I5023     1352\n",
       "I5030      892\n",
       "I5033      812\n",
       "I5031      597\n",
       "I5022      554\n",
       "I5020      525\n",
       "I501       402\n",
       "I5042      342\n",
       "I5043      336\n",
       "I5041      218\n",
       "I5032      200\n",
       "I5040      187\n",
       "I5084      132\n",
       "I50813      91\n",
       "I5089       46\n",
       "I50810      34\n",
       "Name: DX10, dtype: int64"
      ]
     },
     "execution_count": 62,
     "metadata": {},
     "output_type": "execute_result"
    }
   ],
   "source": [
    "dx10_heart_dis = df_18.loc[df_18['DX10'].str.contains('I50', case=False)]\n",
    "dx10_heart_dis['DX10'].value_counts()"
   ]
  },
  {
   "cell_type": "code",
   "execution_count": 63,
   "id": "painted-taiwan",
   "metadata": {},
   "outputs": [
    {
     "data": {
      "text/plain": [
       "<AxesSubplot:xlabel='DX10', ylabel='count'>"
      ]
     },
     "execution_count": 63,
     "metadata": {},
     "output_type": "execute_result"
    },
    {
     "data": {
      "image/png": "[encoded data removed]",
      "text/plain": [
       "<Figure size 1008x504 with 1 Axes>"
      ]
     },
     "metadata": {
      "needs_background": "light"
     },
     "output_type": "display_data"
    }
   ],
   "source": [
    "# DX10\n",
    "plt.figure(figsize=(14, 7))\n",
    "sns.countplot(x=dx10_heart_dis['DX10'], edgecolor=\".6\", palette='vlag', data=df_18)"
   ]
  },
  {
   "cell_type": "markdown",
   "id": "arranged-average",
   "metadata": {},
   "source": [
    "## Heart Disease code in DX11"
   ]
  },
  {
   "cell_type": "code",
   "execution_count": 64,
   "id": "diagnostic-fluid",
   "metadata": {},
   "outputs": [
    {
     "data": {
      "text/plain": [
       "I509      6688\n",
       "I5021     1074\n",
       "I5023      926\n",
       "I5033      759\n",
       "I5031      669\n",
       "I5030      523\n",
       "I5043      492\n",
       "I501       488\n",
       "I5022      476\n",
       "I5041      328\n",
       "I5042      276\n",
       "I5032      253\n",
       "I5020      230\n",
       "I5040      145\n",
       "I50810     122\n",
       "I5089      106\n",
       "I5084       56\n",
       "I50813      30\n",
       "I50811      14\n",
       "I5082       10\n",
       "Name: DX11, dtype: int64"
      ]
     },
     "execution_count": 64,
     "metadata": {},
     "output_type": "execute_result"
    }
   ],
   "source": [
    "dx11_heart_dis = df_18.loc[df_18['DX11'].str.contains('I50', case=False)]\n",
    "dx11_heart_dis['DX11'].value_counts()"
   ]
  },
  {
   "cell_type": "code",
   "execution_count": 65,
   "id": "dental-hindu",
   "metadata": {},
   "outputs": [
    {
     "data": {
      "text/plain": [
       "<AxesSubplot:xlabel='DX11', ylabel='count'>"
      ]
     },
     "execution_count": 65,
     "metadata": {},
     "output_type": "execute_result"
    },
    {
     "data": {
      "image/png": "[encoded data removed]",
      "text/plain": [
       "<Figure size 1008x504 with 1 Axes>"
      ]
     },
     "metadata": {
      "needs_background": "light"
     },
     "output_type": "display_data"
    }
   ],
   "source": [
    "# DX11\n",
    "plt.figure(figsize=(14, 7))\n",
    "sns.countplot(x=dx11_heart_dis['DX11'], edgecolor=\".6\", palette='coolwarm', data=df_18)"
   ]
  },
  {
   "cell_type": "markdown",
   "id": "damaged-translation",
   "metadata": {},
   "source": [
    "## Heart Disease code in DX12"
   ]
  },
  {
   "cell_type": "code",
   "execution_count": 66,
   "id": "decimal-classification",
   "metadata": {},
   "outputs": [
    {
     "data": {
      "text/plain": [
       "I509      4630\n",
       "I5021      983\n",
       "I5023      852\n",
       "I5022      563\n",
       "I5033      544\n",
       "I5043      543\n",
       "I5031      505\n",
       "I501       461\n",
       "I5030      454\n",
       "I5032      325\n",
       "I5020      305\n",
       "I5042      238\n",
       "I5041      212\n",
       "I5040      127\n",
       "I5089      102\n",
       "I50810      71\n",
       "I5084       62\n",
       "I50813      59\n",
       "I5082       20\n",
       "I50811      20\n",
       "Name: DX12, dtype: int64"
      ]
     },
     "execution_count": 66,
     "metadata": {},
     "output_type": "execute_result"
    }
   ],
   "source": [
    "dx12_heart_dis = df_18.loc[df_18['DX12'].str.contains('I50', case=False)]\n",
    "dx12_heart_dis['DX12'].value_counts()"
   ]
  },
  {
   "cell_type": "code",
   "execution_count": 67,
   "id": "advisory-while",
   "metadata": {},
   "outputs": [
    {
     "data": {
      "text/plain": [
       "<AxesSubplot:xlabel='DX12', ylabel='count'>"
      ]
     },
     "execution_count": 67,
     "metadata": {},
     "output_type": "execute_result"
    },
    {
     "data": {
      "image/png": "[encoded data removed]",
      "text/plain": [
       "<Figure size 1008x504 with 1 Axes>"
      ]
     },
     "metadata": {
      "needs_background": "light"
     },
     "output_type": "display_data"
    }
   ],
   "source": [
    "# DX12\n",
    "plt.figure(figsize=(14, 7))\n",
    "sns.countplot(x=dx12_heart_dis['DX12'], edgecolor=\".6\", palette='RdBu_r', data=df_18)"
   ]
  },
  {
   "cell_type": "markdown",
   "id": "alternative-ballet",
   "metadata": {},
   "source": [
    "## Heart Disease in DX13"
   ]
  },
  {
   "cell_type": "code",
   "execution_count": 68,
   "id": "adverse-relief",
   "metadata": {},
   "outputs": [
    {
     "data": {
      "text/plain": [
       "I509      4552\n",
       "I5023      856\n",
       "I5030      788\n",
       "I5033      702\n",
       "I5021      649\n",
       "I5022      572\n",
       "I5031      553\n",
       "I5020      484\n",
       "I5032      480\n",
       "I5043      389\n",
       "I501       359\n",
       "I5041      204\n",
       "I5042      191\n",
       "I50810     171\n",
       "I5040      142\n",
       "I5089       56\n",
       "I5082       51\n",
       "I5083       40\n",
       "Name: DX13, dtype: int64"
      ]
     },
     "execution_count": 68,
     "metadata": {},
     "output_type": "execute_result"
    }
   ],
   "source": [
    "dx13_heart_dis = df_18.loc[df_18['DX13'].str.contains('I50', case=False)]\n",
    "dx13_heart_dis['DX13'].value_counts()"
   ]
  },
  {
   "cell_type": "code",
   "execution_count": 69,
   "id": "standard-warehouse",
   "metadata": {},
   "outputs": [
    {
     "data": {
      "text/plain": [
       "<AxesSubplot:xlabel='DX13', ylabel='count'>"
      ]
     },
     "execution_count": 69,
     "metadata": {},
     "output_type": "execute_result"
    },
    {
     "data": {
      "image/png": "[encoded data removed]",
      "text/plain": [
       "<Figure size 1008x504 with 1 Axes>"
      ]
     },
     "metadata": {
      "needs_background": "light"
     },
     "output_type": "display_data"
    }
   ],
   "source": [
    "# DX13\n",
    "plt.figure(figsize=(14, 7))\n",
    "sns.countplot(x=dx13_heart_dis['DX13'], edgecolor=\".6\", palette='rocket', data=df_18)"
   ]
  },
  {
   "cell_type": "markdown",
   "id": "interesting-liquid",
   "metadata": {},
   "source": [
    "## Heart Disease in DX14"
   ]
  },
  {
   "cell_type": "code",
   "execution_count": 70,
   "id": "yellow-identification",
   "metadata": {},
   "outputs": [
    {
     "data": {
      "text/plain": [
       "I509      4602\n",
       "I5022      829\n",
       "I5032      593\n",
       "I5020      574\n",
       "I5030      545\n",
       "I5033      542\n",
       "I5023      530\n",
       "I5021      501\n",
       "I5031      375\n",
       "I5043      360\n",
       "I501       248\n",
       "I5041       95\n",
       "I5040       82\n",
       "I50810      72\n",
       "I5082       50\n",
       "I50812      40\n",
       "I5042       35\n",
       "I5089       30\n",
       "I50811      26\n",
       "I5084       16\n",
       "I50813      11\n",
       "Name: DX14, dtype: int64"
      ]
     },
     "execution_count": 70,
     "metadata": {},
     "output_type": "execute_result"
    }
   ],
   "source": [
    "dx14_heart_dis = df_18.loc[df_18['DX14'].str.contains('I50', case=False)]\n",
    "dx14_heart_dis['DX14'].value_counts()"
   ]
  },
  {
   "cell_type": "code",
   "execution_count": 71,
   "id": "creative-hometown",
   "metadata": {},
   "outputs": [
    {
     "data": {
      "text/plain": [
       "<AxesSubplot:xlabel='DX14', ylabel='count'>"
      ]
     },
     "execution_count": 71,
     "metadata": {},
     "output_type": "execute_result"
    },
    {
     "data": {
      "image/png": "[encoded data removed]",
      "text/plain": [
       "<Figure size 1008x504 with 1 Axes>"
      ]
     },
     "metadata": {
      "needs_background": "light"
     },
     "output_type": "display_data"
    }
   ],
   "source": [
    "# DX14\n",
    "plt.figure(figsize=(14, 7))\n",
    "sns.countplot(x=dx14_heart_dis['DX14'], edgecolor=\".6\", palette='flare', data=df_18)"
   ]
  },
  {
   "cell_type": "markdown",
   "id": "equivalent-founder",
   "metadata": {},
   "source": [
    "## Heart Disease in DX15"
   ]
  },
  {
   "cell_type": "code",
   "execution_count": 72,
   "id": "square-shirt",
   "metadata": {},
   "outputs": [
    {
     "data": {
      "text/plain": [
       "I509      3883\n",
       "I5020      718\n",
       "I5021      658\n",
       "I5030      610\n",
       "I5032      561\n",
       "I5033      491\n",
       "I5023      464\n",
       "I5022      458\n",
       "I5031      404\n",
       "I5043      359\n",
       "I501       298\n",
       "I5041      284\n",
       "I5042      224\n",
       "I5040      122\n",
       "I5082       68\n",
       "I50810      66\n",
       "I50813      66\n",
       "I5089       61\n",
       "I5084       45\n",
       "I50811      22\n",
       "I50814      21\n",
       "Name: DX15, dtype: int64"
      ]
     },
     "execution_count": 72,
     "metadata": {},
     "output_type": "execute_result"
    }
   ],
   "source": [
    "dx15_heart_dis = df_18.loc[df_18['DX15'].str.contains('I50', case=False)]\n",
    "dx15_heart_dis['DX15'].value_counts()"
   ]
  },
  {
   "cell_type": "code",
   "execution_count": 73,
   "id": "twelve-republic",
   "metadata": {},
   "outputs": [
    {
     "data": {
      "text/plain": [
       "<AxesSubplot:xlabel='DX15', ylabel='count'>"
      ]
     },
     "execution_count": 73,
     "metadata": {},
     "output_type": "execute_result"
    },
    {
     "data": {
      "image/png": "[encoded data removed]",
      "text/plain": [
       "<Figure size 1008x504 with 1 Axes>"
      ]
     },
     "metadata": {
      "needs_background": "light"
     },
     "output_type": "display_data"
    }
   ],
   "source": [
    "# DX15\n",
    "plt.figure(figsize=(14, 7))\n",
    "sns.countplot(x=dx15_heart_dis['DX15'],edgecolor=\".6\", palette='vlag', data=df_18)"
   ]
  },
  {
   "cell_type": "markdown",
   "id": "modular-literacy",
   "metadata": {},
   "source": [
    "## Heart Disease code In PDX (Diagnosis Principal)"
   ]
  },
  {
   "cell_type": "code",
   "execution_count": 74,
   "id": "stretch-mason",
   "metadata": {},
   "outputs": [
    {
     "data": {
      "text/plain": [
       "I5023    1678\n",
       "I5033     928\n",
       "I509      582\n",
       "I5043     529\n",
       "I5021     500\n",
       "I5031     110\n",
       "I5041      48\n",
       "I5022      38\n",
       "I5030      24\n",
       "I5040      23\n",
       "I5032      20\n",
       "I5020       7\n",
       "Name: PDX, dtype: int64"
      ]
     },
     "execution_count": 74,
     "metadata": {},
     "output_type": "execute_result"
    }
   ],
   "source": [
    "pdx_heart_dis = df_18.loc[df_18['PDX'].str.contains('I50', case=False)]\n",
    "pdx_heart_dis['PDX'].value_counts()"
   ]
  },
  {
   "cell_type": "code",
   "execution_count": 75,
   "id": "incorporate-softball",
   "metadata": {},
   "outputs": [
    {
     "data": {
      "text/plain": [
       "<AxesSubplot:xlabel='PDX', ylabel='count'>"
      ]
     },
     "execution_count": 75,
     "metadata": {},
     "output_type": "execute_result"
    },
    {
     "data": {
      "image/png": "[encoded data removed]",
      "text/plain": [
       "<Figure size 1008x504 with 1 Axes>"
      ]
     },
     "metadata": {
      "needs_background": "light"
     },
     "output_type": "display_data"
    }
   ],
   "source": [
    "plt.figure(figsize=(14, 7))\n",
    "sns.countplot(x=pdx_heart_dis['PDX'],edgecolor=\".6\", palette='coolwarm', data=df_18)"
   ]
  },
  {
   "cell_type": "markdown",
   "id": "lesbian-interference",
   "metadata": {},
   "source": [
    "## Top 20 Most Used Heart Disease Drug"
   ]
  },
  {
   "cell_type": "code",
   "execution_count": 76,
   "id": "proprietary-beijing",
   "metadata": {},
   "outputs": [
    {
     "data": {
      "text/plain": [
       "<AxesSubplot:xlabel='count', ylabel='PRODNME'>"
      ]
     },
     "execution_count": 76,
     "metadata": {},
     "output_type": "execute_result"
    },
    {
     "data": {
      "image/png": "[encoded data removed]",
      "text/plain": [
       "<Figure size 1008x504 with 1 Axes>"
      ]
     },
     "metadata": {
      "needs_background": "light"
     },
     "output_type": "display_data"
    }
   ],
   "source": [
    "plt.figure(figsize=(14, 7))\n",
    "sns.countplot(y=df_18['PRODNME'], order=df_18.PRODNME.value_counts().iloc[:20].index, \n",
    "              palette = 'RdBu_r', data=df_18)"
   ]
  },
  {
   "cell_type": "markdown",
   "id": "listed-router",
   "metadata": {},
   "source": [
    "## Top 20 Most Hospital Visited Patients"
   ]
  },
  {
   "cell_type": "code",
   "execution_count": 77,
   "id": "delayed-thanks",
   "metadata": {},
   "outputs": [
    {
     "data": {
      "text/plain": [
       "<AxesSubplot:xlabel='count', ylabel='ENROLID'>"
      ]
     },
     "execution_count": 77,
     "metadata": {},
     "output_type": "execute_result"
    },
    {
     "data": {
      "image/png": "[encoded data removed]",
      "text/plain": [
       "<Figure size 1008x504 with 1 Axes>"
      ]
     },
     "metadata": {
      "needs_background": "light"
     },
     "output_type": "display_data"
    }
   ],
   "source": [
    "plt.figure(figsize=(14, 7))\n",
    "sns.countplot(y=df_18['ENROLID'], order=df_18.ENROLID.value_counts().iloc[:20].index, \n",
    "              palette = 'coolwarm', data=df_18)"
   ]
  },
  {
   "cell_type": "code",
   "execution_count": null,
   "id": "devoted-documentation",
   "metadata": {},
   "outputs": [],
   "source": []
  },
  {
   "cell_type": "markdown",
   "id": "lyric-rabbit",
   "metadata": {},
   "source": [
    "## Historgram of AGE"
   ]
  },
  {
   "cell_type": "code",
   "execution_count": 78,
   "id": "electoral-tsunami",
   "metadata": {},
   "outputs": [
    {
     "data": {
      "text/plain": [
       "<AxesSubplot:xlabel='AGE', ylabel='Count'>"
      ]
     },
     "execution_count": 78,
     "metadata": {},
     "output_type": "execute_result"
    },
    {
     "data": {
      "image/png": "[encoded data removed]",
      "text/plain": [
       "<Figure size 720x504 with 1 Axes>"
      ]
     },
     "metadata": {
      "needs_background": "light"
     },
     "output_type": "display_data"
    }
   ],
   "source": [
    "plt.figure(figsize=(10, 7))\n",
    "sns.histplot(df_18['AGE'],binwidth=2)"
   ]
  },
  {
   "cell_type": "markdown",
   "id": "amazing-handbook",
   "metadata": {},
   "source": [
    "## Density of Age vs Sex"
   ]
  },
  {
   "cell_type": "code",
   "execution_count": 79,
   "id": "weekly-emission",
   "metadata": {},
   "outputs": [
    {
     "data": {
      "text/plain": [
       "<seaborn.axisgrid.FacetGrid at 0x7fa6b38627f0>"
      ]
     },
     "execution_count": 79,
     "metadata": {},
     "output_type": "execute_result"
    },
    {
     "data": {
      "image/png": "[encoded data removed]",
      "text/plain": [
       "<Figure size 512.8x576 with 1 Axes>"
      ]
     },
     "metadata": {
      "needs_background": "light"
     },
     "output_type": "display_data"
    }
   ],
   "source": [
    "\n",
    "g = sns.FacetGrid(df_18, hue='SEX', size = 8, height = 4, aspect=0.8)\n",
    "g = g.map(sns.kdeplot, 'AGE', shade=True, alpha=0.3)\n",
    "g.add_legend()"
   ]
  },
  {
   "cell_type": "code",
   "execution_count": 80,
   "id": "intellectual-railway",
   "metadata": {},
   "outputs": [
    {
     "data": {
      "text/plain": [
       "<seaborn.axisgrid.JointGrid at 0x7fa6b7b1f790>"
      ]
     },
     "execution_count": 80,
     "metadata": {},
     "output_type": "execute_result"
    },
    {
     "data": {
      "text/plain": [
       "<Figure size 720x504 with 0 Axes>"
      ]
     },
     "metadata": {},
     "output_type": "display_data"
    },
    {
     "data": {
      "image/png": "[encoded data removed]",
      "text/plain": [
       "<Figure size 432x432 with 3 Axes>"
      ]
     },
     "metadata": {
      "needs_background": "light"
     },
     "output_type": "display_data"
    }
   ],
   "source": [
    "## Disjoint \n",
    "plt.figure(figsize=(10, 7))\n",
    "\n",
    "sns.jointplot(x=df_18['AGE'], y=df_18['ENROLID'],data = df_18)"
   ]
  },
  {
   "cell_type": "code",
   "execution_count": 81,
   "id": "optimum-houston",
   "metadata": {},
   "outputs": [],
   "source": [
    "# fig, ax = plt.subplots(3, 3, figsize=(20, 15))\n",
    "# position = 0\n",
    "\n",
    "\n",
    "\n",
    "# for i in col:\n",
    "    \n",
    "#     order = df_18[i].value_counts().index\n",
    "#     sns.countplot(x=i, ax=ax[position], hue='SEX', palette='RdBu_r', order=order, data=df_18)\n",
    "#.    ax[position].tick_params(labelrotation=90)\n",
    "#     ax[position].set_title(i, fontdict={'fontsize': 20})\n",
    "#     position += 1  \n",
    "# plt.subplots_adjust(hspace=0.3)\n",
    "# plt.show()"
   ]
  },
  {
   "cell_type": "code",
   "execution_count": null,
   "id": "bacterial-punishment",
   "metadata": {},
   "outputs": [],
   "source": []
  },
  {
   "cell_type": "code",
   "execution_count": null,
   "id": "decent-mississippi",
   "metadata": {},
   "outputs": [],
   "source": []
  },
  {
   "cell_type": "code",
   "execution_count": null,
   "id": "electoral-degree",
   "metadata": {},
   "outputs": [],
   "source": []
  },
  {
   "cell_type": "markdown",
   "id": "laughing-plastic",
   "metadata": {},
   "source": [
    "# Data Cleansing"
   ]
  },
  {
   "cell_type": "markdown",
   "id": "different-blast",
   "metadata": {},
   "source": [
    "### Count frequency of heart disease code in each row "
   ]
  },
  {
   "cell_type": "code",
   "execution_count": 83,
   "id": "complex-compound",
   "metadata": {},
   "outputs": [],
   "source": [
    "# couldn't figure out a smarter way\n",
    "# just counted row by row in each column\n",
    "pd.set_option(\"max_row\", None)\n",
    "df_18['DX1_count'] = df_18.DX1.str.count(r'I50')\n",
    "df_18['DX2_count'] = df_18.DX2.str.count(r'I50')\n",
    "df_18['DX3_count'] = df_18.DX3.str.count(r'I50')\n",
    "df_18['DX4_count'] = df_18.DX4.str.count(r'I50')\n",
    "df_18['DX5_count'] = df_18.DX5.str.count(r'I50')\n",
    "df_18['DX6_count'] = df_18.DX6.str.count(r'I50')\n",
    "df_18['DX7_count'] = df_18.DX7.str.count(r'I50')\n",
    "df_18['DX8_count'] = df_18.DX8.str.count(r'I50')\n",
    "df_18['DX9_count'] = df_18.DX9.str.count(r'I50')\n",
    "df_18['DX10_count'] = df_18.DX10.str.count(r'I50')\n",
    "df_18['DX11_count'] = df_18.DX11.str.count(r'I50')\n",
    "df_18['DX12_count'] = df_18.DX12.str.count(r'I50')\n",
    "df_18['DX13_count'] = df_18.DX13.str.count(r'I50')\n",
    "df_18['DX14_count'] = df_18.DX14.str.count(r'I50')\n",
    "df_18['DX15_count'] = df_18.DX15.str.count(r'I50')"
   ]
  },
  {
   "cell_type": "code",
   "execution_count": 84,
   "id": "binding-remainder",
   "metadata": {},
   "outputs": [
    {
     "data": {
      "text/html": [
       "<div>\n",
       "<style scoped>\n",
       "    .dataframe tbody tr th:only-of-type {\n",
       "        vertical-align: middle;\n",
       "    }\n",
       "\n",
       "    .dataframe tbody tr th {\n",
       "        vertical-align: top;\n",
       "    }\n",
       "\n",
       "    .dataframe thead th {\n",
       "        text-align: right;\n",
       "    }\n",
       "</style>\n",
       "<table border=\"1\" class=\"dataframe\">\n",
       "  <thead>\n",
       "    <tr style=\"text-align: right;\">\n",
       "      <th></th>\n",
       "      <th>ENROLID</th>\n",
       "      <th>DOBYR</th>\n",
       "      <th>YEAR</th>\n",
       "      <th>AGE</th>\n",
       "      <th>PDX</th>\n",
       "      <th>DX1</th>\n",
       "      <th>DX2</th>\n",
       "      <th>DX3</th>\n",
       "      <th>DX4</th>\n",
       "      <th>DX5</th>\n",
       "      <th>DX6</th>\n",
       "      <th>DX7</th>\n",
       "      <th>DX8</th>\n",
       "      <th>DX9</th>\n",
       "      <th>DX10</th>\n",
       "      <th>DX11</th>\n",
       "      <th>DX12</th>\n",
       "      <th>DX13</th>\n",
       "      <th>DX14</th>\n",
       "      <th>DX15</th>\n",
       "      <th>SEX</th>\n",
       "      <th>NDCNUM</th>\n",
       "      <th>PRODNME</th>\n",
       "      <th>DX1_count</th>\n",
       "      <th>DX2_count</th>\n",
       "      <th>DX3_count</th>\n",
       "      <th>DX4_count</th>\n",
       "      <th>DX5_count</th>\n",
       "      <th>DX6_count</th>\n",
       "      <th>DX7_count</th>\n",
       "      <th>DX8_count</th>\n",
       "      <th>DX9_count</th>\n",
       "      <th>DX10_count</th>\n",
       "      <th>DX11_count</th>\n",
       "      <th>DX12_count</th>\n",
       "      <th>DX13_count</th>\n",
       "      <th>DX14_count</th>\n",
       "      <th>DX15_count</th>\n",
       "    </tr>\n",
       "  </thead>\n",
       "  <tbody>\n",
       "    <tr>\n",
       "      <th>36</th>\n",
       "      <td>134592102.0</td>\n",
       "      <td>1968.0</td>\n",
       "      <td>2018.0</td>\n",
       "      <td>50.0</td>\n",
       "      <td>I639</td>\n",
       "      <td>I639</td>\n",
       "      <td>E1022</td>\n",
       "      <td>I130</td>\n",
       "      <td>I509</td>\n",
       "      <td>I69351</td>\n",
       "      <td>E109</td>\n",
       "      <td>I638</td>\n",
       "      <td>R29810</td>\n",
       "      <td>I517</td>\n",
       "      <td>R0602</td>\n",
       "      <td>G8191</td>\n",
       "      <td>I10</td>\n",
       "      <td>R531</td>\n",
       "      <td>E1021</td>\n",
       "      <td>I361</td>\n",
       "      <td>1.0</td>\n",
       "      <td>169750111.0</td>\n",
       "      <td>NOVOLOG</td>\n",
       "      <td>0</td>\n",
       "      <td>0</td>\n",
       "      <td>0</td>\n",
       "      <td>1</td>\n",
       "      <td>0</td>\n",
       "      <td>0</td>\n",
       "      <td>0</td>\n",
       "      <td>0</td>\n",
       "      <td>0</td>\n",
       "      <td>0</td>\n",
       "      <td>0</td>\n",
       "      <td>0</td>\n",
       "      <td>0</td>\n",
       "      <td>0</td>\n",
       "      <td>0</td>\n",
       "    </tr>\n",
       "    <tr>\n",
       "      <th>39</th>\n",
       "      <td>134592102.0</td>\n",
       "      <td>1968.0</td>\n",
       "      <td>2018.0</td>\n",
       "      <td>50.0</td>\n",
       "      <td>I639</td>\n",
       "      <td>I639</td>\n",
       "      <td>G8191</td>\n",
       "      <td>G9341</td>\n",
       "      <td>I130</td>\n",
       "      <td>N179</td>\n",
       "      <td>I6782</td>\n",
       "      <td>R4781</td>\n",
       "      <td>R531</td>\n",
       "      <td>I63532</td>\n",
       "      <td>I638</td>\n",
       "      <td>E1169</td>\n",
       "      <td>I672</td>\n",
       "      <td>R001</td>\n",
       "      <td>I10</td>\n",
       "      <td>I509</td>\n",
       "      <td>1.0</td>\n",
       "      <td>169750111.0</td>\n",
       "      <td>NOVOLOG</td>\n",
       "      <td>0</td>\n",
       "      <td>0</td>\n",
       "      <td>0</td>\n",
       "      <td>0</td>\n",
       "      <td>0</td>\n",
       "      <td>0</td>\n",
       "      <td>0</td>\n",
       "      <td>0</td>\n",
       "      <td>0</td>\n",
       "      <td>0</td>\n",
       "      <td>0</td>\n",
       "      <td>0</td>\n",
       "      <td>0</td>\n",
       "      <td>0</td>\n",
       "      <td>1</td>\n",
       "    </tr>\n",
       "    <tr>\n",
       "      <th>64</th>\n",
       "      <td>138200502.0</td>\n",
       "      <td>1969.0</td>\n",
       "      <td>2018.0</td>\n",
       "      <td>48.0</td>\n",
       "      <td>E232</td>\n",
       "      <td>E232</td>\n",
       "      <td>E1165</td>\n",
       "      <td>E2740</td>\n",
       "      <td>E785</td>\n",
       "      <td>I10</td>\n",
       "      <td>E870</td>\n",
       "      <td>G9389</td>\n",
       "      <td>I499</td>\n",
       "      <td>I509</td>\n",
       "      <td>R4182</td>\n",
       "      <td>D444</td>\n",
       "      <td>E876</td>\n",
       "      <td>E871</td>\n",
       "      <td>D181</td>\n",
       "      <td>E039</td>\n",
       "      <td>1.0</td>\n",
       "      <td>169750111.0</td>\n",
       "      <td>NOVOLOG</td>\n",
       "      <td>0</td>\n",
       "      <td>0</td>\n",
       "      <td>0</td>\n",
       "      <td>0</td>\n",
       "      <td>0</td>\n",
       "      <td>0</td>\n",
       "      <td>0</td>\n",
       "      <td>0</td>\n",
       "      <td>1</td>\n",
       "      <td>0</td>\n",
       "      <td>0</td>\n",
       "      <td>0</td>\n",
       "      <td>0</td>\n",
       "      <td>0</td>\n",
       "      <td>0</td>\n",
       "    </tr>\n",
       "    <tr>\n",
       "      <th>65</th>\n",
       "      <td>138200502.0</td>\n",
       "      <td>1969.0</td>\n",
       "      <td>2018.0</td>\n",
       "      <td>48.0</td>\n",
       "      <td>J9601</td>\n",
       "      <td>J9601</td>\n",
       "      <td>B004</td>\n",
       "      <td>G9340</td>\n",
       "      <td>J690</td>\n",
       "      <td>K254</td>\n",
       "      <td>G9341</td>\n",
       "      <td>M79662</td>\n",
       "      <td>R531</td>\n",
       "      <td>R569</td>\n",
       "      <td>I499</td>\n",
       "      <td>I501</td>\n",
       "      <td>R0603</td>\n",
       "      <td>R4020</td>\n",
       "      <td>R4182</td>\n",
       "      <td>Z452</td>\n",
       "      <td>1.0</td>\n",
       "      <td>169750111.0</td>\n",
       "      <td>NOVOLOG</td>\n",
       "      <td>0</td>\n",
       "      <td>0</td>\n",
       "      <td>0</td>\n",
       "      <td>0</td>\n",
       "      <td>0</td>\n",
       "      <td>0</td>\n",
       "      <td>0</td>\n",
       "      <td>0</td>\n",
       "      <td>0</td>\n",
       "      <td>0</td>\n",
       "      <td>1</td>\n",
       "      <td>0</td>\n",
       "      <td>0</td>\n",
       "      <td>0</td>\n",
       "      <td>0</td>\n",
       "    </tr>\n",
       "    <tr>\n",
       "      <th>70</th>\n",
       "      <td>139528701.0</td>\n",
       "      <td>1954.0</td>\n",
       "      <td>2018.0</td>\n",
       "      <td>63.0</td>\n",
       "      <td>I160</td>\n",
       "      <td>I160</td>\n",
       "      <td>E1122</td>\n",
       "      <td>E6601</td>\n",
       "      <td>I2722</td>\n",
       "      <td>N179</td>\n",
       "      <td>Z01818</td>\n",
       "      <td>I5023</td>\n",
       "      <td>N185</td>\n",
       "      <td>E119</td>\n",
       "      <td>D631</td>\n",
       "      <td>I10</td>\n",
       "      <td>E1121</td>\n",
       "      <td>I270</td>\n",
       "      <td>R748</td>\n",
       "      <td>E8770</td>\n",
       "      <td>2.0</td>\n",
       "      <td>169750111.0</td>\n",
       "      <td>NOVOLOG</td>\n",
       "      <td>0</td>\n",
       "      <td>0</td>\n",
       "      <td>0</td>\n",
       "      <td>0</td>\n",
       "      <td>0</td>\n",
       "      <td>0</td>\n",
       "      <td>1</td>\n",
       "      <td>0</td>\n",
       "      <td>0</td>\n",
       "      <td>0</td>\n",
       "      <td>0</td>\n",
       "      <td>0</td>\n",
       "      <td>0</td>\n",
       "      <td>0</td>\n",
       "      <td>0</td>\n",
       "    </tr>\n",
       "  </tbody>\n",
       "</table>\n",
       "</div>"
      ],
      "text/plain": [
       "        ENROLID   DOBYR    YEAR   AGE    PDX    DX1    DX2    DX3    DX4  \\\n",
       "36  134592102.0  1968.0  2018.0  50.0   I639   I639  E1022   I130   I509   \n",
       "39  134592102.0  1968.0  2018.0  50.0   I639   I639  G8191  G9341   I130   \n",
       "64  138200502.0  1969.0  2018.0  48.0   E232   E232  E1165  E2740   E785   \n",
       "65  138200502.0  1969.0  2018.0  48.0  J9601  J9601   B004  G9340   J690   \n",
       "70  139528701.0  1954.0  2018.0  63.0   I160   I160  E1122  E6601  I2722   \n",
       "\n",
       "       DX5     DX6     DX7     DX8     DX9   DX10   DX11   DX12   DX13   DX14  \\\n",
       "36  I69351    E109    I638  R29810    I517  R0602  G8191    I10   R531  E1021   \n",
       "39    N179   I6782   R4781    R531  I63532   I638  E1169   I672   R001    I10   \n",
       "64     I10    E870   G9389    I499    I509  R4182   D444   E876   E871   D181   \n",
       "65    K254   G9341  M79662    R531    R569   I499   I501  R0603  R4020  R4182   \n",
       "70    N179  Z01818   I5023    N185    E119   D631    I10  E1121   I270   R748   \n",
       "\n",
       "     DX15  SEX       NDCNUM  PRODNME  DX1_count  DX2_count  DX3_count  \\\n",
       "36   I361  1.0  169750111.0  NOVOLOG          0          0          0   \n",
       "39   I509  1.0  169750111.0  NOVOLOG          0          0          0   \n",
       "64   E039  1.0  169750111.0  NOVOLOG          0          0          0   \n",
       "65   Z452  1.0  169750111.0  NOVOLOG          0          0          0   \n",
       "70  E8770  2.0  169750111.0  NOVOLOG          0          0          0   \n",
       "\n",
       "    DX4_count  DX5_count  DX6_count  DX7_count  DX8_count  DX9_count  \\\n",
       "36          1          0          0          0          0          0   \n",
       "39          0          0          0          0          0          0   \n",
       "64          0          0          0          0          0          1   \n",
       "65          0          0          0          0          0          0   \n",
       "70          0          0          0          1          0          0   \n",
       "\n",
       "    DX10_count  DX11_count  DX12_count  DX13_count  DX14_count  DX15_count  \n",
       "36           0           0           0           0           0           0  \n",
       "39           0           0           0           0           0           1  \n",
       "64           0           0           0           0           0           0  \n",
       "65           0           1           0           0           0           0  \n",
       "70           0           0           0           0           0           0  "
      ]
     },
     "execution_count": 84,
     "metadata": {},
     "output_type": "execute_result"
    }
   ],
   "source": [
    "df_18.head()"
   ]
  },
  {
   "cell_type": "markdown",
   "id": "dental-album",
   "metadata": {},
   "source": [
    "### Total heart disease code diagnosised "
   ]
  },
  {
   "cell_type": "code",
   "execution_count": 85,
   "id": "medical-trout",
   "metadata": {},
   "outputs": [],
   "source": [
    "# Combine all the dx_count columns together\n",
    "df_18['total_heart_dx'] = (df_18['DX1_count'] + df_18['DX2_count'] + df_18['DX3_count'] + df_18['DX4_count'] + \n",
    "                       df_18['DX5_count'] + df_18['DX6_count'] + df_18['DX7_count'] + df_18['DX8_count'] +\n",
    "                       df_18['DX9_count'] + df_18['DX10_count'] + df_18['DX11_count'] + df_18['DX12_count'] +\n",
    "                       df_18['DX13_count'] + df_18['DX4_count'] + df_18['DX15_count'])"
   ]
  },
  {
   "cell_type": "code",
   "execution_count": 86,
   "id": "vanilla-beast",
   "metadata": {},
   "outputs": [
    {
     "data": {
      "text/html": [
       "<div>\n",
       "<style scoped>\n",
       "    .dataframe tbody tr th:only-of-type {\n",
       "        vertical-align: middle;\n",
       "    }\n",
       "\n",
       "    .dataframe tbody tr th {\n",
       "        vertical-align: top;\n",
       "    }\n",
       "\n",
       "    .dataframe thead th {\n",
       "        text-align: right;\n",
       "    }\n",
       "</style>\n",
       "<table border=\"1\" class=\"dataframe\">\n",
       "  <thead>\n",
       "    <tr style=\"text-align: right;\">\n",
       "      <th></th>\n",
       "      <th>ENROLID</th>\n",
       "      <th>DOBYR</th>\n",
       "      <th>YEAR</th>\n",
       "      <th>AGE</th>\n",
       "      <th>PDX</th>\n",
       "      <th>DX1</th>\n",
       "      <th>DX2</th>\n",
       "      <th>DX3</th>\n",
       "      <th>DX4</th>\n",
       "      <th>DX5</th>\n",
       "      <th>DX6</th>\n",
       "      <th>DX7</th>\n",
       "      <th>DX8</th>\n",
       "      <th>DX9</th>\n",
       "      <th>DX10</th>\n",
       "      <th>DX11</th>\n",
       "      <th>DX12</th>\n",
       "      <th>DX13</th>\n",
       "      <th>DX14</th>\n",
       "      <th>DX15</th>\n",
       "      <th>SEX</th>\n",
       "      <th>NDCNUM</th>\n",
       "      <th>PRODNME</th>\n",
       "      <th>DX1_count</th>\n",
       "      <th>DX2_count</th>\n",
       "      <th>DX3_count</th>\n",
       "      <th>DX4_count</th>\n",
       "      <th>DX5_count</th>\n",
       "      <th>DX6_count</th>\n",
       "      <th>DX7_count</th>\n",
       "      <th>DX8_count</th>\n",
       "      <th>DX9_count</th>\n",
       "      <th>DX10_count</th>\n",
       "      <th>DX11_count</th>\n",
       "      <th>DX12_count</th>\n",
       "      <th>DX13_count</th>\n",
       "      <th>DX14_count</th>\n",
       "      <th>DX15_count</th>\n",
       "      <th>total_heart_dx</th>\n",
       "    </tr>\n",
       "  </thead>\n",
       "  <tbody>\n",
       "    <tr>\n",
       "      <th>36</th>\n",
       "      <td>134592102.0</td>\n",
       "      <td>1968.0</td>\n",
       "      <td>2018.0</td>\n",
       "      <td>50.0</td>\n",
       "      <td>I639</td>\n",
       "      <td>I639</td>\n",
       "      <td>E1022</td>\n",
       "      <td>I130</td>\n",
       "      <td>I509</td>\n",
       "      <td>I69351</td>\n",
       "      <td>E109</td>\n",
       "      <td>I638</td>\n",
       "      <td>R29810</td>\n",
       "      <td>I517</td>\n",
       "      <td>R0602</td>\n",
       "      <td>G8191</td>\n",
       "      <td>I10</td>\n",
       "      <td>R531</td>\n",
       "      <td>E1021</td>\n",
       "      <td>I361</td>\n",
       "      <td>1.0</td>\n",
       "      <td>169750111.0</td>\n",
       "      <td>NOVOLOG</td>\n",
       "      <td>0</td>\n",
       "      <td>0</td>\n",
       "      <td>0</td>\n",
       "      <td>1</td>\n",
       "      <td>0</td>\n",
       "      <td>0</td>\n",
       "      <td>0</td>\n",
       "      <td>0</td>\n",
       "      <td>0</td>\n",
       "      <td>0</td>\n",
       "      <td>0</td>\n",
       "      <td>0</td>\n",
       "      <td>0</td>\n",
       "      <td>0</td>\n",
       "      <td>0</td>\n",
       "      <td>2</td>\n",
       "    </tr>\n",
       "    <tr>\n",
       "      <th>39</th>\n",
       "      <td>134592102.0</td>\n",
       "      <td>1968.0</td>\n",
       "      <td>2018.0</td>\n",
       "      <td>50.0</td>\n",
       "      <td>I639</td>\n",
       "      <td>I639</td>\n",
       "      <td>G8191</td>\n",
       "      <td>G9341</td>\n",
       "      <td>I130</td>\n",
       "      <td>N179</td>\n",
       "      <td>I6782</td>\n",
       "      <td>R4781</td>\n",
       "      <td>R531</td>\n",
       "      <td>I63532</td>\n",
       "      <td>I638</td>\n",
       "      <td>E1169</td>\n",
       "      <td>I672</td>\n",
       "      <td>R001</td>\n",
       "      <td>I10</td>\n",
       "      <td>I509</td>\n",
       "      <td>1.0</td>\n",
       "      <td>169750111.0</td>\n",
       "      <td>NOVOLOG</td>\n",
       "      <td>0</td>\n",
       "      <td>0</td>\n",
       "      <td>0</td>\n",
       "      <td>0</td>\n",
       "      <td>0</td>\n",
       "      <td>0</td>\n",
       "      <td>0</td>\n",
       "      <td>0</td>\n",
       "      <td>0</td>\n",
       "      <td>0</td>\n",
       "      <td>0</td>\n",
       "      <td>0</td>\n",
       "      <td>0</td>\n",
       "      <td>0</td>\n",
       "      <td>1</td>\n",
       "      <td>1</td>\n",
       "    </tr>\n",
       "    <tr>\n",
       "      <th>64</th>\n",
       "      <td>138200502.0</td>\n",
       "      <td>1969.0</td>\n",
       "      <td>2018.0</td>\n",
       "      <td>48.0</td>\n",
       "      <td>E232</td>\n",
       "      <td>E232</td>\n",
       "      <td>E1165</td>\n",
       "      <td>E2740</td>\n",
       "      <td>E785</td>\n",
       "      <td>I10</td>\n",
       "      <td>E870</td>\n",
       "      <td>G9389</td>\n",
       "      <td>I499</td>\n",
       "      <td>I509</td>\n",
       "      <td>R4182</td>\n",
       "      <td>D444</td>\n",
       "      <td>E876</td>\n",
       "      <td>E871</td>\n",
       "      <td>D181</td>\n",
       "      <td>E039</td>\n",
       "      <td>1.0</td>\n",
       "      <td>169750111.0</td>\n",
       "      <td>NOVOLOG</td>\n",
       "      <td>0</td>\n",
       "      <td>0</td>\n",
       "      <td>0</td>\n",
       "      <td>0</td>\n",
       "      <td>0</td>\n",
       "      <td>0</td>\n",
       "      <td>0</td>\n",
       "      <td>0</td>\n",
       "      <td>1</td>\n",
       "      <td>0</td>\n",
       "      <td>0</td>\n",
       "      <td>0</td>\n",
       "      <td>0</td>\n",
       "      <td>0</td>\n",
       "      <td>0</td>\n",
       "      <td>1</td>\n",
       "    </tr>\n",
       "    <tr>\n",
       "      <th>65</th>\n",
       "      <td>138200502.0</td>\n",
       "      <td>1969.0</td>\n",
       "      <td>2018.0</td>\n",
       "      <td>48.0</td>\n",
       "      <td>J9601</td>\n",
       "      <td>J9601</td>\n",
       "      <td>B004</td>\n",
       "      <td>G9340</td>\n",
       "      <td>J690</td>\n",
       "      <td>K254</td>\n",
       "      <td>G9341</td>\n",
       "      <td>M79662</td>\n",
       "      <td>R531</td>\n",
       "      <td>R569</td>\n",
       "      <td>I499</td>\n",
       "      <td>I501</td>\n",
       "      <td>R0603</td>\n",
       "      <td>R4020</td>\n",
       "      <td>R4182</td>\n",
       "      <td>Z452</td>\n",
       "      <td>1.0</td>\n",
       "      <td>169750111.0</td>\n",
       "      <td>NOVOLOG</td>\n",
       "      <td>0</td>\n",
       "      <td>0</td>\n",
       "      <td>0</td>\n",
       "      <td>0</td>\n",
       "      <td>0</td>\n",
       "      <td>0</td>\n",
       "      <td>0</td>\n",
       "      <td>0</td>\n",
       "      <td>0</td>\n",
       "      <td>0</td>\n",
       "      <td>1</td>\n",
       "      <td>0</td>\n",
       "      <td>0</td>\n",
       "      <td>0</td>\n",
       "      <td>0</td>\n",
       "      <td>1</td>\n",
       "    </tr>\n",
       "    <tr>\n",
       "      <th>70</th>\n",
       "      <td>139528701.0</td>\n",
       "      <td>1954.0</td>\n",
       "      <td>2018.0</td>\n",
       "      <td>63.0</td>\n",
       "      <td>I160</td>\n",
       "      <td>I160</td>\n",
       "      <td>E1122</td>\n",
       "      <td>E6601</td>\n",
       "      <td>I2722</td>\n",
       "      <td>N179</td>\n",
       "      <td>Z01818</td>\n",
       "      <td>I5023</td>\n",
       "      <td>N185</td>\n",
       "      <td>E119</td>\n",
       "      <td>D631</td>\n",
       "      <td>I10</td>\n",
       "      <td>E1121</td>\n",
       "      <td>I270</td>\n",
       "      <td>R748</td>\n",
       "      <td>E8770</td>\n",
       "      <td>2.0</td>\n",
       "      <td>169750111.0</td>\n",
       "      <td>NOVOLOG</td>\n",
       "      <td>0</td>\n",
       "      <td>0</td>\n",
       "      <td>0</td>\n",
       "      <td>0</td>\n",
       "      <td>0</td>\n",
       "      <td>0</td>\n",
       "      <td>1</td>\n",
       "      <td>0</td>\n",
       "      <td>0</td>\n",
       "      <td>0</td>\n",
       "      <td>0</td>\n",
       "      <td>0</td>\n",
       "      <td>0</td>\n",
       "      <td>0</td>\n",
       "      <td>0</td>\n",
       "      <td>1</td>\n",
       "    </tr>\n",
       "  </tbody>\n",
       "</table>\n",
       "</div>"
      ],
      "text/plain": [
       "        ENROLID   DOBYR    YEAR   AGE    PDX    DX1    DX2    DX3    DX4  \\\n",
       "36  134592102.0  1968.0  2018.0  50.0   I639   I639  E1022   I130   I509   \n",
       "39  134592102.0  1968.0  2018.0  50.0   I639   I639  G8191  G9341   I130   \n",
       "64  138200502.0  1969.0  2018.0  48.0   E232   E232  E1165  E2740   E785   \n",
       "65  138200502.0  1969.0  2018.0  48.0  J9601  J9601   B004  G9340   J690   \n",
       "70  139528701.0  1954.0  2018.0  63.0   I160   I160  E1122  E6601  I2722   \n",
       "\n",
       "       DX5     DX6     DX7     DX8     DX9   DX10   DX11   DX12   DX13   DX14  \\\n",
       "36  I69351    E109    I638  R29810    I517  R0602  G8191    I10   R531  E1021   \n",
       "39    N179   I6782   R4781    R531  I63532   I638  E1169   I672   R001    I10   \n",
       "64     I10    E870   G9389    I499    I509  R4182   D444   E876   E871   D181   \n",
       "65    K254   G9341  M79662    R531    R569   I499   I501  R0603  R4020  R4182   \n",
       "70    N179  Z01818   I5023    N185    E119   D631    I10  E1121   I270   R748   \n",
       "\n",
       "     DX15  SEX       NDCNUM  PRODNME  DX1_count  DX2_count  DX3_count  \\\n",
       "36   I361  1.0  169750111.0  NOVOLOG          0          0          0   \n",
       "39   I509  1.0  169750111.0  NOVOLOG          0          0          0   \n",
       "64   E039  1.0  169750111.0  NOVOLOG          0          0          0   \n",
       "65   Z452  1.0  169750111.0  NOVOLOG          0          0          0   \n",
       "70  E8770  2.0  169750111.0  NOVOLOG          0          0          0   \n",
       "\n",
       "    DX4_count  DX5_count  DX6_count  DX7_count  DX8_count  DX9_count  \\\n",
       "36          1          0          0          0          0          0   \n",
       "39          0          0          0          0          0          0   \n",
       "64          0          0          0          0          0          1   \n",
       "65          0          0          0          0          0          0   \n",
       "70          0          0          0          1          0          0   \n",
       "\n",
       "    DX10_count  DX11_count  DX12_count  DX13_count  DX14_count  DX15_count  \\\n",
       "36           0           0           0           0           0           0   \n",
       "39           0           0           0           0           0           1   \n",
       "64           0           0           0           0           0           0   \n",
       "65           0           1           0           0           0           0   \n",
       "70           0           0           0           0           0           0   \n",
       "\n",
       "    total_heart_dx  \n",
       "36               2  \n",
       "39               1  \n",
       "64               1  \n",
       "65               1  \n",
       "70               1  "
      ]
     },
     "execution_count": 86,
     "metadata": {},
     "output_type": "execute_result"
    }
   ],
   "source": [
    "df_18.head()"
   ]
  },
  {
   "cell_type": "markdown",
   "id": "acceptable-parking",
   "metadata": {},
   "source": [
    "### Total Non-heart disease code diagnosised "
   ]
  },
  {
   "cell_type": "code",
   "execution_count": 87,
   "id": "eleven-element",
   "metadata": {},
   "outputs": [],
   "source": [
    "# non-heart disease code \n",
    "df_18['non_heartdx_total'] = (15 - df_18['total_heart_dx'])\n"
   ]
  },
  {
   "cell_type": "markdown",
   "id": "systematic-mobility",
   "metadata": {},
   "source": [
    "### Total Diagnosis"
   ]
  },
  {
   "cell_type": "code",
   "execution_count": 88,
   "id": "separate-temple",
   "metadata": {},
   "outputs": [],
   "source": [
    "# total diagnosis\n",
    "df_18['total_dx'] = df_18['total_heart_dx'] + df_18['non_heartdx_total']"
   ]
  },
  {
   "cell_type": "code",
   "execution_count": 89,
   "id": "minor-hands",
   "metadata": {},
   "outputs": [
    {
     "data": {
      "text/html": [
       "<div>\n",
       "<style scoped>\n",
       "    .dataframe tbody tr th:only-of-type {\n",
       "        vertical-align: middle;\n",
       "    }\n",
       "\n",
       "    .dataframe tbody tr th {\n",
       "        vertical-align: top;\n",
       "    }\n",
       "\n",
       "    .dataframe thead th {\n",
       "        text-align: right;\n",
       "    }\n",
       "</style>\n",
       "<table border=\"1\" class=\"dataframe\">\n",
       "  <thead>\n",
       "    <tr style=\"text-align: right;\">\n",
       "      <th></th>\n",
       "      <th>ENROLID</th>\n",
       "      <th>DOBYR</th>\n",
       "      <th>YEAR</th>\n",
       "      <th>AGE</th>\n",
       "      <th>PDX</th>\n",
       "      <th>DX1</th>\n",
       "      <th>DX2</th>\n",
       "      <th>DX3</th>\n",
       "      <th>DX4</th>\n",
       "      <th>DX5</th>\n",
       "      <th>DX6</th>\n",
       "      <th>DX7</th>\n",
       "      <th>DX8</th>\n",
       "      <th>DX9</th>\n",
       "      <th>DX10</th>\n",
       "      <th>DX11</th>\n",
       "      <th>DX12</th>\n",
       "      <th>DX13</th>\n",
       "      <th>DX14</th>\n",
       "      <th>DX15</th>\n",
       "      <th>SEX</th>\n",
       "      <th>NDCNUM</th>\n",
       "      <th>PRODNME</th>\n",
       "      <th>DX1_count</th>\n",
       "      <th>DX2_count</th>\n",
       "      <th>DX3_count</th>\n",
       "      <th>DX4_count</th>\n",
       "      <th>DX5_count</th>\n",
       "      <th>DX6_count</th>\n",
       "      <th>DX7_count</th>\n",
       "      <th>DX8_count</th>\n",
       "      <th>DX9_count</th>\n",
       "      <th>DX10_count</th>\n",
       "      <th>DX11_count</th>\n",
       "      <th>DX12_count</th>\n",
       "      <th>DX13_count</th>\n",
       "      <th>DX14_count</th>\n",
       "      <th>DX15_count</th>\n",
       "      <th>total_heart_dx</th>\n",
       "      <th>non_heartdx_total</th>\n",
       "      <th>total_dx</th>\n",
       "    </tr>\n",
       "  </thead>\n",
       "  <tbody>\n",
       "    <tr>\n",
       "      <th>36</th>\n",
       "      <td>134592102.0</td>\n",
       "      <td>1968.0</td>\n",
       "      <td>2018.0</td>\n",
       "      <td>50.0</td>\n",
       "      <td>I639</td>\n",
       "      <td>I639</td>\n",
       "      <td>E1022</td>\n",
       "      <td>I130</td>\n",
       "      <td>I509</td>\n",
       "      <td>I69351</td>\n",
       "      <td>E109</td>\n",
       "      <td>I638</td>\n",
       "      <td>R29810</td>\n",
       "      <td>I517</td>\n",
       "      <td>R0602</td>\n",
       "      <td>G8191</td>\n",
       "      <td>I10</td>\n",
       "      <td>R531</td>\n",
       "      <td>E1021</td>\n",
       "      <td>I361</td>\n",
       "      <td>1.0</td>\n",
       "      <td>169750111.0</td>\n",
       "      <td>NOVOLOG</td>\n",
       "      <td>0</td>\n",
       "      <td>0</td>\n",
       "      <td>0</td>\n",
       "      <td>1</td>\n",
       "      <td>0</td>\n",
       "      <td>0</td>\n",
       "      <td>0</td>\n",
       "      <td>0</td>\n",
       "      <td>0</td>\n",
       "      <td>0</td>\n",
       "      <td>0</td>\n",
       "      <td>0</td>\n",
       "      <td>0</td>\n",
       "      <td>0</td>\n",
       "      <td>0</td>\n",
       "      <td>2</td>\n",
       "      <td>13</td>\n",
       "      <td>15</td>\n",
       "    </tr>\n",
       "    <tr>\n",
       "      <th>39</th>\n",
       "      <td>134592102.0</td>\n",
       "      <td>1968.0</td>\n",
       "      <td>2018.0</td>\n",
       "      <td>50.0</td>\n",
       "      <td>I639</td>\n",
       "      <td>I639</td>\n",
       "      <td>G8191</td>\n",
       "      <td>G9341</td>\n",
       "      <td>I130</td>\n",
       "      <td>N179</td>\n",
       "      <td>I6782</td>\n",
       "      <td>R4781</td>\n",
       "      <td>R531</td>\n",
       "      <td>I63532</td>\n",
       "      <td>I638</td>\n",
       "      <td>E1169</td>\n",
       "      <td>I672</td>\n",
       "      <td>R001</td>\n",
       "      <td>I10</td>\n",
       "      <td>I509</td>\n",
       "      <td>1.0</td>\n",
       "      <td>169750111.0</td>\n",
       "      <td>NOVOLOG</td>\n",
       "      <td>0</td>\n",
       "      <td>0</td>\n",
       "      <td>0</td>\n",
       "      <td>0</td>\n",
       "      <td>0</td>\n",
       "      <td>0</td>\n",
       "      <td>0</td>\n",
       "      <td>0</td>\n",
       "      <td>0</td>\n",
       "      <td>0</td>\n",
       "      <td>0</td>\n",
       "      <td>0</td>\n",
       "      <td>0</td>\n",
       "      <td>0</td>\n",
       "      <td>1</td>\n",
       "      <td>1</td>\n",
       "      <td>14</td>\n",
       "      <td>15</td>\n",
       "    </tr>\n",
       "    <tr>\n",
       "      <th>64</th>\n",
       "      <td>138200502.0</td>\n",
       "      <td>1969.0</td>\n",
       "      <td>2018.0</td>\n",
       "      <td>48.0</td>\n",
       "      <td>E232</td>\n",
       "      <td>E232</td>\n",
       "      <td>E1165</td>\n",
       "      <td>E2740</td>\n",
       "      <td>E785</td>\n",
       "      <td>I10</td>\n",
       "      <td>E870</td>\n",
       "      <td>G9389</td>\n",
       "      <td>I499</td>\n",
       "      <td>I509</td>\n",
       "      <td>R4182</td>\n",
       "      <td>D444</td>\n",
       "      <td>E876</td>\n",
       "      <td>E871</td>\n",
       "      <td>D181</td>\n",
       "      <td>E039</td>\n",
       "      <td>1.0</td>\n",
       "      <td>169750111.0</td>\n",
       "      <td>NOVOLOG</td>\n",
       "      <td>0</td>\n",
       "      <td>0</td>\n",
       "      <td>0</td>\n",
       "      <td>0</td>\n",
       "      <td>0</td>\n",
       "      <td>0</td>\n",
       "      <td>0</td>\n",
       "      <td>0</td>\n",
       "      <td>1</td>\n",
       "      <td>0</td>\n",
       "      <td>0</td>\n",
       "      <td>0</td>\n",
       "      <td>0</td>\n",
       "      <td>0</td>\n",
       "      <td>0</td>\n",
       "      <td>1</td>\n",
       "      <td>14</td>\n",
       "      <td>15</td>\n",
       "    </tr>\n",
       "    <tr>\n",
       "      <th>65</th>\n",
       "      <td>138200502.0</td>\n",
       "      <td>1969.0</td>\n",
       "      <td>2018.0</td>\n",
       "      <td>48.0</td>\n",
       "      <td>J9601</td>\n",
       "      <td>J9601</td>\n",
       "      <td>B004</td>\n",
       "      <td>G9340</td>\n",
       "      <td>J690</td>\n",
       "      <td>K254</td>\n",
       "      <td>G9341</td>\n",
       "      <td>M79662</td>\n",
       "      <td>R531</td>\n",
       "      <td>R569</td>\n",
       "      <td>I499</td>\n",
       "      <td>I501</td>\n",
       "      <td>R0603</td>\n",
       "      <td>R4020</td>\n",
       "      <td>R4182</td>\n",
       "      <td>Z452</td>\n",
       "      <td>1.0</td>\n",
       "      <td>169750111.0</td>\n",
       "      <td>NOVOLOG</td>\n",
       "      <td>0</td>\n",
       "      <td>0</td>\n",
       "      <td>0</td>\n",
       "      <td>0</td>\n",
       "      <td>0</td>\n",
       "      <td>0</td>\n",
       "      <td>0</td>\n",
       "      <td>0</td>\n",
       "      <td>0</td>\n",
       "      <td>0</td>\n",
       "      <td>1</td>\n",
       "      <td>0</td>\n",
       "      <td>0</td>\n",
       "      <td>0</td>\n",
       "      <td>0</td>\n",
       "      <td>1</td>\n",
       "      <td>14</td>\n",
       "      <td>15</td>\n",
       "    </tr>\n",
       "    <tr>\n",
       "      <th>70</th>\n",
       "      <td>139528701.0</td>\n",
       "      <td>1954.0</td>\n",
       "      <td>2018.0</td>\n",
       "      <td>63.0</td>\n",
       "      <td>I160</td>\n",
       "      <td>I160</td>\n",
       "      <td>E1122</td>\n",
       "      <td>E6601</td>\n",
       "      <td>I2722</td>\n",
       "      <td>N179</td>\n",
       "      <td>Z01818</td>\n",
       "      <td>I5023</td>\n",
       "      <td>N185</td>\n",
       "      <td>E119</td>\n",
       "      <td>D631</td>\n",
       "      <td>I10</td>\n",
       "      <td>E1121</td>\n",
       "      <td>I270</td>\n",
       "      <td>R748</td>\n",
       "      <td>E8770</td>\n",
       "      <td>2.0</td>\n",
       "      <td>169750111.0</td>\n",
       "      <td>NOVOLOG</td>\n",
       "      <td>0</td>\n",
       "      <td>0</td>\n",
       "      <td>0</td>\n",
       "      <td>0</td>\n",
       "      <td>0</td>\n",
       "      <td>0</td>\n",
       "      <td>1</td>\n",
       "      <td>0</td>\n",
       "      <td>0</td>\n",
       "      <td>0</td>\n",
       "      <td>0</td>\n",
       "      <td>0</td>\n",
       "      <td>0</td>\n",
       "      <td>0</td>\n",
       "      <td>0</td>\n",
       "      <td>1</td>\n",
       "      <td>14</td>\n",
       "      <td>15</td>\n",
       "    </tr>\n",
       "  </tbody>\n",
       "</table>\n",
       "</div>"
      ],
      "text/plain": [
       "        ENROLID   DOBYR    YEAR   AGE    PDX    DX1    DX2    DX3    DX4  \\\n",
       "36  134592102.0  1968.0  2018.0  50.0   I639   I639  E1022   I130   I509   \n",
       "39  134592102.0  1968.0  2018.0  50.0   I639   I639  G8191  G9341   I130   \n",
       "64  138200502.0  1969.0  2018.0  48.0   E232   E232  E1165  E2740   E785   \n",
       "65  138200502.0  1969.0  2018.0  48.0  J9601  J9601   B004  G9340   J690   \n",
       "70  139528701.0  1954.0  2018.0  63.0   I160   I160  E1122  E6601  I2722   \n",
       "\n",
       "       DX5     DX6     DX7     DX8     DX9   DX10   DX11   DX12   DX13   DX14  \\\n",
       "36  I69351    E109    I638  R29810    I517  R0602  G8191    I10   R531  E1021   \n",
       "39    N179   I6782   R4781    R531  I63532   I638  E1169   I672   R001    I10   \n",
       "64     I10    E870   G9389    I499    I509  R4182   D444   E876   E871   D181   \n",
       "65    K254   G9341  M79662    R531    R569   I499   I501  R0603  R4020  R4182   \n",
       "70    N179  Z01818   I5023    N185    E119   D631    I10  E1121   I270   R748   \n",
       "\n",
       "     DX15  SEX       NDCNUM  PRODNME  DX1_count  DX2_count  DX3_count  \\\n",
       "36   I361  1.0  169750111.0  NOVOLOG          0          0          0   \n",
       "39   I509  1.0  169750111.0  NOVOLOG          0          0          0   \n",
       "64   E039  1.0  169750111.0  NOVOLOG          0          0          0   \n",
       "65   Z452  1.0  169750111.0  NOVOLOG          0          0          0   \n",
       "70  E8770  2.0  169750111.0  NOVOLOG          0          0          0   \n",
       "\n",
       "    DX4_count  DX5_count  DX6_count  DX7_count  DX8_count  DX9_count  \\\n",
       "36          1          0          0          0          0          0   \n",
       "39          0          0          0          0          0          0   \n",
       "64          0          0          0          0          0          1   \n",
       "65          0          0          0          0          0          0   \n",
       "70          0          0          0          1          0          0   \n",
       "\n",
       "    DX10_count  DX11_count  DX12_count  DX13_count  DX14_count  DX15_count  \\\n",
       "36           0           0           0           0           0           0   \n",
       "39           0           0           0           0           0           1   \n",
       "64           0           0           0           0           0           0   \n",
       "65           0           1           0           0           0           0   \n",
       "70           0           0           0           0           0           0   \n",
       "\n",
       "    total_heart_dx  non_heartdx_total  total_dx  \n",
       "36               2                 13        15  \n",
       "39               1                 14        15  \n",
       "64               1                 14        15  \n",
       "65               1                 14        15  \n",
       "70               1                 14        15  "
      ]
     },
     "execution_count": 89,
     "metadata": {},
     "output_type": "execute_result"
    }
   ],
   "source": [
    "df_18.head()"
   ]
  },
  {
   "cell_type": "code",
   "execution_count": 90,
   "id": "boolean-mouse",
   "metadata": {},
   "outputs": [],
   "source": [
    "# drop all the dx_count columns\n",
    "\n",
    "df_18.drop(['DX1_count','DX2_count','DX3_count','DX4_count','DX5_count','DX6_count',\n",
    "            'DX7_count','DX8_count','DX9_count','DX10_count','DX11_count','DX12_count',\n",
    "            'DX13_count','DX14_count','DX15_count'], axis=1, inplace=True)"
   ]
  },
  {
   "cell_type": "code",
   "execution_count": 91,
   "id": "supreme-madagascar",
   "metadata": {},
   "outputs": [
    {
     "data": {
      "text/html": [
       "<div>\n",
       "<style scoped>\n",
       "    .dataframe tbody tr th:only-of-type {\n",
       "        vertical-align: middle;\n",
       "    }\n",
       "\n",
       "    .dataframe tbody tr th {\n",
       "        vertical-align: top;\n",
       "    }\n",
       "\n",
       "    .dataframe thead th {\n",
       "        text-align: right;\n",
       "    }\n",
       "</style>\n",
       "<table border=\"1\" class=\"dataframe\">\n",
       "  <thead>\n",
       "    <tr style=\"text-align: right;\">\n",
       "      <th></th>\n",
       "      <th>ENROLID</th>\n",
       "      <th>DOBYR</th>\n",
       "      <th>YEAR</th>\n",
       "      <th>AGE</th>\n",
       "      <th>PDX</th>\n",
       "      <th>DX1</th>\n",
       "      <th>DX2</th>\n",
       "      <th>DX3</th>\n",
       "      <th>DX4</th>\n",
       "      <th>DX5</th>\n",
       "      <th>DX6</th>\n",
       "      <th>DX7</th>\n",
       "      <th>DX8</th>\n",
       "      <th>DX9</th>\n",
       "      <th>DX10</th>\n",
       "      <th>DX11</th>\n",
       "      <th>DX12</th>\n",
       "      <th>DX13</th>\n",
       "      <th>DX14</th>\n",
       "      <th>DX15</th>\n",
       "      <th>SEX</th>\n",
       "      <th>NDCNUM</th>\n",
       "      <th>PRODNME</th>\n",
       "      <th>total_heart_dx</th>\n",
       "      <th>non_heartdx_total</th>\n",
       "      <th>total_dx</th>\n",
       "    </tr>\n",
       "  </thead>\n",
       "  <tbody>\n",
       "    <tr>\n",
       "      <th>36</th>\n",
       "      <td>134592102.0</td>\n",
       "      <td>1968.0</td>\n",
       "      <td>2018.0</td>\n",
       "      <td>50.0</td>\n",
       "      <td>I639</td>\n",
       "      <td>I639</td>\n",
       "      <td>E1022</td>\n",
       "      <td>I130</td>\n",
       "      <td>I509</td>\n",
       "      <td>I69351</td>\n",
       "      <td>E109</td>\n",
       "      <td>I638</td>\n",
       "      <td>R29810</td>\n",
       "      <td>I517</td>\n",
       "      <td>R0602</td>\n",
       "      <td>G8191</td>\n",
       "      <td>I10</td>\n",
       "      <td>R531</td>\n",
       "      <td>E1021</td>\n",
       "      <td>I361</td>\n",
       "      <td>1.0</td>\n",
       "      <td>169750111.0</td>\n",
       "      <td>NOVOLOG</td>\n",
       "      <td>2</td>\n",
       "      <td>13</td>\n",
       "      <td>15</td>\n",
       "    </tr>\n",
       "    <tr>\n",
       "      <th>39</th>\n",
       "      <td>134592102.0</td>\n",
       "      <td>1968.0</td>\n",
       "      <td>2018.0</td>\n",
       "      <td>50.0</td>\n",
       "      <td>I639</td>\n",
       "      <td>I639</td>\n",
       "      <td>G8191</td>\n",
       "      <td>G9341</td>\n",
       "      <td>I130</td>\n",
       "      <td>N179</td>\n",
       "      <td>I6782</td>\n",
       "      <td>R4781</td>\n",
       "      <td>R531</td>\n",
       "      <td>I63532</td>\n",
       "      <td>I638</td>\n",
       "      <td>E1169</td>\n",
       "      <td>I672</td>\n",
       "      <td>R001</td>\n",
       "      <td>I10</td>\n",
       "      <td>I509</td>\n",
       "      <td>1.0</td>\n",
       "      <td>169750111.0</td>\n",
       "      <td>NOVOLOG</td>\n",
       "      <td>1</td>\n",
       "      <td>14</td>\n",
       "      <td>15</td>\n",
       "    </tr>\n",
       "    <tr>\n",
       "      <th>64</th>\n",
       "      <td>138200502.0</td>\n",
       "      <td>1969.0</td>\n",
       "      <td>2018.0</td>\n",
       "      <td>48.0</td>\n",
       "      <td>E232</td>\n",
       "      <td>E232</td>\n",
       "      <td>E1165</td>\n",
       "      <td>E2740</td>\n",
       "      <td>E785</td>\n",
       "      <td>I10</td>\n",
       "      <td>E870</td>\n",
       "      <td>G9389</td>\n",
       "      <td>I499</td>\n",
       "      <td>I509</td>\n",
       "      <td>R4182</td>\n",
       "      <td>D444</td>\n",
       "      <td>E876</td>\n",
       "      <td>E871</td>\n",
       "      <td>D181</td>\n",
       "      <td>E039</td>\n",
       "      <td>1.0</td>\n",
       "      <td>169750111.0</td>\n",
       "      <td>NOVOLOG</td>\n",
       "      <td>1</td>\n",
       "      <td>14</td>\n",
       "      <td>15</td>\n",
       "    </tr>\n",
       "    <tr>\n",
       "      <th>65</th>\n",
       "      <td>138200502.0</td>\n",
       "      <td>1969.0</td>\n",
       "      <td>2018.0</td>\n",
       "      <td>48.0</td>\n",
       "      <td>J9601</td>\n",
       "      <td>J9601</td>\n",
       "      <td>B004</td>\n",
       "      <td>G9340</td>\n",
       "      <td>J690</td>\n",
       "      <td>K254</td>\n",
       "      <td>G9341</td>\n",
       "      <td>M79662</td>\n",
       "      <td>R531</td>\n",
       "      <td>R569</td>\n",
       "      <td>I499</td>\n",
       "      <td>I501</td>\n",
       "      <td>R0603</td>\n",
       "      <td>R4020</td>\n",
       "      <td>R4182</td>\n",
       "      <td>Z452</td>\n",
       "      <td>1.0</td>\n",
       "      <td>169750111.0</td>\n",
       "      <td>NOVOLOG</td>\n",
       "      <td>1</td>\n",
       "      <td>14</td>\n",
       "      <td>15</td>\n",
       "    </tr>\n",
       "    <tr>\n",
       "      <th>70</th>\n",
       "      <td>139528701.0</td>\n",
       "      <td>1954.0</td>\n",
       "      <td>2018.0</td>\n",
       "      <td>63.0</td>\n",
       "      <td>I160</td>\n",
       "      <td>I160</td>\n",
       "      <td>E1122</td>\n",
       "      <td>E6601</td>\n",
       "      <td>I2722</td>\n",
       "      <td>N179</td>\n",
       "      <td>Z01818</td>\n",
       "      <td>I5023</td>\n",
       "      <td>N185</td>\n",
       "      <td>E119</td>\n",
       "      <td>D631</td>\n",
       "      <td>I10</td>\n",
       "      <td>E1121</td>\n",
       "      <td>I270</td>\n",
       "      <td>R748</td>\n",
       "      <td>E8770</td>\n",
       "      <td>2.0</td>\n",
       "      <td>169750111.0</td>\n",
       "      <td>NOVOLOG</td>\n",
       "      <td>1</td>\n",
       "      <td>14</td>\n",
       "      <td>15</td>\n",
       "    </tr>\n",
       "  </tbody>\n",
       "</table>\n",
       "</div>"
      ],
      "text/plain": [
       "        ENROLID   DOBYR    YEAR   AGE    PDX    DX1    DX2    DX3    DX4  \\\n",
       "36  134592102.0  1968.0  2018.0  50.0   I639   I639  E1022   I130   I509   \n",
       "39  134592102.0  1968.0  2018.0  50.0   I639   I639  G8191  G9341   I130   \n",
       "64  138200502.0  1969.0  2018.0  48.0   E232   E232  E1165  E2740   E785   \n",
       "65  138200502.0  1969.0  2018.0  48.0  J9601  J9601   B004  G9340   J690   \n",
       "70  139528701.0  1954.0  2018.0  63.0   I160   I160  E1122  E6601  I2722   \n",
       "\n",
       "       DX5     DX6     DX7     DX8     DX9   DX10   DX11   DX12   DX13   DX14  \\\n",
       "36  I69351    E109    I638  R29810    I517  R0602  G8191    I10   R531  E1021   \n",
       "39    N179   I6782   R4781    R531  I63532   I638  E1169   I672   R001    I10   \n",
       "64     I10    E870   G9389    I499    I509  R4182   D444   E876   E871   D181   \n",
       "65    K254   G9341  M79662    R531    R569   I499   I501  R0603  R4020  R4182   \n",
       "70    N179  Z01818   I5023    N185    E119   D631    I10  E1121   I270   R748   \n",
       "\n",
       "     DX15  SEX       NDCNUM  PRODNME  total_heart_dx  non_heartdx_total  \\\n",
       "36   I361  1.0  169750111.0  NOVOLOG               2                 13   \n",
       "39   I509  1.0  169750111.0  NOVOLOG               1                 14   \n",
       "64   E039  1.0  169750111.0  NOVOLOG               1                 14   \n",
       "65   Z452  1.0  169750111.0  NOVOLOG               1                 14   \n",
       "70  E8770  2.0  169750111.0  NOVOLOG               1                 14   \n",
       "\n",
       "    total_dx  \n",
       "36        15  \n",
       "39        15  \n",
       "64        15  \n",
       "65        15  \n",
       "70        15  "
      ]
     },
     "execution_count": 91,
     "metadata": {},
     "output_type": "execute_result"
    }
   ],
   "source": [
    "df_18.head()"
   ]
  },
  {
   "cell_type": "markdown",
   "id": "identical-answer",
   "metadata": {},
   "source": [
    "## Decoding heart disease diagnosis code to Numberical"
   ]
  },
  {
   "cell_type": "markdown",
   "id": "varied-buffalo",
   "metadata": {},
   "source": [
    "- find out all the heart disease related code to split to letters and numbers. \n",
    "- Only keep the numbers\n",
    "- set other unrelated heart disease code to 0"
   ]
  },
  {
   "cell_type": "code",
   "execution_count": 92,
   "id": "unlikely-finding",
   "metadata": {},
   "outputs": [],
   "source": [
    "# df_18[df_18.DX1.str.startswith('I50')]"
   ]
  },
  {
   "cell_type": "code",
   "execution_count": 93,
   "id": "auburn-faith",
   "metadata": {
    "code_folding": [
     0
    ]
   },
   "outputs": [],
   "source": [
    "# set 0 if the dx code is not relate to heart disease\n",
    "\n",
    "# couldn't figure out a better way\n",
    "# df_18['DX1_1'] = df_18['DX1'].apply(lambda x: x.split('I50')[1] if x.startswith('I50') else 0)\n",
    "df_18['DX1_1'] = df_18['DX1'].apply(lambda x: x if x.startswith('I50') else 0)\n",
    "df_18['DX2_1'] = df_18['DX2'].apply(lambda x: x if x.startswith('I50') else 0)\n",
    "df_18['DX3_1'] = df_18['DX3'].apply(lambda x: x if x.startswith('I50') else 0)\n",
    "df_18['DX4_1'] = df_18['DX4'].apply(lambda x: x if x.startswith('I50') else 0)\n",
    "df_18['DX5_1'] = df_18['DX5'].apply(lambda x: x if x.startswith('I50') else 0)\n",
    "df_18['DX6_1'] = df_18['DX6'].apply(lambda x: x if x.startswith('I50') else 0)\n",
    "df_18['DX7_1'] = df_18['DX7'].apply(lambda x: x if x.startswith('I50') else 0)\n",
    "df_18['DX8_1'] = df_18['DX8'].apply(lambda x: x if x.startswith('I50') else 0)\n",
    "df_18['DX9_1'] = df_18['DX9'].apply(lambda x: x if x.startswith('I50') else 0)\n",
    "df_18['DX10_1'] = df_18['DX10'].apply(lambda x: x if x.startswith('I50') else 0)\n",
    "df_18['DX11_1'] = df_18['DX11'].apply(lambda x: x if x.startswith('I50') else 0)\n",
    "df_18['DX12_1'] = df_18['DX12'].apply(lambda x: x if x.startswith('I50') else 0)\n",
    "df_18['DX13_1'] = df_18['DX13'].apply(lambda x: x if x.startswith('I50') else 0)\n",
    "df_18['DX14_1'] = df_18['DX14'].apply(lambda x: x if x.startswith('I50') else 0)\n",
    "df_18['DX15_1'] = df_18['DX15'].apply(lambda x: x if x.startswith('I50') else 0)"
   ]
  },
  {
   "cell_type": "code",
   "execution_count": 94,
   "id": "daily-diving",
   "metadata": {},
   "outputs": [
    {
     "data": {
      "text/html": [
       "<div>\n",
       "<style scoped>\n",
       "    .dataframe tbody tr th:only-of-type {\n",
       "        vertical-align: middle;\n",
       "    }\n",
       "\n",
       "    .dataframe tbody tr th {\n",
       "        vertical-align: top;\n",
       "    }\n",
       "\n",
       "    .dataframe thead th {\n",
       "        text-align: right;\n",
       "    }\n",
       "</style>\n",
       "<table border=\"1\" class=\"dataframe\">\n",
       "  <thead>\n",
       "    <tr style=\"text-align: right;\">\n",
       "      <th></th>\n",
       "      <th>ENROLID</th>\n",
       "      <th>DOBYR</th>\n",
       "      <th>YEAR</th>\n",
       "      <th>AGE</th>\n",
       "      <th>PDX</th>\n",
       "      <th>DX1</th>\n",
       "      <th>DX2</th>\n",
       "      <th>DX3</th>\n",
       "      <th>DX4</th>\n",
       "      <th>DX5</th>\n",
       "      <th>DX6</th>\n",
       "      <th>DX7</th>\n",
       "      <th>DX8</th>\n",
       "      <th>DX9</th>\n",
       "      <th>DX10</th>\n",
       "      <th>DX11</th>\n",
       "      <th>DX12</th>\n",
       "      <th>DX13</th>\n",
       "      <th>DX14</th>\n",
       "      <th>DX15</th>\n",
       "      <th>SEX</th>\n",
       "      <th>NDCNUM</th>\n",
       "      <th>PRODNME</th>\n",
       "      <th>total_heart_dx</th>\n",
       "      <th>non_heartdx_total</th>\n",
       "      <th>total_dx</th>\n",
       "      <th>DX1_1</th>\n",
       "      <th>DX2_1</th>\n",
       "      <th>DX3_1</th>\n",
       "      <th>DX4_1</th>\n",
       "      <th>DX5_1</th>\n",
       "      <th>DX6_1</th>\n",
       "      <th>DX7_1</th>\n",
       "      <th>DX8_1</th>\n",
       "      <th>DX9_1</th>\n",
       "      <th>DX10_1</th>\n",
       "      <th>DX11_1</th>\n",
       "      <th>DX12_1</th>\n",
       "      <th>DX13_1</th>\n",
       "      <th>DX14_1</th>\n",
       "      <th>DX15_1</th>\n",
       "    </tr>\n",
       "  </thead>\n",
       "  <tbody>\n",
       "    <tr>\n",
       "      <th>36</th>\n",
       "      <td>134592102.0</td>\n",
       "      <td>1968.0</td>\n",
       "      <td>2018.0</td>\n",
       "      <td>50.0</td>\n",
       "      <td>I639</td>\n",
       "      <td>I639</td>\n",
       "      <td>E1022</td>\n",
       "      <td>I130</td>\n",
       "      <td>I509</td>\n",
       "      <td>I69351</td>\n",
       "      <td>E109</td>\n",
       "      <td>I638</td>\n",
       "      <td>R29810</td>\n",
       "      <td>I517</td>\n",
       "      <td>R0602</td>\n",
       "      <td>G8191</td>\n",
       "      <td>I10</td>\n",
       "      <td>R531</td>\n",
       "      <td>E1021</td>\n",
       "      <td>I361</td>\n",
       "      <td>1.0</td>\n",
       "      <td>169750111.0</td>\n",
       "      <td>NOVOLOG</td>\n",
       "      <td>2</td>\n",
       "      <td>13</td>\n",
       "      <td>15</td>\n",
       "      <td>0</td>\n",
       "      <td>0</td>\n",
       "      <td>0</td>\n",
       "      <td>I509</td>\n",
       "      <td>0</td>\n",
       "      <td>0</td>\n",
       "      <td>0</td>\n",
       "      <td>0</td>\n",
       "      <td>0</td>\n",
       "      <td>0</td>\n",
       "      <td>0</td>\n",
       "      <td>0</td>\n",
       "      <td>0</td>\n",
       "      <td>0</td>\n",
       "      <td>0</td>\n",
       "    </tr>\n",
       "    <tr>\n",
       "      <th>39</th>\n",
       "      <td>134592102.0</td>\n",
       "      <td>1968.0</td>\n",
       "      <td>2018.0</td>\n",
       "      <td>50.0</td>\n",
       "      <td>I639</td>\n",
       "      <td>I639</td>\n",
       "      <td>G8191</td>\n",
       "      <td>G9341</td>\n",
       "      <td>I130</td>\n",
       "      <td>N179</td>\n",
       "      <td>I6782</td>\n",
       "      <td>R4781</td>\n",
       "      <td>R531</td>\n",
       "      <td>I63532</td>\n",
       "      <td>I638</td>\n",
       "      <td>E1169</td>\n",
       "      <td>I672</td>\n",
       "      <td>R001</td>\n",
       "      <td>I10</td>\n",
       "      <td>I509</td>\n",
       "      <td>1.0</td>\n",
       "      <td>169750111.0</td>\n",
       "      <td>NOVOLOG</td>\n",
       "      <td>1</td>\n",
       "      <td>14</td>\n",
       "      <td>15</td>\n",
       "      <td>0</td>\n",
       "      <td>0</td>\n",
       "      <td>0</td>\n",
       "      <td>0</td>\n",
       "      <td>0</td>\n",
       "      <td>0</td>\n",
       "      <td>0</td>\n",
       "      <td>0</td>\n",
       "      <td>0</td>\n",
       "      <td>0</td>\n",
       "      <td>0</td>\n",
       "      <td>0</td>\n",
       "      <td>0</td>\n",
       "      <td>0</td>\n",
       "      <td>I509</td>\n",
       "    </tr>\n",
       "    <tr>\n",
       "      <th>64</th>\n",
       "      <td>138200502.0</td>\n",
       "      <td>1969.0</td>\n",
       "      <td>2018.0</td>\n",
       "      <td>48.0</td>\n",
       "      <td>E232</td>\n",
       "      <td>E232</td>\n",
       "      <td>E1165</td>\n",
       "      <td>E2740</td>\n",
       "      <td>E785</td>\n",
       "      <td>I10</td>\n",
       "      <td>E870</td>\n",
       "      <td>G9389</td>\n",
       "      <td>I499</td>\n",
       "      <td>I509</td>\n",
       "      <td>R4182</td>\n",
       "      <td>D444</td>\n",
       "      <td>E876</td>\n",
       "      <td>E871</td>\n",
       "      <td>D181</td>\n",
       "      <td>E039</td>\n",
       "      <td>1.0</td>\n",
       "      <td>169750111.0</td>\n",
       "      <td>NOVOLOG</td>\n",
       "      <td>1</td>\n",
       "      <td>14</td>\n",
       "      <td>15</td>\n",
       "      <td>0</td>\n",
       "      <td>0</td>\n",
       "      <td>0</td>\n",
       "      <td>0</td>\n",
       "      <td>0</td>\n",
       "      <td>0</td>\n",
       "      <td>0</td>\n",
       "      <td>0</td>\n",
       "      <td>I509</td>\n",
       "      <td>0</td>\n",
       "      <td>0</td>\n",
       "      <td>0</td>\n",
       "      <td>0</td>\n",
       "      <td>0</td>\n",
       "      <td>0</td>\n",
       "    </tr>\n",
       "    <tr>\n",
       "      <th>65</th>\n",
       "      <td>138200502.0</td>\n",
       "      <td>1969.0</td>\n",
       "      <td>2018.0</td>\n",
       "      <td>48.0</td>\n",
       "      <td>J9601</td>\n",
       "      <td>J9601</td>\n",
       "      <td>B004</td>\n",
       "      <td>G9340</td>\n",
       "      <td>J690</td>\n",
       "      <td>K254</td>\n",
       "      <td>G9341</td>\n",
       "      <td>M79662</td>\n",
       "      <td>R531</td>\n",
       "      <td>R569</td>\n",
       "      <td>I499</td>\n",
       "      <td>I501</td>\n",
       "      <td>R0603</td>\n",
       "      <td>R4020</td>\n",
       "      <td>R4182</td>\n",
       "      <td>Z452</td>\n",
       "      <td>1.0</td>\n",
       "      <td>169750111.0</td>\n",
       "      <td>NOVOLOG</td>\n",
       "      <td>1</td>\n",
       "      <td>14</td>\n",
       "      <td>15</td>\n",
       "      <td>0</td>\n",
       "      <td>0</td>\n",
       "      <td>0</td>\n",
       "      <td>0</td>\n",
       "      <td>0</td>\n",
       "      <td>0</td>\n",
       "      <td>0</td>\n",
       "      <td>0</td>\n",
       "      <td>0</td>\n",
       "      <td>0</td>\n",
       "      <td>I501</td>\n",
       "      <td>0</td>\n",
       "      <td>0</td>\n",
       "      <td>0</td>\n",
       "      <td>0</td>\n",
       "    </tr>\n",
       "    <tr>\n",
       "      <th>70</th>\n",
       "      <td>139528701.0</td>\n",
       "      <td>1954.0</td>\n",
       "      <td>2018.0</td>\n",
       "      <td>63.0</td>\n",
       "      <td>I160</td>\n",
       "      <td>I160</td>\n",
       "      <td>E1122</td>\n",
       "      <td>E6601</td>\n",
       "      <td>I2722</td>\n",
       "      <td>N179</td>\n",
       "      <td>Z01818</td>\n",
       "      <td>I5023</td>\n",
       "      <td>N185</td>\n",
       "      <td>E119</td>\n",
       "      <td>D631</td>\n",
       "      <td>I10</td>\n",
       "      <td>E1121</td>\n",
       "      <td>I270</td>\n",
       "      <td>R748</td>\n",
       "      <td>E8770</td>\n",
       "      <td>2.0</td>\n",
       "      <td>169750111.0</td>\n",
       "      <td>NOVOLOG</td>\n",
       "      <td>1</td>\n",
       "      <td>14</td>\n",
       "      <td>15</td>\n",
       "      <td>0</td>\n",
       "      <td>0</td>\n",
       "      <td>0</td>\n",
       "      <td>0</td>\n",
       "      <td>0</td>\n",
       "      <td>0</td>\n",
       "      <td>I5023</td>\n",
       "      <td>0</td>\n",
       "      <td>0</td>\n",
       "      <td>0</td>\n",
       "      <td>0</td>\n",
       "      <td>0</td>\n",
       "      <td>0</td>\n",
       "      <td>0</td>\n",
       "      <td>0</td>\n",
       "    </tr>\n",
       "  </tbody>\n",
       "</table>\n",
       "</div>"
      ],
      "text/plain": [
       "        ENROLID   DOBYR    YEAR   AGE    PDX    DX1    DX2    DX3    DX4  \\\n",
       "36  134592102.0  1968.0  2018.0  50.0   I639   I639  E1022   I130   I509   \n",
       "39  134592102.0  1968.0  2018.0  50.0   I639   I639  G8191  G9341   I130   \n",
       "64  138200502.0  1969.0  2018.0  48.0   E232   E232  E1165  E2740   E785   \n",
       "65  138200502.0  1969.0  2018.0  48.0  J9601  J9601   B004  G9340   J690   \n",
       "70  139528701.0  1954.0  2018.0  63.0   I160   I160  E1122  E6601  I2722   \n",
       "\n",
       "       DX5     DX6     DX7     DX8     DX9   DX10   DX11   DX12   DX13   DX14  \\\n",
       "36  I69351    E109    I638  R29810    I517  R0602  G8191    I10   R531  E1021   \n",
       "39    N179   I6782   R4781    R531  I63532   I638  E1169   I672   R001    I10   \n",
       "64     I10    E870   G9389    I499    I509  R4182   D444   E876   E871   D181   \n",
       "65    K254   G9341  M79662    R531    R569   I499   I501  R0603  R4020  R4182   \n",
       "70    N179  Z01818   I5023    N185    E119   D631    I10  E1121   I270   R748   \n",
       "\n",
       "     DX15  SEX       NDCNUM  PRODNME  total_heart_dx  non_heartdx_total  \\\n",
       "36   I361  1.0  169750111.0  NOVOLOG               2                 13   \n",
       "39   I509  1.0  169750111.0  NOVOLOG               1                 14   \n",
       "64   E039  1.0  169750111.0  NOVOLOG               1                 14   \n",
       "65   Z452  1.0  169750111.0  NOVOLOG               1                 14   \n",
       "70  E8770  2.0  169750111.0  NOVOLOG               1                 14   \n",
       "\n",
       "    total_dx DX1_1 DX2_1 DX3_1 DX4_1 DX5_1 DX6_1  DX7_1 DX8_1 DX9_1 DX10_1  \\\n",
       "36        15     0     0     0  I509     0     0      0     0     0      0   \n",
       "39        15     0     0     0     0     0     0      0     0     0      0   \n",
       "64        15     0     0     0     0     0     0      0     0  I509      0   \n",
       "65        15     0     0     0     0     0     0      0     0     0      0   \n",
       "70        15     0     0     0     0     0     0  I5023     0     0      0   \n",
       "\n",
       "   DX11_1 DX12_1 DX13_1 DX14_1 DX15_1  \n",
       "36      0      0      0      0      0  \n",
       "39      0      0      0      0   I509  \n",
       "64      0      0      0      0      0  \n",
       "65   I501      0      0      0      0  \n",
       "70      0      0      0      0      0  "
      ]
     },
     "execution_count": 94,
     "metadata": {},
     "output_type": "execute_result"
    }
   ],
   "source": [
    "df_18.head()"
   ]
  },
  {
   "cell_type": "code",
   "execution_count": 95,
   "id": "precious-failure",
   "metadata": {},
   "outputs": [
    {
     "data": {
      "text/plain": [
       "0        133414\n",
       "I5023      1678\n",
       "I5033       928\n",
       "I509        582\n",
       "I5043       529\n",
       "I5021       500\n",
       "I5031       110\n",
       "I5041        48\n",
       "I5022        38\n",
       "I5030        24\n",
       "I5040        23\n",
       "I5032        20\n",
       "I5020         7\n",
       "Name: DX1_1, dtype: int64"
      ]
     },
     "execution_count": 95,
     "metadata": {},
     "output_type": "execute_result"
    }
   ],
   "source": [
    "\n",
    "df_18['DX1_1'].value_counts()"
   ]
  },
  {
   "cell_type": "code",
   "execution_count": 96,
   "id": "incorrect-broadcast",
   "metadata": {},
   "outputs": [],
   "source": [
    "key = [x for x in df_18.columns if x.startswith('DX')]"
   ]
  },
  {
   "cell_type": "markdown",
   "id": "knowing-recipe",
   "metadata": {},
   "source": [
    "### Decoding the Diagnosis code to Number"
   ]
  },
  {
   "cell_type": "code",
   "execution_count": 97,
   "id": "accomplished-immunology",
   "metadata": {
    "code_folding": [
     0
    ]
   },
   "outputs": [],
   "source": [
    "# Not Smart way\n",
    "# split the code to letters and numbers, keep the number, else set to 0\n",
    "\n",
    "df_18['dx1'] = df_18.DX1_1.str.split('I50').str[1]\n",
    "df_18['dx2'] = df_18.DX2_1.str.split('I50').str[1]\n",
    "df_18['dx3'] = df_18.DX3_1.str.split('I50').str[1]\n",
    "df_18['dx4'] = df_18.DX4_1.str.split('I50').str[1]\n",
    "df_18['dx5'] = df_18.DX5_1.str.split('I50').str[1]\n",
    "df_18['dx6'] = df_18.DX6_1.str.split('I50').str[1]\n",
    "df_18['dx7'] = df_18.DX7_1.str.split('I50').str[1]\n",
    "df_18['dx8'] = df_18.DX8_1.str.split('I50').str[1]\n",
    "df_18['dx9'] = df_18.DX9_1.str.split('I50').str[1]\n",
    "df_18['dx10'] = df_18.DX10_1.str.split('I50').str[1]\n",
    "df_18['dx11'] = df_18.DX11_1.str.split('I50').str[1]\n",
    "df_18['dx12'] = df_18.DX12_1.str.split('I50').str[1]\n",
    "df_18['dx13'] = df_18.DX13_1.str.split('I50').str[1]\n",
    "df_18['dx14'] = df_18.DX14_1.str.split('I50').str[1]\n",
    "df_18['dx15'] = df_18.DX15_1.str.split('I50').str[1]"
   ]
  },
  {
   "cell_type": "markdown",
   "id": "infectious-claim",
   "metadata": {},
   "source": [
    "### Fill missing value to 0 if code is not related to heart disease"
   ]
  },
  {
   "cell_type": "code",
   "execution_count": 98,
   "id": "collaborative-brass",
   "metadata": {
    "code_folding": [
     0
    ]
   },
   "outputs": [],
   "source": [
    "# Not Smart way\n",
    "# fillna with 0\n",
    "\n",
    "df_18['dx1'] = df_18['dx1'].replace(np.nan, 0)\n",
    "df_18['dx2'] = df_18['dx2'].replace(np.nan, 0)\n",
    "df_18['dx3'] = df_18['dx3'].replace(np.nan, 0)\n",
    "df_18['dx4'] = df_18['dx4'].replace(np.nan, 0)\n",
    "df_18['dx5'] = df_18['dx5'].replace(np.nan, 0)\n",
    "df_18['dx6'] = df_18['dx6'].replace(np.nan, 0)\n",
    "df_18['dx7'] = df_18['dx7'].replace(np.nan, 0)\n",
    "df_18['dx8'] = df_18['dx8'].replace(np.nan, 0)\n",
    "df_18['dx9'] = df_18['dx9'].replace(np.nan, 0)\n",
    "df_18['dx10'] = df_18['dx10'].replace(np.nan, 0)\n",
    "df_18['dx11'] = df_18['dx11'].replace(np.nan, 0)\n",
    "df_18['dx12'] = df_18['dx12'].replace(np.nan, 0)\n",
    "df_18['dx13'] = df_18['dx13'].replace(np.nan, 0)\n",
    "df_18['dx14'] = df_18['dx14'].replace(np.nan, 0)\n",
    "df_18['dx15'] = df_18['dx15'].replace(np.nan, 0)"
   ]
  },
  {
   "cell_type": "markdown",
   "id": "occupied-shore",
   "metadata": {},
   "source": [
    "### Drop all the Temp Variale (run 5 times)"
   ]
  },
  {
   "cell_type": "code",
   "execution_count": 99,
   "id": "exact-purse",
   "metadata": {
    "code_folding": [
     0
    ]
   },
   "outputs": [],
   "source": [
    "## Drop other uncessary columns\n",
    "## the computer will crash if drop all list,\n",
    "## drop a few columns every time\n",
    "\n",
    "cols = [x for x in df_18.columns if x.startswith('DX')]\n",
    "\n",
    "df_18.drop(cols[:3], axis=1, inplace=True)"
   ]
  },
  {
   "cell_type": "code",
   "execution_count": null,
   "id": "timely-multiple",
   "metadata": {},
   "outputs": [],
   "source": []
  },
  {
   "cell_type": "code",
   "execution_count": 100,
   "id": "otherwise-customer",
   "metadata": {},
   "outputs": [],
   "source": [
    "# drop PDX column\n",
    "df_18.drop(['PDX'], axis=1, inplace=True)"
   ]
  },
  {
   "cell_type": "code",
   "execution_count": 101,
   "id": "ancient-germany",
   "metadata": {},
   "outputs": [
    {
     "data": {
      "text/html": [
       "<div>\n",
       "<style scoped>\n",
       "    .dataframe tbody tr th:only-of-type {\n",
       "        vertical-align: middle;\n",
       "    }\n",
       "\n",
       "    .dataframe tbody tr th {\n",
       "        vertical-align: top;\n",
       "    }\n",
       "\n",
       "    .dataframe thead th {\n",
       "        text-align: right;\n",
       "    }\n",
       "</style>\n",
       "<table border=\"1\" class=\"dataframe\">\n",
       "  <thead>\n",
       "    <tr style=\"text-align: right;\">\n",
       "      <th></th>\n",
       "      <th>ENROLID</th>\n",
       "      <th>DOBYR</th>\n",
       "      <th>YEAR</th>\n",
       "      <th>AGE</th>\n",
       "      <th>DX4</th>\n",
       "      <th>DX5</th>\n",
       "      <th>DX6</th>\n",
       "      <th>DX7</th>\n",
       "      <th>DX8</th>\n",
       "      <th>DX9</th>\n",
       "      <th>DX10</th>\n",
       "      <th>DX11</th>\n",
       "      <th>DX12</th>\n",
       "      <th>DX13</th>\n",
       "      <th>DX14</th>\n",
       "      <th>DX15</th>\n",
       "      <th>SEX</th>\n",
       "      <th>NDCNUM</th>\n",
       "      <th>PRODNME</th>\n",
       "      <th>total_heart_dx</th>\n",
       "      <th>non_heartdx_total</th>\n",
       "      <th>total_dx</th>\n",
       "      <th>DX1_1</th>\n",
       "      <th>DX2_1</th>\n",
       "      <th>DX3_1</th>\n",
       "      <th>DX4_1</th>\n",
       "      <th>DX5_1</th>\n",
       "      <th>DX6_1</th>\n",
       "      <th>DX7_1</th>\n",
       "      <th>DX8_1</th>\n",
       "      <th>DX9_1</th>\n",
       "      <th>DX10_1</th>\n",
       "      <th>DX11_1</th>\n",
       "      <th>DX12_1</th>\n",
       "      <th>DX13_1</th>\n",
       "      <th>DX14_1</th>\n",
       "      <th>DX15_1</th>\n",
       "      <th>dx1</th>\n",
       "      <th>dx2</th>\n",
       "      <th>dx3</th>\n",
       "      <th>dx4</th>\n",
       "      <th>dx5</th>\n",
       "      <th>dx6</th>\n",
       "      <th>dx7</th>\n",
       "      <th>dx8</th>\n",
       "      <th>dx9</th>\n",
       "      <th>dx10</th>\n",
       "      <th>dx11</th>\n",
       "      <th>dx12</th>\n",
       "      <th>dx13</th>\n",
       "      <th>dx14</th>\n",
       "      <th>dx15</th>\n",
       "    </tr>\n",
       "  </thead>\n",
       "  <tbody>\n",
       "    <tr>\n",
       "      <th>4736880</th>\n",
       "      <td>1.843839e+09</td>\n",
       "      <td>1955.0</td>\n",
       "      <td>2018.0</td>\n",
       "      <td>63.0</td>\n",
       "      <td>I110</td>\n",
       "      <td>I2510</td>\n",
       "      <td>I252</td>\n",
       "      <td>I5023</td>\n",
       "      <td>Z7902</td>\n",
       "      <td>Z794</td>\n",
       "      <td>R079</td>\n",
       "      <td>I229</td>\n",
       "      <td>I25110</td>\n",
       "      <td>I509</td>\n",
       "      <td>R42</td>\n",
       "      <td>I340</td>\n",
       "      <td>1.0</td>\n",
       "      <td>6.838202e+10</td>\n",
       "      <td>GABAPENTIN</td>\n",
       "      <td>2</td>\n",
       "      <td>13</td>\n",
       "      <td>15</td>\n",
       "      <td>0</td>\n",
       "      <td>0</td>\n",
       "      <td>0</td>\n",
       "      <td>0</td>\n",
       "      <td>0</td>\n",
       "      <td>0</td>\n",
       "      <td>I5023</td>\n",
       "      <td>0</td>\n",
       "      <td>0</td>\n",
       "      <td>0</td>\n",
       "      <td>0</td>\n",
       "      <td>0</td>\n",
       "      <td>I509</td>\n",
       "      <td>0</td>\n",
       "      <td>0</td>\n",
       "      <td>0</td>\n",
       "      <td>0</td>\n",
       "      <td>0</td>\n",
       "      <td>0</td>\n",
       "      <td>0</td>\n",
       "      <td>0</td>\n",
       "      <td>23</td>\n",
       "      <td>0</td>\n",
       "      <td>0</td>\n",
       "      <td>0</td>\n",
       "      <td>0</td>\n",
       "      <td>0</td>\n",
       "      <td>9</td>\n",
       "      <td>0</td>\n",
       "      <td>0</td>\n",
       "    </tr>\n",
       "    <tr>\n",
       "      <th>4736883</th>\n",
       "      <td>1.843839e+09</td>\n",
       "      <td>1955.0</td>\n",
       "      <td>2018.0</td>\n",
       "      <td>63.0</td>\n",
       "      <td>I110</td>\n",
       "      <td>I2510</td>\n",
       "      <td>I252</td>\n",
       "      <td>I5023</td>\n",
       "      <td>Z7902</td>\n",
       "      <td>Z794</td>\n",
       "      <td>R079</td>\n",
       "      <td>I229</td>\n",
       "      <td>I25110</td>\n",
       "      <td>I509</td>\n",
       "      <td>R42</td>\n",
       "      <td>I340</td>\n",
       "      <td>1.0</td>\n",
       "      <td>9.551710e+08</td>\n",
       "      <td>TRIAMCINOLONE ACETONIDE</td>\n",
       "      <td>2</td>\n",
       "      <td>13</td>\n",
       "      <td>15</td>\n",
       "      <td>0</td>\n",
       "      <td>0</td>\n",
       "      <td>0</td>\n",
       "      <td>0</td>\n",
       "      <td>0</td>\n",
       "      <td>0</td>\n",
       "      <td>I5023</td>\n",
       "      <td>0</td>\n",
       "      <td>0</td>\n",
       "      <td>0</td>\n",
       "      <td>0</td>\n",
       "      <td>0</td>\n",
       "      <td>I509</td>\n",
       "      <td>0</td>\n",
       "      <td>0</td>\n",
       "      <td>0</td>\n",
       "      <td>0</td>\n",
       "      <td>0</td>\n",
       "      <td>0</td>\n",
       "      <td>0</td>\n",
       "      <td>0</td>\n",
       "      <td>23</td>\n",
       "      <td>0</td>\n",
       "      <td>0</td>\n",
       "      <td>0</td>\n",
       "      <td>0</td>\n",
       "      <td>0</td>\n",
       "      <td>9</td>\n",
       "      <td>0</td>\n",
       "      <td>0</td>\n",
       "    </tr>\n",
       "    <tr>\n",
       "      <th>4736925</th>\n",
       "      <td>1.849577e+09</td>\n",
       "      <td>1956.0</td>\n",
       "      <td>2018.0</td>\n",
       "      <td>61.0</td>\n",
       "      <td>I255</td>\n",
       "      <td>I482</td>\n",
       "      <td>I5022</td>\n",
       "      <td>N183</td>\n",
       "      <td>N2581</td>\n",
       "      <td>Z955</td>\n",
       "      <td>I2510</td>\n",
       "      <td>Z452</td>\n",
       "      <td>I4891</td>\n",
       "      <td>Z951</td>\n",
       "      <td>I209</td>\n",
       "      <td>J9811</td>\n",
       "      <td>1.0</td>\n",
       "      <td>1.860008e+08</td>\n",
       "      <td>ATACAND</td>\n",
       "      <td>1</td>\n",
       "      <td>14</td>\n",
       "      <td>15</td>\n",
       "      <td>0</td>\n",
       "      <td>0</td>\n",
       "      <td>0</td>\n",
       "      <td>0</td>\n",
       "      <td>0</td>\n",
       "      <td>I5022</td>\n",
       "      <td>0</td>\n",
       "      <td>0</td>\n",
       "      <td>0</td>\n",
       "      <td>0</td>\n",
       "      <td>0</td>\n",
       "      <td>0</td>\n",
       "      <td>0</td>\n",
       "      <td>0</td>\n",
       "      <td>0</td>\n",
       "      <td>0</td>\n",
       "      <td>0</td>\n",
       "      <td>0</td>\n",
       "      <td>0</td>\n",
       "      <td>0</td>\n",
       "      <td>22</td>\n",
       "      <td>0</td>\n",
       "      <td>0</td>\n",
       "      <td>0</td>\n",
       "      <td>0</td>\n",
       "      <td>0</td>\n",
       "      <td>0</td>\n",
       "      <td>0</td>\n",
       "      <td>0</td>\n",
       "      <td>0</td>\n",
       "    </tr>\n",
       "    <tr>\n",
       "      <th>4736989</th>\n",
       "      <td>1.858839e+09</td>\n",
       "      <td>1959.0</td>\n",
       "      <td>2018.0</td>\n",
       "      <td>58.0</td>\n",
       "      <td>I2720</td>\n",
       "      <td>I495</td>\n",
       "      <td>I5033</td>\n",
       "      <td>J9601</td>\n",
       "      <td>N179</td>\n",
       "      <td>Z6842</td>\n",
       "      <td>J811</td>\n",
       "      <td>R001</td>\n",
       "      <td>R0789</td>\n",
       "      <td>S0990XA</td>\n",
       "      <td>S199XXA</td>\n",
       "      <td>S3991XA</td>\n",
       "      <td>2.0</td>\n",
       "      <td>5.462900e+10</td>\n",
       "      <td>CRANBERRY CONCENTRATE</td>\n",
       "      <td>1</td>\n",
       "      <td>14</td>\n",
       "      <td>15</td>\n",
       "      <td>0</td>\n",
       "      <td>0</td>\n",
       "      <td>0</td>\n",
       "      <td>0</td>\n",
       "      <td>0</td>\n",
       "      <td>I5033</td>\n",
       "      <td>0</td>\n",
       "      <td>0</td>\n",
       "      <td>0</td>\n",
       "      <td>0</td>\n",
       "      <td>0</td>\n",
       "      <td>0</td>\n",
       "      <td>0</td>\n",
       "      <td>0</td>\n",
       "      <td>0</td>\n",
       "      <td>0</td>\n",
       "      <td>0</td>\n",
       "      <td>0</td>\n",
       "      <td>0</td>\n",
       "      <td>0</td>\n",
       "      <td>33</td>\n",
       "      <td>0</td>\n",
       "      <td>0</td>\n",
       "      <td>0</td>\n",
       "      <td>0</td>\n",
       "      <td>0</td>\n",
       "      <td>0</td>\n",
       "      <td>0</td>\n",
       "      <td>0</td>\n",
       "      <td>0</td>\n",
       "    </tr>\n",
       "    <tr>\n",
       "      <th>4736990</th>\n",
       "      <td>1.858839e+09</td>\n",
       "      <td>1959.0</td>\n",
       "      <td>2018.0</td>\n",
       "      <td>58.0</td>\n",
       "      <td>E785</td>\n",
       "      <td>G9340</td>\n",
       "      <td>I5032</td>\n",
       "      <td>J9601</td>\n",
       "      <td>J9602</td>\n",
       "      <td>Z6842</td>\n",
       "      <td>A419</td>\n",
       "      <td>I5020</td>\n",
       "      <td>S0990XA</td>\n",
       "      <td>I2723</td>\n",
       "      <td>R4182</td>\n",
       "      <td>S79912A</td>\n",
       "      <td>2.0</td>\n",
       "      <td>5.462900e+10</td>\n",
       "      <td>CRANBERRY CONCENTRATE</td>\n",
       "      <td>2</td>\n",
       "      <td>13</td>\n",
       "      <td>15</td>\n",
       "      <td>0</td>\n",
       "      <td>0</td>\n",
       "      <td>0</td>\n",
       "      <td>0</td>\n",
       "      <td>0</td>\n",
       "      <td>I5032</td>\n",
       "      <td>0</td>\n",
       "      <td>0</td>\n",
       "      <td>0</td>\n",
       "      <td>0</td>\n",
       "      <td>I5020</td>\n",
       "      <td>0</td>\n",
       "      <td>0</td>\n",
       "      <td>0</td>\n",
       "      <td>0</td>\n",
       "      <td>0</td>\n",
       "      <td>0</td>\n",
       "      <td>0</td>\n",
       "      <td>0</td>\n",
       "      <td>0</td>\n",
       "      <td>32</td>\n",
       "      <td>0</td>\n",
       "      <td>0</td>\n",
       "      <td>0</td>\n",
       "      <td>0</td>\n",
       "      <td>20</td>\n",
       "      <td>0</td>\n",
       "      <td>0</td>\n",
       "      <td>0</td>\n",
       "      <td>0</td>\n",
       "    </tr>\n",
       "  </tbody>\n",
       "</table>\n",
       "</div>"
      ],
      "text/plain": [
       "              ENROLID   DOBYR    YEAR   AGE    DX4    DX5    DX6    DX7  \\\n",
       "4736880  1.843839e+09  1955.0  2018.0  63.0   I110  I2510   I252  I5023   \n",
       "4736883  1.843839e+09  1955.0  2018.0  63.0   I110  I2510   I252  I5023   \n",
       "4736925  1.849577e+09  1956.0  2018.0  61.0   I255   I482  I5022   N183   \n",
       "4736989  1.858839e+09  1959.0  2018.0  58.0  I2720   I495  I5033  J9601   \n",
       "4736990  1.858839e+09  1959.0  2018.0  58.0   E785  G9340  I5032  J9601   \n",
       "\n",
       "           DX8    DX9   DX10   DX11     DX12     DX13     DX14     DX15  SEX  \\\n",
       "4736880  Z7902   Z794   R079   I229   I25110     I509      R42     I340  1.0   \n",
       "4736883  Z7902   Z794   R079   I229   I25110     I509      R42     I340  1.0   \n",
       "4736925  N2581   Z955  I2510   Z452    I4891     Z951     I209    J9811  1.0   \n",
       "4736989   N179  Z6842   J811   R001    R0789  S0990XA  S199XXA  S3991XA  2.0   \n",
       "4736990  J9602  Z6842   A419  I5020  S0990XA    I2723    R4182  S79912A  2.0   \n",
       "\n",
       "               NDCNUM                  PRODNME  total_heart_dx  \\\n",
       "4736880  6.838202e+10               GABAPENTIN               2   \n",
       "4736883  9.551710e+08  TRIAMCINOLONE ACETONIDE               2   \n",
       "4736925  1.860008e+08                  ATACAND               1   \n",
       "4736989  5.462900e+10    CRANBERRY CONCENTRATE               1   \n",
       "4736990  5.462900e+10    CRANBERRY CONCENTRATE               2   \n",
       "\n",
       "         non_heartdx_total  total_dx DX1_1 DX2_1 DX3_1 DX4_1 DX5_1  DX6_1  \\\n",
       "4736880                 13        15     0     0     0     0     0      0   \n",
       "4736883                 13        15     0     0     0     0     0      0   \n",
       "4736925                 14        15     0     0     0     0     0  I5022   \n",
       "4736989                 14        15     0     0     0     0     0  I5033   \n",
       "4736990                 13        15     0     0     0     0     0  I5032   \n",
       "\n",
       "         DX7_1 DX8_1 DX9_1 DX10_1 DX11_1 DX12_1 DX13_1 DX14_1 DX15_1 dx1 dx2  \\\n",
       "4736880  I5023     0     0      0      0      0   I509      0      0   0   0   \n",
       "4736883  I5023     0     0      0      0      0   I509      0      0   0   0   \n",
       "4736925      0     0     0      0      0      0      0      0      0   0   0   \n",
       "4736989      0     0     0      0      0      0      0      0      0   0   0   \n",
       "4736990      0     0     0      0  I5020      0      0      0      0   0   0   \n",
       "\n",
       "        dx3 dx4 dx5 dx6 dx7 dx8 dx9 dx10 dx11 dx12 dx13 dx14 dx15  \n",
       "4736880   0   0   0   0  23   0   0    0    0    0    9    0    0  \n",
       "4736883   0   0   0   0  23   0   0    0    0    0    9    0    0  \n",
       "4736925   0   0   0  22   0   0   0    0    0    0    0    0    0  \n",
       "4736989   0   0   0  33   0   0   0    0    0    0    0    0    0  \n",
       "4736990   0   0   0  32   0   0   0    0   20    0    0    0    0  "
      ]
     },
     "execution_count": 101,
     "metadata": {},
     "output_type": "execute_result"
    }
   ],
   "source": [
    "df_18.tail()"
   ]
  },
  {
   "cell_type": "markdown",
   "id": "imperial-sewing",
   "metadata": {},
   "source": [
    "### Add Factor Variables (Heart Disease Code)"
   ]
  },
  {
   "cell_type": "markdown",
   "id": "upset-organizer",
   "metadata": {},
   "source": [
    "#### Filter out the I501 code, set to 1 if true, else 0"
   ]
  },
  {
   "cell_type": "code",
   "execution_count": 102,
   "id": "static-treasury",
   "metadata": {},
   "outputs": [],
   "source": [
    "# Not Smart Way, couldn't figure out a better one\n",
    "# set 1 if dx1 code is I501, otherwise 0\n",
    "\n",
    "\n",
    "# df_18['dx1_1'] = df_18['DX1_1'].apply(lambda x: 1 if x == 'I501' else 0)\n",
    "# df_18['dx1_2'] = df_18['DX2_1'].apply(lambda x: 1 if x == 'I501' else 0)\n",
    "# df_18['dx1_3'] = df_18['DX3_1'].apply(lambda x: 1 if x == 'I501' else 0)\n",
    "# df_18['dx1_4'] = df_18['DX4_1'].apply(lambda x: 1 if x == 'I501' else 0)\n",
    "# df_18['dx1_5'] = df_18['DX5_1'].apply(lambda x: 1 if x == 'I501' else 0)\n",
    "# df_18['dx1_6'] = df_18['DX6_1'].apply(lambda x: 1 if x == 'I501' else 0)\n",
    "# df_18['dx1_7'] = df_18['DX7_1'].apply(lambda x: 1 if x == 'I501' else 0)\n",
    "# df_18['dx1_8'] = df_18['DX8_1'].apply(lambda x: 1 if x == 'I501' else 0)\n",
    "# df_18['dx1_9'] = df_18['DX9_1'].apply(lambda x: 1 if x == 'I501' else 0)\n",
    "# df_18['dx1_10'] = df_18['DX10_1'].apply(lambda x: 1 if x == 'I501' else 0)\n",
    "# df_18['dx1_11'] = df_18['DX11_1'].apply(lambda x: 1 if x == 'I501' else 0)\n",
    "# df_18['dx1_12'] = df_18['DX12_1'].apply(lambda x: 1 if x == 'I501' else 0)\n",
    "# df_18['dx1_13'] = df_18['DX13_1'].apply(lambda x: 1 if x == 'I501' else 0)\n",
    "# df_18['dx1_14'] = df_18['DX14_1'].apply(lambda x: 1 if x == 'I501' else 0)\n",
    "# df_18['dx1_15'] = df_18['DX15_1'].apply(lambda x: 1 if x == 'I501' else 0)\n",
    "\n"
   ]
  },
  {
   "cell_type": "markdown",
   "id": "suspected-vegetable",
   "metadata": {},
   "source": [
    "#### Set a new feature as one of the heart disease code"
   ]
  },
  {
   "cell_type": "code",
   "execution_count": 103,
   "id": "retained-freeze",
   "metadata": {},
   "outputs": [],
   "source": [
    "# set total I501 code\n",
    "\n",
    "# df_18['I501'] = (df_18['dx1_1'] + df_18['dx1_2'] + df_18['dx1_3'] + df_18['dx1_4'] + df_18['dx1_5'] +\n",
    "#                  df_18['dx1_6'] + df_18['dx1_7'] + df_18['dx1_8'] + df_18['dx1_9'] + df_18['dx1_10'] + \n",
    "#                  df_18['dx1_11'] + df_18['dx1_12'] + df_18['dx1_13'] + df_18['dx1_14'] + df_18['dx1_15'])"
   ]
  },
  {
   "cell_type": "code",
   "execution_count": 104,
   "id": "recovered-envelope",
   "metadata": {},
   "outputs": [],
   "source": [
    "# drop all the temp columns\n",
    "\n",
    "# only can drop 3 columns at a time, otherwise will crash the program\n",
    "# cols = [x for x in df_18.columns if x.startswith('dx1_')]\n",
    "\n",
    "# df_18.drop(cols[:3], axis=1, inplace=True)"
   ]
  },
  {
   "cell_type": "markdown",
   "id": "chubby-hierarchy",
   "metadata": {},
   "source": [
    "## Cleaned Data set"
   ]
  },
  {
   "cell_type": "markdown",
   "id": "demonstrated-cradle",
   "metadata": {},
   "source": [
    "#### Load cleaned dataset"
   ]
  },
  {
   "cell_type": "code",
   "execution_count": 404,
   "id": "another-emission",
   "metadata": {},
   "outputs": [],
   "source": [
    "df_18.to_csv('cleaned_data.csv')"
   ]
  },
  {
   "cell_type": "code",
   "execution_count": 105,
   "id": "increasing-dryer",
   "metadata": {},
   "outputs": [
    {
     "data": {
      "text/html": [
       "<div>\n",
       "<style scoped>\n",
       "    .dataframe tbody tr th:only-of-type {\n",
       "        vertical-align: middle;\n",
       "    }\n",
       "\n",
       "    .dataframe tbody tr th {\n",
       "        vertical-align: top;\n",
       "    }\n",
       "\n",
       "    .dataframe thead th {\n",
       "        text-align: right;\n",
       "    }\n",
       "</style>\n",
       "<table border=\"1\" class=\"dataframe\">\n",
       "  <thead>\n",
       "    <tr style=\"text-align: right;\">\n",
       "      <th></th>\n",
       "      <th>ENROLID</th>\n",
       "      <th>DOBYR</th>\n",
       "      <th>YEAR</th>\n",
       "      <th>AGE</th>\n",
       "      <th>SEX</th>\n",
       "      <th>NDCNUM</th>\n",
       "      <th>total_heart_dx</th>\n",
       "      <th>non_heartdx_total</th>\n",
       "      <th>total_dx</th>\n",
       "      <th>dx1</th>\n",
       "      <th>dx2</th>\n",
       "      <th>dx3</th>\n",
       "      <th>dx4</th>\n",
       "      <th>dx5</th>\n",
       "      <th>dx6</th>\n",
       "      <th>dx7</th>\n",
       "      <th>dx8</th>\n",
       "      <th>dx9</th>\n",
       "      <th>dx10</th>\n",
       "      <th>dx11</th>\n",
       "      <th>dx12</th>\n",
       "      <th>dx13</th>\n",
       "      <th>dx14</th>\n",
       "      <th>dx15</th>\n",
       "      <th>I501</th>\n",
       "      <th>I5020</th>\n",
       "      <th>I5021</th>\n",
       "      <th>I5022</th>\n",
       "      <th>I5023</th>\n",
       "      <th>I5030</th>\n",
       "      <th>I5031</th>\n",
       "      <th>I5032</th>\n",
       "      <th>I5033</th>\n",
       "      <th>I5040</th>\n",
       "      <th>I5041</th>\n",
       "      <th>I5042</th>\n",
       "      <th>I5043</th>\n",
       "      <th>I50810</th>\n",
       "      <th>I50811</th>\n",
       "      <th>I50812</th>\n",
       "      <th>I50813</th>\n",
       "      <th>I50814</th>\n",
       "      <th>I5082</th>\n",
       "      <th>I5083</th>\n",
       "      <th>I5084</th>\n",
       "      <th>I5089</th>\n",
       "      <th>I509</th>\n",
       "    </tr>\n",
       "  </thead>\n",
       "  <tbody>\n",
       "    <tr>\n",
       "      <th>36</th>\n",
       "      <td>134592102.0</td>\n",
       "      <td>1968.0</td>\n",
       "      <td>2018.0</td>\n",
       "      <td>50.0</td>\n",
       "      <td>1.0</td>\n",
       "      <td>169750111.0</td>\n",
       "      <td>2</td>\n",
       "      <td>13</td>\n",
       "      <td>15</td>\n",
       "      <td>0</td>\n",
       "      <td>0</td>\n",
       "      <td>0</td>\n",
       "      <td>9.0</td>\n",
       "      <td>0</td>\n",
       "      <td>0</td>\n",
       "      <td>0</td>\n",
       "      <td>0</td>\n",
       "      <td>0</td>\n",
       "      <td>0</td>\n",
       "      <td>0</td>\n",
       "      <td>0</td>\n",
       "      <td>0</td>\n",
       "      <td>0</td>\n",
       "      <td>0</td>\n",
       "      <td>0</td>\n",
       "      <td>0</td>\n",
       "      <td>0</td>\n",
       "      <td>0</td>\n",
       "      <td>0</td>\n",
       "      <td>0</td>\n",
       "      <td>0</td>\n",
       "      <td>0</td>\n",
       "      <td>0</td>\n",
       "      <td>0</td>\n",
       "      <td>0</td>\n",
       "      <td>0</td>\n",
       "      <td>0</td>\n",
       "      <td>0</td>\n",
       "      <td>0</td>\n",
       "      <td>0</td>\n",
       "      <td>0</td>\n",
       "      <td>0</td>\n",
       "      <td>0</td>\n",
       "      <td>0</td>\n",
       "      <td>0</td>\n",
       "      <td>0</td>\n",
       "      <td>0</td>\n",
       "    </tr>\n",
       "    <tr>\n",
       "      <th>39</th>\n",
       "      <td>134592102.0</td>\n",
       "      <td>1968.0</td>\n",
       "      <td>2018.0</td>\n",
       "      <td>50.0</td>\n",
       "      <td>1.0</td>\n",
       "      <td>169750111.0</td>\n",
       "      <td>1</td>\n",
       "      <td>14</td>\n",
       "      <td>15</td>\n",
       "      <td>0</td>\n",
       "      <td>0</td>\n",
       "      <td>0</td>\n",
       "      <td>0.0</td>\n",
       "      <td>0</td>\n",
       "      <td>0</td>\n",
       "      <td>0</td>\n",
       "      <td>0</td>\n",
       "      <td>0</td>\n",
       "      <td>0</td>\n",
       "      <td>0</td>\n",
       "      <td>0</td>\n",
       "      <td>0</td>\n",
       "      <td>0</td>\n",
       "      <td>9</td>\n",
       "      <td>0</td>\n",
       "      <td>0</td>\n",
       "      <td>0</td>\n",
       "      <td>0</td>\n",
       "      <td>0</td>\n",
       "      <td>0</td>\n",
       "      <td>0</td>\n",
       "      <td>0</td>\n",
       "      <td>0</td>\n",
       "      <td>0</td>\n",
       "      <td>0</td>\n",
       "      <td>0</td>\n",
       "      <td>0</td>\n",
       "      <td>0</td>\n",
       "      <td>0</td>\n",
       "      <td>0</td>\n",
       "      <td>0</td>\n",
       "      <td>0</td>\n",
       "      <td>0</td>\n",
       "      <td>0</td>\n",
       "      <td>0</td>\n",
       "      <td>0</td>\n",
       "      <td>0</td>\n",
       "    </tr>\n",
       "    <tr>\n",
       "      <th>64</th>\n",
       "      <td>138200502.0</td>\n",
       "      <td>1969.0</td>\n",
       "      <td>2018.0</td>\n",
       "      <td>48.0</td>\n",
       "      <td>1.0</td>\n",
       "      <td>169750111.0</td>\n",
       "      <td>1</td>\n",
       "      <td>14</td>\n",
       "      <td>15</td>\n",
       "      <td>0</td>\n",
       "      <td>0</td>\n",
       "      <td>0</td>\n",
       "      <td>0.0</td>\n",
       "      <td>0</td>\n",
       "      <td>0</td>\n",
       "      <td>0</td>\n",
       "      <td>0</td>\n",
       "      <td>9</td>\n",
       "      <td>0</td>\n",
       "      <td>0</td>\n",
       "      <td>0</td>\n",
       "      <td>0</td>\n",
       "      <td>0</td>\n",
       "      <td>0</td>\n",
       "      <td>0</td>\n",
       "      <td>0</td>\n",
       "      <td>0</td>\n",
       "      <td>0</td>\n",
       "      <td>0</td>\n",
       "      <td>0</td>\n",
       "      <td>0</td>\n",
       "      <td>0</td>\n",
       "      <td>0</td>\n",
       "      <td>0</td>\n",
       "      <td>0</td>\n",
       "      <td>0</td>\n",
       "      <td>0</td>\n",
       "      <td>0</td>\n",
       "      <td>0</td>\n",
       "      <td>0</td>\n",
       "      <td>0</td>\n",
       "      <td>0</td>\n",
       "      <td>0</td>\n",
       "      <td>0</td>\n",
       "      <td>0</td>\n",
       "      <td>0</td>\n",
       "      <td>0</td>\n",
       "    </tr>\n",
       "    <tr>\n",
       "      <th>65</th>\n",
       "      <td>138200502.0</td>\n",
       "      <td>1969.0</td>\n",
       "      <td>2018.0</td>\n",
       "      <td>48.0</td>\n",
       "      <td>1.0</td>\n",
       "      <td>169750111.0</td>\n",
       "      <td>1</td>\n",
       "      <td>14</td>\n",
       "      <td>15</td>\n",
       "      <td>0</td>\n",
       "      <td>0</td>\n",
       "      <td>0</td>\n",
       "      <td>0.0</td>\n",
       "      <td>0</td>\n",
       "      <td>0</td>\n",
       "      <td>0</td>\n",
       "      <td>0</td>\n",
       "      <td>0</td>\n",
       "      <td>0</td>\n",
       "      <td>1</td>\n",
       "      <td>0</td>\n",
       "      <td>0</td>\n",
       "      <td>0</td>\n",
       "      <td>0</td>\n",
       "      <td>1</td>\n",
       "      <td>0</td>\n",
       "      <td>0</td>\n",
       "      <td>0</td>\n",
       "      <td>0</td>\n",
       "      <td>0</td>\n",
       "      <td>0</td>\n",
       "      <td>0</td>\n",
       "      <td>0</td>\n",
       "      <td>0</td>\n",
       "      <td>0</td>\n",
       "      <td>0</td>\n",
       "      <td>0</td>\n",
       "      <td>0</td>\n",
       "      <td>0</td>\n",
       "      <td>0</td>\n",
       "      <td>0</td>\n",
       "      <td>0</td>\n",
       "      <td>0</td>\n",
       "      <td>0</td>\n",
       "      <td>0</td>\n",
       "      <td>0</td>\n",
       "      <td>0</td>\n",
       "    </tr>\n",
       "    <tr>\n",
       "      <th>70</th>\n",
       "      <td>139528701.0</td>\n",
       "      <td>1954.0</td>\n",
       "      <td>2018.0</td>\n",
       "      <td>63.0</td>\n",
       "      <td>2.0</td>\n",
       "      <td>169750111.0</td>\n",
       "      <td>1</td>\n",
       "      <td>14</td>\n",
       "      <td>15</td>\n",
       "      <td>0</td>\n",
       "      <td>0</td>\n",
       "      <td>0</td>\n",
       "      <td>0.0</td>\n",
       "      <td>0</td>\n",
       "      <td>0</td>\n",
       "      <td>23</td>\n",
       "      <td>0</td>\n",
       "      <td>0</td>\n",
       "      <td>0</td>\n",
       "      <td>0</td>\n",
       "      <td>0</td>\n",
       "      <td>0</td>\n",
       "      <td>0</td>\n",
       "      <td>0</td>\n",
       "      <td>0</td>\n",
       "      <td>0</td>\n",
       "      <td>0</td>\n",
       "      <td>0</td>\n",
       "      <td>1</td>\n",
       "      <td>0</td>\n",
       "      <td>0</td>\n",
       "      <td>0</td>\n",
       "      <td>0</td>\n",
       "      <td>0</td>\n",
       "      <td>0</td>\n",
       "      <td>0</td>\n",
       "      <td>0</td>\n",
       "      <td>0</td>\n",
       "      <td>0</td>\n",
       "      <td>0</td>\n",
       "      <td>0</td>\n",
       "      <td>0</td>\n",
       "      <td>0</td>\n",
       "      <td>0</td>\n",
       "      <td>0</td>\n",
       "      <td>0</td>\n",
       "      <td>0</td>\n",
       "    </tr>\n",
       "  </tbody>\n",
       "</table>\n",
       "</div>"
      ],
      "text/plain": [
       "        ENROLID   DOBYR    YEAR   AGE  SEX       NDCNUM  total_heart_dx  \\\n",
       "36  134592102.0  1968.0  2018.0  50.0  1.0  169750111.0               2   \n",
       "39  134592102.0  1968.0  2018.0  50.0  1.0  169750111.0               1   \n",
       "64  138200502.0  1969.0  2018.0  48.0  1.0  169750111.0               1   \n",
       "65  138200502.0  1969.0  2018.0  48.0  1.0  169750111.0               1   \n",
       "70  139528701.0  1954.0  2018.0  63.0  2.0  169750111.0               1   \n",
       "\n",
       "    non_heartdx_total  total_dx  dx1  dx2  dx3  dx4  dx5  dx6  dx7  dx8  dx9  \\\n",
       "36                 13        15    0    0    0  9.0    0    0    0    0    0   \n",
       "39                 14        15    0    0    0  0.0    0    0    0    0    0   \n",
       "64                 14        15    0    0    0  0.0    0    0    0    0    9   \n",
       "65                 14        15    0    0    0  0.0    0    0    0    0    0   \n",
       "70                 14        15    0    0    0  0.0    0    0   23    0    0   \n",
       "\n",
       "    dx10  dx11  dx12  dx13  dx14  dx15  I501  I5020  I5021  I5022  I5023  \\\n",
       "36     0     0     0     0     0     0     0      0      0      0      0   \n",
       "39     0     0     0     0     0     9     0      0      0      0      0   \n",
       "64     0     0     0     0     0     0     0      0      0      0      0   \n",
       "65     0     1     0     0     0     0     1      0      0      0      0   \n",
       "70     0     0     0     0     0     0     0      0      0      0      1   \n",
       "\n",
       "    I5030  I5031  I5032  I5033  I5040  I5041  I5042  I5043  I50810  I50811  \\\n",
       "36      0      0      0      0      0      0      0      0       0       0   \n",
       "39      0      0      0      0      0      0      0      0       0       0   \n",
       "64      0      0      0      0      0      0      0      0       0       0   \n",
       "65      0      0      0      0      0      0      0      0       0       0   \n",
       "70      0      0      0      0      0      0      0      0       0       0   \n",
       "\n",
       "    I50812  I50813  I50814  I5082  I5083  I5084  I5089  I509  \n",
       "36       0       0       0      0      0      0      0     0  \n",
       "39       0       0       0      0      0      0      0     0  \n",
       "64       0       0       0      0      0      0      0     0  \n",
       "65       0       0       0      0      0      0      0     0  \n",
       "70       0       0       0      0      0      0      0     0  "
      ]
     },
     "execution_count": 105,
     "metadata": {},
     "output_type": "execute_result"
    }
   ],
   "source": [
    "cleaned_data = pd.read_csv('cleaned_data.csv', index_col=0)\n",
    "cleaned_data.head(5)"
   ]
  },
  {
   "cell_type": "code",
   "execution_count": 106,
   "id": "underlying-south",
   "metadata": {},
   "outputs": [
    {
     "data": {
      "text/plain": [
       "(137901, 47)"
      ]
     },
     "execution_count": 106,
     "metadata": {},
     "output_type": "execute_result"
    }
   ],
   "source": [
    "cleaned_data.shape"
   ]
  },
  {
   "cell_type": "code",
   "execution_count": 107,
   "id": "enhanced-trainer",
   "metadata": {},
   "outputs": [
    {
     "data": {
      "text/html": [
       "<div>\n",
       "<style scoped>\n",
       "    .dataframe tbody tr th:only-of-type {\n",
       "        vertical-align: middle;\n",
       "    }\n",
       "\n",
       "    .dataframe tbody tr th {\n",
       "        vertical-align: top;\n",
       "    }\n",
       "\n",
       "    .dataframe thead th {\n",
       "        text-align: right;\n",
       "    }\n",
       "</style>\n",
       "<table border=\"1\" class=\"dataframe\">\n",
       "  <thead>\n",
       "    <tr style=\"text-align: right;\">\n",
       "      <th></th>\n",
       "      <th></th>\n",
       "      <th></th>\n",
       "      <th></th>\n",
       "      <th></th>\n",
       "      <th></th>\n",
       "      <th></th>\n",
       "      <th></th>\n",
       "      <th></th>\n",
       "      <th></th>\n",
       "      <th></th>\n",
       "      <th></th>\n",
       "      <th></th>\n",
       "      <th></th>\n",
       "      <th></th>\n",
       "      <th></th>\n",
       "      <th></th>\n",
       "      <th></th>\n",
       "      <th></th>\n",
       "      <th></th>\n",
       "      <th></th>\n",
       "      <th></th>\n",
       "      <th></th>\n",
       "      <th>0</th>\n",
       "    </tr>\n",
       "    <tr>\n",
       "      <th>I501</th>\n",
       "      <th>I5020</th>\n",
       "      <th>I5021</th>\n",
       "      <th>I5022</th>\n",
       "      <th>I5023</th>\n",
       "      <th>I5030</th>\n",
       "      <th>I5031</th>\n",
       "      <th>I5032</th>\n",
       "      <th>I5033</th>\n",
       "      <th>I5040</th>\n",
       "      <th>I5041</th>\n",
       "      <th>I5042</th>\n",
       "      <th>I5043</th>\n",
       "      <th>I50810</th>\n",
       "      <th>I50811</th>\n",
       "      <th>I50812</th>\n",
       "      <th>I50813</th>\n",
       "      <th>I50814</th>\n",
       "      <th>I5082</th>\n",
       "      <th>I5083</th>\n",
       "      <th>I5084</th>\n",
       "      <th>I5089</th>\n",
       "      <th>I509</th>\n",
       "      <th></th>\n",
       "    </tr>\n",
       "  </thead>\n",
       "  <tbody>\n",
       "    <tr>\n",
       "      <th rowspan=\"5\" valign=\"top\">0</th>\n",
       "      <th rowspan=\"5\" valign=\"top\">0</th>\n",
       "      <th rowspan=\"5\" valign=\"top\">0</th>\n",
       "      <th rowspan=\"3\" valign=\"top\">0</th>\n",
       "      <th rowspan=\"3\" valign=\"top\">0</th>\n",
       "      <th rowspan=\"3\" valign=\"top\">0</th>\n",
       "      <th rowspan=\"3\" valign=\"top\">0</th>\n",
       "      <th>0</th>\n",
       "      <th>0</th>\n",
       "      <th>0</th>\n",
       "      <th>0</th>\n",
       "      <th>0</th>\n",
       "      <th>0</th>\n",
       "      <th>0</th>\n",
       "      <th>0</th>\n",
       "      <th>0</th>\n",
       "      <th>0</th>\n",
       "      <th>0</th>\n",
       "      <th>0</th>\n",
       "      <th>0</th>\n",
       "      <th>0</th>\n",
       "      <th>0</th>\n",
       "      <th>0</th>\n",
       "      <td>23766</td>\n",
       "    </tr>\n",
       "    <tr>\n",
       "      <th>1</th>\n",
       "      <th>0</th>\n",
       "      <th>0</th>\n",
       "      <th>0</th>\n",
       "      <th>0</th>\n",
       "      <th>0</th>\n",
       "      <th>0</th>\n",
       "      <th>0</th>\n",
       "      <th>0</th>\n",
       "      <th>0</th>\n",
       "      <th>0</th>\n",
       "      <th>0</th>\n",
       "      <th>0</th>\n",
       "      <th>0</th>\n",
       "      <th>0</th>\n",
       "      <th>0</th>\n",
       "      <td>17373</td>\n",
       "    </tr>\n",
       "    <tr>\n",
       "      <th>0</th>\n",
       "      <th>1</th>\n",
       "      <th>0</th>\n",
       "      <th>0</th>\n",
       "      <th>0</th>\n",
       "      <th>0</th>\n",
       "      <th>0</th>\n",
       "      <th>0</th>\n",
       "      <th>0</th>\n",
       "      <th>0</th>\n",
       "      <th>0</th>\n",
       "      <th>0</th>\n",
       "      <th>0</th>\n",
       "      <th>0</th>\n",
       "      <th>0</th>\n",
       "      <th>0</th>\n",
       "      <td>13506</td>\n",
       "    </tr>\n",
       "    <tr>\n",
       "      <th>1</th>\n",
       "      <th>0</th>\n",
       "      <th>0</th>\n",
       "      <th>0</th>\n",
       "      <th>0</th>\n",
       "      <th>0</th>\n",
       "      <th>0</th>\n",
       "      <th>0</th>\n",
       "      <th>0</th>\n",
       "      <th>0</th>\n",
       "      <th>0</th>\n",
       "      <th>0</th>\n",
       "      <th>0</th>\n",
       "      <th>0</th>\n",
       "      <th>0</th>\n",
       "      <th>0</th>\n",
       "      <th>0</th>\n",
       "      <th>0</th>\n",
       "      <th>0</th>\n",
       "      <th>0</th>\n",
       "      <td>12147</td>\n",
       "    </tr>\n",
       "    <tr>\n",
       "      <th>0</th>\n",
       "      <th>1</th>\n",
       "      <th>0</th>\n",
       "      <th>0</th>\n",
       "      <th>0</th>\n",
       "      <th>0</th>\n",
       "      <th>0</th>\n",
       "      <th>0</th>\n",
       "      <th>0</th>\n",
       "      <th>0</th>\n",
       "      <th>0</th>\n",
       "      <th>0</th>\n",
       "      <th>0</th>\n",
       "      <th>0</th>\n",
       "      <th>0</th>\n",
       "      <th>0</th>\n",
       "      <th>0</th>\n",
       "      <th>0</th>\n",
       "      <th>0</th>\n",
       "      <th>0</th>\n",
       "      <td>11248</td>\n",
       "    </tr>\n",
       "  </tbody>\n",
       "</table>\n",
       "</div>"
      ],
      "text/plain": [
       "                                                                                                                                                  0\n",
       "I501 I5020 I5021 I5022 I5023 I5030 I5031 I5032 I5033 I5040 I5041 I5042 I5043 I50810 I50811 I50812 I50813 I50814 I5082 I5083 I5084 I5089 I509       \n",
       "0    0     0     0     0     0     0     0     0     0     0     0     0     0      0      0      0      0      0     0     0     0     0     23766\n",
       "                                         1     0     0     0     0     0     0      0      0      0      0      0     0     0     0     0     17373\n",
       "                                         0     1     0     0     0     0     0      0      0      0      0      0     0     0     0     0     13506\n",
       "                 1     0     0     0     0     0     0     0     0     0     0      0      0      0      0      0     0     0     0     0     12147\n",
       "                 0     1     0     0     0     0     0     0     0     0     0      0      0      0      0      0     0     0     0     0     11248"
      ]
     },
     "execution_count": 107,
     "metadata": {},
     "output_type": "execute_result"
    }
   ],
   "source": [
    "heart_code = [x for x in cleaned_data.columns if x.startswith('I50')]\n",
    "cleaned_data[heart_code].value_counts().to_frame().head()"
   ]
  },
  {
   "cell_type": "code",
   "execution_count": 108,
   "id": "dimensional-alcohol",
   "metadata": {},
   "outputs": [
    {
     "data": {
      "text/plain": [
       "0    134883\n",
       "1      3018\n",
       "Name: I501, dtype: int64"
      ]
     },
     "execution_count": 108,
     "metadata": {},
     "output_type": "execute_result"
    }
   ],
   "source": [
    "cleaned_data['I501'].value_counts()"
   ]
  },
  {
   "cell_type": "code",
   "execution_count": 109,
   "id": "funny-newark",
   "metadata": {},
   "outputs": [
    {
     "data": {
      "text/plain": [
       "0    137901\n",
       "Name: I5082, dtype: int64"
      ]
     },
     "execution_count": 109,
     "metadata": {},
     "output_type": "execute_result"
    }
   ],
   "source": [
    "cleaned_data['I5082'].value_counts()"
   ]
  },
  {
   "cell_type": "code",
   "execution_count": 110,
   "id": "framed-window",
   "metadata": {
    "code_folding": [
     0
    ]
   },
   "outputs": [],
   "source": [
    "## Find factor level \n",
    "# c = [x for x in df_18.columns if x.startswith('dx')]\n",
    "# a = df_18[c].apply(pd.Series.value_counts).reset_index()"
   ]
  },
  {
   "cell_type": "markdown",
   "id": "genuine-episode",
   "metadata": {},
   "source": [
    "## More plots"
   ]
  },
  {
   "cell_type": "markdown",
   "id": "auburn-consolidation",
   "metadata": {},
   "source": [
    "### Countplot of heart disease drug code vs SEX"
   ]
  },
  {
   "cell_type": "code",
   "execution_count": 136,
   "id": "extended-sleeve",
   "metadata": {},
   "outputs": [
    {
     "data": {
      "text/plain": [
       "23"
      ]
     },
     "execution_count": 136,
     "metadata": {},
     "output_type": "execute_result"
    }
   ],
   "source": [
    "col = [x for x in cleaned_data.columns if x.startswith('I50')]\n"
   ]
  },
  {
   "cell_type": "code",
   "execution_count": null,
   "id": "distributed-bedroom",
   "metadata": {},
   "outputs": [],
   "source": []
  },
  {
   "cell_type": "code",
   "execution_count": null,
   "id": "hispanic-dutch",
   "metadata": {},
   "outputs": [],
   "source": []
  },
  {
   "cell_type": "code",
   "execution_count": 140,
   "id": "individual-helicopter",
   "metadata": {},
   "outputs": [
    {
     "data": {
      "image/png": "[encoded data removed]",
      "text/plain": [
       "<Figure size 1440x1080 with 12 Axes>"
      ]
     },
     "metadata": {
      "needs_background": "light"
     },
     "output_type": "display_data"
    }
   ],
   "source": [
    "fig, ax = plt.subplots(3, 4, figsize=(20, 15))\n",
    "ax = ax.ravel()\n",
    "position = 0\n",
    "\n",
    "for i in col[:12]:\n",
    "    \n",
    "    order = cleaned_data[i].value_counts().index\n",
    "    sns.countplot(y=i, ax=ax[position], hue='SEX', palette='RdBu_r', order=order, data=cleaned_data)\n",
    "    ax[position].tick_params(labelrotation=30)\n",
    "    ax[position].set_title(i, fontdict={'fontsize': 20})\n",
    "    position += 1\n",
    "    \n",
    "plt.subplots_adjust(hspace=0.9)\n",
    "plt.show()"
   ]
  },
  {
   "cell_type": "markdown",
   "id": "vertical-rebel",
   "metadata": {},
   "source": [
    "# Tasks to do\n",
    "### make prediction to one of the factors (I501 - I509), such as heart attack\n",
    "- maybe check which one has the most\n",
    "\n",
    "### make prediction to heart dx code or non dx code\n",
    "- how to label it to 0 and 1, manual?\n",
    "\n",
    "### Train data will be 2018\n",
    "### Test data will be 2019 and 2020"
   ]
  },
  {
   "cell_type": "code",
   "execution_count": null,
   "id": "brief-healing",
   "metadata": {},
   "outputs": [],
   "source": []
  },
  {
   "cell_type": "code",
   "execution_count": null,
   "id": "preceding-netscape",
   "metadata": {},
   "outputs": [],
   "source": []
  },
  {
   "cell_type": "code",
   "execution_count": 402,
   "id": "spatial-edwards",
   "metadata": {},
   "outputs": [],
   "source": []
  },
  {
   "cell_type": "code",
   "execution_count": null,
   "id": "continent-youth",
   "metadata": {},
   "outputs": [],
   "source": []
  },
  {
   "cell_type": "code",
   "execution_count": null,
   "id": "union-sending",
   "metadata": {},
   "outputs": [],
   "source": []
  },
  {
   "cell_type": "markdown",
   "id": "regulated-celtic",
   "metadata": {},
   "source": [
    "## Exploratory 2019 Data"
   ]
  },
  {
   "cell_type": "code",
   "execution_count": 87,
   "id": "endangered-proceeding",
   "metadata": {},
   "outputs": [
    {
     "data": {
      "text/html": [
       "<div>\n",
       "<style scoped>\n",
       "    .dataframe tbody tr th:only-of-type {\n",
       "        vertical-align: middle;\n",
       "    }\n",
       "\n",
       "    .dataframe tbody tr th {\n",
       "        vertical-align: top;\n",
       "    }\n",
       "\n",
       "    .dataframe thead th {\n",
       "        text-align: right;\n",
       "    }\n",
       "</style>\n",
       "<table border=\"1\" class=\"dataframe\">\n",
       "  <thead>\n",
       "    <tr style=\"text-align: right;\">\n",
       "      <th></th>\n",
       "      <th>ENROLID</th>\n",
       "      <th>DOBYR</th>\n",
       "      <th>YEAR</th>\n",
       "      <th>AGE</th>\n",
       "      <th>DRG</th>\n",
       "      <th>PDX</th>\n",
       "      <th>DX1</th>\n",
       "      <th>DX2</th>\n",
       "      <th>DX3</th>\n",
       "      <th>DX4</th>\n",
       "      <th>...</th>\n",
       "      <th>DX12</th>\n",
       "      <th>DX13</th>\n",
       "      <th>DX14</th>\n",
       "      <th>DX15</th>\n",
       "      <th>SEX</th>\n",
       "      <th>NDCNUM</th>\n",
       "      <th>DEACLAS</th>\n",
       "      <th>PRODCAT</th>\n",
       "      <th>THERCLS</th>\n",
       "      <th>PRODNME</th>\n",
       "    </tr>\n",
       "  </thead>\n",
       "  <tbody>\n",
       "    <tr>\n",
       "      <th>1604</th>\n",
       "      <td>132687801.0</td>\n",
       "      <td>1958.0</td>\n",
       "      <td>2019.0</td>\n",
       "      <td>61.0</td>\n",
       "      <td>280.0</td>\n",
       "      <td>I132</td>\n",
       "      <td>I132</td>\n",
       "      <td>I214</td>\n",
       "      <td>I5033</td>\n",
       "      <td>J9601</td>\n",
       "      <td>...</td>\n",
       "      <td>I5021</td>\n",
       "      <td>E11621</td>\n",
       "      <td>I2510</td>\n",
       "      <td>E872</td>\n",
       "      <td>1.0</td>\n",
       "      <td>169750111.0</td>\n",
       "      <td>6</td>\n",
       "      <td>1</td>\n",
       "      <td>172</td>\n",
       "      <td>NOVOLOG</td>\n",
       "    </tr>\n",
       "    <tr>\n",
       "      <th>1605</th>\n",
       "      <td>132687801.0</td>\n",
       "      <td>1958.0</td>\n",
       "      <td>2019.0</td>\n",
       "      <td>61.0</td>\n",
       "      <td>291.0</td>\n",
       "      <td>I130</td>\n",
       "      <td>I130</td>\n",
       "      <td>E872</td>\n",
       "      <td>I160</td>\n",
       "      <td>I5033</td>\n",
       "      <td>...</td>\n",
       "      <td>I10</td>\n",
       "      <td>NaN</td>\n",
       "      <td>NaN</td>\n",
       "      <td>NaN</td>\n",
       "      <td>1.0</td>\n",
       "      <td>169750111.0</td>\n",
       "      <td>6</td>\n",
       "      <td>1</td>\n",
       "      <td>172</td>\n",
       "      <td>NOVOLOG</td>\n",
       "    </tr>\n",
       "    <tr>\n",
       "      <th>1606</th>\n",
       "      <td>132996801.0</td>\n",
       "      <td>1955.0</td>\n",
       "      <td>2019.0</td>\n",
       "      <td>63.0</td>\n",
       "      <td>639.0</td>\n",
       "      <td>E1310</td>\n",
       "      <td>E1310</td>\n",
       "      <td>E1110</td>\n",
       "      <td>E1142</td>\n",
       "      <td>E785</td>\n",
       "      <td>...</td>\n",
       "      <td>M792</td>\n",
       "      <td>NaN</td>\n",
       "      <td>NaN</td>\n",
       "      <td>NaN</td>\n",
       "      <td>1.0</td>\n",
       "      <td>169750111.0</td>\n",
       "      <td>6</td>\n",
       "      <td>1</td>\n",
       "      <td>172</td>\n",
       "      <td>NOVOLOG</td>\n",
       "    </tr>\n",
       "    <tr>\n",
       "      <th>1607</th>\n",
       "      <td>133117002.0</td>\n",
       "      <td>1963.0</td>\n",
       "      <td>2019.0</td>\n",
       "      <td>56.0</td>\n",
       "      <td>189.0</td>\n",
       "      <td>J9601</td>\n",
       "      <td>J9601</td>\n",
       "      <td>E875</td>\n",
       "      <td>I132</td>\n",
       "      <td>I5032</td>\n",
       "      <td>...</td>\n",
       "      <td>D631</td>\n",
       "      <td>E876</td>\n",
       "      <td>E8339</td>\n",
       "      <td>E8779</td>\n",
       "      <td>2.0</td>\n",
       "      <td>169750111.0</td>\n",
       "      <td>6</td>\n",
       "      <td>1</td>\n",
       "      <td>172</td>\n",
       "      <td>NOVOLOG</td>\n",
       "    </tr>\n",
       "    <tr>\n",
       "      <th>1608</th>\n",
       "      <td>133117002.0</td>\n",
       "      <td>1963.0</td>\n",
       "      <td>2019.0</td>\n",
       "      <td>56.0</td>\n",
       "      <td>871.0</td>\n",
       "      <td>A419</td>\n",
       "      <td>A419</td>\n",
       "      <td>A0472</td>\n",
       "      <td>I132</td>\n",
       "      <td>I21A1</td>\n",
       "      <td>...</td>\n",
       "      <td>R1011</td>\n",
       "      <td>Z136</td>\n",
       "      <td>E0842</td>\n",
       "      <td>E782</td>\n",
       "      <td>2.0</td>\n",
       "      <td>169750111.0</td>\n",
       "      <td>6</td>\n",
       "      <td>1</td>\n",
       "      <td>172</td>\n",
       "      <td>NOVOLOG</td>\n",
       "    </tr>\n",
       "  </tbody>\n",
       "</table>\n",
       "<p>5 rows × 27 columns</p>\n",
       "</div>"
      ],
      "text/plain": [
       "          ENROLID   DOBYR    YEAR   AGE    DRG    PDX    DX1    DX2    DX3  \\\n",
       "1604  132687801.0  1958.0  2019.0  61.0  280.0   I132   I132   I214  I5033   \n",
       "1605  132687801.0  1958.0  2019.0  61.0  291.0   I130   I130   E872   I160   \n",
       "1606  132996801.0  1955.0  2019.0  63.0  639.0  E1310  E1310  E1110  E1142   \n",
       "1607  133117002.0  1963.0  2019.0  56.0  189.0  J9601  J9601   E875   I132   \n",
       "1608  133117002.0  1963.0  2019.0  56.0  871.0   A419   A419  A0472   I132   \n",
       "\n",
       "        DX4  ...   DX12    DX13   DX14   DX15  SEX       NDCNUM DEACLAS  \\\n",
       "1604  J9601  ...  I5021  E11621  I2510   E872  1.0  169750111.0       6   \n",
       "1605  I5033  ...    I10     NaN    NaN    NaN  1.0  169750111.0       6   \n",
       "1606   E785  ...   M792     NaN    NaN    NaN  1.0  169750111.0       6   \n",
       "1607  I5032  ...   D631    E876  E8339  E8779  2.0  169750111.0       6   \n",
       "1608  I21A1  ...  R1011    Z136  E0842   E782  2.0  169750111.0       6   \n",
       "\n",
       "     PRODCAT THERCLS  PRODNME  \n",
       "1604       1     172  NOVOLOG  \n",
       "1605       1     172  NOVOLOG  \n",
       "1606       1     172  NOVOLOG  \n",
       "1607       1     172  NOVOLOG  \n",
       "1608       1     172  NOVOLOG  \n",
       "\n",
       "[5 rows x 27 columns]"
      ]
     },
     "execution_count": 87,
     "metadata": {},
     "output_type": "execute_result"
    }
   ],
   "source": [
    "df_19.head()"
   ]
  },
  {
   "cell_type": "code",
   "execution_count": null,
   "id": "sharing-election",
   "metadata": {},
   "outputs": [],
   "source": []
  },
  {
   "cell_type": "code",
   "execution_count": null,
   "id": "native-brown",
   "metadata": {},
   "outputs": [],
   "source": []
  }
 ],
 "metadata": {
  "kernelspec": {
   "display_name": "Python 3",
   "language": "python",
   "name": "python3"
  },
  "language_info": {
   "codemirror_mode": {
    "name": "ipython",
    "version": 3
   },
   "file_extension": ".py",
   "mimetype": "text/x-python",
   "name": "python",
   "nbconvert_exporter": "python",
   "pygments_lexer": "ipython3",
   "version": "3.8.8"
  }
 },
 "nbformat": 4,
 "nbformat_minor": 5
}
