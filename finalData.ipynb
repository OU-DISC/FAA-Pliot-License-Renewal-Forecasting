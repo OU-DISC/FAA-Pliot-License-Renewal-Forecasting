{
 "cells": [
  {
   "cell_type": "code",
   "execution_count": 1,
   "id": "occasional-prompt",
   "metadata": {},
   "outputs": [],
   "source": [
    "# Import all the packages\n",
    "\n",
    "import pandas as pd\n",
    "import numpy as np\n",
    "\n",
    "pd.set_option('max_columns', None)\n",
    "pd.set_option('max_rows', None)"
   ]
  },
  {
   "cell_type": "markdown",
   "id": "obvious-wound",
   "metadata": {},
   "source": [
    "# Inpatient Admission Tables"
   ]
  },
  {
   "cell_type": "markdown",
   "id": "durable-saying",
   "metadata": {},
   "source": [
    "## Inpatient Admission 2018"
   ]
  },
  {
   "cell_type": "code",
   "execution_count": 2,
   "id": "laden-anxiety",
   "metadata": {},
   "outputs": [
    {
     "ename": "FileNotFoundError",
     "evalue": "[Errno 2] No such file or directory: 'ccaei181.csv'",
     "output_type": "error",
     "traceback": [
      "\u001b[1;31m---------------------------------------------------------------------------\u001b[0m",
      "\u001b[1;31mFileNotFoundError\u001b[0m                         Traceback (most recent call last)",
      "\u001b[1;32m<ipython-input-2-9003e5299fc3>\u001b[0m in \u001b[0;36m<module>\u001b[1;34m\u001b[0m\n\u001b[1;32m----> 1\u001b[1;33m \u001b[0mdf\u001b[0m \u001b[1;33m=\u001b[0m \u001b[0mpd\u001b[0m\u001b[1;33m.\u001b[0m\u001b[0mread_csv\u001b[0m\u001b[1;33m(\u001b[0m\u001b[1;34m'ccaei181.csv'\u001b[0m\u001b[1;33m,\u001b[0m \u001b[0mnrows\u001b[0m \u001b[1;33m=\u001b[0m \u001b[1;36m2\u001b[0m\u001b[1;33m)\u001b[0m\u001b[1;33m\u001b[0m\u001b[1;33m\u001b[0m\u001b[0m\n\u001b[0m\u001b[0;32m      2\u001b[0m \u001b[0mdf\u001b[0m\u001b[1;33m\u001b[0m\u001b[1;33m\u001b[0m\u001b[0m\n",
      "\u001b[1;32m~\\Anaconda3\\lib\\site-packages\\pandas\\io\\parsers.py\u001b[0m in \u001b[0;36mread_csv\u001b[1;34m(filepath_or_buffer, sep, delimiter, header, names, index_col, usecols, squeeze, prefix, mangle_dupe_cols, dtype, engine, converters, true_values, false_values, skipinitialspace, skiprows, skipfooter, nrows, na_values, keep_default_na, na_filter, verbose, skip_blank_lines, parse_dates, infer_datetime_format, keep_date_col, date_parser, dayfirst, cache_dates, iterator, chunksize, compression, thousands, decimal, lineterminator, quotechar, quoting, doublequote, escapechar, comment, encoding, dialect, error_bad_lines, warn_bad_lines, delim_whitespace, low_memory, memory_map, float_precision, storage_options)\u001b[0m\n\u001b[0;32m    608\u001b[0m     \u001b[0mkwds\u001b[0m\u001b[1;33m.\u001b[0m\u001b[0mupdate\u001b[0m\u001b[1;33m(\u001b[0m\u001b[0mkwds_defaults\u001b[0m\u001b[1;33m)\u001b[0m\u001b[1;33m\u001b[0m\u001b[1;33m\u001b[0m\u001b[0m\n\u001b[0;32m    609\u001b[0m \u001b[1;33m\u001b[0m\u001b[0m\n\u001b[1;32m--> 610\u001b[1;33m     \u001b[1;32mreturn\u001b[0m \u001b[0m_read\u001b[0m\u001b[1;33m(\u001b[0m\u001b[0mfilepath_or_buffer\u001b[0m\u001b[1;33m,\u001b[0m \u001b[0mkwds\u001b[0m\u001b[1;33m)\u001b[0m\u001b[1;33m\u001b[0m\u001b[1;33m\u001b[0m\u001b[0m\n\u001b[0m\u001b[0;32m    611\u001b[0m \u001b[1;33m\u001b[0m\u001b[0m\n\u001b[0;32m    612\u001b[0m \u001b[1;33m\u001b[0m\u001b[0m\n",
      "\u001b[1;32m~\\Anaconda3\\lib\\site-packages\\pandas\\io\\parsers.py\u001b[0m in \u001b[0;36m_read\u001b[1;34m(filepath_or_buffer, kwds)\u001b[0m\n\u001b[0;32m    460\u001b[0m \u001b[1;33m\u001b[0m\u001b[0m\n\u001b[0;32m    461\u001b[0m     \u001b[1;31m# Create the parser.\u001b[0m\u001b[1;33m\u001b[0m\u001b[1;33m\u001b[0m\u001b[1;33m\u001b[0m\u001b[0m\n\u001b[1;32m--> 462\u001b[1;33m     \u001b[0mparser\u001b[0m \u001b[1;33m=\u001b[0m \u001b[0mTextFileReader\u001b[0m\u001b[1;33m(\u001b[0m\u001b[0mfilepath_or_buffer\u001b[0m\u001b[1;33m,\u001b[0m \u001b[1;33m**\u001b[0m\u001b[0mkwds\u001b[0m\u001b[1;33m)\u001b[0m\u001b[1;33m\u001b[0m\u001b[1;33m\u001b[0m\u001b[0m\n\u001b[0m\u001b[0;32m    463\u001b[0m \u001b[1;33m\u001b[0m\u001b[0m\n\u001b[0;32m    464\u001b[0m     \u001b[1;32mif\u001b[0m \u001b[0mchunksize\u001b[0m \u001b[1;32mor\u001b[0m \u001b[0miterator\u001b[0m\u001b[1;33m:\u001b[0m\u001b[1;33m\u001b[0m\u001b[1;33m\u001b[0m\u001b[0m\n",
      "\u001b[1;32m~\\Anaconda3\\lib\\site-packages\\pandas\\io\\parsers.py\u001b[0m in \u001b[0;36m__init__\u001b[1;34m(self, f, engine, **kwds)\u001b[0m\n\u001b[0;32m    817\u001b[0m             \u001b[0mself\u001b[0m\u001b[1;33m.\u001b[0m\u001b[0moptions\u001b[0m\u001b[1;33m[\u001b[0m\u001b[1;34m\"has_index_names\"\u001b[0m\u001b[1;33m]\u001b[0m \u001b[1;33m=\u001b[0m \u001b[0mkwds\u001b[0m\u001b[1;33m[\u001b[0m\u001b[1;34m\"has_index_names\"\u001b[0m\u001b[1;33m]\u001b[0m\u001b[1;33m\u001b[0m\u001b[1;33m\u001b[0m\u001b[0m\n\u001b[0;32m    818\u001b[0m \u001b[1;33m\u001b[0m\u001b[0m\n\u001b[1;32m--> 819\u001b[1;33m         \u001b[0mself\u001b[0m\u001b[1;33m.\u001b[0m\u001b[0m_engine\u001b[0m \u001b[1;33m=\u001b[0m \u001b[0mself\u001b[0m\u001b[1;33m.\u001b[0m\u001b[0m_make_engine\u001b[0m\u001b[1;33m(\u001b[0m\u001b[0mself\u001b[0m\u001b[1;33m.\u001b[0m\u001b[0mengine\u001b[0m\u001b[1;33m)\u001b[0m\u001b[1;33m\u001b[0m\u001b[1;33m\u001b[0m\u001b[0m\n\u001b[0m\u001b[0;32m    820\u001b[0m \u001b[1;33m\u001b[0m\u001b[0m\n\u001b[0;32m    821\u001b[0m     \u001b[1;32mdef\u001b[0m \u001b[0mclose\u001b[0m\u001b[1;33m(\u001b[0m\u001b[0mself\u001b[0m\u001b[1;33m)\u001b[0m\u001b[1;33m:\u001b[0m\u001b[1;33m\u001b[0m\u001b[1;33m\u001b[0m\u001b[0m\n",
      "\u001b[1;32m~\\Anaconda3\\lib\\site-packages\\pandas\\io\\parsers.py\u001b[0m in \u001b[0;36m_make_engine\u001b[1;34m(self, engine)\u001b[0m\n\u001b[0;32m   1048\u001b[0m             )\n\u001b[0;32m   1049\u001b[0m         \u001b[1;31m# error: Too many arguments for \"ParserBase\"\u001b[0m\u001b[1;33m\u001b[0m\u001b[1;33m\u001b[0m\u001b[1;33m\u001b[0m\u001b[0m\n\u001b[1;32m-> 1050\u001b[1;33m         \u001b[1;32mreturn\u001b[0m \u001b[0mmapping\u001b[0m\u001b[1;33m[\u001b[0m\u001b[0mengine\u001b[0m\u001b[1;33m]\u001b[0m\u001b[1;33m(\u001b[0m\u001b[0mself\u001b[0m\u001b[1;33m.\u001b[0m\u001b[0mf\u001b[0m\u001b[1;33m,\u001b[0m \u001b[1;33m**\u001b[0m\u001b[0mself\u001b[0m\u001b[1;33m.\u001b[0m\u001b[0moptions\u001b[0m\u001b[1;33m)\u001b[0m  \u001b[1;31m# type: ignore[call-arg]\u001b[0m\u001b[1;33m\u001b[0m\u001b[1;33m\u001b[0m\u001b[0m\n\u001b[0m\u001b[0;32m   1051\u001b[0m \u001b[1;33m\u001b[0m\u001b[0m\n\u001b[0;32m   1052\u001b[0m     \u001b[1;32mdef\u001b[0m \u001b[0m_failover_to_python\u001b[0m\u001b[1;33m(\u001b[0m\u001b[0mself\u001b[0m\u001b[1;33m)\u001b[0m\u001b[1;33m:\u001b[0m\u001b[1;33m\u001b[0m\u001b[1;33m\u001b[0m\u001b[0m\n",
      "\u001b[1;32m~\\Anaconda3\\lib\\site-packages\\pandas\\io\\parsers.py\u001b[0m in \u001b[0;36m__init__\u001b[1;34m(self, src, **kwds)\u001b[0m\n\u001b[0;32m   1865\u001b[0m \u001b[1;33m\u001b[0m\u001b[0m\n\u001b[0;32m   1866\u001b[0m         \u001b[1;31m# open handles\u001b[0m\u001b[1;33m\u001b[0m\u001b[1;33m\u001b[0m\u001b[1;33m\u001b[0m\u001b[0m\n\u001b[1;32m-> 1867\u001b[1;33m         \u001b[0mself\u001b[0m\u001b[1;33m.\u001b[0m\u001b[0m_open_handles\u001b[0m\u001b[1;33m(\u001b[0m\u001b[0msrc\u001b[0m\u001b[1;33m,\u001b[0m \u001b[0mkwds\u001b[0m\u001b[1;33m)\u001b[0m\u001b[1;33m\u001b[0m\u001b[1;33m\u001b[0m\u001b[0m\n\u001b[0m\u001b[0;32m   1868\u001b[0m         \u001b[1;32massert\u001b[0m \u001b[0mself\u001b[0m\u001b[1;33m.\u001b[0m\u001b[0mhandles\u001b[0m \u001b[1;32mis\u001b[0m \u001b[1;32mnot\u001b[0m \u001b[1;32mNone\u001b[0m\u001b[1;33m\u001b[0m\u001b[1;33m\u001b[0m\u001b[0m\n\u001b[0;32m   1869\u001b[0m         \u001b[1;32mfor\u001b[0m \u001b[0mkey\u001b[0m \u001b[1;32min\u001b[0m \u001b[1;33m(\u001b[0m\u001b[1;34m\"storage_options\"\u001b[0m\u001b[1;33m,\u001b[0m \u001b[1;34m\"encoding\"\u001b[0m\u001b[1;33m,\u001b[0m \u001b[1;34m\"memory_map\"\u001b[0m\u001b[1;33m,\u001b[0m \u001b[1;34m\"compression\"\u001b[0m\u001b[1;33m)\u001b[0m\u001b[1;33m:\u001b[0m\u001b[1;33m\u001b[0m\u001b[1;33m\u001b[0m\u001b[0m\n",
      "\u001b[1;32m~\\Anaconda3\\lib\\site-packages\\pandas\\io\\parsers.py\u001b[0m in \u001b[0;36m_open_handles\u001b[1;34m(self, src, kwds)\u001b[0m\n\u001b[0;32m   1360\u001b[0m         \u001b[0mLet\u001b[0m \u001b[0mthe\u001b[0m \u001b[0mreaders\u001b[0m \u001b[0mopen\u001b[0m \u001b[0mIOHanldes\u001b[0m \u001b[0mafter\u001b[0m \u001b[0mthey\u001b[0m \u001b[0mare\u001b[0m \u001b[0mdone\u001b[0m \u001b[1;32mwith\u001b[0m \u001b[0mtheir\u001b[0m \u001b[0mpotential\u001b[0m \u001b[0mraises\u001b[0m\u001b[1;33m.\u001b[0m\u001b[1;33m\u001b[0m\u001b[1;33m\u001b[0m\u001b[0m\n\u001b[0;32m   1361\u001b[0m         \"\"\"\n\u001b[1;32m-> 1362\u001b[1;33m         self.handles = get_handle(\n\u001b[0m\u001b[0;32m   1363\u001b[0m             \u001b[0msrc\u001b[0m\u001b[1;33m,\u001b[0m\u001b[1;33m\u001b[0m\u001b[1;33m\u001b[0m\u001b[0m\n\u001b[0;32m   1364\u001b[0m             \u001b[1;34m\"r\"\u001b[0m\u001b[1;33m,\u001b[0m\u001b[1;33m\u001b[0m\u001b[1;33m\u001b[0m\u001b[0m\n",
      "\u001b[1;32m~\\Anaconda3\\lib\\site-packages\\pandas\\io\\common.py\u001b[0m in \u001b[0;36mget_handle\u001b[1;34m(path_or_buf, mode, encoding, compression, memory_map, is_text, errors, storage_options)\u001b[0m\n\u001b[0;32m    640\u001b[0m                 \u001b[0merrors\u001b[0m \u001b[1;33m=\u001b[0m \u001b[1;34m\"replace\"\u001b[0m\u001b[1;33m\u001b[0m\u001b[1;33m\u001b[0m\u001b[0m\n\u001b[0;32m    641\u001b[0m             \u001b[1;31m# Encoding\u001b[0m\u001b[1;33m\u001b[0m\u001b[1;33m\u001b[0m\u001b[1;33m\u001b[0m\u001b[0m\n\u001b[1;32m--> 642\u001b[1;33m             handle = open(\n\u001b[0m\u001b[0;32m    643\u001b[0m                 \u001b[0mhandle\u001b[0m\u001b[1;33m,\u001b[0m\u001b[1;33m\u001b[0m\u001b[1;33m\u001b[0m\u001b[0m\n\u001b[0;32m    644\u001b[0m                 \u001b[0mioargs\u001b[0m\u001b[1;33m.\u001b[0m\u001b[0mmode\u001b[0m\u001b[1;33m,\u001b[0m\u001b[1;33m\u001b[0m\u001b[1;33m\u001b[0m\u001b[0m\n",
      "\u001b[1;31mFileNotFoundError\u001b[0m: [Errno 2] No such file or directory: 'ccaei181.csv'"
     ]
    }
   ],
   "source": [
    "df = pd.read_csv('ccaei181.csv', nrows = 2)\n",
    "df"
   ]
  },
  {
   "cell_type": "code",
   "execution_count": null,
   "id": "banned-formula",
   "metadata": {},
   "outputs": [],
   "source": [
    "columns = ['ENROLID', 'DOBYR', 'YEAR', 'AGE', \n",
    "           'PDX', 'DX1', 'DX2', 'DX3', 'DX4', 'DX5', 'DX6', 'DX7', \n",
    "           'DX8', 'DX9', 'DX10', 'DX11', 'DX12', 'DX13', 'DX14', 'DX15',\n",
    "           'SEX']\n",
    "\n",
    "# skiprows because before that all ENROLID are NaN\n",
    "df_i18 = pd.read_csv('ccaei181.csv', skiprows = range(1, 4472),\n",
    "                                     usecols = columns)\n",
    "\n",
    "df_i18.head(10)"
   ]
  },
  {
   "cell_type": "code",
   "execution_count": null,
   "id": "fallen-hungary",
   "metadata": {},
   "outputs": [],
   "source": [
    "df_i18.shape"
   ]
  },
  {
   "cell_type": "markdown",
   "id": "nasty-links",
   "metadata": {},
   "source": [
    "## Inpatient Admission 2019"
   ]
  },
  {
   "cell_type": "code",
   "execution_count": null,
   "id": "pointed-armstrong",
   "metadata": {},
   "outputs": [],
   "source": [
    "df_i19 = pd.read_csv('ccaei192_a.csv', skiprows = range(1, 3855),\n",
    "                                       usecols = columns)\n",
    "\n",
    "df_i19.head()"
   ]
  },
  {
   "cell_type": "code",
   "execution_count": null,
   "id": "designed-fortune",
   "metadata": {},
   "outputs": [],
   "source": [
    "df_i19.shape"
   ]
  },
  {
   "cell_type": "markdown",
   "id": "provincial-compound",
   "metadata": {},
   "source": [
    "## Inpatient Admission 2020"
   ]
  },
  {
   "cell_type": "code",
   "execution_count": null,
   "id": "amber-fashion",
   "metadata": {},
   "outputs": [],
   "source": [
    "df_i20 = pd.read_csv('ccaei200_a.csv', skiprows = range(1, 3458),\n",
    "                                    usecols = columns)\n",
    "\n",
    "df_i20.head()"
   ]
  },
  {
   "cell_type": "code",
   "execution_count": null,
   "id": "hourly-watch",
   "metadata": {},
   "outputs": [],
   "source": [
    "df_i20.shape"
   ]
  },
  {
   "cell_type": "markdown",
   "id": "critical-thermal",
   "metadata": {},
   "source": [
    "# Concate all the Admission Tables "
   ]
  },
  {
   "cell_type": "code",
   "execution_count": null,
   "id": "abroad-awareness",
   "metadata": {},
   "outputs": [],
   "source": [
    "df_i = pd.concat([df_i18, df_i19, df_i20], ignore_index=True)\n",
    "\n",
    "df_i.head()"
   ]
  },
  {
   "cell_type": "code",
   "execution_count": null,
   "id": "incorporated-budapest",
   "metadata": {},
   "outputs": [],
   "source": [
    "df_i.shape"
   ]
  },
  {
   "cell_type": "markdown",
   "id": "suspended-agency",
   "metadata": {},
   "source": [
    "# Inpatient Services"
   ]
  },
  {
   "cell_type": "markdown",
   "id": "caroline-contents",
   "metadata": {},
   "source": [
    "## Inpatient Service 2018"
   ]
  },
  {
   "cell_type": "code",
   "execution_count": null,
   "id": "known-massachusetts",
   "metadata": {},
   "outputs": [],
   "source": [
    "d = pd.read_csv('ccaes181.csv', nrows = 2)\n",
    "d"
   ]
  },
  {
   "cell_type": "code",
   "execution_count": null,
   "id": "israeli-remove",
   "metadata": {},
   "outputs": [],
   "source": [
    "cols = ['ENROLID', 'DOBYR', 'YEAR', 'AGE', 'CASEID', 'SEX']\n",
    "\n",
    "df_s18 = pd.read_csv('ccaes181.csv', skiprows = range(1, 74749),\n",
    "                                   usecols = cols)\n",
    "\n",
    "df_s18.head()"
   ]
  },
  {
   "cell_type": "code",
   "execution_count": null,
   "id": "elder-aberdeen",
   "metadata": {},
   "outputs": [],
   "source": [
    "df_s18.shape"
   ]
  },
  {
   "cell_type": "code",
   "execution_count": null,
   "id": "living-sugar",
   "metadata": {},
   "outputs": [],
   "source": [
    "df_s19 = pd.read_csv('ccaes192_a.csv', skiprows = range(1, 59980),\n",
    "                                       usecols = cols)\n",
    "\n",
    "df_s19.head()"
   ]
  },
  {
   "cell_type": "code",
   "execution_count": null,
   "id": "complete-timer",
   "metadata": {},
   "outputs": [],
   "source": [
    "df_s20 = pd.read_csv('ccaes200_a.csv', skiprows = range(1, 59754),\n",
    "                                       usecols = cols)\n",
    "\n",
    "df_s20.head()"
   ]
  },
  {
   "cell_type": "markdown",
   "id": "actual-france",
   "metadata": {},
   "source": [
    "# Concat all the inpatient Services"
   ]
  },
  {
   "cell_type": "code",
   "execution_count": null,
   "id": "cardiac-invasion",
   "metadata": {},
   "outputs": [],
   "source": [
    "df_s = pd.concat([df_s18, df_s19, df_s20], ignore_index=True)\n",
    "\n",
    "df_s.head()"
   ]
  },
  {
   "cell_type": "code",
   "execution_count": null,
   "id": "parallel-battlefield",
   "metadata": {},
   "outputs": [],
   "source": [
    "df_s.shape"
   ]
  },
  {
   "cell_type": "markdown",
   "id": "harmful-cutting",
   "metadata": {},
   "source": [
    "# Merge Inpatient Admission and Services"
   ]
  },
  {
   "cell_type": "code",
   "execution_count": null,
   "id": "traditional-fellowship",
   "metadata": {},
   "outputs": [],
   "source": [
    "newdf = pd.merge(df_i, df_s, on=['CASEID', 'ENROLID', 'YEAR', 'AGE', 'DOBYR', 'SEX'])"
   ]
  },
  {
   "cell_type": "code",
   "execution_count": null,
   "id": "opening-generator",
   "metadata": {},
   "outputs": [],
   "source": [
    "newdf.head()"
   ]
  },
  {
   "cell_type": "code",
   "execution_count": null,
   "id": "advanced-transaction",
   "metadata": {},
   "outputs": [],
   "source": [
    "newdf.tail()"
   ]
  },
  {
   "cell_type": "code",
   "execution_count": null,
   "id": "comfortable-croatia",
   "metadata": {},
   "outputs": [],
   "source": [
    "newdf.shape"
   ]
  },
  {
   "cell_type": "code",
   "execution_count": null,
   "id": "surrounded-martin",
   "metadata": {},
   "outputs": [],
   "source": [
    "newdf.nunique()"
   ]
  },
  {
   "cell_type": "code",
   "execution_count": null,
   "id": "pressed-blackberry",
   "metadata": {},
   "outputs": [],
   "source": [
    "newdf.drop_duplicates(keep='first', inplace=True)\n",
    "\n",
    "newdf.head()"
   ]
  },
  {
   "cell_type": "code",
   "execution_count": null,
   "id": "tested-spending",
   "metadata": {},
   "outputs": [],
   "source": [
    "newdf.shape"
   ]
  },
  {
   "cell_type": "markdown",
   "id": "arbitrary-swedish",
   "metadata": {},
   "source": [
    "# Perscription Drug Tables"
   ]
  },
  {
   "cell_type": "markdown",
   "id": "finnish-alliance",
   "metadata": {},
   "source": [
    "## perscription 2018"
   ]
  },
  {
   "cell_type": "code",
   "execution_count": null,
   "id": "urban-privilege",
   "metadata": {},
   "outputs": [],
   "source": [
    "dd = pd.read_csv('ccaed181.csv', nrows = 2)\n",
    "dd"
   ]
  },
  {
   "cell_type": "code",
   "execution_count": null,
   "id": "english-bracket",
   "metadata": {},
   "outputs": [],
   "source": [
    "col = ['ENROLID', 'NDCNUM', 'YEAR']\n",
    "\n",
    "df_d18 = pd.read_csv('ccaed181.csv', skiprows = range(1, 1000000),\n",
    "                                     usecols = col)\n",
    "\n",
    "df_d18.head()"
   ]
  },
  {
   "cell_type": "code",
   "execution_count": null,
   "id": "executed-malta",
   "metadata": {},
   "outputs": [],
   "source": [
    "df_d18.shape"
   ]
  },
  {
   "cell_type": "code",
   "execution_count": null,
   "id": "nervous-explosion",
   "metadata": {},
   "outputs": [],
   "source": [
    "df_d19 = pd.read_csv('ccaed192_a.csv', skiprows = range(1, 1000000),\n",
    "                                       usecols = col)\n",
    "\n",
    "df_d19.head()"
   ]
  },
  {
   "cell_type": "code",
   "execution_count": null,
   "id": "continental-republic",
   "metadata": {},
   "outputs": [],
   "source": [
    "df_d20 = pd.read_csv('ccaed200_a.csv', skiprows = range(1, 1000000),\n",
    "                                        usecols = col)\n",
    "\n",
    "df_d20.head()"
   ]
  },
  {
   "cell_type": "code",
   "execution_count": null,
   "id": "delayed-imagination",
   "metadata": {},
   "outputs": [],
   "source": [
    "df_d19.shape, df_d20.shape"
   ]
  },
  {
   "cell_type": "markdown",
   "id": "cultural-resident",
   "metadata": {},
   "source": [
    "# Concat all the perscription drug tables"
   ]
  },
  {
   "cell_type": "code",
   "execution_count": null,
   "id": "twelve-possible",
   "metadata": {},
   "outputs": [],
   "source": [
    "newdf1 = pd.concat([df_d18, df_d19, df_d20], ignore_index=True)"
   ]
  },
  {
   "cell_type": "code",
   "execution_count": null,
   "id": "different-pointer",
   "metadata": {},
   "outputs": [],
   "source": [
    "newdf1.head()"
   ]
  },
  {
   "cell_type": "code",
   "execution_count": null,
   "id": "vanilla-appeal",
   "metadata": {},
   "outputs": [],
   "source": [
    "newdf1.shape"
   ]
  },
  {
   "cell_type": "markdown",
   "id": "certain-visit",
   "metadata": {},
   "source": [
    "# merge perscription drug and inpatient admission"
   ]
  },
  {
   "cell_type": "code",
   "execution_count": null,
   "id": "normal-monitor",
   "metadata": {},
   "outputs": [],
   "source": [
    "df_i.shape"
   ]
  },
  {
   "cell_type": "code",
   "execution_count": null,
   "id": "smooth-hacker",
   "metadata": {},
   "outputs": [],
   "source": [
    "df_i.drop_duplicates(keep='first', inplace=True)"
   ]
  },
  {
   "cell_type": "code",
   "execution_count": null,
   "id": "alpha-mobility",
   "metadata": {},
   "outputs": [],
   "source": [
    "df_i.nunique()"
   ]
  },
  {
   "cell_type": "code",
   "execution_count": null,
   "id": "dedicated-crown",
   "metadata": {},
   "outputs": [],
   "source": [
    "df_i.shape"
   ]
  },
  {
   "cell_type": "code",
   "execution_count": null,
   "id": "prompt-death",
   "metadata": {},
   "outputs": [],
   "source": [
    "dff = pd.merge(df_i, newdf1, on=['ENROLID', 'YEAR'])"
   ]
  },
  {
   "cell_type": "code",
   "execution_count": null,
   "id": "beautiful-windows",
   "metadata": {},
   "outputs": [],
   "source": [
    "dff.head()"
   ]
  },
  {
   "cell_type": "code",
   "execution_count": null,
   "id": "weekly-interstate",
   "metadata": {},
   "outputs": [],
   "source": [
    "dff.tail()"
   ]
  },
  {
   "cell_type": "code",
   "execution_count": null,
   "id": "assured-mercury",
   "metadata": {},
   "outputs": [],
   "source": [
    "dff.shape"
   ]
  },
  {
   "cell_type": "code",
   "execution_count": null,
   "id": "attached-large",
   "metadata": {},
   "outputs": [],
   "source": [
    "dff.nunique()"
   ]
  },
  {
   "cell_type": "code",
   "execution_count": null,
   "id": "considerable-luther",
   "metadata": {},
   "outputs": [],
   "source": [
    "dff.drop_duplicates(keep='first', inplace=True)"
   ]
  },
  {
   "cell_type": "code",
   "execution_count": null,
   "id": "trained-watershed",
   "metadata": {},
   "outputs": [],
   "source": [
    "dff.tail()"
   ]
  },
  {
   "cell_type": "code",
   "execution_count": null,
   "id": "decreased-leeds",
   "metadata": {},
   "outputs": [],
   "source": [
    "dff.shape"
   ]
  },
  {
   "cell_type": "markdown",
   "id": "twenty-hello",
   "metadata": {},
   "source": [
    "### Red book table "
   ]
  },
  {
   "cell_type": "code",
   "execution_count": null,
   "id": "current-onion",
   "metadata": {},
   "outputs": [],
   "source": [
    "cols = ['NDCNUM', 'PRODNME']\n",
    "red_b = pd.read_csv('redbook.csv', usecols = cols)"
   ]
  },
  {
   "cell_type": "code",
   "execution_count": null,
   "id": "textile-saturday",
   "metadata": {},
   "outputs": [],
   "source": [
    "red_b.head()"
   ]
  },
  {
   "cell_type": "code",
   "execution_count": null,
   "id": "romance-vancouver",
   "metadata": {},
   "outputs": [],
   "source": [
    "data = pd.merge(dff, red_b, on=['NDCNUM'])"
   ]
  },
  {
   "cell_type": "code",
   "execution_count": null,
   "id": "chicken-native",
   "metadata": {},
   "outputs": [],
   "source": [
    "data.head()"
   ]
  },
  {
   "cell_type": "code",
   "execution_count": null,
   "id": "informational-moderator",
   "metadata": {},
   "outputs": [],
   "source": [
    "data.shape"
   ]
  },
  {
   "cell_type": "code",
   "execution_count": null,
   "id": "widespread-terrace",
   "metadata": {},
   "outputs": [],
   "source": [
    "data.drop_duplicates(keep='first', inplace=True)"
   ]
  },
  {
   "cell_type": "code",
   "execution_count": null,
   "id": "perfect-pasta",
   "metadata": {},
   "outputs": [],
   "source": [
    "data.shape"
   ]
  },
  {
   "cell_type": "code",
   "execution_count": null,
   "id": "vanilla-surveillance",
   "metadata": {},
   "outputs": [],
   "source": [
    "data.to_csv('filter_data', index=False)"
   ]
  },
  {
   "cell_type": "code",
   "execution_count": null,
   "id": "artistic-tampa",
   "metadata": {},
   "outputs": [],
   "source": []
  },
  {
   "cell_type": "markdown",
   "id": "corporate-patch",
   "metadata": {},
   "source": [
    "# Merge Admission/service and perscription drug"
   ]
  },
  {
   "cell_type": "code",
   "execution_count": null,
   "id": "polished-manchester",
   "metadata": {},
   "outputs": [],
   "source": []
  },
  {
   "cell_type": "code",
   "execution_count": null,
   "id": "distant-massachusetts",
   "metadata": {},
   "outputs": [],
   "source": [
    "final_df = pd.merge(newdf, newdf1, on=['ENROLID'])"
   ]
  },
  {
   "cell_type": "code",
   "execution_count": null,
   "id": "varying-treasure",
   "metadata": {},
   "outputs": [],
   "source": [
    "final_df.head()"
   ]
  },
  {
   "cell_type": "code",
   "execution_count": null,
   "id": "preceding-heading",
   "metadata": {},
   "outputs": [],
   "source": [
    "final_df.tail()"
   ]
  },
  {
   "cell_type": "code",
   "execution_count": null,
   "id": "white-globe",
   "metadata": {},
   "outputs": [],
   "source": [
    "final_df.shape"
   ]
  },
  {
   "cell_type": "code",
   "execution_count": null,
   "id": "organic-gravity",
   "metadata": {},
   "outputs": [],
   "source": [
    "final_df.nunique()"
   ]
  },
  {
   "cell_type": "code",
   "execution_count": null,
   "id": "daily-highland",
   "metadata": {},
   "outputs": [],
   "source": [
    "final_df.drop_duplicates(keep='first', inplace=True)"
   ]
  },
  {
   "cell_type": "code",
   "execution_count": null,
   "id": "honey-lightning",
   "metadata": {},
   "outputs": [],
   "source": [
    "final_df.shape"
   ]
  },
  {
   "cell_type": "markdown",
   "id": "regulation-audit",
   "metadata": {},
   "source": [
    "## Save data to csv file"
   ]
  },
  {
   "cell_type": "code",
   "execution_count": null,
   "id": "detailed-status",
   "metadata": {},
   "outputs": [],
   "source": [
    "final_df.to_csv('final_data.csv', index=False)"
   ]
  },
  {
   "cell_type": "markdown",
   "id": "powered-ethics",
   "metadata": {},
   "source": [
    "# Load new data"
   ]
  },
  {
   "cell_type": "code",
   "execution_count": null,
   "id": "radical-smell",
   "metadata": {},
   "outputs": [],
   "source": [
    "import matplotlib.pyplot as plt \n",
    "import seaborn as sns \n",
    "\n",
    "%matplotlib inline"
   ]
  },
  {
   "cell_type": "code",
   "execution_count": null,
   "id": "divine-maldives",
   "metadata": {},
   "outputs": [],
   "source": [
    "data = pd.read_csv('final_data.csv')"
   ]
  },
  {
   "cell_type": "code",
   "execution_count": null,
   "id": "intensive-updating",
   "metadata": {},
   "outputs": [],
   "source": [
    "data.head()"
   ]
  },
  {
   "cell_type": "code",
   "execution_count": null,
   "id": "opponent-contractor",
   "metadata": {},
   "outputs": [],
   "source": [
    "data.tail()"
   ]
  },
  {
   "cell_type": "code",
   "execution_count": null,
   "id": "offensive-relationship",
   "metadata": {},
   "outputs": [],
   "source": [
    "data.shape"
   ]
  },
  {
   "cell_type": "code",
   "execution_count": null,
   "id": "capable-material",
   "metadata": {},
   "outputs": [],
   "source": [
    "data.nunique()"
   ]
  },
  {
   "cell_type": "code",
   "execution_count": null,
   "id": "prescribed-scottish",
   "metadata": {},
   "outputs": [],
   "source": [
    "data.info()"
   ]
  },
  {
   "cell_type": "markdown",
   "id": "connected-queensland",
   "metadata": {},
   "source": [
    "# Exploratory Data Analysis "
   ]
  },
  {
   "cell_type": "markdown",
   "id": "aggregate-accuracy",
   "metadata": {},
   "source": [
    "## Historgam of Age"
   ]
  },
  {
   "cell_type": "code",
   "execution_count": null,
   "id": "baking-kentucky",
   "metadata": {},
   "outputs": [],
   "source": [
    "sns.histplot(data['AGE'])"
   ]
  },
  {
   "cell_type": "markdown",
   "id": "native-spider",
   "metadata": {},
   "source": [
    "## Histogram of NDCNUM"
   ]
  },
  {
   "cell_type": "code",
   "execution_count": null,
   "id": "textile-regular",
   "metadata": {},
   "outputs": [],
   "source": [
    "sns.histplot(data['NDCNUM'])"
   ]
  },
  {
   "cell_type": "code",
   "execution_count": null,
   "id": "continued-athletics",
   "metadata": {},
   "outputs": [],
   "source": []
  },
  {
   "cell_type": "markdown",
   "id": "ceramic-cement",
   "metadata": {},
   "source": [
    "## count plot"
   ]
  },
  {
   "cell_type": "code",
   "execution_count": null,
   "id": "confused-baltimore",
   "metadata": {},
   "outputs": [],
   "source": [
    "cols = [x for x in data.columns if 'DX' in x]\n",
    "cols"
   ]
  },
  {
   "cell_type": "code",
   "execution_count": null,
   "id": "prime-samuel",
   "metadata": {},
   "outputs": [],
   "source": [
    "data['first_letter'] = data.DX1.str[0]\n",
    "data['first_letter'].value_counts()"
   ]
  },
  {
   "cell_type": "code",
   "execution_count": null,
   "id": "prescribed-reach",
   "metadata": {},
   "outputs": [],
   "source": []
  },
  {
   "cell_type": "code",
   "execution_count": null,
   "id": "herbal-treasury",
   "metadata": {},
   "outputs": [],
   "source": [
    "data['DX1'] = pd.cut(x=data['DX1'], bins = ['A', 'B', 'C', 'D', 'E', 'F', 'G', \n",
    "                                            'I', 'J', 'K', 'L', 'M', 'N', 'O',\n",
    "                                             'R', 'S', 'T', 'Z'],\n",
    "                                    labels = ['A', 'B', 'C', 'D', 'E', 'F', 'G', \n",
    "                                            'I', 'J', 'K', 'L', 'M', 'N', 'O',\n",
    "                                             'R', 'S', 'T', 'Z'])\n"
   ]
  },
  {
   "cell_type": "code",
   "execution_count": null,
   "id": "automotive-intervention",
   "metadata": {},
   "outputs": [],
   "source": [
    "# data['DX1'].groupby(data['DX1']).apply(lambda x: x.str.c)\n"
   ]
  },
  {
   "cell_type": "code",
   "execution_count": null,
   "id": "acting-equivalent",
   "metadata": {},
   "outputs": [],
   "source": [
    "newdf[cols].apply(lambda x: x.str.contains('I50')).head()"
   ]
  },
  {
   "cell_type": "code",
   "execution_count": null,
   "id": "postal-economy",
   "metadata": {},
   "outputs": [],
   "source": [
    "filt = data['DX1'].str.contains('I50')\n",
    "data[filt].plot(kind='bar')"
   ]
  },
  {
   "cell_type": "code",
   "execution_count": null,
   "id": "allied-catholic",
   "metadata": {},
   "outputs": [],
   "source": []
  },
  {
   "cell_type": "code",
   "execution_count": null,
   "id": "muslim-refrigerator",
   "metadata": {},
   "outputs": [],
   "source": [
    "plt.figure(figsize=(10, 7))\n",
    "sns.countplot(x='DX1', data=data)"
   ]
  },
  {
   "cell_type": "code",
   "execution_count": null,
   "id": "foreign-asian",
   "metadata": {},
   "outputs": [],
   "source": [
    "plt.figure(figsize=(10, 7))\n",
    "data.DX1.value_counts()[:20].sort_values().plot(kind='barh')"
   ]
  },
  {
   "cell_type": "code",
   "execution_count": null,
   "id": "exclusive-spell",
   "metadata": {},
   "outputs": [],
   "source": [
    "plt.figure(figsize=(10, 7))\n",
    "data.PDX.value_counts()[:30].sort_values().plot(kind='barh')"
   ]
  },
  {
   "cell_type": "code",
   "execution_count": null,
   "id": "fresh-distance",
   "metadata": {},
   "outputs": [],
   "source": [
    "plt.figure(figsize=(10, 7))\n",
    "sns.countplot(x=data['PDX'][:200], data=data)"
   ]
  },
  {
   "cell_type": "markdown",
   "id": "victorian-doubt",
   "metadata": {},
   "source": [
    "## jointplot of \"PDX\" vs \"AGE\""
   ]
  },
  {
   "cell_type": "code",
   "execution_count": null,
   "id": "juvenile-ghana",
   "metadata": {},
   "outputs": [],
   "source": [
    "plt.figure(figsize=(10, 7))\n",
    "ax = sns.jointplot(y=data['DX1'][:1000], x=data['AGE'][:1000],data = data)\n",
    "plt.tight_layout()"
   ]
  },
  {
   "cell_type": "markdown",
   "id": "respiratory-baghdad",
   "metadata": {},
   "source": []
  },
  {
   "cell_type": "code",
   "execution_count": null,
   "id": "numerical-village",
   "metadata": {},
   "outputs": [],
   "source": [
    "cols = ['NDCNUM', 'DEACLAS', 'PRODNME', 'PRODCAT']\n",
    "red_book = pd.read_csv('redbook.csv', nrows = 5)"
   ]
  },
  {
   "cell_type": "code",
   "execution_count": null,
   "id": "scheduled-usage",
   "metadata": {},
   "outputs": [],
   "source": [
    "red_book"
   ]
  },
  {
   "cell_type": "code",
   "execution_count": null,
   "id": "dated-lexington",
   "metadata": {},
   "outputs": [],
   "source": []
  }
 ],
 "metadata": {
  "kernelspec": {
   "display_name": "Python 3",
   "language": "python",
   "name": "python3"
  },
  "language_info": {
   "codemirror_mode": {
    "name": "ipython",
    "version": 3
   },
   "file_extension": ".py",
   "mimetype": "text/x-python",
   "name": "python",
   "nbconvert_exporter": "python",
   "pygments_lexer": "ipython3",
   "version": "3.8.8"
  }
 },
 "nbformat": 4,
 "nbformat_minor": 5
}
